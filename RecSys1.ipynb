{
  "nbformat": 4,
  "nbformat_minor": 0,
  "metadata": {
    "colab": {
      "name": "RecSys1.ipynb",
      "provenance": [],
      "collapsed_sections": [],
      "toc_visible": true,
      "include_colab_link": true
    },
    "kernelspec": {
      "name": "python3",
      "display_name": "Python 3"
    }
  },
  "cells": [
    {
      "cell_type": "markdown",
      "metadata": {
        "id": "view-in-github",
        "colab_type": "text"
      },
      "source": [
        "<a href=\"https://colab.research.google.com/github/alekart30/RecSys/blob/master/RecSys1.ipynb\" target=\"_parent\"><img src=\"https://colab.research.google.com/assets/colab-badge.svg\" alt=\"Open In Colab\"/></a>"
      ]
    },
    {
      "cell_type": "markdown",
      "metadata": {
        "id": "fwq2Cw6I3tlz",
        "colab_type": "text"
      },
      "source": [
        "# All imports"
      ]
    },
    {
      "cell_type": "code",
      "metadata": {
        "id": "aUrgue3K3p1y",
        "colab_type": "code",
        "colab": {}
      },
      "source": [
        "import os\n",
        "from google_drive_downloader import GoogleDriveDownloader as gdd\n",
        "\n",
        "import pandas as pd\n",
        "import numpy as np\n",
        "import seaborn as sns\n",
        "import  matplotlib.pyplot as plt\n",
        "\n",
        "from sklearn.model_selection import TimeSeriesSplit"
      ],
      "execution_count": 0,
      "outputs": []
    },
    {
      "cell_type": "code",
      "metadata": {
        "id": "437ipappGiVp",
        "colab_type": "code",
        "colab": {}
      },
      "source": [
        "%matplotlib inline\n",
        "sns.set_style('darkgrid')"
      ],
      "execution_count": 0,
      "outputs": []
    },
    {
      "cell_type": "markdown",
      "metadata": {
        "id": "M2PoeBkI3ylb",
        "colab_type": "text"
      },
      "source": [
        "# Load data"
      ]
    },
    {
      "cell_type": "code",
      "metadata": {
        "id": "ujyu3LJB3x_j",
        "colab_type": "code",
        "colab": {
          "base_uri": "https://localhost:8080/",
          "height": 34
        },
        "outputId": "dfb16fb3-ef45-4298-cb9f-50a1551eac99"
      },
      "source": [
        "if not os.path.exists('./data'):\n",
        "  os.mkdir('./data')\n",
        "\n",
        "gdd.download_file_from_google_drive(file_id='1b7bL--KJ5fc-n26b0BrJhtjZGj8gslqw', dest_path='./data/movies.zip')"
      ],
      "execution_count": 93,
      "outputs": [
        {
          "output_type": "stream",
          "text": [
            "Downloading 1b7bL--KJ5fc-n26b0BrJhtjZGj8gslqw into ./data/movies.zip... Done.\n"
          ],
          "name": "stdout"
        }
      ]
    },
    {
      "cell_type": "code",
      "metadata": {
        "id": "efXGDwMi512I",
        "colab_type": "code",
        "colab": {
          "base_uri": "https://localhost:8080/",
          "height": 168
        },
        "outputId": "d92f3a71-5cae-4b5c-813f-e8bafb2bc225"
      },
      "source": [
        "! unzip ./data/movies.zip -d ./data/unziped"
      ],
      "execution_count": 94,
      "outputs": [
        {
          "output_type": "stream",
          "text": [
            "Archive:  ./data/movies.zip\n",
            "   creating: ./data/unziped/ml-20m/\n",
            "  inflating: ./data/unziped/ml-20m/genome-scores.csv  \n",
            "  inflating: ./data/unziped/ml-20m/genome-tags.csv  \n",
            "  inflating: ./data/unziped/ml-20m/links.csv  \n",
            "  inflating: ./data/unziped/ml-20m/movies.csv  \n",
            "  inflating: ./data/unziped/ml-20m/ratings.csv  \n",
            "  inflating: ./data/unziped/ml-20m/README.txt  \n",
            "  inflating: ./data/unziped/ml-20m/tags.csv  \n"
          ],
          "name": "stdout"
        }
      ]
    },
    {
      "cell_type": "markdown",
      "metadata": {
        "id": "SIaOntpm8A_8",
        "colab_type": "text"
      },
      "source": [
        "# EDA"
      ]
    },
    {
      "cell_type": "markdown",
      "metadata": {
        "id": "Wr0z1PssRppQ",
        "colab_type": "text"
      },
      "source": [
        "We have 6 tables."
      ]
    },
    {
      "cell_type": "markdown",
      "metadata": {
        "id": "HSB-lGkhARWM",
        "colab_type": "text"
      },
      "source": [
        "This table contains all info about user - movie interaction by ratings."
      ]
    },
    {
      "cell_type": "code",
      "metadata": {
        "id": "9UzF4iXy9Jld",
        "colab_type": "code",
        "colab": {
          "base_uri": "https://localhost:8080/",
          "height": 195
        },
        "outputId": "56c6a01b-4bd2-4950-a0b4-eb32220a8020"
      },
      "source": [
        "ratings_df = pd.read_csv('./data/unziped/ml-20m/ratings.csv')\n",
        "ratings_df.head()"
      ],
      "execution_count": 95,
      "outputs": [
        {
          "output_type": "execute_result",
          "data": {
            "text/html": [
              "<div>\n",
              "<style scoped>\n",
              "    .dataframe tbody tr th:only-of-type {\n",
              "        vertical-align: middle;\n",
              "    }\n",
              "\n",
              "    .dataframe tbody tr th {\n",
              "        vertical-align: top;\n",
              "    }\n",
              "\n",
              "    .dataframe thead th {\n",
              "        text-align: right;\n",
              "    }\n",
              "</style>\n",
              "<table border=\"1\" class=\"dataframe\">\n",
              "  <thead>\n",
              "    <tr style=\"text-align: right;\">\n",
              "      <th></th>\n",
              "      <th>userId</th>\n",
              "      <th>movieId</th>\n",
              "      <th>rating</th>\n",
              "      <th>timestamp</th>\n",
              "    </tr>\n",
              "  </thead>\n",
              "  <tbody>\n",
              "    <tr>\n",
              "      <th>0</th>\n",
              "      <td>1</td>\n",
              "      <td>2</td>\n",
              "      <td>3.5</td>\n",
              "      <td>1112486027</td>\n",
              "    </tr>\n",
              "    <tr>\n",
              "      <th>1</th>\n",
              "      <td>1</td>\n",
              "      <td>29</td>\n",
              "      <td>3.5</td>\n",
              "      <td>1112484676</td>\n",
              "    </tr>\n",
              "    <tr>\n",
              "      <th>2</th>\n",
              "      <td>1</td>\n",
              "      <td>32</td>\n",
              "      <td>3.5</td>\n",
              "      <td>1112484819</td>\n",
              "    </tr>\n",
              "    <tr>\n",
              "      <th>3</th>\n",
              "      <td>1</td>\n",
              "      <td>47</td>\n",
              "      <td>3.5</td>\n",
              "      <td>1112484727</td>\n",
              "    </tr>\n",
              "    <tr>\n",
              "      <th>4</th>\n",
              "      <td>1</td>\n",
              "      <td>50</td>\n",
              "      <td>3.5</td>\n",
              "      <td>1112484580</td>\n",
              "    </tr>\n",
              "  </tbody>\n",
              "</table>\n",
              "</div>"
            ],
            "text/plain": [
              "   userId  movieId  rating   timestamp\n",
              "0       1        2     3.5  1112486027\n",
              "1       1       29     3.5  1112484676\n",
              "2       1       32     3.5  1112484819\n",
              "3       1       47     3.5  1112484727\n",
              "4       1       50     3.5  1112484580"
            ]
          },
          "metadata": {
            "tags": []
          },
          "execution_count": 95
        }
      ]
    },
    {
      "cell_type": "code",
      "metadata": {
        "id": "ZF1sEWX4AZm4",
        "colab_type": "code",
        "colab": {
          "base_uri": "https://localhost:8080/",
          "height": 168
        },
        "outputId": "163f7761-068a-4e2c-fe4d-8060f76e5337"
      },
      "source": [
        "ratings_df.info()"
      ],
      "execution_count": 96,
      "outputs": [
        {
          "output_type": "stream",
          "text": [
            "<class 'pandas.core.frame.DataFrame'>\n",
            "RangeIndex: 20000263 entries, 0 to 20000262\n",
            "Data columns (total 4 columns):\n",
            "userId       int64\n",
            "movieId      int64\n",
            "rating       float64\n",
            "timestamp    int64\n",
            "dtypes: float64(1), int64(3)\n",
            "memory usage: 610.4 MB\n"
          ],
          "name": "stdout"
        }
      ]
    },
    {
      "cell_type": "markdown",
      "metadata": {
        "id": "pjoouMuoBQA5",
        "colab_type": "text"
      },
      "source": [
        "Luckily no nans"
      ]
    },
    {
      "cell_type": "code",
      "metadata": {
        "id": "4newgfr2AzzJ",
        "colab_type": "code",
        "colab": {
          "base_uri": "https://localhost:8080/",
          "height": 34
        },
        "outputId": "3831ebe7-4401-44f4-f860-d589e1f79311"
      },
      "source": [
        "ratings_df.isnull().values.any()"
      ],
      "execution_count": 97,
      "outputs": [
        {
          "output_type": "execute_result",
          "data": {
            "text/plain": [
              "False"
            ]
          },
          "metadata": {
            "tags": []
          },
          "execution_count": 97
        }
      ]
    },
    {
      "cell_type": "markdown",
      "metadata": {
        "id": "_cg3okdEBZYV",
        "colab_type": "text"
      },
      "source": [
        "Total number of users"
      ]
    },
    {
      "cell_type": "code",
      "metadata": {
        "id": "NJlHs9TWBa73",
        "colab_type": "code",
        "colab": {
          "base_uri": "https://localhost:8080/",
          "height": 34
        },
        "outputId": "42612de6-9e8d-44f8-8c9f-aa2dea0644a2"
      },
      "source": [
        "ratings_df['userId'].nunique()"
      ],
      "execution_count": 98,
      "outputs": [
        {
          "output_type": "execute_result",
          "data": {
            "text/plain": [
              "138493"
            ]
          },
          "metadata": {
            "tags": []
          },
          "execution_count": 98
        }
      ]
    },
    {
      "cell_type": "markdown",
      "metadata": {
        "id": "EyFFFrgwBlgO",
        "colab_type": "text"
      },
      "source": [
        "Total number of ratings is:"
      ]
    },
    {
      "cell_type": "code",
      "metadata": {
        "id": "5QLGYvvCBrir",
        "colab_type": "code",
        "colab": {
          "base_uri": "https://localhost:8080/",
          "height": 34
        },
        "outputId": "8163a356-014d-44db-d2eb-93e454d8edff"
      },
      "source": [
        "ratings_df.shape[0]"
      ],
      "execution_count": 99,
      "outputs": [
        {
          "output_type": "execute_result",
          "data": {
            "text/plain": [
              "20000263"
            ]
          },
          "metadata": {
            "tags": []
          },
          "execution_count": 99
        }
      ]
    },
    {
      "cell_type": "markdown",
      "metadata": {
        "id": "SYmtxzQdB3H6",
        "colab_type": "text"
      },
      "source": [
        "Total number of movies is:"
      ]
    },
    {
      "cell_type": "code",
      "metadata": {
        "id": "RXBxyf5XB6jO",
        "colab_type": "code",
        "colab": {
          "base_uri": "https://localhost:8080/",
          "height": 34
        },
        "outputId": "bf7a9c0e-75c2-4965-e3c4-d46c0a799d49"
      },
      "source": [
        "ratings_df['movieId'].nunique()"
      ],
      "execution_count": 100,
      "outputs": [
        {
          "output_type": "execute_result",
          "data": {
            "text/plain": [
              "26744"
            ]
          },
          "metadata": {
            "tags": []
          },
          "execution_count": 100
        }
      ]
    },
    {
      "cell_type": "markdown",
      "metadata": {
        "id": "aurLOgP9F85q",
        "colab_type": "text"
      },
      "source": [
        "Al least 20 ratings were made by one user. Very active user made 9254 ratings."
      ]
    },
    {
      "cell_type": "code",
      "metadata": {
        "id": "e--xBVvPCSZM",
        "colab_type": "code",
        "colab": {
          "base_uri": "https://localhost:8080/",
          "height": 284
        },
        "outputId": "063d44d9-0f58-4ca7-cb80-41b8e04ef857"
      },
      "source": [
        "ratings_df.groupby('userId').agg({'rating' : 'count'}).describe()"
      ],
      "execution_count": 101,
      "outputs": [
        {
          "output_type": "execute_result",
          "data": {
            "text/html": [
              "<div>\n",
              "<style scoped>\n",
              "    .dataframe tbody tr th:only-of-type {\n",
              "        vertical-align: middle;\n",
              "    }\n",
              "\n",
              "    .dataframe tbody tr th {\n",
              "        vertical-align: top;\n",
              "    }\n",
              "\n",
              "    .dataframe thead th {\n",
              "        text-align: right;\n",
              "    }\n",
              "</style>\n",
              "<table border=\"1\" class=\"dataframe\">\n",
              "  <thead>\n",
              "    <tr style=\"text-align: right;\">\n",
              "      <th></th>\n",
              "      <th>rating</th>\n",
              "    </tr>\n",
              "  </thead>\n",
              "  <tbody>\n",
              "    <tr>\n",
              "      <th>count</th>\n",
              "      <td>138493.000000</td>\n",
              "    </tr>\n",
              "    <tr>\n",
              "      <th>mean</th>\n",
              "      <td>144.413530</td>\n",
              "    </tr>\n",
              "    <tr>\n",
              "      <th>std</th>\n",
              "      <td>230.267257</td>\n",
              "    </tr>\n",
              "    <tr>\n",
              "      <th>min</th>\n",
              "      <td>20.000000</td>\n",
              "    </tr>\n",
              "    <tr>\n",
              "      <th>25%</th>\n",
              "      <td>35.000000</td>\n",
              "    </tr>\n",
              "    <tr>\n",
              "      <th>50%</th>\n",
              "      <td>68.000000</td>\n",
              "    </tr>\n",
              "    <tr>\n",
              "      <th>75%</th>\n",
              "      <td>155.000000</td>\n",
              "    </tr>\n",
              "    <tr>\n",
              "      <th>max</th>\n",
              "      <td>9254.000000</td>\n",
              "    </tr>\n",
              "  </tbody>\n",
              "</table>\n",
              "</div>"
            ],
            "text/plain": [
              "              rating\n",
              "count  138493.000000\n",
              "mean      144.413530\n",
              "std       230.267257\n",
              "min        20.000000\n",
              "25%        35.000000\n",
              "50%        68.000000\n",
              "75%       155.000000\n",
              "max      9254.000000"
            ]
          },
          "metadata": {
            "tags": []
          },
          "execution_count": 101
        }
      ]
    },
    {
      "cell_type": "code",
      "metadata": {
        "id": "JGBRWSQNGOTs",
        "colab_type": "code",
        "colab": {
          "base_uri": "https://localhost:8080/",
          "height": 300
        },
        "outputId": "8e3b02a9-b19f-4064-bee6-d501d961fec9"
      },
      "source": [
        "fig = plt.figure()\n",
        "ax = fig.add_subplot(1, 1, 1)\n",
        "sns.distplot(ratings_df.groupby('userId').agg({'rating' : 'count'}).values, ax=ax, kde=False)\n",
        "ax.set_yscale('log')\n",
        "ax.set_xlabel(\"number of ratings\")"
      ],
      "execution_count": 102,
      "outputs": [
        {
          "output_type": "execute_result",
          "data": {
            "text/plain": [
              "Text(0.5, 0, 'number of ratings')"
            ]
          },
          "metadata": {
            "tags": []
          },
          "execution_count": 102
        },
        {
          "output_type": "display_data",
          "data": {
            "image/png": "[encoded data removed]",
            "text/plain": [
              "<Figure size 432x288 with 1 Axes>"
            ]
          },
          "metadata": {
            "tags": []
          }
        }
      ]
    },
    {
      "cell_type": "markdown",
      "metadata": {
        "id": "HjEqW_kJMBum",
        "colab_type": "text"
      },
      "source": [
        "Ratings distribution"
      ]
    },
    {
      "cell_type": "code",
      "metadata": {
        "id": "9SbgZvRDL-a9",
        "colab_type": "code",
        "colab": {
          "base_uri": "https://localhost:8080/",
          "height": 300
        },
        "outputId": "e4867b61-6c00-4fba-e3bc-fc5eedd16fa5"
      },
      "source": [
        "sns.distplot(ratings_df['rating'],kde=False)"
      ],
      "execution_count": 103,
      "outputs": [
        {
          "output_type": "execute_result",
          "data": {
            "text/plain": [
              "<matplotlib.axes._subplots.AxesSubplot at 0x7fa5da985400>"
            ]
          },
          "metadata": {
            "tags": []
          },
          "execution_count": 103
        },
        {
          "output_type": "display_data",
          "data": {
            "image/png": "[encoded data removed]",
            "text/plain": [
              "<Figure size 432x288 with 1 Axes>"
            ]
          },
          "metadata": {
            "tags": []
          }
        }
      ]
    },
    {
      "cell_type": "markdown",
      "metadata": {
        "id": "kI0UX_1aMZE0",
        "colab_type": "text"
      },
      "source": [
        "We can see that ratings are ordinal, not numerical. Fraction ratings are less popular than integer. "
      ]
    },
    {
      "cell_type": "markdown",
      "metadata": {
        "id": "dWt_0JSGNZou",
        "colab_type": "text"
      },
      "source": [
        "Our user - item interaction matrix is very sparse. Less than a percent of all cells is filled."
      ]
    },
    {
      "cell_type": "code",
      "metadata": {
        "id": "GdLcxUGiNIGT",
        "colab_type": "code",
        "colab": {
          "base_uri": "https://localhost:8080/",
          "height": 34
        },
        "outputId": "473f2fbd-bc91-4c44-b482-dbeadb77986a"
      },
      "source": [
        "ratings_df.shape[0] / (ratings_df['userId'].nunique() * ratings_df['movieId'].nunique())"
      ],
      "execution_count": 104,
      "outputs": [
        {
          "output_type": "execute_result",
          "data": {
            "text/plain": [
              "0.0053998478135544505"
            ]
          },
          "metadata": {
            "tags": []
          },
          "execution_count": 104
        }
      ]
    },
    {
      "cell_type": "markdown",
      "metadata": {
        "id": "UzFsVh12PxDj",
        "colab_type": "text"
      },
      "source": [
        "All tags contain in this table."
      ]
    },
    {
      "cell_type": "code",
      "metadata": {
        "id": "Yw3NL7EQPy8y",
        "colab_type": "code",
        "colab": {
          "base_uri": "https://localhost:8080/",
          "height": 195
        },
        "outputId": "a6c0fb41-106f-42dc-f1df-2d289fa2f367"
      },
      "source": [
        "tags_df = pd.read_csv('./data/unziped/ml-20m/tags.csv')\n",
        "tags_df.head()"
      ],
      "execution_count": 105,
      "outputs": [
        {
          "output_type": "execute_result",
          "data": {
            "text/html": [
              "<div>\n",
              "<style scoped>\n",
              "    .dataframe tbody tr th:only-of-type {\n",
              "        vertical-align: middle;\n",
              "    }\n",
              "\n",
              "    .dataframe tbody tr th {\n",
              "        vertical-align: top;\n",
              "    }\n",
              "\n",
              "    .dataframe thead th {\n",
              "        text-align: right;\n",
              "    }\n",
              "</style>\n",
              "<table border=\"1\" class=\"dataframe\">\n",
              "  <thead>\n",
              "    <tr style=\"text-align: right;\">\n",
              "      <th></th>\n",
              "      <th>userId</th>\n",
              "      <th>movieId</th>\n",
              "      <th>tag</th>\n",
              "      <th>timestamp</th>\n",
              "    </tr>\n",
              "  </thead>\n",
              "  <tbody>\n",
              "    <tr>\n",
              "      <th>0</th>\n",
              "      <td>18</td>\n",
              "      <td>4141</td>\n",
              "      <td>Mark Waters</td>\n",
              "      <td>1240597180</td>\n",
              "    </tr>\n",
              "    <tr>\n",
              "      <th>1</th>\n",
              "      <td>65</td>\n",
              "      <td>208</td>\n",
              "      <td>dark hero</td>\n",
              "      <td>1368150078</td>\n",
              "    </tr>\n",
              "    <tr>\n",
              "      <th>2</th>\n",
              "      <td>65</td>\n",
              "      <td>353</td>\n",
              "      <td>dark hero</td>\n",
              "      <td>1368150079</td>\n",
              "    </tr>\n",
              "    <tr>\n",
              "      <th>3</th>\n",
              "      <td>65</td>\n",
              "      <td>521</td>\n",
              "      <td>noir thriller</td>\n",
              "      <td>1368149983</td>\n",
              "    </tr>\n",
              "    <tr>\n",
              "      <th>4</th>\n",
              "      <td>65</td>\n",
              "      <td>592</td>\n",
              "      <td>dark hero</td>\n",
              "      <td>1368150078</td>\n",
              "    </tr>\n",
              "  </tbody>\n",
              "</table>\n",
              "</div>"
            ],
            "text/plain": [
              "   userId  movieId            tag   timestamp\n",
              "0      18     4141    Mark Waters  1240597180\n",
              "1      65      208      dark hero  1368150078\n",
              "2      65      353      dark hero  1368150079\n",
              "3      65      521  noir thriller  1368149983\n",
              "4      65      592      dark hero  1368150078"
            ]
          },
          "metadata": {
            "tags": []
          },
          "execution_count": 105
        }
      ]
    },
    {
      "cell_type": "markdown",
      "metadata": {
        "id": "86XQzvvPQAGZ",
        "colab_type": "text"
      },
      "source": [
        "Luckily no nans."
      ]
    },
    {
      "cell_type": "code",
      "metadata": {
        "id": "14kNdtCKP80x",
        "colab_type": "code",
        "colab": {
          "base_uri": "https://localhost:8080/",
          "height": 168
        },
        "outputId": "204fb747-0211-4dea-e62c-31ca34c2b43c"
      },
      "source": [
        "tags_df.info()"
      ],
      "execution_count": 55,
      "outputs": [
        {
          "output_type": "stream",
          "text": [
            "<class 'pandas.core.frame.DataFrame'>\n",
            "RangeIndex: 465564 entries, 0 to 465563\n",
            "Data columns (total 4 columns):\n",
            "userId       465564 non-null int64\n",
            "movieId      465564 non-null int64\n",
            "tag          465548 non-null object\n",
            "timestamp    465564 non-null int64\n",
            "dtypes: int64(3), object(1)\n",
            "memory usage: 14.2+ MB\n"
          ],
          "name": "stdout"
        }
      ]
    },
    {
      "cell_type": "markdown",
      "metadata": {
        "id": "a7gdEETIQIdc",
        "colab_type": "text"
      },
      "source": [
        "Total number of unique tags."
      ]
    },
    {
      "cell_type": "code",
      "metadata": {
        "id": "nGDDJlMKQCpU",
        "colab_type": "code",
        "colab": {
          "base_uri": "https://localhost:8080/",
          "height": 34
        },
        "outputId": "66360a89-8955-4d46-c39c-af6882ba13df"
      },
      "source": [
        "tags_df['tag'].nunique()"
      ],
      "execution_count": 56,
      "outputs": [
        {
          "output_type": "execute_result",
          "data": {
            "text/plain": [
              "38643"
            ]
          },
          "metadata": {
            "tags": []
          },
          "execution_count": 56
        }
      ]
    },
    {
      "cell_type": "markdown",
      "metadata": {
        "id": "P-8dKKHSQlXy",
        "colab_type": "text"
      },
      "source": [
        "At least user added one tag. Extremly active - 20356 tags.  "
      ]
    },
    {
      "cell_type": "code",
      "metadata": {
        "id": "bXLZ9U3vQMkv",
        "colab_type": "code",
        "colab": {
          "base_uri": "https://localhost:8080/",
          "height": 284
        },
        "outputId": "7fdfd348-8cb9-4a57-ea45-3cdc4549f016"
      },
      "source": [
        "tags_df.groupby('userId').agg({'tag':'count'}).describe()"
      ],
      "execution_count": 59,
      "outputs": [
        {
          "output_type": "execute_result",
          "data": {
            "text/html": [
              "<div>\n",
              "<style scoped>\n",
              "    .dataframe tbody tr th:only-of-type {\n",
              "        vertical-align: middle;\n",
              "    }\n",
              "\n",
              "    .dataframe tbody tr th {\n",
              "        vertical-align: top;\n",
              "    }\n",
              "\n",
              "    .dataframe thead th {\n",
              "        text-align: right;\n",
              "    }\n",
              "</style>\n",
              "<table border=\"1\" class=\"dataframe\">\n",
              "  <thead>\n",
              "    <tr style=\"text-align: right;\">\n",
              "      <th></th>\n",
              "      <th>tag</th>\n",
              "    </tr>\n",
              "  </thead>\n",
              "  <tbody>\n",
              "    <tr>\n",
              "      <th>count</th>\n",
              "      <td>7801.000000</td>\n",
              "    </tr>\n",
              "    <tr>\n",
              "      <th>mean</th>\n",
              "      <td>59.677990</td>\n",
              "    </tr>\n",
              "    <tr>\n",
              "      <th>std</th>\n",
              "      <td>414.804435</td>\n",
              "    </tr>\n",
              "    <tr>\n",
              "      <th>min</th>\n",
              "      <td>1.000000</td>\n",
              "    </tr>\n",
              "    <tr>\n",
              "      <th>25%</th>\n",
              "      <td>2.000000</td>\n",
              "    </tr>\n",
              "    <tr>\n",
              "      <th>50%</th>\n",
              "      <td>4.000000</td>\n",
              "    </tr>\n",
              "    <tr>\n",
              "      <th>75%</th>\n",
              "      <td>20.000000</td>\n",
              "    </tr>\n",
              "    <tr>\n",
              "      <th>max</th>\n",
              "      <td>20356.000000</td>\n",
              "    </tr>\n",
              "  </tbody>\n",
              "</table>\n",
              "</div>"
            ],
            "text/plain": [
              "                tag\n",
              "count   7801.000000\n",
              "mean      59.677990\n",
              "std      414.804435\n",
              "min        1.000000\n",
              "25%        2.000000\n",
              "50%        4.000000\n",
              "75%       20.000000\n",
              "max    20356.000000"
            ]
          },
          "metadata": {
            "tags": []
          },
          "execution_count": 59
        }
      ]
    },
    {
      "cell_type": "code",
      "metadata": {
        "id": "IFHMS5tkQ1wY",
        "colab_type": "code",
        "colab": {
          "base_uri": "https://localhost:8080/",
          "height": 300
        },
        "outputId": "0d1def46-6d91-4aac-b108-3a4f07a0b030"
      },
      "source": [
        "fig = plt.figure()\n",
        "ax = fig.add_subplot(1, 1, 1)\n",
        "sns.distplot(tags_df.groupby('userId').agg({'tag' : 'count'}).values, ax=ax, kde=False)\n",
        "ax.set_yscale('log')\n",
        "ax.set_xlabel(\"number of tags\")"
      ],
      "execution_count": 61,
      "outputs": [
        {
          "output_type": "execute_result",
          "data": {
            "text/plain": [
              "Text(0.5, 0, 'number of tags')"
            ]
          },
          "metadata": {
            "tags": []
          },
          "execution_count": 61
        },
        {
          "output_type": "display_data",
          "data": {
            "image/png": "[encoded data removed]",
            "text/plain": [
              "<Figure size 432x288 with 1 Axes>"
            ]
          },
          "metadata": {
            "tags": []
          }
        }
      ]
    },
    {
      "cell_type": "markdown",
      "metadata": {
        "id": "lIb6nH_NOAcA",
        "colab_type": "text"
      },
      "source": [
        "Tables which left"
      ]
    },
    {
      "cell_type": "code",
      "metadata": {
        "id": "R_12QNHK8i9Z",
        "colab_type": "code",
        "colab": {
          "base_uri": "https://localhost:8080/",
          "height": 195
        },
        "outputId": "3d7d6256-ac09-4863-ecee-12ff515e834e"
      },
      "source": [
        "genome_tags_df = pd.read_csv('./data/unziped/ml-20m/genome-tags.csv')\n",
        "genome_tags_df.head()"
      ],
      "execution_count": 62,
      "outputs": [
        {
          "output_type": "execute_result",
          "data": {
            "text/html": [
              "<div>\n",
              "<style scoped>\n",
              "    .dataframe tbody tr th:only-of-type {\n",
              "        vertical-align: middle;\n",
              "    }\n",
              "\n",
              "    .dataframe tbody tr th {\n",
              "        vertical-align: top;\n",
              "    }\n",
              "\n",
              "    .dataframe thead th {\n",
              "        text-align: right;\n",
              "    }\n",
              "</style>\n",
              "<table border=\"1\" class=\"dataframe\">\n",
              "  <thead>\n",
              "    <tr style=\"text-align: right;\">\n",
              "      <th></th>\n",
              "      <th>tagId</th>\n",
              "      <th>tag</th>\n",
              "    </tr>\n",
              "  </thead>\n",
              "  <tbody>\n",
              "    <tr>\n",
              "      <th>0</th>\n",
              "      <td>1</td>\n",
              "      <td>007</td>\n",
              "    </tr>\n",
              "    <tr>\n",
              "      <th>1</th>\n",
              "      <td>2</td>\n",
              "      <td>007 (series)</td>\n",
              "    </tr>\n",
              "    <tr>\n",
              "      <th>2</th>\n",
              "      <td>3</td>\n",
              "      <td>18th century</td>\n",
              "    </tr>\n",
              "    <tr>\n",
              "      <th>3</th>\n",
              "      <td>4</td>\n",
              "      <td>1920s</td>\n",
              "    </tr>\n",
              "    <tr>\n",
              "      <th>4</th>\n",
              "      <td>5</td>\n",
              "      <td>1930s</td>\n",
              "    </tr>\n",
              "  </tbody>\n",
              "</table>\n",
              "</div>"
            ],
            "text/plain": [
              "   tagId           tag\n",
              "0      1           007\n",
              "1      2  007 (series)\n",
              "2      3  18th century\n",
              "3      4         1920s\n",
              "4      5         1930s"
            ]
          },
          "metadata": {
            "tags": []
          },
          "execution_count": 62
        }
      ]
    },
    {
      "cell_type": "code",
      "metadata": {
        "id": "GvCKimVr7-71",
        "colab_type": "code",
        "colab": {
          "base_uri": "https://localhost:8080/",
          "height": 195
        },
        "outputId": "80053413-b220-42c0-992e-198c879c2269"
      },
      "source": [
        "genome_scores_df = pd.read_csv('./data/unziped/ml-20m/genome-scores.csv')\n",
        "genome_scores_df.head()"
      ],
      "execution_count": 64,
      "outputs": [
        {
          "output_type": "execute_result",
          "data": {
            "text/html": [
              "<div>\n",
              "<style scoped>\n",
              "    .dataframe tbody tr th:only-of-type {\n",
              "        vertical-align: middle;\n",
              "    }\n",
              "\n",
              "    .dataframe tbody tr th {\n",
              "        vertical-align: top;\n",
              "    }\n",
              "\n",
              "    .dataframe thead th {\n",
              "        text-align: right;\n",
              "    }\n",
              "</style>\n",
              "<table border=\"1\" class=\"dataframe\">\n",
              "  <thead>\n",
              "    <tr style=\"text-align: right;\">\n",
              "      <th></th>\n",
              "      <th>movieId</th>\n",
              "      <th>tagId</th>\n",
              "      <th>relevance</th>\n",
              "    </tr>\n",
              "  </thead>\n",
              "  <tbody>\n",
              "    <tr>\n",
              "      <th>0</th>\n",
              "      <td>1</td>\n",
              "      <td>1</td>\n",
              "      <td>0.02500</td>\n",
              "    </tr>\n",
              "    <tr>\n",
              "      <th>1</th>\n",
              "      <td>1</td>\n",
              "      <td>2</td>\n",
              "      <td>0.02500</td>\n",
              "    </tr>\n",
              "    <tr>\n",
              "      <th>2</th>\n",
              "      <td>1</td>\n",
              "      <td>3</td>\n",
              "      <td>0.05775</td>\n",
              "    </tr>\n",
              "    <tr>\n",
              "      <th>3</th>\n",
              "      <td>1</td>\n",
              "      <td>4</td>\n",
              "      <td>0.09675</td>\n",
              "    </tr>\n",
              "    <tr>\n",
              "      <th>4</th>\n",
              "      <td>1</td>\n",
              "      <td>5</td>\n",
              "      <td>0.14675</td>\n",
              "    </tr>\n",
              "  </tbody>\n",
              "</table>\n",
              "</div>"
            ],
            "text/plain": [
              "   movieId  tagId  relevance\n",
              "0        1      1    0.02500\n",
              "1        1      2    0.02500\n",
              "2        1      3    0.05775\n",
              "3        1      4    0.09675\n",
              "4        1      5    0.14675"
            ]
          },
          "metadata": {
            "tags": []
          },
          "execution_count": 64
        }
      ]
    },
    {
      "cell_type": "code",
      "metadata": {
        "id": "zkQZzlbu86v3",
        "colab_type": "code",
        "colab": {
          "base_uri": "https://localhost:8080/",
          "height": 195
        },
        "outputId": "a6dcb87a-fe68-41eb-bf20-36468bcbb034"
      },
      "source": [
        "movies_df = pd.read_csv('./data/unziped/ml-20m/movies.csv')\n",
        "movies_df.head()"
      ],
      "execution_count": 65,
      "outputs": [
        {
          "output_type": "execute_result",
          "data": {
            "text/html": [
              "<div>\n",
              "<style scoped>\n",
              "    .dataframe tbody tr th:only-of-type {\n",
              "        vertical-align: middle;\n",
              "    }\n",
              "\n",
              "    .dataframe tbody tr th {\n",
              "        vertical-align: top;\n",
              "    }\n",
              "\n",
              "    .dataframe thead th {\n",
              "        text-align: right;\n",
              "    }\n",
              "</style>\n",
              "<table border=\"1\" class=\"dataframe\">\n",
              "  <thead>\n",
              "    <tr style=\"text-align: right;\">\n",
              "      <th></th>\n",
              "      <th>movieId</th>\n",
              "      <th>title</th>\n",
              "      <th>genres</th>\n",
              "    </tr>\n",
              "  </thead>\n",
              "  <tbody>\n",
              "    <tr>\n",
              "      <th>0</th>\n",
              "      <td>1</td>\n",
              "      <td>Toy Story (1995)</td>\n",
              "      <td>Adventure|Animation|Children|Comedy|Fantasy</td>\n",
              "    </tr>\n",
              "    <tr>\n",
              "      <th>1</th>\n",
              "      <td>2</td>\n",
              "      <td>Jumanji (1995)</td>\n",
              "      <td>Adventure|Children|Fantasy</td>\n",
              "    </tr>\n",
              "    <tr>\n",
              "      <th>2</th>\n",
              "      <td>3</td>\n",
              "      <td>Grumpier Old Men (1995)</td>\n",
              "      <td>Comedy|Romance</td>\n",
              "    </tr>\n",
              "    <tr>\n",
              "      <th>3</th>\n",
              "      <td>4</td>\n",
              "      <td>Waiting to Exhale (1995)</td>\n",
              "      <td>Comedy|Drama|Romance</td>\n",
              "    </tr>\n",
              "    <tr>\n",
              "      <th>4</th>\n",
              "      <td>5</td>\n",
              "      <td>Father of the Bride Part II (1995)</td>\n",
              "      <td>Comedy</td>\n",
              "    </tr>\n",
              "  </tbody>\n",
              "</table>\n",
              "</div>"
            ],
            "text/plain": [
              "   movieId  ...                                       genres\n",
              "0        1  ...  Adventure|Animation|Children|Comedy|Fantasy\n",
              "1        2  ...                   Adventure|Children|Fantasy\n",
              "2        3  ...                               Comedy|Romance\n",
              "3        4  ...                         Comedy|Drama|Romance\n",
              "4        5  ...                                       Comedy\n",
              "\n",
              "[5 rows x 3 columns]"
            ]
          },
          "metadata": {
            "tags": []
          },
          "execution_count": 65
        }
      ]
    },
    {
      "cell_type": "code",
      "metadata": {
        "id": "gcZqkada8ybO",
        "colab_type": "code",
        "colab": {
          "base_uri": "https://localhost:8080/",
          "height": 195
        },
        "outputId": "c484fc1f-935f-4641-b996-0272d2debec1"
      },
      "source": [
        "links_df = pd.read_csv('./data/unziped/ml-20m/links.csv')\n",
        "links_df.head()"
      ],
      "execution_count": 66,
      "outputs": [
        {
          "output_type": "execute_result",
          "data": {
            "text/html": [
              "<div>\n",
              "<style scoped>\n",
              "    .dataframe tbody tr th:only-of-type {\n",
              "        vertical-align: middle;\n",
              "    }\n",
              "\n",
              "    .dataframe tbody tr th {\n",
              "        vertical-align: top;\n",
              "    }\n",
              "\n",
              "    .dataframe thead th {\n",
              "        text-align: right;\n",
              "    }\n",
              "</style>\n",
              "<table border=\"1\" class=\"dataframe\">\n",
              "  <thead>\n",
              "    <tr style=\"text-align: right;\">\n",
              "      <th></th>\n",
              "      <th>movieId</th>\n",
              "      <th>imdbId</th>\n",
              "      <th>tmdbId</th>\n",
              "    </tr>\n",
              "  </thead>\n",
              "  <tbody>\n",
              "    <tr>\n",
              "      <th>0</th>\n",
              "      <td>1</td>\n",
              "      <td>114709</td>\n",
              "      <td>862.0</td>\n",
              "    </tr>\n",
              "    <tr>\n",
              "      <th>1</th>\n",
              "      <td>2</td>\n",
              "      <td>113497</td>\n",
              "      <td>8844.0</td>\n",
              "    </tr>\n",
              "    <tr>\n",
              "      <th>2</th>\n",
              "      <td>3</td>\n",
              "      <td>113228</td>\n",
              "      <td>15602.0</td>\n",
              "    </tr>\n",
              "    <tr>\n",
              "      <th>3</th>\n",
              "      <td>4</td>\n",
              "      <td>114885</td>\n",
              "      <td>31357.0</td>\n",
              "    </tr>\n",
              "    <tr>\n",
              "      <th>4</th>\n",
              "      <td>5</td>\n",
              "      <td>113041</td>\n",
              "      <td>11862.0</td>\n",
              "    </tr>\n",
              "  </tbody>\n",
              "</table>\n",
              "</div>"
            ],
            "text/plain": [
              "   movieId  imdbId   tmdbId\n",
              "0        1  114709    862.0\n",
              "1        2  113497   8844.0\n",
              "2        3  113228  15602.0\n",
              "3        4  114885  31357.0\n",
              "4        5  113041  11862.0"
            ]
          },
          "metadata": {
            "tags": []
          },
          "execution_count": 66
        }
      ]
    },
    {
      "cell_type": "markdown",
      "metadata": {
        "id": "RF-JoyvzRzjz",
        "colab_type": "text"
      },
      "source": [
        "# Evaluation metrics implementation"
      ]
    },
    {
      "cell_type": "code",
      "metadata": {
        "id": "phP2a3zBR4Zk",
        "colab_type": "code",
        "colab": {}
      },
      "source": [
        "def precision_at_k(predicted, actual, k):\n",
        "  assert len(predicted) >= k\n",
        "  intersection = set(predicted[:k]) & set(actual)\n",
        "  return len(intersection) / k"
      ],
      "execution_count": 0,
      "outputs": []
    },
    {
      "cell_type": "code",
      "metadata": {
        "id": "90JdHR0zW2co",
        "colab_type": "code",
        "colab": {}
      },
      "source": [
        "def average_precision(predicted, actual):\n",
        "  tmp = 0\n",
        "  actual_length = min(len(actual), len(predicted))\n",
        "  for i in range(actual_length):\n",
        "    if predicted[i] in actual:\n",
        "      tmp += precision_at_k(predicted[:i+1], actual, i+1)\n",
        "  return tmp / actual_length"
      ],
      "execution_count": 0,
      "outputs": []
    },
    {
      "cell_type": "code",
      "metadata": {
        "id": "paWdF8zjU0Dc",
        "colab_type": "code",
        "colab": {}
      },
      "source": [
        "predicted = [1,3,5,2,13,9,10,17]\n",
        "actual = [1,3,2,5,4,8,9,10]\n"
      ],
      "execution_count": 0,
      "outputs": []
    },
    {
      "cell_type": "code",
      "metadata": {
        "id": "BoS5CbDuVGAw",
        "colab_type": "code",
        "colab": {
          "base_uri": "https://localhost:8080/",
          "height": 34
        },
        "outputId": "80f966b8-9482-4ccf-be8e-03b8279a30c6"
      },
      "source": [
        "precision_at_k(predicted, actual, k=8)"
      ],
      "execution_count": 150,
      "outputs": [
        {
          "output_type": "execute_result",
          "data": {
            "text/plain": [
              "0.75"
            ]
          },
          "metadata": {
            "tags": []
          },
          "execution_count": 150
        }
      ]
    },
    {
      "cell_type": "code",
      "metadata": {
        "id": "SmjjhkmzYIap",
        "colab_type": "code",
        "colab": {
          "base_uri": "https://localhost:8080/",
          "height": 34
        },
        "outputId": "f88ae875-66df-4baf-823c-85a65271519c"
      },
      "source": [
        "average_precision(predicted, actual)"
      ],
      "execution_count": 151,
      "outputs": [
        {
          "output_type": "execute_result",
          "data": {
            "text/plain": [
              "0.7113095238095237"
            ]
          },
          "metadata": {
            "tags": []
          },
          "execution_count": 151
        }
      ]
    },
    {
      "cell_type": "code",
      "metadata": {
        "id": "cffL_IL45QLz",
        "colab_type": "code",
        "colab": {}
      },
      "source": [
        "def mean_average_precision(y_pred, y_actual):\n",
        "  return sum(average_precision(predicted, actual) for predicted, actual in zip(y_pred, y_actual)) / len(y_pred)\n",
        "    "
      ],
      "execution_count": 0,
      "outputs": []
    },
    {
      "cell_type": "code",
      "metadata": {
        "id": "6ZHA9g3LD0oG",
        "colab_type": "code",
        "colab": {
          "base_uri": "https://localhost:8080/",
          "height": 34
        },
        "outputId": "5cd63ec5-460c-4304-8999-281d0a51e882"
      },
      "source": [
        "mean_average_precision([predicted, predicted], [actual, actual])"
      ],
      "execution_count": 157,
      "outputs": [
        {
          "output_type": "execute_result",
          "data": {
            "text/plain": [
              "0.7113095238095237"
            ]
          },
          "metadata": {
            "tags": []
          },
          "execution_count": 157
        }
      ]
    },
    {
      "cell_type": "code",
      "metadata": {
        "id": "IXVQJrS9EfMy",
        "colab_type": "code",
        "colab": {}
      },
      "source": [
        "def mean_percentage_ranking(predicted, actual):\n",
        "  pass"
      ],
      "execution_count": 0,
      "outputs": []
    },
    {
      "cell_type": "markdown",
      "metadata": {
        "id": "PIVAZ_5b6gXA",
        "colab_type": "text"
      },
      "source": [
        "# Collaborative filtering recommenders"
      ]
    },
    {
      "cell_type": "code",
      "metadata": {
        "id": "mRt6VH1w6zxR",
        "colab_type": "code",
        "colab": {}
      },
      "source": [
        "ratings_df['timestamp'] = pd.to_datetime(ratings_df['timestamp'])"
      ],
      "execution_count": 0,
      "outputs": []
    },
    {
      "cell_type": "code",
      "metadata": {
        "id": "GAlvyHWm7liQ",
        "colab_type": "code",
        "colab": {
          "base_uri": "https://localhost:8080/",
          "height": 195
        },
        "outputId": "cccf3d63-c893-4122-a51f-06a9e61c274d"
      },
      "source": [
        "ratings_df.head()"
      ],
      "execution_count": 109,
      "outputs": [
        {
          "output_type": "execute_result",
          "data": {
            "text/html": [
              "<div>\n",
              "<style scoped>\n",
              "    .dataframe tbody tr th:only-of-type {\n",
              "        vertical-align: middle;\n",
              "    }\n",
              "\n",
              "    .dataframe tbody tr th {\n",
              "        vertical-align: top;\n",
              "    }\n",
              "\n",
              "    .dataframe thead th {\n",
              "        text-align: right;\n",
              "    }\n",
              "</style>\n",
              "<table border=\"1\" class=\"dataframe\">\n",
              "  <thead>\n",
              "    <tr style=\"text-align: right;\">\n",
              "      <th></th>\n",
              "      <th>userId</th>\n",
              "      <th>movieId</th>\n",
              "      <th>rating</th>\n",
              "      <th>timestamp</th>\n",
              "    </tr>\n",
              "  </thead>\n",
              "  <tbody>\n",
              "    <tr>\n",
              "      <th>0</th>\n",
              "      <td>1</td>\n",
              "      <td>2</td>\n",
              "      <td>3.5</td>\n",
              "      <td>1970-01-01 00:00:01.112486027</td>\n",
              "    </tr>\n",
              "    <tr>\n",
              "      <th>1</th>\n",
              "      <td>1</td>\n",
              "      <td>29</td>\n",
              "      <td>3.5</td>\n",
              "      <td>1970-01-01 00:00:01.112484676</td>\n",
              "    </tr>\n",
              "    <tr>\n",
              "      <th>2</th>\n",
              "      <td>1</td>\n",
              "      <td>32</td>\n",
              "      <td>3.5</td>\n",
              "      <td>1970-01-01 00:00:01.112484819</td>\n",
              "    </tr>\n",
              "    <tr>\n",
              "      <th>3</th>\n",
              "      <td>1</td>\n",
              "      <td>47</td>\n",
              "      <td>3.5</td>\n",
              "      <td>1970-01-01 00:00:01.112484727</td>\n",
              "    </tr>\n",
              "    <tr>\n",
              "      <th>4</th>\n",
              "      <td>1</td>\n",
              "      <td>50</td>\n",
              "      <td>3.5</td>\n",
              "      <td>1970-01-01 00:00:01.112484580</td>\n",
              "    </tr>\n",
              "  </tbody>\n",
              "</table>\n",
              "</div>"
            ],
            "text/plain": [
              "   userId  movieId  rating                     timestamp\n",
              "0       1        2     3.5 1970-01-01 00:00:01.112486027\n",
              "1       1       29     3.5 1970-01-01 00:00:01.112484676\n",
              "2       1       32     3.5 1970-01-01 00:00:01.112484819\n",
              "3       1       47     3.5 1970-01-01 00:00:01.112484727\n",
              "4       1       50     3.5 1970-01-01 00:00:01.112484580"
            ]
          },
          "metadata": {
            "tags": []
          },
          "execution_count": 109
        }
      ]
    },
    {
      "cell_type": "code",
      "metadata": {
        "id": "H7Mn9sQs7qPI",
        "colab_type": "code",
        "colab": {}
      },
      "source": [
        "##CAN'T MAKE ONE SIMPLE TRAIN TEST SPLIT!!!!!\n",
        "tscv = TimeSeriesSplit(n_splits=2)\n",
        "X_train, X_test, y_train, y_test = None, None, None, None\n",
        "for train_index, test_index in tscv.split(ratings_df):\n",
        "  X_train, X_test = ratings_df.loc[train_index,['userId', 'movieId']], ratings_df.loc[test_index, ['userId', 'movieId']]\n",
        "  y_train, y_test = ratings_df.loc[train_index, 'rating'], ratings_df.loc[test_index, 'rating']"
      ],
      "execution_count": 0,
      "outputs": []
    },
    {
      "cell_type": "code",
      "metadata": {
        "id": "U36NlxhM_X4p",
        "colab_type": "code",
        "colab": {
          "base_uri": "https://localhost:8080/",
          "height": 34
        },
        "outputId": "4c127921-0db2-41ca-81e8-ecb3bfee14eb"
      },
      "source": [
        " X_train['rating'] = y_train\n",
        " list(X_train.groupby('movieId').agg({'userId' : 'count'}).sort_values(by='userId', ascending=False)[:5].index)"
      ],
      "execution_count": 129,
      "outputs": [
        {
          "output_type": "execute_result",
          "data": {
            "text/plain": [
              "[296, 356, 318, 593, 480]"
            ]
          },
          "metadata": {
            "tags": []
          },
          "execution_count": 129
        }
      ]
    },
    {
      "cell_type": "code",
      "metadata": {
        "id": "de7YdfF49-aJ",
        "colab_type": "code",
        "colab": {}
      },
      "source": [
        "class MostPopularRecommender():\n",
        "  def __init__(self, top_n=5):\n",
        "    self.top_n = top_n\n",
        "  \n",
        "  def fit(self, X_train, y_train):\n",
        "    assert type(X_train) == pd.DataFrame\n",
        "    self.most_popular = list(X_train.groupby('movieId').agg({'userId' : 'count'}).sort_values(by='userId', ascending=False)[:5].index)\n",
        "  \n",
        "  def predict(self, X_test):\n",
        "    return [self.most_popular] * X_test.shape[0]"
      ],
      "execution_count": 0,
      "outputs": []
    },
    {
      "cell_type": "code",
      "metadata": {
        "id": "uWfe7fCt-A3o",
        "colab_type": "code",
        "colab": {}
      },
      "source": [
        "most_popular_recommender = MostPopularRecommender(top_n=5)\n",
        "most_popular_recommender.fit(X_train, y_train)\n",
        "y_pred = most_popular_recommender.predict(X_test)"
      ],
      "execution_count": 0,
      "outputs": []
    },
    {
      "cell_type": "code",
      "metadata": {
        "id": "WwPwC94tBQWn",
        "colab_type": "code",
        "colab": {
          "base_uri": "https://localhost:8080/",
          "height": 1000
        },
        "outputId": "262e00ae-5e31-4cff-8fd4-df6effc7ea92"
      },
      "source": [
        "y_pred"
      ],
      "execution_count": 137,
      "outputs": [
        {
          "output_type": "execute_result",
          "data": {
            "text/plain": [
              "[[296, 356, 318, 593, 480],\n",
              " [296, 356, 318, 593, 480],\n",
              " [296, 356, 318, 593, 480],\n",
              " [296, 356, 318, 593, 480],\n",
              " [296, 356, 318, 593, 480],\n",
              " [296, 356, 318, 593, 480],\n",
              " [296, 356, 318, 593, 480],\n",
              " [296, 356, 318, 593, 480],\n",
              " [296, 356, 318, 593, 480],\n",
              " [296, 356, 318, 593, 480],\n",
              " [296, 356, 318, 593, 480],\n",
              " [296, 356, 318, 593, 480],\n",
              " [296, 356, 318, 593, 480],\n",
              " [296, 356, 318, 593, 480],\n",
              " [296, 356, 318, 593, 480],\n",
              " [296, 356, 318, 593, 480],\n",
              " [296, 356, 318, 593, 480],\n",
              " [296, 356, 318, 593, 480],\n",
              " [296, 356, 318, 593, 480],\n",
              " [296, 356, 318, 593, 480],\n",
              " [296, 356, 318, 593, 480],\n",
              " [296, 356, 318, 593, 480],\n",
              " [296, 356, 318, 593, 480],\n",
              " [296, 356, 318, 593, 480],\n",
              " [296, 356, 318, 593, 480],\n",
              " [296, 356, 318, 593, 480],\n",
              " [296, 356, 318, 593, 480],\n",
              " [296, 356, 318, 593, 480],\n",
              " [296, 356, 318, 593, 480],\n",
              " [296, 356, 318, 593, 480],\n",
              " [296, 356, 318, 593, 480],\n",
              " [296, 356, 318, 593, 480],\n",
              " [296, 356, 318, 593, 480],\n",
              " [296, 356, 318, 593, 480],\n",
              " [296, 356, 318, 593, 480],\n",
              " [296, 356, 318, 593, 480],\n",
              " [296, 356, 318, 593, 480],\n",
              " [296, 356, 318, 593, 480],\n",
              " [296, 356, 318, 593, 480],\n",
              " [296, 356, 318, 593, 480],\n",
              " [296, 356, 318, 593, 480],\n",
              " [296, 356, 318, 593, 480],\n",
              " [296, 356, 318, 593, 480],\n",
              " [296, 356, 318, 593, 480],\n",
              " [296, 356, 318, 593, 480],\n",
              " [296, 356, 318, 593, 480],\n",
              " [296, 356, 318, 593, 480],\n",
              " [296, 356, 318, 593, 480],\n",
              " [296, 356, 318, 593, 480],\n",
              " [296, 356, 318, 593, 480],\n",
              " [296, 356, 318, 593, 480],\n",
              " [296, 356, 318, 593, 480],\n",
              " [296, 356, 318, 593, 480],\n",
              " [296, 356, 318, 593, 480],\n",
              " [296, 356, 318, 593, 480],\n",
              " [296, 356, 318, 593, 480],\n",
              " [296, 356, 318, 593, 480],\n",
              " [296, 356, 318, 593, 480],\n",
              " [296, 356, 318, 593, 480],\n",
              " [296, 356, 318, 593, 480],\n",
              " [296, 356, 318, 593, 480],\n",
              " [296, 356, 318, 593, 480],\n",
              " [296, 356, 318, 593, 480],\n",
              " [296, 356, 318, 593, 480],\n",
              " [296, 356, 318, 593, 480],\n",
              " [296, 356, 318, 593, 480],\n",
              " [296, 356, 318, 593, 480],\n",
              " [296, 356, 318, 593, 480],\n",
              " [296, 356, 318, 593, 480],\n",
              " [296, 356, 318, 593, 480],\n",
              " [296, 356, 318, 593, 480],\n",
              " [296, 356, 318, 593, 480],\n",
              " [296, 356, 318, 593, 480],\n",
              " [296, 356, 318, 593, 480],\n",
              " [296, 356, 318, 593, 480],\n",
              " [296, 356, 318, 593, 480],\n",
              " [296, 356, 318, 593, 480],\n",
              " [296, 356, 318, 593, 480],\n",
              " [296, 356, 318, 593, 480],\n",
              " [296, 356, 318, 593, 480],\n",
              " [296, 356, 318, 593, 480],\n",
              " [296, 356, 318, 593, 480],\n",
              " [296, 356, 318, 593, 480],\n",
              " [296, 356, 318, 593, 480],\n",
              " [296, 356, 318, 593, 480],\n",
              " [296, 356, 318, 593, 480],\n",
              " [296, 356, 318, 593, 480],\n",
              " [296, 356, 318, 593, 480],\n",
              " [296, 356, 318, 593, 480],\n",
              " [296, 356, 318, 593, 480],\n",
              " [296, 356, 318, 593, 480],\n",
              " [296, 356, 318, 593, 480],\n",
              " [296, 356, 318, 593, 480],\n",
              " [296, 356, 318, 593, 480],\n",
              " [296, 356, 318, 593, 480],\n",
              " [296, 356, 318, 593, 480],\n",
              " [296, 356, 318, 593, 480],\n",
              " [296, 356, 318, 593, 480],\n",
              " [296, 356, 318, 593, 480],\n",
              " [296, 356, 318, 593, 480],\n",
              " [296, 356, 318, 593, 480],\n",
              " [296, 356, 318, 593, 480],\n",
              " [296, 356, 318, 593, 480],\n",
              " [296, 356, 318, 593, 480],\n",
              " [296, 356, 318, 593, 480],\n",
              " [296, 356, 318, 593, 480],\n",
              " [296, 356, 318, 593, 480],\n",
              " [296, 356, 318, 593, 480],\n",
              " [296, 356, 318, 593, 480],\n",
              " [296, 356, 318, 593, 480],\n",
              " [296, 356, 318, 593, 480],\n",
              " [296, 356, 318, 593, 480],\n",
              " [296, 356, 318, 593, 480],\n",
              " [296, 356, 318, 593, 480],\n",
              " [296, 356, 318, 593, 480],\n",
              " [296, 356, 318, 593, 480],\n",
              " [296, 356, 318, 593, 480],\n",
              " [296, 356, 318, 593, 480],\n",
              " [296, 356, 318, 593, 480],\n",
              " [296, 356, 318, 593, 480],\n",
              " [296, 356, 318, 593, 480],\n",
              " [296, 356, 318, 593, 480],\n",
              " [296, 356, 318, 593, 480],\n",
              " [296, 356, 318, 593, 480],\n",
              " [296, 356, 318, 593, 480],\n",
              " [296, 356, 318, 593, 480],\n",
              " [296, 356, 318, 593, 480],\n",
              " [296, 356, 318, 593, 480],\n",
              " [296, 356, 318, 593, 480],\n",
              " [296, 356, 318, 593, 480],\n",
              " [296, 356, 318, 593, 480],\n",
              " [296, 356, 318, 593, 480],\n",
              " [296, 356, 318, 593, 480],\n",
              " [296, 356, 318, 593, 480],\n",
              " [296, 356, 318, 593, 480],\n",
              " [296, 356, 318, 593, 480],\n",
              " [296, 356, 318, 593, 480],\n",
              " [296, 356, 318, 593, 480],\n",
              " [296, 356, 318, 593, 480],\n",
              " [296, 356, 318, 593, 480],\n",
              " [296, 356, 318, 593, 480],\n",
              " [296, 356, 318, 593, 480],\n",
              " [296, 356, 318, 593, 480],\n",
              " [296, 356, 318, 593, 480],\n",
              " [296, 356, 318, 593, 480],\n",
              " [296, 356, 318, 593, 480],\n",
              " [296, 356, 318, 593, 480],\n",
              " [296, 356, 318, 593, 480],\n",
              " [296, 356, 318, 593, 480],\n",
              " [296, 356, 318, 593, 480],\n",
              " [296, 356, 318, 593, 480],\n",
              " [296, 356, 318, 593, 480],\n",
              " [296, 356, 318, 593, 480],\n",
              " [296, 356, 318, 593, 480],\n",
              " [296, 356, 318, 593, 480],\n",
              " [296, 356, 318, 593, 480],\n",
              " [296, 356, 318, 593, 480],\n",
              " [296, 356, 318, 593, 480],\n",
              " [296, 356, 318, 593, 480],\n",
              " [296, 356, 318, 593, 480],\n",
              " [296, 356, 318, 593, 480],\n",
              " [296, 356, 318, 593, 480],\n",
              " [296, 356, 318, 593, 480],\n",
              " [296, 356, 318, 593, 480],\n",
              " [296, 356, 318, 593, 480],\n",
              " [296, 356, 318, 593, 480],\n",
              " [296, 356, 318, 593, 480],\n",
              " [296, 356, 318, 593, 480],\n",
              " [296, 356, 318, 593, 480],\n",
              " [296, 356, 318, 593, 480],\n",
              " [296, 356, 318, 593, 480],\n",
              " [296, 356, 318, 593, 480],\n",
              " [296, 356, 318, 593, 480],\n",
              " [296, 356, 318, 593, 480],\n",
              " [296, 356, 318, 593, 480],\n",
              " [296, 356, 318, 593, 480],\n",
              " [296, 356, 318, 593, 480],\n",
              " [296, 356, 318, 593, 480],\n",
              " [296, 356, 318, 593, 480],\n",
              " [296, 356, 318, 593, 480],\n",
              " [296, 356, 318, 593, 480],\n",
              " [296, 356, 318, 593, 480],\n",
              " [296, 356, 318, 593, 480],\n",
              " [296, 356, 318, 593, 480],\n",
              " [296, 356, 318, 593, 480],\n",
              " [296, 356, 318, 593, 480],\n",
              " [296, 356, 318, 593, 480],\n",
              " [296, 356, 318, 593, 480],\n",
              " [296, 356, 318, 593, 480],\n",
              " [296, 356, 318, 593, 480],\n",
              " [296, 356, 318, 593, 480],\n",
              " [296, 356, 318, 593, 480],\n",
              " [296, 356, 318, 593, 480],\n",
              " [296, 356, 318, 593, 480],\n",
              " [296, 356, 318, 593, 480],\n",
              " [296, 356, 318, 593, 480],\n",
              " [296, 356, 318, 593, 480],\n",
              " [296, 356, 318, 593, 480],\n",
              " [296, 356, 318, 593, 480],\n",
              " [296, 356, 318, 593, 480],\n",
              " [296, 356, 318, 593, 480],\n",
              " [296, 356, 318, 593, 480],\n",
              " [296, 356, 318, 593, 480],\n",
              " [296, 356, 318, 593, 480],\n",
              " [296, 356, 318, 593, 480],\n",
              " [296, 356, 318, 593, 480],\n",
              " [296, 356, 318, 593, 480],\n",
              " [296, 356, 318, 593, 480],\n",
              " [296, 356, 318, 593, 480],\n",
              " [296, 356, 318, 593, 480],\n",
              " [296, 356, 318, 593, 480],\n",
              " [296, 356, 318, 593, 480],\n",
              " [296, 356, 318, 593, 480],\n",
              " [296, 356, 318, 593, 480],\n",
              " [296, 356, 318, 593, 480],\n",
              " [296, 356, 318, 593, 480],\n",
              " [296, 356, 318, 593, 480],\n",
              " [296, 356, 318, 593, 480],\n",
              " [296, 356, 318, 593, 480],\n",
              " [296, 356, 318, 593, 480],\n",
              " [296, 356, 318, 593, 480],\n",
              " [296, 356, 318, 593, 480],\n",
              " [296, 356, 318, 593, 480],\n",
              " [296, 356, 318, 593, 480],\n",
              " [296, 356, 318, 593, 480],\n",
              " [296, 356, 318, 593, 480],\n",
              " [296, 356, 318, 593, 480],\n",
              " [296, 356, 318, 593, 480],\n",
              " [296, 356, 318, 593, 480],\n",
              " [296, 356, 318, 593, 480],\n",
              " [296, 356, 318, 593, 480],\n",
              " [296, 356, 318, 593, 480],\n",
              " [296, 356, 318, 593, 480],\n",
              " [296, 356, 318, 593, 480],\n",
              " [296, 356, 318, 593, 480],\n",
              " [296, 356, 318, 593, 480],\n",
              " [296, 356, 318, 593, 480],\n",
              " [296, 356, 318, 593, 480],\n",
              " [296, 356, 318, 593, 480],\n",
              " [296, 356, 318, 593, 480],\n",
              " [296, 356, 318, 593, 480],\n",
              " [296, 356, 318, 593, 480],\n",
              " [296, 356, 318, 593, 480],\n",
              " [296, 356, 318, 593, 480],\n",
              " [296, 356, 318, 593, 480],\n",
              " [296, 356, 318, 593, 480],\n",
              " [296, 356, 318, 593, 480],\n",
              " [296, 356, 318, 593, 480],\n",
              " [296, 356, 318, 593, 480],\n",
              " [296, 356, 318, 593, 480],\n",
              " [296, 356, 318, 593, 480],\n",
              " [296, 356, 318, 593, 480],\n",
              " [296, 356, 318, 593, 480],\n",
              " [296, 356, 318, 593, 480],\n",
              " [296, 356, 318, 593, 480],\n",
              " [296, 356, 318, 593, 480],\n",
              " [296, 356, 318, 593, 480],\n",
              " [296, 356, 318, 593, 480],\n",
              " [296, 356, 318, 593, 480],\n",
              " [296, 356, 318, 593, 480],\n",
              " [296, 356, 318, 593, 480],\n",
              " [296, 356, 318, 593, 480],\n",
              " [296, 356, 318, 593, 480],\n",
              " [296, 356, 318, 593, 480],\n",
              " [296, 356, 318, 593, 480],\n",
              " [296, 356, 318, 593, 480],\n",
              " [296, 356, 318, 593, 480],\n",
              " [296, 356, 318, 593, 480],\n",
              " [296, 356, 318, 593, 480],\n",
              " [296, 356, 318, 593, 480],\n",
              " [296, 356, 318, 593, 480],\n",
              " [296, 356, 318, 593, 480],\n",
              " [296, 356, 318, 593, 480],\n",
              " [296, 356, 318, 593, 480],\n",
              " [296, 356, 318, 593, 480],\n",
              " [296, 356, 318, 593, 480],\n",
              " [296, 356, 318, 593, 480],\n",
              " [296, 356, 318, 593, 480],\n",
              " [296, 356, 318, 593, 480],\n",
              " [296, 356, 318, 593, 480],\n",
              " [296, 356, 318, 593, 480],\n",
              " [296, 356, 318, 593, 480],\n",
              " [296, 356, 318, 593, 480],\n",
              " [296, 356, 318, 593, 480],\n",
              " [296, 356, 318, 593, 480],\n",
              " [296, 356, 318, 593, 480],\n",
              " [296, 356, 318, 593, 480],\n",
              " [296, 356, 318, 593, 480],\n",
              " [296, 356, 318, 593, 480],\n",
              " [296, 356, 318, 593, 480],\n",
              " [296, 356, 318, 593, 480],\n",
              " [296, 356, 318, 593, 480],\n",
              " [296, 356, 318, 593, 480],\n",
              " [296, 356, 318, 593, 480],\n",
              " [296, 356, 318, 593, 480],\n",
              " [296, 356, 318, 593, 480],\n",
              " [296, 356, 318, 593, 480],\n",
              " [296, 356, 318, 593, 480],\n",
              " [296, 356, 318, 593, 480],\n",
              " [296, 356, 318, 593, 480],\n",
              " [296, 356, 318, 593, 480],\n",
              " [296, 356, 318, 593, 480],\n",
              " [296, 356, 318, 593, 480],\n",
              " [296, 356, 318, 593, 480],\n",
              " [296, 356, 318, 593, 480],\n",
              " [296, 356, 318, 593, 480],\n",
              " [296, 356, 318, 593, 480],\n",
              " [296, 356, 318, 593, 480],\n",
              " [296, 356, 318, 593, 480],\n",
              " [296, 356, 318, 593, 480],\n",
              " [296, 356, 318, 593, 480],\n",
              " [296, 356, 318, 593, 480],\n",
              " [296, 356, 318, 593, 480],\n",
              " [296, 356, 318, 593, 480],\n",
              " [296, 356, 318, 593, 480],\n",
              " [296, 356, 318, 593, 480],\n",
              " [296, 356, 318, 593, 480],\n",
              " [296, 356, 318, 593, 480],\n",
              " [296, 356, 318, 593, 480],\n",
              " [296, 356, 318, 593, 480],\n",
              " [296, 356, 318, 593, 480],\n",
              " [296, 356, 318, 593, 480],\n",
              " [296, 356, 318, 593, 480],\n",
              " [296, 356, 318, 593, 480],\n",
              " [296, 356, 318, 593, 480],\n",
              " [296, 356, 318, 593, 480],\n",
              " [296, 356, 318, 593, 480],\n",
              " [296, 356, 318, 593, 480],\n",
              " [296, 356, 318, 593, 480],\n",
              " [296, 356, 318, 593, 480],\n",
              " [296, 356, 318, 593, 480],\n",
              " [296, 356, 318, 593, 480],\n",
              " [296, 356, 318, 593, 480],\n",
              " [296, 356, 318, 593, 480],\n",
              " [296, 356, 318, 593, 480],\n",
              " [296, 356, 318, 593, 480],\n",
              " [296, 356, 318, 593, 480],\n",
              " [296, 356, 318, 593, 480],\n",
              " [296, 356, 318, 593, 480],\n",
              " [296, 356, 318, 593, 480],\n",
              " [296, 356, 318, 593, 480],\n",
              " [296, 356, 318, 593, 480],\n",
              " [296, 356, 318, 593, 480],\n",
              " [296, 356, 318, 593, 480],\n",
              " [296, 356, 318, 593, 480],\n",
              " [296, 356, 318, 593, 480],\n",
              " [296, 356, 318, 593, 480],\n",
              " [296, 356, 318, 593, 480],\n",
              " [296, 356, 318, 593, 480],\n",
              " [296, 356, 318, 593, 480],\n",
              " [296, 356, 318, 593, 480],\n",
              " [296, 356, 318, 593, 480],\n",
              " [296, 356, 318, 593, 480],\n",
              " [296, 356, 318, 593, 480],\n",
              " [296, 356, 318, 593, 480],\n",
              " [296, 356, 318, 593, 480],\n",
              " [296, 356, 318, 593, 480],\n",
              " [296, 356, 318, 593, 480],\n",
              " [296, 356, 318, 593, 480],\n",
              " [296, 356, 318, 593, 480],\n",
              " [296, 356, 318, 593, 480],\n",
              " [296, 356, 318, 593, 480],\n",
              " [296, 356, 318, 593, 480],\n",
              " [296, 356, 318, 593, 480],\n",
              " [296, 356, 318, 593, 480],\n",
              " [296, 356, 318, 593, 480],\n",
              " [296, 356, 318, 593, 480],\n",
              " [296, 356, 318, 593, 480],\n",
              " [296, 356, 318, 593, 480],\n",
              " [296, 356, 318, 593, 480],\n",
              " [296, 356, 318, 593, 480],\n",
              " [296, 356, 318, 593, 480],\n",
              " [296, 356, 318, 593, 480],\n",
              " [296, 356, 318, 593, 480],\n",
              " [296, 356, 318, 593, 480],\n",
              " [296, 356, 318, 593, 480],\n",
              " [296, 356, 318, 593, 480],\n",
              " [296, 356, 318, 593, 480],\n",
              " [296, 356, 318, 593, 480],\n",
              " [296, 356, 318, 593, 480],\n",
              " [296, 356, 318, 593, 480],\n",
              " [296, 356, 318, 593, 480],\n",
              " [296, 356, 318, 593, 480],\n",
              " [296, 356, 318, 593, 480],\n",
              " [296, 356, 318, 593, 480],\n",
              " [296, 356, 318, 593, 480],\n",
              " [296, 356, 318, 593, 480],\n",
              " [296, 356, 318, 593, 480],\n",
              " [296, 356, 318, 593, 480],\n",
              " [296, 356, 318, 593, 480],\n",
              " [296, 356, 318, 593, 480],\n",
              " [296, 356, 318, 593, 480],\n",
              " [296, 356, 318, 593, 480],\n",
              " [296, 356, 318, 593, 480],\n",
              " [296, 356, 318, 593, 480],\n",
              " [296, 356, 318, 593, 480],\n",
              " [296, 356, 318, 593, 480],\n",
              " [296, 356, 318, 593, 480],\n",
              " [296, 356, 318, 593, 480],\n",
              " [296, 356, 318, 593, 480],\n",
              " [296, 356, 318, 593, 480],\n",
              " [296, 356, 318, 593, 480],\n",
              " [296, 356, 318, 593, 480],\n",
              " [296, 356, 318, 593, 480],\n",
              " [296, 356, 318, 593, 480],\n",
              " [296, 356, 318, 593, 480],\n",
              " [296, 356, 318, 593, 480],\n",
              " [296, 356, 318, 593, 480],\n",
              " [296, 356, 318, 593, 480],\n",
              " [296, 356, 318, 593, 480],\n",
              " [296, 356, 318, 593, 480],\n",
              " [296, 356, 318, 593, 480],\n",
              " [296, 356, 318, 593, 480],\n",
              " [296, 356, 318, 593, 480],\n",
              " [296, 356, 318, 593, 480],\n",
              " [296, 356, 318, 593, 480],\n",
              " [296, 356, 318, 593, 480],\n",
              " [296, 356, 318, 593, 480],\n",
              " [296, 356, 318, 593, 480],\n",
              " [296, 356, 318, 593, 480],\n",
              " [296, 356, 318, 593, 480],\n",
              " [296, 356, 318, 593, 480],\n",
              " [296, 356, 318, 593, 480],\n",
              " [296, 356, 318, 593, 480],\n",
              " [296, 356, 318, 593, 480],\n",
              " [296, 356, 318, 593, 480],\n",
              " [296, 356, 318, 593, 480],\n",
              " [296, 356, 318, 593, 480],\n",
              " [296, 356, 318, 593, 480],\n",
              " [296, 356, 318, 593, 480],\n",
              " [296, 356, 318, 593, 480],\n",
              " [296, 356, 318, 593, 480],\n",
              " [296, 356, 318, 593, 480],\n",
              " [296, 356, 318, 593, 480],\n",
              " [296, 356, 318, 593, 480],\n",
              " [296, 356, 318, 593, 480],\n",
              " [296, 356, 318, 593, 480],\n",
              " [296, 356, 318, 593, 480],\n",
              " [296, 356, 318, 593, 480],\n",
              " [296, 356, 318, 593, 480],\n",
              " [296, 356, 318, 593, 480],\n",
              " [296, 356, 318, 593, 480],\n",
              " [296, 356, 318, 593, 480],\n",
              " [296, 356, 318, 593, 480],\n",
              " [296, 356, 318, 593, 480],\n",
              " [296, 356, 318, 593, 480],\n",
              " [296, 356, 318, 593, 480],\n",
              " [296, 356, 318, 593, 480],\n",
              " [296, 356, 318, 593, 480],\n",
              " [296, 356, 318, 593, 480],\n",
              " [296, 356, 318, 593, 480],\n",
              " [296, 356, 318, 593, 480],\n",
              " [296, 356, 318, 593, 480],\n",
              " [296, 356, 318, 593, 480],\n",
              " [296, 356, 318, 593, 480],\n",
              " [296, 356, 318, 593, 480],\n",
              " [296, 356, 318, 593, 480],\n",
              " [296, 356, 318, 593, 480],\n",
              " [296, 356, 318, 593, 480],\n",
              " [296, 356, 318, 593, 480],\n",
              " [296, 356, 318, 593, 480],\n",
              " [296, 356, 318, 593, 480],\n",
              " [296, 356, 318, 593, 480],\n",
              " [296, 356, 318, 593, 480],\n",
              " [296, 356, 318, 593, 480],\n",
              " [296, 356, 318, 593, 480],\n",
              " [296, 356, 318, 593, 480],\n",
              " [296, 356, 318, 593, 480],\n",
              " [296, 356, 318, 593, 480],\n",
              " [296, 356, 318, 593, 480],\n",
              " [296, 356, 318, 593, 480],\n",
              " [296, 356, 318, 593, 480],\n",
              " [296, 356, 318, 593, 480],\n",
              " [296, 356, 318, 593, 480],\n",
              " [296, 356, 318, 593, 480],\n",
              " [296, 356, 318, 593, 480],\n",
              " [296, 356, 318, 593, 480],\n",
              " [296, 356, 318, 593, 480],\n",
              " [296, 356, 318, 593, 480],\n",
              " [296, 356, 318, 593, 480],\n",
              " [296, 356, 318, 593, 480],\n",
              " [296, 356, 318, 593, 480],\n",
              " [296, 356, 318, 593, 480],\n",
              " [296, 356, 318, 593, 480],\n",
              " [296, 356, 318, 593, 480],\n",
              " [296, 356, 318, 593, 480],\n",
              " [296, 356, 318, 593, 480],\n",
              " [296, 356, 318, 593, 480],\n",
              " [296, 356, 318, 593, 480],\n",
              " [296, 356, 318, 593, 480],\n",
              " [296, 356, 318, 593, 480],\n",
              " [296, 356, 318, 593, 480],\n",
              " [296, 356, 318, 593, 480],\n",
              " [296, 356, 318, 593, 480],\n",
              " [296, 356, 318, 593, 480],\n",
              " [296, 356, 318, 593, 480],\n",
              " [296, 356, 318, 593, 480],\n",
              " [296, 356, 318, 593, 480],\n",
              " [296, 356, 318, 593, 480],\n",
              " [296, 356, 318, 593, 480],\n",
              " [296, 356, 318, 593, 480],\n",
              " [296, 356, 318, 593, 480],\n",
              " [296, 356, 318, 593, 480],\n",
              " [296, 356, 318, 593, 480],\n",
              " [296, 356, 318, 593, 480],\n",
              " [296, 356, 318, 593, 480],\n",
              " [296, 356, 318, 593, 480],\n",
              " [296, 356, 318, 593, 480],\n",
              " [296, 356, 318, 593, 480],\n",
              " [296, 356, 318, 593, 480],\n",
              " [296, 356, 318, 593, 480],\n",
              " [296, 356, 318, 593, 480],\n",
              " [296, 356, 318, 593, 480],\n",
              " [296, 356, 318, 593, 480],\n",
              " [296, 356, 318, 593, 480],\n",
              " [296, 356, 318, 593, 480],\n",
              " [296, 356, 318, 593, 480],\n",
              " [296, 356, 318, 593, 480],\n",
              " [296, 356, 318, 593, 480],\n",
              " [296, 356, 318, 593, 480],\n",
              " [296, 356, 318, 593, 480],\n",
              " [296, 356, 318, 593, 480],\n",
              " [296, 356, 318, 593, 480],\n",
              " [296, 356, 318, 593, 480],\n",
              " [296, 356, 318, 593, 480],\n",
              " [296, 356, 318, 593, 480],\n",
              " [296, 356, 318, 593, 480],\n",
              " [296, 356, 318, 593, 480],\n",
              " [296, 356, 318, 593, 480],\n",
              " [296, 356, 318, 593, 480],\n",
              " [296, 356, 318, 593, 480],\n",
              " [296, 356, 318, 593, 480],\n",
              " [296, 356, 318, 593, 480],\n",
              " [296, 356, 318, 593, 480],\n",
              " [296, 356, 318, 593, 480],\n",
              " [296, 356, 318, 593, 480],\n",
              " [296, 356, 318, 593, 480],\n",
              " [296, 356, 318, 593, 480],\n",
              " [296, 356, 318, 593, 480],\n",
              " [296, 356, 318, 593, 480],\n",
              " [296, 356, 318, 593, 480],\n",
              " [296, 356, 318, 593, 480],\n",
              " [296, 356, 318, 593, 480],\n",
              " [296, 356, 318, 593, 480],\n",
              " [296, 356, 318, 593, 480],\n",
              " [296, 356, 318, 593, 480],\n",
              " [296, 356, 318, 593, 480],\n",
              " [296, 356, 318, 593, 480],\n",
              " [296, 356, 318, 593, 480],\n",
              " [296, 356, 318, 593, 480],\n",
              " [296, 356, 318, 593, 480],\n",
              " [296, 356, 318, 593, 480],\n",
              " [296, 356, 318, 593, 480],\n",
              " [296, 356, 318, 593, 480],\n",
              " [296, 356, 318, 593, 480],\n",
              " [296, 356, 318, 593, 480],\n",
              " [296, 356, 318, 593, 480],\n",
              " [296, 356, 318, 593, 480],\n",
              " [296, 356, 318, 593, 480],\n",
              " [296, 356, 318, 593, 480],\n",
              " [296, 356, 318, 593, 480],\n",
              " [296, 356, 318, 593, 480],\n",
              " [296, 356, 318, 593, 480],\n",
              " [296, 356, 318, 593, 480],\n",
              " [296, 356, 318, 593, 480],\n",
              " [296, 356, 318, 593, 480],\n",
              " [296, 356, 318, 593, 480],\n",
              " [296, 356, 318, 593, 480],\n",
              " [296, 356, 318, 593, 480],\n",
              " [296, 356, 318, 593, 480],\n",
              " [296, 356, 318, 593, 480],\n",
              " [296, 356, 318, 593, 480],\n",
              " [296, 356, 318, 593, 480],\n",
              " [296, 356, 318, 593, 480],\n",
              " [296, 356, 318, 593, 480],\n",
              " [296, 356, 318, 593, 480],\n",
              " [296, 356, 318, 593, 480],\n",
              " [296, 356, 318, 593, 480],\n",
              " [296, 356, 318, 593, 480],\n",
              " [296, 356, 318, 593, 480],\n",
              " [296, 356, 318, 593, 480],\n",
              " [296, 356, 318, 593, 480],\n",
              " [296, 356, 318, 593, 480],\n",
              " [296, 356, 318, 593, 480],\n",
              " [296, 356, 318, 593, 480],\n",
              " [296, 356, 318, 593, 480],\n",
              " [296, 356, 318, 593, 480],\n",
              " [296, 356, 318, 593, 480],\n",
              " [296, 356, 318, 593, 480],\n",
              " [296, 356, 318, 593, 480],\n",
              " [296, 356, 318, 593, 480],\n",
              " [296, 356, 318, 593, 480],\n",
              " [296, 356, 318, 593, 480],\n",
              " [296, 356, 318, 593, 480],\n",
              " [296, 356, 318, 593, 480],\n",
              " [296, 356, 318, 593, 480],\n",
              " [296, 356, 318, 593, 480],\n",
              " [296, 356, 318, 593, 480],\n",
              " [296, 356, 318, 593, 480],\n",
              " [296, 356, 318, 593, 480],\n",
              " [296, 356, 318, 593, 480],\n",
              " [296, 356, 318, 593, 480],\n",
              " [296, 356, 318, 593, 480],\n",
              " [296, 356, 318, 593, 480],\n",
              " [296, 356, 318, 593, 480],\n",
              " [296, 356, 318, 593, 480],\n",
              " [296, 356, 318, 593, 480],\n",
              " [296, 356, 318, 593, 480],\n",
              " [296, 356, 318, 593, 480],\n",
              " [296, 356, 318, 593, 480],\n",
              " [296, 356, 318, 593, 480],\n",
              " [296, 356, 318, 593, 480],\n",
              " [296, 356, 318, 593, 480],\n",
              " [296, 356, 318, 593, 480],\n",
              " [296, 356, 318, 593, 480],\n",
              " [296, 356, 318, 593, 480],\n",
              " [296, 356, 318, 593, 480],\n",
              " [296, 356, 318, 593, 480],\n",
              " [296, 356, 318, 593, 480],\n",
              " [296, 356, 318, 593, 480],\n",
              " [296, 356, 318, 593, 480],\n",
              " [296, 356, 318, 593, 480],\n",
              " [296, 356, 318, 593, 480],\n",
              " [296, 356, 318, 593, 480],\n",
              " [296, 356, 318, 593, 480],\n",
              " [296, 356, 318, 593, 480],\n",
              " [296, 356, 318, 593, 480],\n",
              " [296, 356, 318, 593, 480],\n",
              " [296, 356, 318, 593, 480],\n",
              " [296, 356, 318, 593, 480],\n",
              " [296, 356, 318, 593, 480],\n",
              " [296, 356, 318, 593, 480],\n",
              " [296, 356, 318, 593, 480],\n",
              " [296, 356, 318, 593, 480],\n",
              " [296, 356, 318, 593, 480],\n",
              " [296, 356, 318, 593, 480],\n",
              " [296, 356, 318, 593, 480],\n",
              " [296, 356, 318, 593, 480],\n",
              " [296, 356, 318, 593, 480],\n",
              " [296, 356, 318, 593, 480],\n",
              " [296, 356, 318, 593, 480],\n",
              " [296, 356, 318, 593, 480],\n",
              " [296, 356, 318, 593, 480],\n",
              " [296, 356, 318, 593, 480],\n",
              " [296, 356, 318, 593, 480],\n",
              " [296, 356, 318, 593, 480],\n",
              " [296, 356, 318, 593, 480],\n",
              " [296, 356, 318, 593, 480],\n",
              " [296, 356, 318, 593, 480],\n",
              " [296, 356, 318, 593, 480],\n",
              " [296, 356, 318, 593, 480],\n",
              " [296, 356, 318, 593, 480],\n",
              " [296, 356, 318, 593, 480],\n",
              " [296, 356, 318, 593, 480],\n",
              " [296, 356, 318, 593, 480],\n",
              " [296, 356, 318, 593, 480],\n",
              " [296, 356, 318, 593, 480],\n",
              " [296, 356, 318, 593, 480],\n",
              " [296, 356, 318, 593, 480],\n",
              " [296, 356, 318, 593, 480],\n",
              " [296, 356, 318, 593, 480],\n",
              " [296, 356, 318, 593, 480],\n",
              " [296, 356, 318, 593, 480],\n",
              " [296, 356, 318, 593, 480],\n",
              " [296, 356, 318, 593, 480],\n",
              " [296, 356, 318, 593, 480],\n",
              " [296, 356, 318, 593, 480],\n",
              " [296, 356, 318, 593, 480],\n",
              " [296, 356, 318, 593, 480],\n",
              " [296, 356, 318, 593, 480],\n",
              " [296, 356, 318, 593, 480],\n",
              " [296, 356, 318, 593, 480],\n",
              " [296, 356, 318, 593, 480],\n",
              " [296, 356, 318, 593, 480],\n",
              " [296, 356, 318, 593, 480],\n",
              " [296, 356, 318, 593, 480],\n",
              " [296, 356, 318, 593, 480],\n",
              " [296, 356, 318, 593, 480],\n",
              " [296, 356, 318, 593, 480],\n",
              " [296, 356, 318, 593, 480],\n",
              " [296, 356, 318, 593, 480],\n",
              " [296, 356, 318, 593, 480],\n",
              " [296, 356, 318, 593, 480],\n",
              " [296, 356, 318, 593, 480],\n",
              " [296, 356, 318, 593, 480],\n",
              " [296, 356, 318, 593, 480],\n",
              " [296, 356, 318, 593, 480],\n",
              " [296, 356, 318, 593, 480],\n",
              " [296, 356, 318, 593, 480],\n",
              " [296, 356, 318, 593, 480],\n",
              " [296, 356, 318, 593, 480],\n",
              " [296, 356, 318, 593, 480],\n",
              " [296, 356, 318, 593, 480],\n",
              " [296, 356, 318, 593, 480],\n",
              " [296, 356, 318, 593, 480],\n",
              " [296, 356, 318, 593, 480],\n",
              " [296, 356, 318, 593, 480],\n",
              " [296, 356, 318, 593, 480],\n",
              " [296, 356, 318, 593, 480],\n",
              " [296, 356, 318, 593, 480],\n",
              " [296, 356, 318, 593, 480],\n",
              " [296, 356, 318, 593, 480],\n",
              " [296, 356, 318, 593, 480],\n",
              " [296, 356, 318, 593, 480],\n",
              " [296, 356, 318, 593, 480],\n",
              " [296, 356, 318, 593, 480],\n",
              " [296, 356, 318, 593, 480],\n",
              " [296, 356, 318, 593, 480],\n",
              " [296, 356, 318, 593, 480],\n",
              " [296, 356, 318, 593, 480],\n",
              " [296, 356, 318, 593, 480],\n",
              " [296, 356, 318, 593, 480],\n",
              " [296, 356, 318, 593, 480],\n",
              " [296, 356, 318, 593, 480],\n",
              " [296, 356, 318, 593, 480],\n",
              " [296, 356, 318, 593, 480],\n",
              " [296, 356, 318, 593, 480],\n",
              " [296, 356, 318, 593, 480],\n",
              " [296, 356, 318, 593, 480],\n",
              " [296, 356, 318, 593, 480],\n",
              " [296, 356, 318, 593, 480],\n",
              " [296, 356, 318, 593, 480],\n",
              " [296, 356, 318, 593, 480],\n",
              " [296, 356, 318, 593, 480],\n",
              " [296, 356, 318, 593, 480],\n",
              " [296, 356, 318, 593, 480],\n",
              " [296, 356, 318, 593, 480],\n",
              " [296, 356, 318, 593, 480],\n",
              " [296, 356, 318, 593, 480],\n",
              " [296, 356, 318, 593, 480],\n",
              " [296, 356, 318, 593, 480],\n",
              " [296, 356, 318, 593, 480],\n",
              " [296, 356, 318, 593, 480],\n",
              " [296, 356, 318, 593, 480],\n",
              " [296, 356, 318, 593, 480],\n",
              " [296, 356, 318, 593, 480],\n",
              " [296, 356, 318, 593, 480],\n",
              " [296, 356, 318, 593, 480],\n",
              " [296, 356, 318, 593, 480],\n",
              " [296, 356, 318, 593, 480],\n",
              " [296, 356, 318, 593, 480],\n",
              " [296, 356, 318, 593, 480],\n",
              " [296, 356, 318, 593, 480],\n",
              " [296, 356, 318, 593, 480],\n",
              " [296, 356, 318, 593, 480],\n",
              " [296, 356, 318, 593, 480],\n",
              " [296, 356, 318, 593, 480],\n",
              " [296, 356, 318, 593, 480],\n",
              " [296, 356, 318, 593, 480],\n",
              " [296, 356, 318, 593, 480],\n",
              " [296, 356, 318, 593, 480],\n",
              " [296, 356, 318, 593, 480],\n",
              " [296, 356, 318, 593, 480],\n",
              " [296, 356, 318, 593, 480],\n",
              " [296, 356, 318, 593, 480],\n",
              " [296, 356, 318, 593, 480],\n",
              " [296, 356, 318, 593, 480],\n",
              " [296, 356, 318, 593, 480],\n",
              " [296, 356, 318, 593, 480],\n",
              " [296, 356, 318, 593, 480],\n",
              " [296, 356, 318, 593, 480],\n",
              " [296, 356, 318, 593, 480],\n",
              " [296, 356, 318, 593, 480],\n",
              " [296, 356, 318, 593, 480],\n",
              " [296, 356, 318, 593, 480],\n",
              " [296, 356, 318, 593, 480],\n",
              " [296, 356, 318, 593, 480],\n",
              " [296, 356, 318, 593, 480],\n",
              " [296, 356, 318, 593, 480],\n",
              " [296, 356, 318, 593, 480],\n",
              " [296, 356, 318, 593, 480],\n",
              " [296, 356, 318, 593, 480],\n",
              " [296, 356, 318, 593, 480],\n",
              " [296, 356, 318, 593, 480],\n",
              " [296, 356, 318, 593, 480],\n",
              " [296, 356, 318, 593, 480],\n",
              " [296, 356, 318, 593, 480],\n",
              " [296, 356, 318, 593, 480],\n",
              " [296, 356, 318, 593, 480],\n",
              " [296, 356, 318, 593, 480],\n",
              " [296, 356, 318, 593, 480],\n",
              " [296, 356, 318, 593, 480],\n",
              " [296, 356, 318, 593, 480],\n",
              " [296, 356, 318, 593, 480],\n",
              " [296, 356, 318, 593, 480],\n",
              " [296, 356, 318, 593, 480],\n",
              " [296, 356, 318, 593, 480],\n",
              " [296, 356, 318, 593, 480],\n",
              " [296, 356, 318, 593, 480],\n",
              " [296, 356, 318, 593, 480],\n",
              " [296, 356, 318, 593, 480],\n",
              " [296, 356, 318, 593, 480],\n",
              " [296, 356, 318, 593, 480],\n",
              " [296, 356, 318, 593, 480],\n",
              " [296, 356, 318, 593, 480],\n",
              " [296, 356, 318, 593, 480],\n",
              " [296, 356, 318, 593, 480],\n",
              " [296, 356, 318, 593, 480],\n",
              " [296, 356, 318, 593, 480],\n",
              " [296, 356, 318, 593, 480],\n",
              " [296, 356, 318, 593, 480],\n",
              " [296, 356, 318, 593, 480],\n",
              " [296, 356, 318, 593, 480],\n",
              " [296, 356, 318, 593, 480],\n",
              " [296, 356, 318, 593, 480],\n",
              " [296, 356, 318, 593, 480],\n",
              " [296, 356, 318, 593, 480],\n",
              " [296, 356, 318, 593, 480],\n",
              " [296, 356, 318, 593, 480],\n",
              " [296, 356, 318, 593, 480],\n",
              " [296, 356, 318, 593, 480],\n",
              " [296, 356, 318, 593, 480],\n",
              " [296, 356, 318, 593, 480],\n",
              " [296, 356, 318, 593, 480],\n",
              " [296, 356, 318, 593, 480],\n",
              " [296, 356, 318, 593, 480],\n",
              " [296, 356, 318, 593, 480],\n",
              " [296, 356, 318, 593, 480],\n",
              " [296, 356, 318, 593, 480],\n",
              " [296, 356, 318, 593, 480],\n",
              " [296, 356, 318, 593, 480],\n",
              " [296, 356, 318, 593, 480],\n",
              " [296, 356, 318, 593, 480],\n",
              " [296, 356, 318, 593, 480],\n",
              " [296, 356, 318, 593, 480],\n",
              " [296, 356, 318, 593, 480],\n",
              " [296, 356, 318, 593, 480],\n",
              " [296, 356, 318, 593, 480],\n",
              " [296, 356, 318, 593, 480],\n",
              " [296, 356, 318, 593, 480],\n",
              " [296, 356, 318, 593, 480],\n",
              " [296, 356, 318, 593, 480],\n",
              " [296, 356, 318, 593, 480],\n",
              " [296, 356, 318, 593, 480],\n",
              " [296, 356, 318, 593, 480],\n",
              " [296, 356, 318, 593, 480],\n",
              " [296, 356, 318, 593, 480],\n",
              " [296, 356, 318, 593, 480],\n",
              " [296, 356, 318, 593, 480],\n",
              " [296, 356, 318, 593, 480],\n",
              " [296, 356, 318, 593, 480],\n",
              " [296, 356, 318, 593, 480],\n",
              " [296, 356, 318, 593, 480],\n",
              " [296, 356, 318, 593, 480],\n",
              " [296, 356, 318, 593, 480],\n",
              " [296, 356, 318, 593, 480],\n",
              " [296, 356, 318, 593, 480],\n",
              " [296, 356, 318, 593, 480],\n",
              " [296, 356, 318, 593, 480],\n",
              " [296, 356, 318, 593, 480],\n",
              " [296, 356, 318, 593, 480],\n",
              " [296, 356, 318, 593, 480],\n",
              " [296, 356, 318, 593, 480],\n",
              " [296, 356, 318, 593, 480],\n",
              " [296, 356, 318, 593, 480],\n",
              " [296, 356, 318, 593, 480],\n",
              " [296, 356, 318, 593, 480],\n",
              " [296, 356, 318, 593, 480],\n",
              " [296, 356, 318, 593, 480],\n",
              " [296, 356, 318, 593, 480],\n",
              " [296, 356, 318, 593, 480],\n",
              " [296, 356, 318, 593, 480],\n",
              " [296, 356, 318, 593, 480],\n",
              " [296, 356, 318, 593, 480],\n",
              " [296, 356, 318, 593, 480],\n",
              " [296, 356, 318, 593, 480],\n",
              " [296, 356, 318, 593, 480],\n",
              " [296, 356, 318, 593, 480],\n",
              " [296, 356, 318, 593, 480],\n",
              " [296, 356, 318, 593, 480],\n",
              " [296, 356, 318, 593, 480],\n",
              " [296, 356, 318, 593, 480],\n",
              " [296, 356, 318, 593, 480],\n",
              " [296, 356, 318, 593, 480],\n",
              " [296, 356, 318, 593, 480],\n",
              " [296, 356, 318, 593, 480],\n",
              " [296, 356, 318, 593, 480],\n",
              " [296, 356, 318, 593, 480],\n",
              " [296, 356, 318, 593, 480],\n",
              " [296, 356, 318, 593, 480],\n",
              " [296, 356, 318, 593, 480],\n",
              " [296, 356, 318, 593, 480],\n",
              " [296, 356, 318, 593, 480],\n",
              " [296, 356, 318, 593, 480],\n",
              " [296, 356, 318, 593, 480],\n",
              " [296, 356, 318, 593, 480],\n",
              " [296, 356, 318, 593, 480],\n",
              " [296, 356, 318, 593, 480],\n",
              " [296, 356, 318, 593, 480],\n",
              " [296, 356, 318, 593, 480],\n",
              " [296, 356, 318, 593, 480],\n",
              " [296, 356, 318, 593, 480],\n",
              " [296, 356, 318, 593, 480],\n",
              " [296, 356, 318, 593, 480],\n",
              " [296, 356, 318, 593, 480],\n",
              " [296, 356, 318, 593, 480],\n",
              " [296, 356, 318, 593, 480],\n",
              " [296, 356, 318, 593, 480],\n",
              " [296, 356, 318, 593, 480],\n",
              " [296, 356, 318, 593, 480],\n",
              " [296, 356, 318, 593, 480],\n",
              " [296, 356, 318, 593, 480],\n",
              " [296, 356, 318, 593, 480],\n",
              " [296, 356, 318, 593, 480],\n",
              " [296, 356, 318, 593, 480],\n",
              " [296, 356, 318, 593, 480],\n",
              " [296, 356, 318, 593, 480],\n",
              " [296, 356, 318, 593, 480],\n",
              " [296, 356, 318, 593, 480],\n",
              " [296, 356, 318, 593, 480],\n",
              " [296, 356, 318, 593, 480],\n",
              " [296, 356, 318, 593, 480],\n",
              " [296, 356, 318, 593, 480],\n",
              " [296, 356, 318, 593, 480],\n",
              " [296, 356, 318, 593, 480],\n",
              " [296, 356, 318, 593, 480],\n",
              " [296, 356, 318, 593, 480],\n",
              " [296, 356, 318, 593, 480],\n",
              " [296, 356, 318, 593, 480],\n",
              " [296, 356, 318, 593, 480],\n",
              " [296, 356, 318, 593, 480],\n",
              " [296, 356, 318, 593, 480],\n",
              " [296, 356, 318, 593, 480],\n",
              " [296, 356, 318, 593, 480],\n",
              " [296, 356, 318, 593, 480],\n",
              " [296, 356, 318, 593, 480],\n",
              " [296, 356, 318, 593, 480],\n",
              " [296, 356, 318, 593, 480],\n",
              " [296, 356, 318, 593, 480],\n",
              " [296, 356, 318, 593, 480],\n",
              " [296, 356, 318, 593, 480],\n",
              " [296, 356, 318, 593, 480],\n",
              " [296, 356, 318, 593, 480],\n",
              " [296, 356, 318, 593, 480],\n",
              " [296, 356, 318, 593, 480],\n",
              " [296, 356, 318, 593, 480],\n",
              " [296, 356, 318, 593, 480],\n",
              " [296, 356, 318, 593, 480],\n",
              " [296, 356, 318, 593, 480],\n",
              " [296, 356, 318, 593, 480],\n",
              " [296, 356, 318, 593, 480],\n",
              " [296, 356, 318, 593, 480],\n",
              " [296, 356, 318, 593, 480],\n",
              " [296, 356, 318, 593, 480],\n",
              " [296, 356, 318, 593, 480],\n",
              " [296, 356, 318, 593, 480],\n",
              " [296, 356, 318, 593, 480],\n",
              " [296, 356, 318, 593, 480],\n",
              " [296, 356, 318, 593, 480],\n",
              " [296, 356, 318, 593, 480],\n",
              " [296, 356, 318, 593, 480],\n",
              " [296, 356, 318, 593, 480],\n",
              " [296, 356, 318, 593, 480],\n",
              " [296, 356, 318, 593, 480],\n",
              " [296, 356, 318, 593, 480],\n",
              " [296, 356, 318, 593, 480],\n",
              " [296, 356, 318, 593, 480],\n",
              " [296, 356, 318, 593, 480],\n",
              " [296, 356, 318, 593, 480],\n",
              " [296, 356, 318, 593, 480],\n",
              " [296, 356, 318, 593, 480],\n",
              " [296, 356, 318, 593, 480],\n",
              " [296, 356, 318, 593, 480],\n",
              " [296, 356, 318, 593, 480],\n",
              " [296, 356, 318, 593, 480],\n",
              " [296, 356, 318, 593, 480],\n",
              " [296, 356, 318, 593, 480],\n",
              " [296, 356, 318, 593, 480],\n",
              " [296, 356, 318, 593, 480],\n",
              " [296, 356, 318, 593, 480],\n",
              " [296, 356, 318, 593, 480],\n",
              " [296, 356, 318, 593, 480],\n",
              " [296, 356, 318, 593, 480],\n",
              " [296, 356, 318, 593, 480],\n",
              " [296, 356, 318, 593, 480],\n",
              " [296, 356, 318, 593, 480],\n",
              " [296, 356, 318, 593, 480],\n",
              " [296, 356, 318, 593, 480],\n",
              " [296, 356, 318, 593, 480],\n",
              " [296, 356, 318, 593, 480],\n",
              " [296, 356, 318, 593, 480],\n",
              " [296, 356, 318, 593, 480],\n",
              " [296, 356, 318, 593, 480],\n",
              " [296, 356, 318, 593, 480],\n",
              " [296, 356, 318, 593, 480],\n",
              " [296, 356, 318, 593, 480],\n",
              " [296, 356, 318, 593, 480],\n",
              " [296, 356, 318, 593, 480],\n",
              " [296, 356, 318, 593, 480],\n",
              " [296, 356, 318, 593, 480],\n",
              " [296, 356, 318, 593, 480],\n",
              " [296, 356, 318, 593, 480],\n",
              " [296, 356, 318, 593, 480],\n",
              " [296, 356, 318, 593, 480],\n",
              " [296, 356, 318, 593, 480],\n",
              " [296, 356, 318, 593, 480],\n",
              " [296, 356, 318, 593, 480],\n",
              " [296, 356, 318, 593, 480],\n",
              " [296, 356, 318, 593, 480],\n",
              " [296, 356, 318, 593, 480],\n",
              " ...]"
            ]
          },
          "metadata": {
            "tags": []
          },
          "execution_count": 137
        }
      ]
    }
  ]
}