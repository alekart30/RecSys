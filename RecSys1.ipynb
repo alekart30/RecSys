{
  "nbformat": 4,
  "nbformat_minor": 0,
  "metadata": {
    "colab": {
      "name": "RecSys1.ipynb",
      "provenance": [],
      "collapsed_sections": [],
      "toc_visible": true,
      "machine_shape": "hm"
    },
    "kernelspec": {
      "name": "python3",
      "display_name": "Python 3"
    }
  },
  "cells": [
    {
      "cell_type": "markdown",
      "metadata": {
        "id": "fwq2Cw6I3tlz",
        "colab_type": "text"
      },
      "source": [
        "# All imports"
      ]
    },
    {
      "cell_type": "code",
      "metadata": {
        "id": "aUrgue3K3p1y",
        "colab_type": "code",
        "colab": {}
      },
      "source": [
        "import os\n",
        "from google_drive_downloader import GoogleDriveDownloader as gdd\n",
        "\n",
        "import pandas as pd\n",
        "import numpy as np\n",
        "import seaborn as sns\n",
        "import  matplotlib.pyplot as plt\n",
        "\n",
        "from sklearn.model_selection import TimeSeriesSplit\n",
        "from sklearn.decomposition import TruncatedSVD\n",
        "from scipy.sparse import csr_matrix,lil_matrix"
      ],
      "execution_count": 0,
      "outputs": []
    },
    {
      "cell_type": "code",
      "metadata": {
        "id": "437ipappGiVp",
        "colab_type": "code",
        "colab": {}
      },
      "source": [
        "%matplotlib inline\n",
        "sns.set_style('darkgrid')"
      ],
      "execution_count": 0,
      "outputs": []
    },
    {
      "cell_type": "markdown",
      "metadata": {
        "id": "M2PoeBkI3ylb",
        "colab_type": "text"
      },
      "source": [
        "# Load data"
      ]
    },
    {
      "cell_type": "code",
      "metadata": {
        "id": "ujyu3LJB3x_j",
        "colab_type": "code",
        "outputId": "5aa09020-dc0d-43dd-fee2-ca60f9415af8",
        "colab": {
          "base_uri": "https://localhost:8080/",
          "height": 34
        }
      },
      "source": [
        "if not os.path.exists('./data'):\n",
        "  os.mkdir('./data')\n",
        "\n",
        "gdd.download_file_from_google_drive(file_id='1r6U_EFULKXiuLPrIEAdoJ7W_1Xa7aJ3Q', dest_path='./data/movies.zip')"
      ],
      "execution_count": 7,
      "outputs": [
        {
          "output_type": "stream",
          "text": [
            "Downloading 1r6U_EFULKXiuLPrIEAdoJ7W_1Xa7aJ3Q into ./data/movies.zip... Done.\n"
          ],
          "name": "stdout"
        }
      ]
    },
    {
      "cell_type": "code",
      "metadata": {
        "id": "efXGDwMi512I",
        "colab_type": "code",
        "outputId": "e9ae403a-ee6d-4b61-b2a0-431c81b15a06",
        "colab": {
          "base_uri": "https://localhost:8080/",
          "height": 119
        }
      },
      "source": [
        "! unzip ./data/movies.zip -d ./data/unziped"
      ],
      "execution_count": 8,
      "outputs": [
        {
          "output_type": "stream",
          "text": [
            "Archive:  ./data/movies.zip\n",
            "  inflating: ./data/unziped/links.csv  \n",
            "  inflating: ./data/unziped/movies.csv  \n",
            "  inflating: ./data/unziped/ratings.csv  \n",
            "  inflating: ./data/unziped/tags.csv  \n",
            "  inflating: ./data/unziped/u.data   \n"
          ],
          "name": "stdout"
        }
      ]
    },
    {
      "cell_type": "markdown",
      "metadata": {
        "id": "SIaOntpm8A_8",
        "colab_type": "text"
      },
      "source": [
        "# EDA"
      ]
    },
    {
      "cell_type": "markdown",
      "metadata": {
        "id": "HSB-lGkhARWM",
        "colab_type": "text"
      },
      "source": [
        "This table contains all info about user - movie interaction by ratings."
      ]
    },
    {
      "cell_type": "code",
      "metadata": {
        "id": "9UzF4iXy9Jld",
        "colab_type": "code",
        "outputId": "ca8c5f99-aad8-45da-e1a6-db97953f2847",
        "colab": {
          "base_uri": "https://localhost:8080/",
          "height": 204
        }
      },
      "source": [
        "ratings_df = pd.read_csv('./data/unziped/ratings.csv')\n",
        "ratings_df.head()"
      ],
      "execution_count": 11,
      "outputs": [
        {
          "output_type": "execute_result",
          "data": {
            "text/html": [
              "<div>\n",
              "<style scoped>\n",
              "    .dataframe tbody tr th:only-of-type {\n",
              "        vertical-align: middle;\n",
              "    }\n",
              "\n",
              "    .dataframe tbody tr th {\n",
              "        vertical-align: top;\n",
              "    }\n",
              "\n",
              "    .dataframe thead th {\n",
              "        text-align: right;\n",
              "    }\n",
              "</style>\n",
              "<table border=\"1\" class=\"dataframe\">\n",
              "  <thead>\n",
              "    <tr style=\"text-align: right;\">\n",
              "      <th></th>\n",
              "      <th>userId</th>\n",
              "      <th>movieId</th>\n",
              "      <th>rating</th>\n",
              "      <th>timestamp</th>\n",
              "    </tr>\n",
              "  </thead>\n",
              "  <tbody>\n",
              "    <tr>\n",
              "      <th>0</th>\n",
              "      <td>1</td>\n",
              "      <td>31</td>\n",
              "      <td>2.5</td>\n",
              "      <td>1260759144</td>\n",
              "    </tr>\n",
              "    <tr>\n",
              "      <th>1</th>\n",
              "      <td>1</td>\n",
              "      <td>1029</td>\n",
              "      <td>3.0</td>\n",
              "      <td>1260759179</td>\n",
              "    </tr>\n",
              "    <tr>\n",
              "      <th>2</th>\n",
              "      <td>1</td>\n",
              "      <td>1061</td>\n",
              "      <td>3.0</td>\n",
              "      <td>1260759182</td>\n",
              "    </tr>\n",
              "    <tr>\n",
              "      <th>3</th>\n",
              "      <td>1</td>\n",
              "      <td>1129</td>\n",
              "      <td>2.0</td>\n",
              "      <td>1260759185</td>\n",
              "    </tr>\n",
              "    <tr>\n",
              "      <th>4</th>\n",
              "      <td>1</td>\n",
              "      <td>1172</td>\n",
              "      <td>4.0</td>\n",
              "      <td>1260759205</td>\n",
              "    </tr>\n",
              "  </tbody>\n",
              "</table>\n",
              "</div>"
            ],
            "text/plain": [
              "   userId  movieId  rating   timestamp\n",
              "0       1       31     2.5  1260759144\n",
              "1       1     1029     3.0  1260759179\n",
              "2       1     1061     3.0  1260759182\n",
              "3       1     1129     2.0  1260759185\n",
              "4       1     1172     4.0  1260759205"
            ]
          },
          "metadata": {
            "tags": []
          },
          "execution_count": 11
        }
      ]
    },
    {
      "cell_type": "code",
      "metadata": {
        "id": "ZF1sEWX4AZm4",
        "colab_type": "code",
        "outputId": "f80c1431-e117-4e04-8662-45326546c1ba",
        "colab": {
          "base_uri": "https://localhost:8080/",
          "height": 170
        }
      },
      "source": [
        "ratings_df.info()"
      ],
      "execution_count": 12,
      "outputs": [
        {
          "output_type": "stream",
          "text": [
            "<class 'pandas.core.frame.DataFrame'>\n",
            "RangeIndex: 100004 entries, 0 to 100003\n",
            "Data columns (total 4 columns):\n",
            "userId       100004 non-null int64\n",
            "movieId      100004 non-null int64\n",
            "rating       100004 non-null float64\n",
            "timestamp    100004 non-null int64\n",
            "dtypes: float64(1), int64(3)\n",
            "memory usage: 3.1 MB\n"
          ],
          "name": "stdout"
        }
      ]
    },
    {
      "cell_type": "markdown",
      "metadata": {
        "id": "pjoouMuoBQA5",
        "colab_type": "text"
      },
      "source": [
        "Luckily no nans"
      ]
    },
    {
      "cell_type": "code",
      "metadata": {
        "id": "4newgfr2AzzJ",
        "colab_type": "code",
        "outputId": "6b97e8ba-060f-41a4-e199-f9f2a04472dc",
        "colab": {
          "base_uri": "https://localhost:8080/",
          "height": 34
        }
      },
      "source": [
        "ratings_df.isnull().values.any()"
      ],
      "execution_count": 13,
      "outputs": [
        {
          "output_type": "execute_result",
          "data": {
            "text/plain": [
              "False"
            ]
          },
          "metadata": {
            "tags": []
          },
          "execution_count": 13
        }
      ]
    },
    {
      "cell_type": "markdown",
      "metadata": {
        "id": "_cg3okdEBZYV",
        "colab_type": "text"
      },
      "source": [
        "Total number of users"
      ]
    },
    {
      "cell_type": "code",
      "metadata": {
        "id": "NJlHs9TWBa73",
        "colab_type": "code",
        "outputId": "81a7e60e-0e3e-4f18-80fb-9b6fb0c29046",
        "colab": {
          "base_uri": "https://localhost:8080/",
          "height": 34
        }
      },
      "source": [
        "ratings_df['userId'].nunique()"
      ],
      "execution_count": 14,
      "outputs": [
        {
          "output_type": "execute_result",
          "data": {
            "text/plain": [
              "671"
            ]
          },
          "metadata": {
            "tags": []
          },
          "execution_count": 14
        }
      ]
    },
    {
      "cell_type": "markdown",
      "metadata": {
        "id": "EyFFFrgwBlgO",
        "colab_type": "text"
      },
      "source": [
        "Total number of ratings is:"
      ]
    },
    {
      "cell_type": "code",
      "metadata": {
        "id": "5QLGYvvCBrir",
        "colab_type": "code",
        "outputId": "80288fee-e2cd-4a4f-d3d3-534dcc29b57e",
        "colab": {
          "base_uri": "https://localhost:8080/",
          "height": 34
        }
      },
      "source": [
        "ratings_df.shape[0]"
      ],
      "execution_count": 15,
      "outputs": [
        {
          "output_type": "execute_result",
          "data": {
            "text/plain": [
              "100004"
            ]
          },
          "metadata": {
            "tags": []
          },
          "execution_count": 15
        }
      ]
    },
    {
      "cell_type": "markdown",
      "metadata": {
        "id": "SYmtxzQdB3H6",
        "colab_type": "text"
      },
      "source": [
        "Total number of movies is:"
      ]
    },
    {
      "cell_type": "code",
      "metadata": {
        "id": "RXBxyf5XB6jO",
        "colab_type": "code",
        "outputId": "19162f4c-e057-47b3-b58d-09bfa4308787",
        "colab": {
          "base_uri": "https://localhost:8080/",
          "height": 34
        }
      },
      "source": [
        "ratings_df['movieId'].nunique()"
      ],
      "execution_count": 17,
      "outputs": [
        {
          "output_type": "execute_result",
          "data": {
            "text/plain": [
              "9066"
            ]
          },
          "metadata": {
            "tags": []
          },
          "execution_count": 17
        }
      ]
    },
    {
      "cell_type": "markdown",
      "metadata": {
        "id": "aurLOgP9F85q",
        "colab_type": "text"
      },
      "source": [
        "Al least 20 ratings were made by one user. Very active user made 2391 ratings."
      ]
    },
    {
      "cell_type": "code",
      "metadata": {
        "id": "e--xBVvPCSZM",
        "colab_type": "code",
        "outputId": "1752cc99-64f0-4b7e-9dd5-6be3959e608c",
        "colab": {
          "base_uri": "https://localhost:8080/",
          "height": 297
        }
      },
      "source": [
        "ratings_df.groupby('userId').agg({'rating' : 'count'}).describe()"
      ],
      "execution_count": 18,
      "outputs": [
        {
          "output_type": "execute_result",
          "data": {
            "text/html": [
              "<div>\n",
              "<style scoped>\n",
              "    .dataframe tbody tr th:only-of-type {\n",
              "        vertical-align: middle;\n",
              "    }\n",
              "\n",
              "    .dataframe tbody tr th {\n",
              "        vertical-align: top;\n",
              "    }\n",
              "\n",
              "    .dataframe thead th {\n",
              "        text-align: right;\n",
              "    }\n",
              "</style>\n",
              "<table border=\"1\" class=\"dataframe\">\n",
              "  <thead>\n",
              "    <tr style=\"text-align: right;\">\n",
              "      <th></th>\n",
              "      <th>rating</th>\n",
              "    </tr>\n",
              "  </thead>\n",
              "  <tbody>\n",
              "    <tr>\n",
              "      <th>count</th>\n",
              "      <td>671.000000</td>\n",
              "    </tr>\n",
              "    <tr>\n",
              "      <th>mean</th>\n",
              "      <td>149.037258</td>\n",
              "    </tr>\n",
              "    <tr>\n",
              "      <th>std</th>\n",
              "      <td>231.226948</td>\n",
              "    </tr>\n",
              "    <tr>\n",
              "      <th>min</th>\n",
              "      <td>20.000000</td>\n",
              "    </tr>\n",
              "    <tr>\n",
              "      <th>25%</th>\n",
              "      <td>37.000000</td>\n",
              "    </tr>\n",
              "    <tr>\n",
              "      <th>50%</th>\n",
              "      <td>71.000000</td>\n",
              "    </tr>\n",
              "    <tr>\n",
              "      <th>75%</th>\n",
              "      <td>161.000000</td>\n",
              "    </tr>\n",
              "    <tr>\n",
              "      <th>max</th>\n",
              "      <td>2391.000000</td>\n",
              "    </tr>\n",
              "  </tbody>\n",
              "</table>\n",
              "</div>"
            ],
            "text/plain": [
              "            rating\n",
              "count   671.000000\n",
              "mean    149.037258\n",
              "std     231.226948\n",
              "min      20.000000\n",
              "25%      37.000000\n",
              "50%      71.000000\n",
              "75%     161.000000\n",
              "max    2391.000000"
            ]
          },
          "metadata": {
            "tags": []
          },
          "execution_count": 18
        }
      ]
    },
    {
      "cell_type": "code",
      "metadata": {
        "id": "JGBRWSQNGOTs",
        "colab_type": "code",
        "outputId": "b1d10154-510a-425e-ab97-1be7f346c233",
        "colab": {
          "base_uri": "https://localhost:8080/",
          "height": 300
        }
      },
      "source": [
        "fig = plt.figure()\n",
        "ax = fig.add_subplot(1, 1, 1)\n",
        "sns.distplot(ratings_df.groupby('userId').agg({'rating' : 'count'}).values, ax=ax, kde=False)\n",
        "ax.set_yscale('log')\n",
        "ax.set_xlabel(\"number of ratings\")"
      ],
      "execution_count": 19,
      "outputs": [
        {
          "output_type": "execute_result",
          "data": {
            "text/plain": [
              "Text(0.5, 0, 'number of ratings')"
            ]
          },
          "metadata": {
            "tags": []
          },
          "execution_count": 19
        },
        {
          "output_type": "display_data",
          "data": {
            "image/png": "[encoded data removed]",
            "text/plain": [
              "<Figure size 432x288 with 1 Axes>"
            ]
          },
          "metadata": {
            "tags": []
          }
        }
      ]
    },
    {
      "cell_type": "markdown",
      "metadata": {
        "id": "HjEqW_kJMBum",
        "colab_type": "text"
      },
      "source": [
        "Ratings distribution"
      ]
    },
    {
      "cell_type": "code",
      "metadata": {
        "id": "9SbgZvRDL-a9",
        "colab_type": "code",
        "outputId": "8deb9a96-dc93-43fa-e806-2a30e949fdf4",
        "colab": {
          "base_uri": "https://localhost:8080/",
          "height": 300
        }
      },
      "source": [
        "sns.distplot(ratings_df['rating'],kde=False)"
      ],
      "execution_count": 20,
      "outputs": [
        {
          "output_type": "execute_result",
          "data": {
            "text/plain": [
              "<matplotlib.axes._subplots.AxesSubplot at 0x7f7e7271bdd8>"
            ]
          },
          "metadata": {
            "tags": []
          },
          "execution_count": 20
        },
        {
          "output_type": "display_data",
          "data": {
            "image/png": "[encoded data removed]",
            "text/plain": [
              "<Figure size 432x288 with 1 Axes>"
            ]
          },
          "metadata": {
            "tags": []
          }
        }
      ]
    },
    {
      "cell_type": "markdown",
      "metadata": {
        "id": "kI0UX_1aMZE0",
        "colab_type": "text"
      },
      "source": [
        "We can see that ratings are ordinal, not numerical. "
      ]
    },
    {
      "cell_type": "markdown",
      "metadata": {
        "id": "dWt_0JSGNZou",
        "colab_type": "text"
      },
      "source": [
        "Our user - item interaction matrix is very sparse. Less than a 2 percents of all cells are filled."
      ]
    },
    {
      "cell_type": "code",
      "metadata": {
        "id": "GdLcxUGiNIGT",
        "colab_type": "code",
        "outputId": "01d2c22e-e977-4b31-8d26-e97f70405309",
        "colab": {
          "base_uri": "https://localhost:8080/",
          "height": 34
        }
      },
      "source": [
        "ratings_df.shape[0] / (ratings_df['userId'].nunique() * ratings_df['movieId'].nunique())"
      ],
      "execution_count": 22,
      "outputs": [
        {
          "output_type": "execute_result",
          "data": {
            "text/plain": [
              "0.016439141608663475"
            ]
          },
          "metadata": {
            "tags": []
          },
          "execution_count": 22
        }
      ]
    },
    {
      "cell_type": "code",
      "metadata": {
        "id": "WwUqdHwbtZVz",
        "colab_type": "code",
        "colab": {
          "base_uri": "https://localhost:8080/",
          "height": 204
        },
        "outputId": "3850446d-5f57-41b8-e5c3-fda29bd4dc9b"
      },
      "source": [
        "tags_df = pd.read_csv('./data/unziped/tags.csv')\n",
        "tags_df.head()"
      ],
      "execution_count": 23,
      "outputs": [
        {
          "output_type": "execute_result",
          "data": {
            "text/html": [
              "<div>\n",
              "<style scoped>\n",
              "    .dataframe tbody tr th:only-of-type {\n",
              "        vertical-align: middle;\n",
              "    }\n",
              "\n",
              "    .dataframe tbody tr th {\n",
              "        vertical-align: top;\n",
              "    }\n",
              "\n",
              "    .dataframe thead th {\n",
              "        text-align: right;\n",
              "    }\n",
              "</style>\n",
              "<table border=\"1\" class=\"dataframe\">\n",
              "  <thead>\n",
              "    <tr style=\"text-align: right;\">\n",
              "      <th></th>\n",
              "      <th>userId</th>\n",
              "      <th>movieId</th>\n",
              "      <th>tag</th>\n",
              "      <th>timestamp</th>\n",
              "    </tr>\n",
              "  </thead>\n",
              "  <tbody>\n",
              "    <tr>\n",
              "      <th>0</th>\n",
              "      <td>15</td>\n",
              "      <td>339</td>\n",
              "      <td>sandra 'boring' bullock</td>\n",
              "      <td>1138537770</td>\n",
              "    </tr>\n",
              "    <tr>\n",
              "      <th>1</th>\n",
              "      <td>15</td>\n",
              "      <td>1955</td>\n",
              "      <td>dentist</td>\n",
              "      <td>1193435061</td>\n",
              "    </tr>\n",
              "    <tr>\n",
              "      <th>2</th>\n",
              "      <td>15</td>\n",
              "      <td>7478</td>\n",
              "      <td>Cambodia</td>\n",
              "      <td>1170560997</td>\n",
              "    </tr>\n",
              "    <tr>\n",
              "      <th>3</th>\n",
              "      <td>15</td>\n",
              "      <td>32892</td>\n",
              "      <td>Russian</td>\n",
              "      <td>1170626366</td>\n",
              "    </tr>\n",
              "    <tr>\n",
              "      <th>4</th>\n",
              "      <td>15</td>\n",
              "      <td>34162</td>\n",
              "      <td>forgettable</td>\n",
              "      <td>1141391765</td>\n",
              "    </tr>\n",
              "  </tbody>\n",
              "</table>\n",
              "</div>"
            ],
            "text/plain": [
              "   userId  movieId                      tag   timestamp\n",
              "0      15      339  sandra 'boring' bullock  1138537770\n",
              "1      15     1955                  dentist  1193435061\n",
              "2      15     7478                 Cambodia  1170560997\n",
              "3      15    32892                  Russian  1170626366\n",
              "4      15    34162              forgettable  1141391765"
            ]
          },
          "metadata": {
            "tags": []
          },
          "execution_count": 23
        }
      ]
    },
    {
      "cell_type": "markdown",
      "metadata": {
        "id": "0zXVgox-tiKM",
        "colab_type": "text"
      },
      "source": [
        "Luckily no nans"
      ]
    },
    {
      "cell_type": "code",
      "metadata": {
        "id": "LnrOpITqtf7N",
        "colab_type": "code",
        "colab": {
          "base_uri": "https://localhost:8080/",
          "height": 170
        },
        "outputId": "24392de3-717b-4b96-f082-6ad66923886d"
      },
      "source": [
        "tags_df.info()"
      ],
      "execution_count": 24,
      "outputs": [
        {
          "output_type": "stream",
          "text": [
            "<class 'pandas.core.frame.DataFrame'>\n",
            "RangeIndex: 1296 entries, 0 to 1295\n",
            "Data columns (total 4 columns):\n",
            "userId       1296 non-null int64\n",
            "movieId      1296 non-null int64\n",
            "tag          1296 non-null object\n",
            "timestamp    1296 non-null int64\n",
            "dtypes: int64(3), object(1)\n",
            "memory usage: 40.6+ KB\n"
          ],
          "name": "stdout"
        }
      ]
    },
    {
      "cell_type": "markdown",
      "metadata": {
        "id": "4vU5JB7qtp2Y",
        "colab_type": "text"
      },
      "source": [
        "Total number of tags"
      ]
    },
    {
      "cell_type": "code",
      "metadata": {
        "id": "faNrYQo2tno1",
        "colab_type": "code",
        "colab": {
          "base_uri": "https://localhost:8080/",
          "height": 34
        },
        "outputId": "12d50488-b965-4500-d825-4e1690d505f4"
      },
      "source": [
        "tags_df['tag'].nunique()"
      ],
      "execution_count": 26,
      "outputs": [
        {
          "output_type": "execute_result",
          "data": {
            "text/plain": [
              "582"
            ]
          },
          "metadata": {
            "tags": []
          },
          "execution_count": 26
        }
      ]
    },
    {
      "cell_type": "markdown",
      "metadata": {
        "id": "u5gFmpEIt2WK",
        "colab_type": "text"
      },
      "source": [
        "Extremly active user added 20356 tags"
      ]
    },
    {
      "cell_type": "code",
      "metadata": {
        "id": "n7kZsStstxnd",
        "colab_type": "code",
        "colab": {
          "base_uri": "https://localhost:8080/",
          "height": 297
        },
        "outputId": "2c5ace0d-791e-4f2b-dfb7-ba8eef4d2103"
      },
      "source": [
        "tags_df.groupby('userId').agg({'tag':'count'}).describe()"
      ],
      "execution_count": 27,
      "outputs": [
        {
          "output_type": "execute_result",
          "data": {
            "text/html": [
              "<div>\n",
              "<style scoped>\n",
              "    .dataframe tbody tr th:only-of-type {\n",
              "        vertical-align: middle;\n",
              "    }\n",
              "\n",
              "    .dataframe tbody tr th {\n",
              "        vertical-align: top;\n",
              "    }\n",
              "\n",
              "    .dataframe thead th {\n",
              "        text-align: right;\n",
              "    }\n",
              "</style>\n",
              "<table border=\"1\" class=\"dataframe\">\n",
              "  <thead>\n",
              "    <tr style=\"text-align: right;\">\n",
              "      <th></th>\n",
              "      <th>tag</th>\n",
              "    </tr>\n",
              "  </thead>\n",
              "  <tbody>\n",
              "    <tr>\n",
              "      <th>count</th>\n",
              "      <td>61.000000</td>\n",
              "    </tr>\n",
              "    <tr>\n",
              "      <th>mean</th>\n",
              "      <td>21.245902</td>\n",
              "    </tr>\n",
              "    <tr>\n",
              "      <th>std</th>\n",
              "      <td>58.614462</td>\n",
              "    </tr>\n",
              "    <tr>\n",
              "      <th>min</th>\n",
              "      <td>1.000000</td>\n",
              "    </tr>\n",
              "    <tr>\n",
              "      <th>25%</th>\n",
              "      <td>2.000000</td>\n",
              "    </tr>\n",
              "    <tr>\n",
              "      <th>50%</th>\n",
              "      <td>4.000000</td>\n",
              "    </tr>\n",
              "    <tr>\n",
              "      <th>75%</th>\n",
              "      <td>9.000000</td>\n",
              "    </tr>\n",
              "    <tr>\n",
              "      <th>max</th>\n",
              "      <td>401.000000</td>\n",
              "    </tr>\n",
              "  </tbody>\n",
              "</table>\n",
              "</div>"
            ],
            "text/plain": [
              "              tag\n",
              "count   61.000000\n",
              "mean    21.245902\n",
              "std     58.614462\n",
              "min      1.000000\n",
              "25%      2.000000\n",
              "50%      4.000000\n",
              "75%      9.000000\n",
              "max    401.000000"
            ]
          },
          "metadata": {
            "tags": []
          },
          "execution_count": 27
        }
      ]
    },
    {
      "cell_type": "code",
      "metadata": {
        "id": "X49grcJjt-nU",
        "colab_type": "code",
        "colab": {
          "base_uri": "https://localhost:8080/",
          "height": 300
        },
        "outputId": "bc77702b-1971-43d9-8087-4ad7bd065c1c"
      },
      "source": [
        "fig = plt.figure()\n",
        "ax = fig.add_subplot(1, 1, 1)\n",
        "sns.distplot(tags_df.groupby('userId').agg({'tag' : 'count'}).values, ax=ax, kde=False)\n",
        "ax.set_yscale('log')\n",
        "ax.set_xlabel(\"number of tags\")"
      ],
      "execution_count": 28,
      "outputs": [
        {
          "output_type": "execute_result",
          "data": {
            "text/plain": [
              "Text(0.5, 0, 'number of tags')"
            ]
          },
          "metadata": {
            "tags": []
          },
          "execution_count": 28
        },
        {
          "output_type": "display_data",
          "data": {
            "image/png": "[encoded data removed]",
            "text/plain": [
              "<Figure size 432x288 with 1 Axes>"
            ]
          },
          "metadata": {
            "tags": []
          }
        }
      ]
    },
    {
      "cell_type": "markdown",
      "metadata": {
        "id": "RF-JoyvzRzjz",
        "colab_type": "text"
      },
      "source": [
        "# Evaluation metrics implementation"
      ]
    },
    {
      "cell_type": "code",
      "metadata": {
        "id": "phP2a3zBR4Zk",
        "colab_type": "code",
        "colab": {}
      },
      "source": [
        "def precision_at_k(predicted, actual, k):\n",
        "  assert len(predicted) >= k\n",
        "  intersection = set(predicted[:k]) & set(actual)\n",
        "  return len(intersection) / min(k,len(actual))"
      ],
      "execution_count": 0,
      "outputs": []
    },
    {
      "cell_type": "code",
      "metadata": {
        "id": "90JdHR0zW2co",
        "colab_type": "code",
        "colab": {}
      },
      "source": [
        "def average_precision(predicted, actual):\n",
        "  tmp = 0\n",
        "  actual_length = len(predicted)\n",
        "  for i in range(actual_length):\n",
        "    if predicted[i] in actual:\n",
        "      tmp += precision_at_k(predicted[:i+1], actual, i+1)\n",
        "  return tmp / actual_length"
      ],
      "execution_count": 0,
      "outputs": []
    },
    {
      "cell_type": "code",
      "metadata": {
        "id": "cffL_IL45QLz",
        "colab_type": "code",
        "colab": {}
      },
      "source": [
        "def mean_average_precision(predicted_list, actual_list):\n",
        "  tmp = 0\n",
        "  cnt = 0\n",
        "  for predicted, actual in zip(predicted_list, actual_list):\n",
        "    if len(actual) != 0:\n",
        "      tmp += average_precision(predicted, actual)\n",
        "      cnt += 1\n",
        "  assert cnt != 0\n",
        "  return tmp / cnt\n",
        "    "
      ],
      "execution_count": 0,
      "outputs": []
    },
    {
      "cell_type": "code",
      "metadata": {
        "id": "IXVQJrS9EfMy",
        "colab_type": "code",
        "colab": {}
      },
      "source": [
        "def reciprocal_rank(predicted, actual):\n",
        "  pass"
      ],
      "execution_count": 0,
      "outputs": []
    },
    {
      "cell_type": "code",
      "metadata": {
        "id": "paWdF8zjU0Dc",
        "colab_type": "code",
        "colab": {}
      },
      "source": [
        "predicted = [1,3,5,2,13,9,10,17]\n",
        "actual = [1,3,2,5,4,8,9,10]\n"
      ],
      "execution_count": 0,
      "outputs": []
    },
    {
      "cell_type": "code",
      "metadata": {
        "id": "Xfs9DpWdLfrS",
        "colab_type": "code",
        "colab": {}
      },
      "source": [
        "predicted = [1,30,23,67]\n",
        "actual = [1,30,23,67]"
      ],
      "execution_count": 0,
      "outputs": []
    },
    {
      "cell_type": "code",
      "metadata": {
        "id": "BoS5CbDuVGAw",
        "colab_type": "code",
        "outputId": "4ae27ea8-ecde-43fc-b48b-b72438be50e9",
        "colab": {
          "base_uri": "https://localhost:8080/",
          "height": 34
        }
      },
      "source": [
        "precision_at_k(predicted, actual, k=1)"
      ],
      "execution_count": 0,
      "outputs": [
        {
          "output_type": "execute_result",
          "data": {
            "text/plain": [
              "1.0"
            ]
          },
          "metadata": {
            "tags": []
          },
          "execution_count": 57
        }
      ]
    },
    {
      "cell_type": "code",
      "metadata": {
        "id": "SmjjhkmzYIap",
        "colab_type": "code",
        "outputId": "8f9b9ee9-d613-41c7-beb8-bd5b0779e27d",
        "colab": {
          "base_uri": "https://localhost:8080/",
          "height": 34
        }
      },
      "source": [
        "average_precision(predicted, actual)"
      ],
      "execution_count": 0,
      "outputs": [
        {
          "output_type": "execute_result",
          "data": {
            "text/plain": [
              "0.2"
            ]
          },
          "metadata": {
            "tags": []
          },
          "execution_count": 77
        }
      ]
    },
    {
      "cell_type": "code",
      "metadata": {
        "id": "6ZHA9g3LD0oG",
        "colab_type": "code",
        "outputId": "b001fe91-3134-4c7c-acae-dea5f6ef8b83",
        "colab": {
          "base_uri": "https://localhost:8080/",
          "height": 34
        }
      },
      "source": [
        "mean_average_precision([predicted, predicted], [actual, actual])"
      ],
      "execution_count": 0,
      "outputs": [
        {
          "output_type": "execute_result",
          "data": {
            "text/plain": [
              "0.2"
            ]
          },
          "metadata": {
            "tags": []
          },
          "execution_count": 76
        }
      ]
    },
    {
      "cell_type": "code",
      "metadata": {
        "id": "Xgisi7PdfeJR",
        "colab_type": "code",
        "outputId": "802903c0-1340-43ca-bc9f-ef15fffd0b32",
        "colab": {
          "base_uri": "https://localhost:8080/",
          "height": 34
        }
      },
      "source": [
        "percentage_ranking(predicted, actual)"
      ],
      "execution_count": 0,
      "outputs": [
        {
          "output_type": "execute_result",
          "data": {
            "text/plain": [
              "0.625"
            ]
          },
          "metadata": {
            "tags": []
          },
          "execution_count": 102
        }
      ]
    },
    {
      "cell_type": "code",
      "metadata": {
        "id": "KIdrptdHkGXE",
        "colab_type": "code",
        "colab": {}
      },
      "source": [
        "predicted=[1,2,3,4]\n",
        "actual = [1,2,5,3]"
      ],
      "execution_count": 0,
      "outputs": []
    },
    {
      "cell_type": "code",
      "metadata": {
        "id": "yBWXlfGek5_-",
        "colab_type": "code",
        "colab": {
          "base_uri": "https://localhost:8080/",
          "height": 34
        },
        "outputId": "d5aa44f1-5646-423c-d316-dbffafdebefc"
      },
      "source": [
        "average_precision(predicted, actual)"
      ],
      "execution_count": 12,
      "outputs": [
        {
          "output_type": "execute_result",
          "data": {
            "text/plain": [
              "0.75"
            ]
          },
          "metadata": {
            "tags": []
          },
          "execution_count": 12
        }
      ]
    },
    {
      "cell_type": "code",
      "metadata": {
        "id": "w1OoboiulRjO",
        "colab_type": "code",
        "colab": {
          "base_uri": "https://localhost:8080/",
          "height": 34
        },
        "outputId": "0a814fc5-8eaf-43a3-aea1-0682f27d1264"
      },
      "source": [
        "apk(actual,predicted,k=4)"
      ],
      "execution_count": 18,
      "outputs": [
        {
          "output_type": "execute_result",
          "data": {
            "text/plain": [
              "0.75"
            ]
          },
          "metadata": {
            "tags": []
          },
          "execution_count": 18
        }
      ]
    },
    {
      "cell_type": "markdown",
      "metadata": {
        "id": "PIVAZ_5b6gXA",
        "colab_type": "text"
      },
      "source": [
        "# Collaborative filtering recommenders"
      ]
    },
    {
      "cell_type": "code",
      "metadata": {
        "id": "mRt6VH1w6zxR",
        "colab_type": "code",
        "colab": {}
      },
      "source": [
        "ratings_df['timestamp'] = pd.to_datetime(ratings_df['timestamp'])"
      ],
      "execution_count": 0,
      "outputs": []
    },
    {
      "cell_type": "code",
      "metadata": {
        "id": "GAlvyHWm7liQ",
        "colab_type": "code",
        "outputId": "ab461839-02ec-4361-abfe-41fc8f1fca84",
        "colab": {
          "base_uri": "https://localhost:8080/",
          "height": 204
        }
      },
      "source": [
        "ratings_df.head()"
      ],
      "execution_count": 33,
      "outputs": [
        {
          "output_type": "execute_result",
          "data": {
            "text/html": [
              "<div>\n",
              "<style scoped>\n",
              "    .dataframe tbody tr th:only-of-type {\n",
              "        vertical-align: middle;\n",
              "    }\n",
              "\n",
              "    .dataframe tbody tr th {\n",
              "        vertical-align: top;\n",
              "    }\n",
              "\n",
              "    .dataframe thead th {\n",
              "        text-align: right;\n",
              "    }\n",
              "</style>\n",
              "<table border=\"1\" class=\"dataframe\">\n",
              "  <thead>\n",
              "    <tr style=\"text-align: right;\">\n",
              "      <th></th>\n",
              "      <th>userId</th>\n",
              "      <th>movieId</th>\n",
              "      <th>rating</th>\n",
              "      <th>timestamp</th>\n",
              "    </tr>\n",
              "  </thead>\n",
              "  <tbody>\n",
              "    <tr>\n",
              "      <th>0</th>\n",
              "      <td>1</td>\n",
              "      <td>31</td>\n",
              "      <td>2.5</td>\n",
              "      <td>1970-01-01 00:00:01.260759144</td>\n",
              "    </tr>\n",
              "    <tr>\n",
              "      <th>1</th>\n",
              "      <td>1</td>\n",
              "      <td>1029</td>\n",
              "      <td>3.0</td>\n",
              "      <td>1970-01-01 00:00:01.260759179</td>\n",
              "    </tr>\n",
              "    <tr>\n",
              "      <th>2</th>\n",
              "      <td>1</td>\n",
              "      <td>1061</td>\n",
              "      <td>3.0</td>\n",
              "      <td>1970-01-01 00:00:01.260759182</td>\n",
              "    </tr>\n",
              "    <tr>\n",
              "      <th>3</th>\n",
              "      <td>1</td>\n",
              "      <td>1129</td>\n",
              "      <td>2.0</td>\n",
              "      <td>1970-01-01 00:00:01.260759185</td>\n",
              "    </tr>\n",
              "    <tr>\n",
              "      <th>4</th>\n",
              "      <td>1</td>\n",
              "      <td>1172</td>\n",
              "      <td>4.0</td>\n",
              "      <td>1970-01-01 00:00:01.260759205</td>\n",
              "    </tr>\n",
              "  </tbody>\n",
              "</table>\n",
              "</div>"
            ],
            "text/plain": [
              "   userId  movieId  rating                     timestamp\n",
              "0       1       31     2.5 1970-01-01 00:00:01.260759144\n",
              "1       1     1029     3.0 1970-01-01 00:00:01.260759179\n",
              "2       1     1061     3.0 1970-01-01 00:00:01.260759182\n",
              "3       1     1129     2.0 1970-01-01 00:00:01.260759185\n",
              "4       1     1172     4.0 1970-01-01 00:00:01.260759205"
            ]
          },
          "metadata": {
            "tags": []
          },
          "execution_count": 33
        }
      ]
    },
    {
      "cell_type": "markdown",
      "metadata": {
        "id": "6ipGixJ4Aay-",
        "colab_type": "text"
      },
      "source": [
        "Relevance binarization"
      ]
    },
    {
      "cell_type": "code",
      "metadata": {
        "id": "Wm7gCqPm9tg4",
        "colab_type": "code",
        "colab": {}
      },
      "source": [
        "ratings_df['relevance'] = ratings_df['rating'].apply(lambda x: 1 if x >= 3 else 0)"
      ],
      "execution_count": 0,
      "outputs": []
    },
    {
      "cell_type": "markdown",
      "metadata": {
        "id": "LM9nGHbRBBko",
        "colab_type": "text"
      },
      "source": [
        "Ground truth pairs have 1 relevance."
      ]
    },
    {
      "cell_type": "markdown",
      "metadata": {
        "id": "wtKuxPKDBJRx",
        "colab_type": "text"
      },
      "source": [
        "## TO DO: IMPROVE SPLIT\n"
      ]
    },
    {
      "cell_type": "markdown",
      "metadata": {
        "id": "V_qIhntZxks1",
        "colab_type": "text"
      },
      "source": [
        "In this dataset time separates users in non intersected sets!!!!!!"
      ]
    },
    {
      "cell_type": "code",
      "metadata": {
        "id": "H7Mn9sQs7qPI",
        "colab_type": "code",
        "colab": {}
      },
      "source": [
        "##CAN'T MAKE ONE SIMPLE TRAIN TEST SPLIT!!!!!\n",
        "tscv = TimeSeriesSplit(n_splits=2)\n",
        "X_train, X_test, y_train, y_test = None, None, None, None\n",
        "for train_index, test_index in tscv.split(ratings_df):\n",
        "  X_train, X_test = ratings_df.loc[train_index,['userId', 'movieId']], ratings_df.loc[test_index, ['userId', 'movieId']]\n",
        "  relevance_train, relevance_test = ratings_df.loc[train_index, 'relevance'], ratings_df.loc[test_index, 'relevance']"
      ],
      "execution_count": 0,
      "outputs": []
    },
    {
      "cell_type": "markdown",
      "metadata": {
        "id": "3Jg7KHKeWtTy",
        "colab_type": "text"
      },
      "source": [
        "## Most popular recommender"
      ]
    },
    {
      "cell_type": "code",
      "metadata": {
        "id": "de7YdfF49-aJ",
        "colab_type": "code",
        "colab": {}
      },
      "source": [
        "class MostPopularRecommender():\n",
        "  def __init__(self, top_n=5):\n",
        "    self.top_n = top_n\n",
        "  \n",
        "  def fit(self, X_train, y_train):\n",
        "    assert type(X_train) == pd.DataFrame\n",
        "    X_train['relevance'] = y_train\n",
        "    self.most_popular = list(X_train.groupby('movieId').agg({'relevance' : 'sum'}).sort_values(by='relevance', ascending=False)[:self.top_n].index)\n",
        "  \n",
        "  def predict(self, X_test):\n",
        "    recommendation_list = []\n",
        "    for user in X_test['userId'].unique():\n",
        "      recommendation_list.append(self.most_popular)\n",
        "    return recommendation_list "
      ],
      "execution_count": 0,
      "outputs": []
    },
    {
      "cell_type": "code",
      "metadata": {
        "id": "uWfe7fCt-A3o",
        "colab_type": "code",
        "colab": {}
      },
      "source": [
        "most_popular_recommender = MostPopularRecommender(top_n=10)\n",
        "most_popular_recommender.fit(X_train, relevance_train)\n",
        "predicted_all_users_list = most_popular_recommender.predict(X_test)"
      ],
      "execution_count": 0,
      "outputs": []
    },
    {
      "cell_type": "code",
      "metadata": {
        "id": "OdXvhY0kGEPX",
        "colab_type": "code",
        "colab": {}
      },
      "source": [
        "X_test['relevance'] = relevance_test\n",
        "grouped_by_user = X_test.groupby('userId')\n",
        "test_all_users_list = []\n",
        "for user in X_test['userId'].unique():\n",
        "  group = grouped_by_user.get_group(user)\n",
        "  user_list = list(group.loc[group['relevance']==1,'movieId'].values)\n",
        "  test_all_users_list.append(user_list)"
      ],
      "execution_count": 0,
      "outputs": []
    },
    {
      "cell_type": "code",
      "metadata": {
        "id": "WwPwC94tBQWn",
        "colab_type": "code",
        "outputId": "9b6644e0-8f23-4460-a4c7-d6b69e719f49",
        "colab": {
          "base_uri": "https://localhost:8080/",
          "height": 34
        }
      },
      "source": [
        "mean_average_precision(predicted_all_users_list, test_all_users_list)"
      ],
      "execution_count": 39,
      "outputs": [
        {
          "output_type": "execute_result",
          "data": {
            "text/plain": [
              "0.29698354341736694"
            ]
          },
          "metadata": {
            "tags": []
          },
          "execution_count": 39
        }
      ]
    },
    {
      "cell_type": "markdown",
      "metadata": {
        "id": "PCJB8J0cWyRM",
        "colab_type": "text"
      },
      "source": [
        "## SVD recommender"
      ]
    },
    {
      "cell_type": "markdown",
      "metadata": {
        "id": "TyO0YsgvzC7d",
        "colab_type": "text"
      },
      "source": [
        "On full dataset"
      ]
    },
    {
      "cell_type": "code",
      "metadata": {
        "id": "mgrmUxf5dTmy",
        "colab_type": "code",
        "colab": {}
      },
      "source": [
        "R_df = ratings_df.pivot(index = 'userId', columns ='movieId', values = 'rating').fillna(0)"
      ],
      "execution_count": 0,
      "outputs": []
    },
    {
      "cell_type": "code",
      "metadata": {
        "id": "_AxUWaSFefYF",
        "colab_type": "code",
        "outputId": "b5f94d72-bbe7-4eda-b8ee-154a304d7c03",
        "colab": {
          "base_uri": "https://localhost:8080/",
          "height": 51
        }
      },
      "source": [
        "R = R_df.as_matrix()\n",
        "user_ratings_mean = np.mean(R, axis = 1)\n",
        "R_demeaned = R - user_ratings_mean.reshape(-1, 1)"
      ],
      "execution_count": 53,
      "outputs": [
        {
          "output_type": "stream",
          "text": [
            "/usr/local/lib/python3.6/dist-packages/ipykernel_launcher.py:1: FutureWarning: Method .as_matrix will be removed in a future version. Use .values instead.\n",
            "  \"\"\"Entry point for launching an IPython kernel.\n"
          ],
          "name": "stderr"
        }
      ]
    },
    {
      "cell_type": "code",
      "metadata": {
        "id": "SmfWOHT3e8Gs",
        "colab_type": "code",
        "colab": {}
      },
      "source": [
        "from scipy.sparse.linalg import svds\n",
        "U, sigma, Vt = svds(R_demeaned, k = 10)\n",
        "sigma = np.diag(sigma)\n",
        "all_user_predicted_ratings = np.dot(np.dot(U, sigma), Vt) + user_ratings_mean.reshape(-1, 1)\n",
        "preds_df = pd.DataFrame(all_user_predicted_ratings, columns = R_df.columns)"
      ],
      "execution_count": 0,
      "outputs": []
    },
    {
      "cell_type": "code",
      "metadata": {
        "id": "YZvtpCpmpnMs",
        "colab_type": "code",
        "colab": {}
      },
      "source": [
        "grouped_by_user = ratings_df.groupby('userId')\n",
        "test_all_users_list = []\n",
        "for user in ratings_df['userId'].unique():\n",
        "  group = grouped_by_user.get_group(user)\n",
        "  user_list = list(group.loc[group['rating']>=3,'movieId'].values)\n",
        "  test_all_users_list.append(user_list)\n"
      ],
      "execution_count": 0,
      "outputs": []
    },
    {
      "cell_type": "code",
      "metadata": {
        "id": "hTrqDDvJ-fsW",
        "colab_type": "code",
        "colab": {}
      },
      "source": [
        "predicted_all_users_list = []\n",
        "for user in ratings_df['userId'].unique():\n",
        "  user_row_number = user-1\n",
        "  predicted_all_users_list.append(list(preds_df.iloc[user_row_number].sort_values(ascending=False).index[:10]))"
      ],
      "execution_count": 0,
      "outputs": []
    },
    {
      "cell_type": "code",
      "metadata": {
        "id": "EgEZ02JZAnnZ",
        "colab_type": "code",
        "outputId": "c7fccab6-96f0-4893-c770-fa4023835d70",
        "colab": {
          "base_uri": "https://localhost:8080/",
          "height": 34
        }
      },
      "source": [
        "mean_average_precision(predicted_all_users_list, test_all_users_list)"
      ],
      "execution_count": 57,
      "outputs": [
        {
          "output_type": "execute_result",
          "data": {
            "text/plain": [
              "0.5191256830601093"
            ]
          },
          "metadata": {
            "tags": []
          },
          "execution_count": 57
        }
      ]
    },
    {
      "cell_type": "markdown",
      "metadata": {
        "id": "kzxgUt-nK436",
        "colab_type": "text"
      },
      "source": [
        "with split"
      ]
    },
    {
      "cell_type": "code",
      "metadata": {
        "id": "y2uqPxQFvuy7",
        "colab_type": "code",
        "colab": {}
      },
      "source": [
        "from sklearn.model_selection import train_test_split"
      ],
      "execution_count": 0,
      "outputs": []
    },
    {
      "cell_type": "code",
      "metadata": {
        "id": "hisXE_b_vwFo",
        "colab_type": "code",
        "colab": {}
      },
      "source": [
        "X_train, X_test = train_test_split(ratings_df.loc[:,['userId', 'movieId', 'rating']], test_size=0.33, random_state=42)"
      ],
      "execution_count": 0,
      "outputs": []
    },
    {
      "cell_type": "code",
      "metadata": {
        "id": "R4V3_vP7K393",
        "colab_type": "code",
        "colab": {}
      },
      "source": [
        "##CAN'T MAKE ONE SIMPLE TRAIN TEST SPLIT!!!!!\n",
        "'''tscv = TimeSeriesSplit(n_splits=2)\n",
        "X_train, X_test = None, None\n",
        "for train_index, test_index in tscv.split(ratings_df):\n",
        "  X_train, X_test = ratings_df.loc[train_index,['userId', 'movieId', 'rating']], ratings_df.loc[test_index, ['userId', 'movieId', 'rating']]\n",
        "  #relevance_train, relevance_test = ratings_df.loc[train_index, 'relevance'], ratings_df.loc[test_index, 'relevance']'''"
      ],
      "execution_count": 0,
      "outputs": []
    },
    {
      "cell_type": "code",
      "metadata": {
        "id": "pa2WYGTbLQTb",
        "colab_type": "code",
        "colab": {
          "base_uri": "https://localhost:8080/",
          "height": 51
        },
        "outputId": "e455d135-3cbf-4921-f7f8-008da0a1e15b"
      },
      "source": [
        "R_df = X_train.pivot(index = 'userId', columns ='movieId', values = 'rating').fillna(0)\n",
        "R = R_df.as_matrix()\n",
        "user_ratings_mean = np.mean(R, axis = 1)\n",
        "R_demeaned = R - user_ratings_mean.reshape(-1, 1)"
      ],
      "execution_count": 96,
      "outputs": [
        {
          "output_type": "stream",
          "text": [
            "/usr/local/lib/python3.6/dist-packages/ipykernel_launcher.py:2: FutureWarning: Method .as_matrix will be removed in a future version. Use .values instead.\n",
            "  \n"
          ],
          "name": "stderr"
        }
      ]
    },
    {
      "cell_type": "code",
      "metadata": {
        "id": "bD6ZOP8pLVQE",
        "colab_type": "code",
        "colab": {}
      },
      "source": [
        "from scipy.sparse.linalg import svds\n",
        "U, sigma, Vt = svds(R_demeaned, k = 4)\n",
        "sigma = np.diag(sigma)\n",
        "all_user_predicted_ratings = np.dot(np.dot(U, sigma), Vt) + user_ratings_mean.reshape(-1, 1)\n",
        "preds_df = pd.DataFrame(all_user_predicted_ratings, columns = R_df.columns)\n",
        "preds_df.index = R_df.index"
      ],
      "execution_count": 0,
      "outputs": []
    },
    {
      "cell_type": "code",
      "metadata": {
        "id": "awd3Vq0oLztZ",
        "colab_type": "code",
        "colab": {}
      },
      "source": [
        "grouped_by_user = X_test.groupby('userId')\n",
        "test_all_users_list = []\n",
        "for user in X_test['userId'].unique():\n",
        "  if user in X_train['userId'].unique():\n",
        "    group = grouped_by_user.get_group(user)\n",
        "    user_list = list(group.loc[group['rating']>=3,'movieId'].values)\n",
        "    test_all_users_list.append(user_list)\n"
      ],
      "execution_count": 0,
      "outputs": []
    },
    {
      "cell_type": "code",
      "metadata": {
        "id": "ijLCAWxYMVvN",
        "colab_type": "code",
        "colab": {}
      },
      "source": [
        "predicted_all_users_list = []\n",
        "for user in X_test['userId'].unique():\n",
        "  if user in X_train['userId'].unique():\n",
        "     user_row_number = user\n",
        "     predicted_all_users_list.append(list(preds_df.loc[user_row_number].sort_values(ascending=False).index[:5]))\n",
        "   "
      ],
      "execution_count": 0,
      "outputs": []
    },
    {
      "cell_type": "code",
      "metadata": {
        "id": "Dzk7zSexuwCA",
        "colab_type": "code",
        "colab": {
          "base_uri": "https://localhost:8080/",
          "height": 34
        },
        "outputId": "fad1d10f-cb74-4bc1-bf6d-9b3b07119724"
      },
      "source": [
        "len(test_all_users_list)"
      ],
      "execution_count": 94,
      "outputs": [
        {
          "output_type": "execute_result",
          "data": {
            "text/plain": [
              "671"
            ]
          },
          "metadata": {
            "tags": []
          },
          "execution_count": 94
        }
      ]
    },
    {
      "cell_type": "code",
      "metadata": {
        "id": "PRcXIc9wuzKk",
        "colab_type": "code",
        "colab": {
          "base_uri": "https://localhost:8080/",
          "height": 34
        },
        "outputId": "b76f2f85-d950-424f-dbdb-aeb36929b4df"
      },
      "source": [
        "len(predicted_all_users_list)"
      ],
      "execution_count": 86,
      "outputs": [
        {
          "output_type": "execute_result",
          "data": {
            "text/plain": [
              "671"
            ]
          },
          "metadata": {
            "tags": []
          },
          "execution_count": 86
        }
      ]
    },
    {
      "cell_type": "code",
      "metadata": {
        "id": "qJhQIYIUvLOV",
        "colab_type": "code",
        "colab": {
          "base_uri": "https://localhost:8080/",
          "height": 34
        },
        "outputId": "09ce52b4-55ff-4797-8087-6356bcc911b0"
      },
      "source": [
        "len(set(X_train['userId'].unique()) & set(X_test['userId'].unique()))"
      ],
      "execution_count": 88,
      "outputs": [
        {
          "output_type": "execute_result",
          "data": {
            "text/plain": [
              "671"
            ]
          },
          "metadata": {
            "tags": []
          },
          "execution_count": 88
        }
      ]
    },
    {
      "cell_type": "code",
      "metadata": {
        "id": "rYon2WSMol_z",
        "colab_type": "code",
        "colab": {
          "base_uri": "https://localhost:8080/",
          "height": 34
        },
        "outputId": "0edc2f2a-ef62-4d59-d43d-5b0a69dbdd8e"
      },
      "source": [
        "mean_average_precision(predicted_all_users_list, test_all_users_list)"
      ],
      "execution_count": 102,
      "outputs": [
        {
          "output_type": "execute_result",
          "data": {
            "text/plain": [
              "0.09104321907600614"
            ]
          },
          "metadata": {
            "tags": []
          },
          "execution_count": 102
        }
      ]
    }
  ]
}