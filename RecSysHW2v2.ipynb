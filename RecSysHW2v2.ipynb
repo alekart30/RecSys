{
  "nbformat": 4,
  "nbformat_minor": 0,
  "metadata": {
    "colab": {
      "name": "RecSysHW2v2.ipynb",
      "provenance": [],
      "collapsed_sections": [
        "H0laP_miv3vq",
        "iDn0sQ7DwCha"
      ],
      "toc_visible": true,
      "machine_shape": "hm"
    },
    "kernelspec": {
      "name": "python3",
      "display_name": "Python 3"
    }
  },
  "cells": [
    {
      "cell_type": "markdown",
      "metadata": {
        "id": "EU7_XBCpFxe0",
        "colab_type": "text"
      },
      "source": [
        "# All import's"
      ]
    },
    {
      "cell_type": "code",
      "metadata": {
        "id": "Uum8ejh1c4WC",
        "colab_type": "code",
        "outputId": "e74729dd-4be6-442e-b81f-99a4cc33c6cd",
        "colab": {
          "base_uri": "https://localhost:8080/",
          "height": 35
        }
      },
      "source": [
        "! pip install pyfpgrowth"
      ],
      "execution_count": 0,
      "outputs": [
        {
          "output_type": "stream",
          "text": [
            "Requirement already satisfied: pyfpgrowth in /usr/local/lib/python3.6/dist-packages (1.0)\n"
          ],
          "name": "stdout"
        }
      ]
    },
    {
      "cell_type": "code",
      "metadata": {
        "id": "BlvRVoy6FsKP",
        "colab_type": "code",
        "colab": {}
      },
      "source": [
        "import os\n",
        "from google_drive_downloader import GoogleDriveDownloader as gdd\n",
        "\n",
        "import pandas as pd\n",
        "import seaborn as sns\n",
        "import numpy as np\n",
        "import  matplotlib.pyplot as plt\n",
        "\n",
        "from sklearn.cluster import KMeans\n",
        "from scipy.sparse.linalg import svds\n",
        "\n",
        "import pyfpgrowth\n",
        "from umap import UMAP\n",
        "from sklearn.manifold import TSNE\n",
        "import gc"
      ],
      "execution_count": 0,
      "outputs": []
    },
    {
      "cell_type": "code",
      "metadata": {
        "id": "Ie8igeP_Iwt5",
        "colab_type": "code",
        "colab": {}
      },
      "source": [
        "sns.set_style('darkgrid')"
      ],
      "execution_count": 0,
      "outputs": []
    },
    {
      "cell_type": "markdown",
      "metadata": {
        "id": "E6tN7apGDXav",
        "colab_type": "text"
      },
      "source": [
        "# Install pyfim"
      ]
    },
    {
      "cell_type": "code",
      "metadata": {
        "id": "ow96fjsLDa9O",
        "colab_type": "code",
        "outputId": "a511d13a-cd0f-4cd0-d3b1-56c4018bdc36",
        "colab": {
          "base_uri": "https://localhost:8080/",
          "height": 217
        }
      },
      "source": [
        "!wget http://www.borgelt.net/src/pyfim.zip"
      ],
      "execution_count": 0,
      "outputs": [
        {
          "output_type": "stream",
          "text": [
            "--2019-11-18 14:14:11--  http://www.borgelt.net/src/pyfim.zip\n",
            "Resolving www.borgelt.net (www.borgelt.net)... 134.0.30.202, 2a03:2900:7::13\n",
            "Connecting to www.borgelt.net (www.borgelt.net)|134.0.30.202|:80... connected.\n",
            "HTTP request sent, awaiting response... 200 OK\n",
            "Length: 881543 (861K) [application/zip]\n",
            "Saving to: ‘pyfim.zip’\n",
            "\n",
            "pyfim.zip           100%[===================>] 860.88K   134KB/s    in 13s     \n",
            "\n",
            "2019-11-18 14:14:25 (68.4 KB/s) - ‘pyfim.zip’ saved [881543/881543]\n",
            "\n"
          ],
          "name": "stdout"
        }
      ]
    },
    {
      "cell_type": "code",
      "metadata": {
        "id": "3HeUv0EeDfoA",
        "colab_type": "code",
        "colab": {}
      },
      "source": [
        "!unzip -q pyfim.zip"
      ],
      "execution_count": 0,
      "outputs": []
    },
    {
      "cell_type": "code",
      "metadata": {
        "id": "fA3JmdN6Djtl",
        "colab_type": "code",
        "outputId": "84a7b50a-8d37-49d9-a22f-47e198974839",
        "colab": {
          "base_uri": "https://localhost:8080/",
          "height": 1000
        }
      },
      "source": [
        "!python setup_fim.py install"
      ],
      "execution_count": 0,
      "outputs": [
        {
          "output_type": "stream",
          "text": [
            "running install\n",
            "running build\n",
            "running build_ext\n",
            "building 'fim' extension\n",
            "creating build\n",
            "creating build/temp.linux-x86_64-3.6\n",
            "creating build/temp.linux-x86_64-3.6/util\n",
            "creating build/temp.linux-x86_64-3.6/util/src\n",
            "creating build/temp.linux-x86_64-3.6/math\n",
            "creating build/temp.linux-x86_64-3.6/math/src\n",
            "creating build/temp.linux-x86_64-3.6/tract\n",
            "creating build/temp.linux-x86_64-3.6/tract/src\n",
            "creating build/temp.linux-x86_64-3.6/apriori\n",
            "creating build/temp.linux-x86_64-3.6/apriori/src\n",
            "creating build/temp.linux-x86_64-3.6/eclat\n",
            "creating build/temp.linux-x86_64-3.6/eclat/src\n",
            "creating build/temp.linux-x86_64-3.6/fpgrowth\n",
            "creating build/temp.linux-x86_64-3.6/fpgrowth/src\n",
            "creating build/temp.linux-x86_64-3.6/sam\n",
            "creating build/temp.linux-x86_64-3.6/sam/src\n",
            "creating build/temp.linux-x86_64-3.6/relim\n",
            "creating build/temp.linux-x86_64-3.6/relim/src\n",
            "creating build/temp.linux-x86_64-3.6/carpenter\n",
            "creating build/temp.linux-x86_64-3.6/carpenter/src\n",
            "creating build/temp.linux-x86_64-3.6/ista\n",
            "creating build/temp.linux-x86_64-3.6/ista/src\n",
            "creating build/temp.linux-x86_64-3.6/accretion\n",
            "creating build/temp.linux-x86_64-3.6/accretion/src\n",
            "creating build/temp.linux-x86_64-3.6/pyfim\n",
            "creating build/temp.linux-x86_64-3.6/pyfim/src\n",
            "x86_64-linux-gnu-gcc -pthread -DNDEBUG -g -fwrapv -O2 -Wall -g -fstack-protector-strong -Wformat -Werror=format-security -Wdate-time -D_FORTIFY_SOURCE=2 -fPIC -DNDEBUG -DIDMAPFN -DTATREEFN -DTA_SURR -DPSP_ESTIM -DISR_PATSPEC -DISR_CLOMAX -DISR_NONAMES -DACC_ABORT -DAPR_ABORT -DECL_ABORT -DFPG_ABORT -DSAM_ABORT -DRELIM_ABORT -DCARP_ABORT -DISTA_ABORT -Iutil/src -Imath/src -Itract/src -Iapriori/src -Ieclat/src -Ifpgrowth/src -Isam/src -Irelim/src -Icarpenter/src -Iista/src -Iaccretion/src -Ipyfim/src -I/usr/include/python3.6m -c util/src/arrays.c -o build/temp.linux-x86_64-3.6/util/src/arrays.o\n",
            "x86_64-linux-gnu-gcc -pthread -DNDEBUG -g -fwrapv -O2 -Wall -g -fstack-protector-strong -Wformat -Werror=format-security -Wdate-time -D_FORTIFY_SOURCE=2 -fPIC -DNDEBUG -DIDMAPFN -DTATREEFN -DTA_SURR -DPSP_ESTIM -DISR_PATSPEC -DISR_CLOMAX -DISR_NONAMES -DACC_ABORT -DAPR_ABORT -DECL_ABORT -DFPG_ABORT -DSAM_ABORT -DRELIM_ABORT -DCARP_ABORT -DISTA_ABORT -Iutil/src -Imath/src -Itract/src -Iapriori/src -Ieclat/src -Ifpgrowth/src -Isam/src -Irelim/src -Icarpenter/src -Iista/src -Iaccretion/src -Ipyfim/src -I/usr/include/python3.6m -c util/src/memsys.c -o build/temp.linux-x86_64-3.6/util/src/memsys.o\n",
            "x86_64-linux-gnu-gcc -pthread -DNDEBUG -g -fwrapv -O2 -Wall -g -fstack-protector-strong -Wformat -Werror=format-security -Wdate-time -D_FORTIFY_SOURCE=2 -fPIC -DNDEBUG -DIDMAPFN -DTATREEFN -DTA_SURR -DPSP_ESTIM -DISR_PATSPEC -DISR_CLOMAX -DISR_NONAMES -DACC_ABORT -DAPR_ABORT -DECL_ABORT -DFPG_ABORT -DSAM_ABORT -DRELIM_ABORT -DCARP_ABORT -DISTA_ABORT -Iutil/src -Imath/src -Itract/src -Iapriori/src -Ieclat/src -Ifpgrowth/src -Isam/src -Irelim/src -Icarpenter/src -Iista/src -Iaccretion/src -Ipyfim/src -I/usr/include/python3.6m -c util/src/symtab.c -o build/temp.linux-x86_64-3.6/util/src/symtab.o\n",
            "x86_64-linux-gnu-gcc -pthread -DNDEBUG -g -fwrapv -O2 -Wall -g -fstack-protector-strong -Wformat -Werror=format-security -Wdate-time -D_FORTIFY_SOURCE=2 -fPIC -DNDEBUG -DIDMAPFN -DTATREEFN -DTA_SURR -DPSP_ESTIM -DISR_PATSPEC -DISR_CLOMAX -DISR_NONAMES -DACC_ABORT -DAPR_ABORT -DECL_ABORT -DFPG_ABORT -DSAM_ABORT -DRELIM_ABORT -DCARP_ABORT -DISTA_ABORT -Iutil/src -Imath/src -Itract/src -Iapriori/src -Ieclat/src -Ifpgrowth/src -Isam/src -Irelim/src -Icarpenter/src -Iista/src -Iaccretion/src -Ipyfim/src -I/usr/include/python3.6m -c util/src/random.c -o build/temp.linux-x86_64-3.6/util/src/random.o\n",
            "x86_64-linux-gnu-gcc -pthread -DNDEBUG -g -fwrapv -O2 -Wall -g -fstack-protector-strong -Wformat -Werror=format-security -Wdate-time -D_FORTIFY_SOURCE=2 -fPIC -DNDEBUG -DIDMAPFN -DTATREEFN -DTA_SURR -DPSP_ESTIM -DISR_PATSPEC -DISR_CLOMAX -DISR_NONAMES -DACC_ABORT -DAPR_ABORT -DECL_ABORT -DFPG_ABORT -DSAM_ABORT -DRELIM_ABORT -DCARP_ABORT -DISTA_ABORT -Iutil/src -Imath/src -Itract/src -Iapriori/src -Ieclat/src -Ifpgrowth/src -Isam/src -Irelim/src -Icarpenter/src -Iista/src -Iaccretion/src -Ipyfim/src -I/usr/include/python3.6m -c util/src/sigint.c -o build/temp.linux-x86_64-3.6/util/src/sigint.o\n",
            "x86_64-linux-gnu-gcc -pthread -DNDEBUG -g -fwrapv -O2 -Wall -g -fstack-protector-strong -Wformat -Werror=format-security -Wdate-time -D_FORTIFY_SOURCE=2 -fPIC -DNDEBUG -DIDMAPFN -DTATREEFN -DTA_SURR -DPSP_ESTIM -DISR_PATSPEC -DISR_CLOMAX -DISR_NONAMES -DACC_ABORT -DAPR_ABORT -DECL_ABORT -DFPG_ABORT -DSAM_ABORT -DRELIM_ABORT -DCARP_ABORT -DISTA_ABORT -Iutil/src -Imath/src -Itract/src -Iapriori/src -Ieclat/src -Ifpgrowth/src -Isam/src -Irelim/src -Icarpenter/src -Iista/src -Iaccretion/src -Ipyfim/src -I/usr/include/python3.6m -c math/src/chi2.c -o build/temp.linux-x86_64-3.6/math/src/chi2.o\n",
            "x86_64-linux-gnu-gcc -pthread -DNDEBUG -g -fwrapv -O2 -Wall -g -fstack-protector-strong -Wformat -Werror=format-security -Wdate-time -D_FORTIFY_SOURCE=2 -fPIC -DNDEBUG -DIDMAPFN -DTATREEFN -DTA_SURR -DPSP_ESTIM -DISR_PATSPEC -DISR_CLOMAX -DISR_NONAMES -DACC_ABORT -DAPR_ABORT -DECL_ABORT -DFPG_ABORT -DSAM_ABORT -DRELIM_ABORT -DCARP_ABORT -DISTA_ABORT -Iutil/src -Imath/src -Itract/src -Iapriori/src -Ieclat/src -Ifpgrowth/src -Isam/src -Irelim/src -Icarpenter/src -Iista/src -Iaccretion/src -Ipyfim/src -I/usr/include/python3.6m -c math/src/gamma.c -o build/temp.linux-x86_64-3.6/math/src/gamma.o\n",
            "x86_64-linux-gnu-gcc -pthread -DNDEBUG -g -fwrapv -O2 -Wall -g -fstack-protector-strong -Wformat -Werror=format-security -Wdate-time -D_FORTIFY_SOURCE=2 -fPIC -DNDEBUG -DIDMAPFN -DTATREEFN -DTA_SURR -DPSP_ESTIM -DISR_PATSPEC -DISR_CLOMAX -DISR_NONAMES -DACC_ABORT -DAPR_ABORT -DECL_ABORT -DFPG_ABORT -DSAM_ABORT -DRELIM_ABORT -DCARP_ABORT -DISTA_ABORT -Iutil/src -Imath/src -Itract/src -Iapriori/src -Ieclat/src -Ifpgrowth/src -Isam/src -Irelim/src -Icarpenter/src -Iista/src -Iaccretion/src -Ipyfim/src -I/usr/include/python3.6m -c math/src/ruleval.c -o build/temp.linux-x86_64-3.6/math/src/ruleval.o\n",
            "x86_64-linux-gnu-gcc -pthread -DNDEBUG -g -fwrapv -O2 -Wall -g -fstack-protector-strong -Wformat -Werror=format-security -Wdate-time -D_FORTIFY_SOURCE=2 -fPIC -DNDEBUG -DIDMAPFN -DTATREEFN -DTA_SURR -DPSP_ESTIM -DISR_PATSPEC -DISR_CLOMAX -DISR_NONAMES -DACC_ABORT -DAPR_ABORT -DECL_ABORT -DFPG_ABORT -DSAM_ABORT -DRELIM_ABORT -DCARP_ABORT -DISTA_ABORT -Iutil/src -Imath/src -Itract/src -Iapriori/src -Ieclat/src -Ifpgrowth/src -Isam/src -Irelim/src -Icarpenter/src -Iista/src -Iaccretion/src -Ipyfim/src -I/usr/include/python3.6m -c tract/src/tract.c -o build/temp.linux-x86_64-3.6/tract/src/tract.o\n",
            "x86_64-linux-gnu-gcc -pthread -DNDEBUG -g -fwrapv -O2 -Wall -g -fstack-protector-strong -Wformat -Werror=format-security -Wdate-time -D_FORTIFY_SOURCE=2 -fPIC -DNDEBUG -DIDMAPFN -DTATREEFN -DTA_SURR -DPSP_ESTIM -DISR_PATSPEC -DISR_CLOMAX -DISR_NONAMES -DACC_ABORT -DAPR_ABORT -DECL_ABORT -DFPG_ABORT -DSAM_ABORT -DRELIM_ABORT -DCARP_ABORT -DISTA_ABORT -Iutil/src -Imath/src -Itract/src -Iapriori/src -Ieclat/src -Ifpgrowth/src -Isam/src -Irelim/src -Icarpenter/src -Iista/src -Iaccretion/src -Ipyfim/src -I/usr/include/python3.6m -c tract/src/fim16.c -o build/temp.linux-x86_64-3.6/tract/src/fim16.o\n",
            "\u001b[01m\u001b[Ktract/src/fim16.c:\u001b[m\u001b[K In function ‘\u001b[01m\u001b[Krec_pos\u001b[m\u001b[K’:\n",
            "\u001b[01m\u001b[Ktract/src/fim16.c:491:3:\u001b[m\u001b[K \u001b[01;35m\u001b[Kwarning: \u001b[m\u001b[K‘\u001b[01m\u001b[Kmemset\u001b[m\u001b[K’ used with length equal to number of elements without multiplication by element size [\u001b[01;35m\u001b[K-Wmemset-elt-size\u001b[m\u001b[K]\n",
            "   \u001b[01;35m\u001b[Kmemset\u001b[m\u001b[K(fim->supps,  0,  4*sizeof(SUPP));  /* support and lists */\n",
            "   \u001b[01;35m\u001b[K^~~~~~\u001b[m\u001b[K\n",
            "x86_64-linux-gnu-gcc -pthread -DNDEBUG -g -fwrapv -O2 -Wall -g -fstack-protector-strong -Wformat -Werror=format-security -Wdate-time -D_FORTIFY_SOURCE=2 -fPIC -DNDEBUG -DIDMAPFN -DTATREEFN -DTA_SURR -DPSP_ESTIM -DISR_PATSPEC -DISR_CLOMAX -DISR_NONAMES -DACC_ABORT -DAPR_ABORT -DECL_ABORT -DFPG_ABORT -DSAM_ABORT -DRELIM_ABORT -DCARP_ABORT -DISTA_ABORT -Iutil/src -Imath/src -Itract/src -Iapriori/src -Ieclat/src -Ifpgrowth/src -Isam/src -Irelim/src -Icarpenter/src -Iista/src -Iaccretion/src -Ipyfim/src -I/usr/include/python3.6m -c tract/src/patspec.c -o build/temp.linux-x86_64-3.6/tract/src/patspec.o\n",
            "x86_64-linux-gnu-gcc -pthread -DNDEBUG -g -fwrapv -O2 -Wall -g -fstack-protector-strong -Wformat -Werror=format-security -Wdate-time -D_FORTIFY_SOURCE=2 -fPIC -DNDEBUG -DIDMAPFN -DTATREEFN -DTA_SURR -DPSP_ESTIM -DISR_PATSPEC -DISR_CLOMAX -DISR_NONAMES -DACC_ABORT -DAPR_ABORT -DECL_ABORT -DFPG_ABORT -DSAM_ABORT -DRELIM_ABORT -DCARP_ABORT -DISTA_ABORT -Iutil/src -Imath/src -Itract/src -Iapriori/src -Ieclat/src -Ifpgrowth/src -Isam/src -Irelim/src -Icarpenter/src -Iista/src -Iaccretion/src -Ipyfim/src -I/usr/include/python3.6m -c tract/src/clomax.c -o build/temp.linux-x86_64-3.6/tract/src/clomax.o\n",
            "x86_64-linux-gnu-gcc -pthread -DNDEBUG -g -fwrapv -O2 -Wall -g -fstack-protector-strong -Wformat -Werror=format-security -Wdate-time -D_FORTIFY_SOURCE=2 -fPIC -DNDEBUG -DIDMAPFN -DTATREEFN -DTA_SURR -DPSP_ESTIM -DISR_PATSPEC -DISR_CLOMAX -DISR_NONAMES -DACC_ABORT -DAPR_ABORT -DECL_ABORT -DFPG_ABORT -DSAM_ABORT -DRELIM_ABORT -DCARP_ABORT -DISTA_ABORT -Iutil/src -Imath/src -Itract/src -Iapriori/src -Ieclat/src -Ifpgrowth/src -Isam/src -Irelim/src -Icarpenter/src -Iista/src -Iaccretion/src -Ipyfim/src -I/usr/include/python3.6m -c tract/src/report.c -o build/temp.linux-x86_64-3.6/tract/src/report.o\n",
            "x86_64-linux-gnu-gcc -pthread -DNDEBUG -g -fwrapv -O2 -Wall -g -fstack-protector-strong -Wformat -Werror=format-security -Wdate-time -D_FORTIFY_SOURCE=2 -fPIC -DNDEBUG -DIDMAPFN -DTATREEFN -DTA_SURR -DPSP_ESTIM -DISR_PATSPEC -DISR_CLOMAX -DISR_NONAMES -DACC_ABORT -DAPR_ABORT -DECL_ABORT -DFPG_ABORT -DSAM_ABORT -DRELIM_ABORT -DCARP_ABORT -DISTA_ABORT -Iutil/src -Imath/src -Itract/src -Iapriori/src -Ieclat/src -Ifpgrowth/src -Isam/src -Irelim/src -Icarpenter/src -Iista/src -Iaccretion/src -Ipyfim/src -I/usr/include/python3.6m -c tract/src/patred.c -o build/temp.linux-x86_64-3.6/tract/src/patred.o\n",
            "x86_64-linux-gnu-gcc -pthread -DNDEBUG -g -fwrapv -O2 -Wall -g -fstack-protector-strong -Wformat -Werror=format-security -Wdate-time -D_FORTIFY_SOURCE=2 -fPIC -DNDEBUG -DIDMAPFN -DTATREEFN -DTA_SURR -DPSP_ESTIM -DISR_PATSPEC -DISR_CLOMAX -DISR_NONAMES -DACC_ABORT -DAPR_ABORT -DECL_ABORT -DFPG_ABORT -DSAM_ABORT -DRELIM_ABORT -DCARP_ABORT -DISTA_ABORT -Iutil/src -Imath/src -Itract/src -Iapriori/src -Ieclat/src -Ifpgrowth/src -Isam/src -Irelim/src -Icarpenter/src -Iista/src -Iaccretion/src -Ipyfim/src -I/usr/include/python3.6m -c apriori/src/istree.c -o build/temp.linux-x86_64-3.6/apriori/src/istree.o\n",
            "x86_64-linux-gnu-gcc -pthread -DNDEBUG -g -fwrapv -O2 -Wall -g -fstack-protector-strong -Wformat -Werror=format-security -Wdate-time -D_FORTIFY_SOURCE=2 -fPIC -DNDEBUG -DIDMAPFN -DTATREEFN -DTA_SURR -DPSP_ESTIM -DISR_PATSPEC -DISR_CLOMAX -DISR_NONAMES -DACC_ABORT -DAPR_ABORT -DECL_ABORT -DFPG_ABORT -DSAM_ABORT -DRELIM_ABORT -DCARP_ABORT -DISTA_ABORT -Iutil/src -Imath/src -Itract/src -Iapriori/src -Ieclat/src -Ifpgrowth/src -Isam/src -Irelim/src -Icarpenter/src -Iista/src -Iaccretion/src -Ipyfim/src -I/usr/include/python3.6m -c apriori/src/apriori.c -o build/temp.linux-x86_64-3.6/apriori/src/apriori.o\n",
            "x86_64-linux-gnu-gcc -pthread -DNDEBUG -g -fwrapv -O2 -Wall -g -fstack-protector-strong -Wformat -Werror=format-security -Wdate-time -D_FORTIFY_SOURCE=2 -fPIC -DNDEBUG -DIDMAPFN -DTATREEFN -DTA_SURR -DPSP_ESTIM -DISR_PATSPEC -DISR_CLOMAX -DISR_NONAMES -DACC_ABORT -DAPR_ABORT -DECL_ABORT -DFPG_ABORT -DSAM_ABORT -DRELIM_ABORT -DCARP_ABORT -DISTA_ABORT -Iutil/src -Imath/src -Itract/src -Iapriori/src -Ieclat/src -Ifpgrowth/src -Isam/src -Irelim/src -Icarpenter/src -Iista/src -Iaccretion/src -Ipyfim/src -I/usr/include/python3.6m -c eclat/src/eclat.c -o build/temp.linux-x86_64-3.6/eclat/src/eclat.o\n",
            "x86_64-linux-gnu-gcc -pthread -DNDEBUG -g -fwrapv -O2 -Wall -g -fstack-protector-strong -Wformat -Werror=format-security -Wdate-time -D_FORTIFY_SOURCE=2 -fPIC -DNDEBUG -DIDMAPFN -DTATREEFN -DTA_SURR -DPSP_ESTIM -DISR_PATSPEC -DISR_CLOMAX -DISR_NONAMES -DACC_ABORT -DAPR_ABORT -DECL_ABORT -DFPG_ABORT -DSAM_ABORT -DRELIM_ABORT -DCARP_ABORT -DISTA_ABORT -Iutil/src -Imath/src -Itract/src -Iapriori/src -Ieclat/src -Ifpgrowth/src -Isam/src -Irelim/src -Icarpenter/src -Iista/src -Iaccretion/src -Ipyfim/src -I/usr/include/python3.6m -c fpgrowth/src/fpgrowth.c -o build/temp.linux-x86_64-3.6/fpgrowth/src/fpgrowth.o\n",
            "x86_64-linux-gnu-gcc -pthread -DNDEBUG -g -fwrapv -O2 -Wall -g -fstack-protector-strong -Wformat -Werror=format-security -Wdate-time -D_FORTIFY_SOURCE=2 -fPIC -DNDEBUG -DIDMAPFN -DTATREEFN -DTA_SURR -DPSP_ESTIM -DISR_PATSPEC -DISR_CLOMAX -DISR_NONAMES -DACC_ABORT -DAPR_ABORT -DECL_ABORT -DFPG_ABORT -DSAM_ABORT -DRELIM_ABORT -DCARP_ABORT -DISTA_ABORT -Iutil/src -Imath/src -Itract/src -Iapriori/src -Ieclat/src -Ifpgrowth/src -Isam/src -Irelim/src -Icarpenter/src -Iista/src -Iaccretion/src -Ipyfim/src -I/usr/include/python3.6m -c fpgrowth/src/fpgpsp.c -o build/temp.linux-x86_64-3.6/fpgrowth/src/fpgpsp.o\n",
            "x86_64-linux-gnu-gcc -pthread -DNDEBUG -g -fwrapv -O2 -Wall -g -fstack-protector-strong -Wformat -Werror=format-security -Wdate-time -D_FORTIFY_SOURCE=2 -fPIC -DNDEBUG -DIDMAPFN -DTATREEFN -DTA_SURR -DPSP_ESTIM -DISR_PATSPEC -DISR_CLOMAX -DISR_NONAMES -DACC_ABORT -DAPR_ABORT -DECL_ABORT -DFPG_ABORT -DSAM_ABORT -DRELIM_ABORT -DCARP_ABORT -DISTA_ABORT -Iutil/src -Imath/src -Itract/src -Iapriori/src -Ieclat/src -Ifpgrowth/src -Isam/src -Irelim/src -Icarpenter/src -Iista/src -Iaccretion/src -Ipyfim/src -I/usr/include/python3.6m -c sam/src/sam.c -o build/temp.linux-x86_64-3.6/sam/src/sam.o\n",
            "x86_64-linux-gnu-gcc -pthread -DNDEBUG -g -fwrapv -O2 -Wall -g -fstack-protector-strong -Wformat -Werror=format-security -Wdate-time -D_FORTIFY_SOURCE=2 -fPIC -DNDEBUG -DIDMAPFN -DTATREEFN -DTA_SURR -DPSP_ESTIM -DISR_PATSPEC -DISR_CLOMAX -DISR_NONAMES -DACC_ABORT -DAPR_ABORT -DECL_ABORT -DFPG_ABORT -DSAM_ABORT -DRELIM_ABORT -DCARP_ABORT -DISTA_ABORT -Iutil/src -Imath/src -Itract/src -Iapriori/src -Ieclat/src -Ifpgrowth/src -Isam/src -Irelim/src -Icarpenter/src -Iista/src -Iaccretion/src -Ipyfim/src -I/usr/include/python3.6m -c relim/src/relim.c -o build/temp.linux-x86_64-3.6/relim/src/relim.o\n",
            "x86_64-linux-gnu-gcc -pthread -DNDEBUG -g -fwrapv -O2 -Wall -g -fstack-protector-strong -Wformat -Werror=format-security -Wdate-time -D_FORTIFY_SOURCE=2 -fPIC -DNDEBUG -DIDMAPFN -DTATREEFN -DTA_SURR -DPSP_ESTIM -DISR_PATSPEC -DISR_CLOMAX -DISR_NONAMES -DACC_ABORT -DAPR_ABORT -DECL_ABORT -DFPG_ABORT -DSAM_ABORT -DRELIM_ABORT -DCARP_ABORT -DISTA_ABORT -Iutil/src -Imath/src -Itract/src -Iapriori/src -Ieclat/src -Ifpgrowth/src -Isam/src -Irelim/src -Icarpenter/src -Iista/src -Iaccretion/src -Ipyfim/src -I/usr/include/python3.6m -c carpenter/src/repotree.c -o build/temp.linux-x86_64-3.6/carpenter/src/repotree.o\n",
            "x86_64-linux-gnu-gcc -pthread -DNDEBUG -g -fwrapv -O2 -Wall -g -fstack-protector-strong -Wformat -Werror=format-security -Wdate-time -D_FORTIFY_SOURCE=2 -fPIC -DNDEBUG -DIDMAPFN -DTATREEFN -DTA_SURR -DPSP_ESTIM -DISR_PATSPEC -DISR_CLOMAX -DISR_NONAMES -DACC_ABORT -DAPR_ABORT -DECL_ABORT -DFPG_ABORT -DSAM_ABORT -DRELIM_ABORT -DCARP_ABORT -DISTA_ABORT -Iutil/src -Imath/src -Itract/src -Iapriori/src -Ieclat/src -Ifpgrowth/src -Isam/src -Irelim/src -Icarpenter/src -Iista/src -Iaccretion/src -Ipyfim/src -I/usr/include/python3.6m -c carpenter/src/carpenter.c -o build/temp.linux-x86_64-3.6/carpenter/src/carpenter.o\n",
            "x86_64-linux-gnu-gcc -pthread -DNDEBUG -g -fwrapv -O2 -Wall -g -fstack-protector-strong -Wformat -Werror=format-security -Wdate-time -D_FORTIFY_SOURCE=2 -fPIC -DNDEBUG -DIDMAPFN -DTATREEFN -DTA_SURR -DPSP_ESTIM -DISR_PATSPEC -DISR_CLOMAX -DISR_NONAMES -DACC_ABORT -DAPR_ABORT -DECL_ABORT -DFPG_ABORT -DSAM_ABORT -DRELIM_ABORT -DCARP_ABORT -DISTA_ABORT -Iutil/src -Imath/src -Itract/src -Iapriori/src -Ieclat/src -Ifpgrowth/src -Isam/src -Irelim/src -Icarpenter/src -Iista/src -Iaccretion/src -Ipyfim/src -I/usr/include/python3.6m -c ista/src/pfxtree.c -o build/temp.linux-x86_64-3.6/ista/src/pfxtree.o\n",
            "x86_64-linux-gnu-gcc -pthread -DNDEBUG -g -fwrapv -O2 -Wall -g -fstack-protector-strong -Wformat -Werror=format-security -Wdate-time -D_FORTIFY_SOURCE=2 -fPIC -DNDEBUG -DIDMAPFN -DTATREEFN -DTA_SURR -DPSP_ESTIM -DISR_PATSPEC -DISR_CLOMAX -DISR_NONAMES -DACC_ABORT -DAPR_ABORT -DECL_ABORT -DFPG_ABORT -DSAM_ABORT -DRELIM_ABORT -DCARP_ABORT -DISTA_ABORT -Iutil/src -Imath/src -Itract/src -Iapriori/src -Ieclat/src -Ifpgrowth/src -Isam/src -Irelim/src -Icarpenter/src -Iista/src -Iaccretion/src -Ipyfim/src -I/usr/include/python3.6m -c ista/src/pattree.c -o build/temp.linux-x86_64-3.6/ista/src/pattree.o\n",
            "x86_64-linux-gnu-gcc -pthread -DNDEBUG -g -fwrapv -O2 -Wall -g -fstack-protector-strong -Wformat -Werror=format-security -Wdate-time -D_FORTIFY_SOURCE=2 -fPIC -DNDEBUG -DIDMAPFN -DTATREEFN -DTA_SURR -DPSP_ESTIM -DISR_PATSPEC -DISR_CLOMAX -DISR_NONAMES -DACC_ABORT -DAPR_ABORT -DECL_ABORT -DFPG_ABORT -DSAM_ABORT -DRELIM_ABORT -DCARP_ABORT -DISTA_ABORT -Iutil/src -Imath/src -Itract/src -Iapriori/src -Ieclat/src -Ifpgrowth/src -Isam/src -Irelim/src -Icarpenter/src -Iista/src -Iaccretion/src -Ipyfim/src -I/usr/include/python3.6m -c ista/src/ista.c -o build/temp.linux-x86_64-3.6/ista/src/ista.o\n",
            "x86_64-linux-gnu-gcc -pthread -DNDEBUG -g -fwrapv -O2 -Wall -g -fstack-protector-strong -Wformat -Werror=format-security -Wdate-time -D_FORTIFY_SOURCE=2 -fPIC -DNDEBUG -DIDMAPFN -DTATREEFN -DTA_SURR -DPSP_ESTIM -DISR_PATSPEC -DISR_CLOMAX -DISR_NONAMES -DACC_ABORT -DAPR_ABORT -DECL_ABORT -DFPG_ABORT -DSAM_ABORT -DRELIM_ABORT -DCARP_ABORT -DISTA_ABORT -Iutil/src -Imath/src -Itract/src -Iapriori/src -Ieclat/src -Ifpgrowth/src -Isam/src -Irelim/src -Icarpenter/src -Iista/src -Iaccretion/src -Ipyfim/src -I/usr/include/python3.6m -c accretion/src/accretion.c -o build/temp.linux-x86_64-3.6/accretion/src/accretion.o\n",
            "x86_64-linux-gnu-gcc -pthread -DNDEBUG -g -fwrapv -O2 -Wall -g -fstack-protector-strong -Wformat -Werror=format-security -Wdate-time -D_FORTIFY_SOURCE=2 -fPIC -DNDEBUG -DIDMAPFN -DTATREEFN -DTA_SURR -DPSP_ESTIM -DISR_PATSPEC -DISR_CLOMAX -DISR_NONAMES -DACC_ABORT -DAPR_ABORT -DECL_ABORT -DFPG_ABORT -DSAM_ABORT -DRELIM_ABORT -DCARP_ABORT -DISTA_ABORT -Iutil/src -Imath/src -Itract/src -Iapriori/src -Ieclat/src -Ifpgrowth/src -Isam/src -Irelim/src -Icarpenter/src -Iista/src -Iaccretion/src -Ipyfim/src -I/usr/include/python3.6m -c pyfim/src/pyfim.c -o build/temp.linux-x86_64-3.6/pyfim/src/pyfim.o\n",
            "creating build/lib.linux-x86_64-3.6\n",
            "x86_64-linux-gnu-gcc -pthread -shared -Wl,-O1 -Wl,-Bsymbolic-functions -Wl,-Bsymbolic-functions -Wl,-z,relro -Wl,-Bsymbolic-functions -Wl,-z,relro -g -fstack-protector-strong -Wformat -Werror=format-security -Wdate-time -D_FORTIFY_SOURCE=2 build/temp.linux-x86_64-3.6/util/src/arrays.o build/temp.linux-x86_64-3.6/util/src/memsys.o build/temp.linux-x86_64-3.6/util/src/symtab.o build/temp.linux-x86_64-3.6/util/src/random.o build/temp.linux-x86_64-3.6/util/src/sigint.o build/temp.linux-x86_64-3.6/math/src/chi2.o build/temp.linux-x86_64-3.6/math/src/gamma.o build/temp.linux-x86_64-3.6/math/src/ruleval.o build/temp.linux-x86_64-3.6/tract/src/tract.o build/temp.linux-x86_64-3.6/tract/src/fim16.o build/temp.linux-x86_64-3.6/tract/src/patspec.o build/temp.linux-x86_64-3.6/tract/src/clomax.o build/temp.linux-x86_64-3.6/tract/src/report.o build/temp.linux-x86_64-3.6/tract/src/patred.o build/temp.linux-x86_64-3.6/apriori/src/istree.o build/temp.linux-x86_64-3.6/apriori/src/apriori.o build/temp.linux-x86_64-3.6/eclat/src/eclat.o build/temp.linux-x86_64-3.6/fpgrowth/src/fpgrowth.o build/temp.linux-x86_64-3.6/fpgrowth/src/fpgpsp.o build/temp.linux-x86_64-3.6/sam/src/sam.o build/temp.linux-x86_64-3.6/relim/src/relim.o build/temp.linux-x86_64-3.6/carpenter/src/repotree.o build/temp.linux-x86_64-3.6/carpenter/src/carpenter.o build/temp.linux-x86_64-3.6/ista/src/pfxtree.o build/temp.linux-x86_64-3.6/ista/src/pattree.o build/temp.linux-x86_64-3.6/ista/src/ista.o build/temp.linux-x86_64-3.6/accretion/src/accretion.o build/temp.linux-x86_64-3.6/pyfim/src/pyfim.o -o build/lib.linux-x86_64-3.6/fim.cpython-36m-x86_64-linux-gnu.so\n",
            "running install_lib\n",
            "copying build/lib.linux-x86_64-3.6/fim.cpython-36m-x86_64-linux-gnu.so -> /usr/local/lib/python3.6/dist-packages\n",
            "running install_egg_info\n",
            "Writing /usr/local/lib/python3.6/dist-packages/fim-6.28._2017.03.24_.egg-info\n"
          ],
          "name": "stdout"
        }
      ]
    },
    {
      "cell_type": "code",
      "metadata": {
        "id": "UlniWeqCERo4",
        "colab_type": "code",
        "colab": {}
      },
      "source": [
        "from fim import fpgrowth"
      ],
      "execution_count": 0,
      "outputs": []
    },
    {
      "cell_type": "markdown",
      "metadata": {
        "id": "AiTmuKRVF6Ps",
        "colab_type": "text"
      },
      "source": [
        "# Load data"
      ]
    },
    {
      "cell_type": "code",
      "metadata": {
        "id": "1eRdXnz3F76z",
        "colab_type": "code",
        "outputId": "27e48956-3bdf-4af0-ee3b-955921833798",
        "colab": {
          "base_uri": "https://localhost:8080/",
          "height": 35
        }
      },
      "source": [
        "if not os.path.exists('./data'):\n",
        "  os.mkdir('./data')\n",
        "\n",
        "gdd.download_file_from_google_drive(file_id='1EMS377_Ew2h0esEMdEj54X894J_xU7Fl', dest_path='./data/instacart_online_grocery_shopping_2017_05_01.tar.gz')\n"
      ],
      "execution_count": 0,
      "outputs": [
        {
          "output_type": "stream",
          "text": [
            "Downloading 1EMS377_Ew2h0esEMdEj54X894J_xU7Fl into ./data/instacart_online_grocery_shopping_2017_05_01.tar.gz... Done.\n"
          ],
          "name": "stdout"
        }
      ]
    },
    {
      "cell_type": "code",
      "metadata": {
        "id": "gcBAc51VHxti",
        "colab_type": "code",
        "colab": {}
      },
      "source": [
        "! mkdir ./data/unziped"
      ],
      "execution_count": 0,
      "outputs": []
    },
    {
      "cell_type": "code",
      "metadata": {
        "id": "Cq8OA1yKGSq8",
        "colab_type": "code",
        "colab": {}
      },
      "source": [
        "! tar -xzf ./data/instacart_online_grocery_shopping_2017_05_01.tar.gz -C ./data/unziped"
      ],
      "execution_count": 0,
      "outputs": []
    },
    {
      "cell_type": "markdown",
      "metadata": {
        "id": "eC-copx_H_MC",
        "colab_type": "text"
      },
      "source": [
        "# EDA"
      ]
    },
    {
      "cell_type": "markdown",
      "metadata": {
        "id": "pgGhX3JX-s4C",
        "colab_type": "text"
      },
      "source": [
        "Table with info about order"
      ]
    },
    {
      "cell_type": "code",
      "metadata": {
        "id": "ZLoZ26_0H9p7",
        "colab_type": "code",
        "colab": {}
      },
      "source": [
        "orders_df = pd.read_csv('./data/unziped/instacart_2017_05_01/orders.csv')"
      ],
      "execution_count": 0,
      "outputs": []
    },
    {
      "cell_type": "markdown",
      "metadata": {
        "id": "-SjSHeKcTv71",
        "colab_type": "text"
      },
      "source": [
        "We have orders, but no items here."
      ]
    },
    {
      "cell_type": "code",
      "metadata": {
        "id": "0kox__7TIeWK",
        "colab_type": "code",
        "outputId": "b48ca8c9-fed8-4182-89de-cee541361da2",
        "colab": {
          "base_uri": "https://localhost:8080/"
        }
      },
      "source": [
        "orders_df.head()"
      ],
      "execution_count": 0,
      "outputs": [
        {
          "output_type": "execute_result",
          "data": {
            "text/html": [
              "<div>\n",
              "<style scoped>\n",
              "    .dataframe tbody tr th:only-of-type {\n",
              "        vertical-align: middle;\n",
              "    }\n",
              "\n",
              "    .dataframe tbody tr th {\n",
              "        vertical-align: top;\n",
              "    }\n",
              "\n",
              "    .dataframe thead th {\n",
              "        text-align: right;\n",
              "    }\n",
              "</style>\n",
              "<table border=\"1\" class=\"dataframe\">\n",
              "  <thead>\n",
              "    <tr style=\"text-align: right;\">\n",
              "      <th></th>\n",
              "      <th>order_id</th>\n",
              "      <th>user_id</th>\n",
              "      <th>eval_set</th>\n",
              "      <th>order_number</th>\n",
              "      <th>order_dow</th>\n",
              "      <th>order_hour_of_day</th>\n",
              "      <th>days_since_prior_order</th>\n",
              "    </tr>\n",
              "  </thead>\n",
              "  <tbody>\n",
              "    <tr>\n",
              "      <th>0</th>\n",
              "      <td>2539329</td>\n",
              "      <td>1</td>\n",
              "      <td>prior</td>\n",
              "      <td>1</td>\n",
              "      <td>2</td>\n",
              "      <td>8</td>\n",
              "      <td>NaN</td>\n",
              "    </tr>\n",
              "    <tr>\n",
              "      <th>1</th>\n",
              "      <td>2398795</td>\n",
              "      <td>1</td>\n",
              "      <td>prior</td>\n",
              "      <td>2</td>\n",
              "      <td>3</td>\n",
              "      <td>7</td>\n",
              "      <td>15.0</td>\n",
              "    </tr>\n",
              "    <tr>\n",
              "      <th>2</th>\n",
              "      <td>473747</td>\n",
              "      <td>1</td>\n",
              "      <td>prior</td>\n",
              "      <td>3</td>\n",
              "      <td>3</td>\n",
              "      <td>12</td>\n",
              "      <td>21.0</td>\n",
              "    </tr>\n",
              "    <tr>\n",
              "      <th>3</th>\n",
              "      <td>2254736</td>\n",
              "      <td>1</td>\n",
              "      <td>prior</td>\n",
              "      <td>4</td>\n",
              "      <td>4</td>\n",
              "      <td>7</td>\n",
              "      <td>29.0</td>\n",
              "    </tr>\n",
              "    <tr>\n",
              "      <th>4</th>\n",
              "      <td>431534</td>\n",
              "      <td>1</td>\n",
              "      <td>prior</td>\n",
              "      <td>5</td>\n",
              "      <td>4</td>\n",
              "      <td>15</td>\n",
              "      <td>28.0</td>\n",
              "    </tr>\n",
              "  </tbody>\n",
              "</table>\n",
              "</div>"
            ],
            "text/plain": [
              "   order_id  user_id  ... order_hour_of_day  days_since_prior_order\n",
              "0   2539329        1  ...                 8                     NaN\n",
              "1   2398795        1  ...                 7                    15.0\n",
              "2    473747        1  ...                12                    21.0\n",
              "3   2254736        1  ...                 7                    29.0\n",
              "4    431534        1  ...                15                    28.0\n",
              "\n",
              "[5 rows x 7 columns]"
            ]
          },
          "metadata": {
            "tags": []
          },
          "execution_count": 9
        }
      ]
    },
    {
      "cell_type": "markdown",
      "metadata": {
        "id": "7AW8MhMdTf34",
        "colab_type": "text"
      },
      "source": [
        "We have nans only in days_since_prior_order column."
      ]
    },
    {
      "cell_type": "code",
      "metadata": {
        "id": "BfASJ_slIhDK",
        "colab_type": "code",
        "outputId": "19817e71-4995-4b35-e4de-a69aa6e4a56c",
        "colab": {
          "base_uri": "https://localhost:8080/"
        }
      },
      "source": [
        "orders_df.info(null_counts=True)"
      ],
      "execution_count": 0,
      "outputs": [
        {
          "output_type": "stream",
          "text": [
            "<class 'pandas.core.frame.DataFrame'>\n",
            "RangeIndex: 3421083 entries, 0 to 3421082\n",
            "Data columns (total 7 columns):\n",
            "order_id                  3421083 non-null int64\n",
            "user_id                   3421083 non-null int64\n",
            "eval_set                  3421083 non-null object\n",
            "order_number              3421083 non-null int64\n",
            "order_dow                 3421083 non-null int64\n",
            "order_hour_of_day         3421083 non-null int64\n",
            "days_since_prior_order    3214874 non-null float64\n",
            "dtypes: float64(1), int64(5), object(1)\n",
            "memory usage: 182.7+ MB\n"
          ],
          "name": "stdout"
        }
      ]
    },
    {
      "cell_type": "markdown",
      "metadata": {
        "id": "7ShuxBZC1dI1",
        "colab_type": "text"
      },
      "source": [
        "Investigate eval_set"
      ]
    },
    {
      "cell_type": "code",
      "metadata": {
        "id": "6zJPlX0l0RNh",
        "colab_type": "code",
        "outputId": "8813bd23-56bc-4625-9091-136442f03c34",
        "colab": {
          "base_uri": "https://localhost:8080/"
        }
      },
      "source": [
        "orders_df['eval_set'].value_counts()"
      ],
      "execution_count": 0,
      "outputs": [
        {
          "output_type": "execute_result",
          "data": {
            "text/plain": [
              "prior    3214874\n",
              "train     131209\n",
              "test       75000\n",
              "Name: eval_set, dtype: int64"
            ]
          },
          "metadata": {
            "tags": []
          },
          "execution_count": 11
        }
      ]
    },
    {
      "cell_type": "markdown",
      "metadata": {
        "id": "W9H0sNV_0JgQ",
        "colab_type": "text"
      },
      "source": [
        "At first drop eval_set = test, because we have no private data"
      ]
    },
    {
      "cell_type": "code",
      "metadata": {
        "id": "5-Sm6KiI0YBI",
        "colab_type": "code",
        "colab": {}
      },
      "source": [
        "orders_df = orders_df.drop(orders_df[orders_df['eval_set'] == 'test'].index)"
      ],
      "execution_count": 0,
      "outputs": []
    },
    {
      "cell_type": "code",
      "metadata": {
        "id": "77HkyT-o0qDI",
        "colab_type": "code",
        "outputId": "94096097-5a4b-47cc-ad17-2bc948896f60",
        "colab": {
          "base_uri": "https://localhost:8080/"
        }
      },
      "source": [
        "orders_df.info(null_counts=True)"
      ],
      "execution_count": 0,
      "outputs": [
        {
          "output_type": "stream",
          "text": [
            "<class 'pandas.core.frame.DataFrame'>\n",
            "Int64Index: 3346083 entries, 0 to 3421082\n",
            "Data columns (total 7 columns):\n",
            "order_id                  3346083 non-null int64\n",
            "user_id                   3346083 non-null int64\n",
            "eval_set                  3346083 non-null object\n",
            "order_number              3346083 non-null int64\n",
            "order_dow                 3346083 non-null int64\n",
            "order_hour_of_day         3346083 non-null int64\n",
            "days_since_prior_order    3139874 non-null float64\n",
            "dtypes: float64(1), int64(5), object(1)\n",
            "memory usage: 204.2+ MB\n"
          ],
          "name": "stdout"
        }
      ]
    },
    {
      "cell_type": "markdown",
      "metadata": {
        "id": "H193gDpv-cd3",
        "colab_type": "text"
      },
      "source": [
        "No duplicates in order_id"
      ]
    },
    {
      "cell_type": "code",
      "metadata": {
        "id": "GSjNCgWkIt8p",
        "colab_type": "code",
        "outputId": "d46b3779-ddae-4782-be3a-ac8168c7fb57",
        "colab": {
          "base_uri": "https://localhost:8080/"
        }
      },
      "source": [
        "orders_df.nunique()"
      ],
      "execution_count": 0,
      "outputs": [
        {
          "output_type": "execute_result",
          "data": {
            "text/plain": [
              "order_id                  3346083\n",
              "user_id                    206209\n",
              "eval_set                        2\n",
              "order_number                  100\n",
              "order_dow                       7\n",
              "order_hour_of_day              24\n",
              "days_since_prior_order         31\n",
              "dtype: int64"
            ]
          },
          "metadata": {
            "tags": []
          },
          "execution_count": 14
        }
      ]
    },
    {
      "cell_type": "code",
      "metadata": {
        "id": "hKdQX8kLJz1S",
        "colab_type": "code",
        "outputId": "2822d134-d66d-4533-cda4-bf7a5e628cfd",
        "colab": {
          "base_uri": "https://localhost:8080/"
        }
      },
      "source": [
        "orders_df['order_dow'].unique()"
      ],
      "execution_count": 0,
      "outputs": [
        {
          "output_type": "execute_result",
          "data": {
            "text/plain": [
              "array([2, 3, 4, 1, 5, 0, 6])"
            ]
          },
          "metadata": {
            "tags": []
          },
          "execution_count": 15
        }
      ]
    },
    {
      "cell_type": "code",
      "metadata": {
        "id": "CBv7Bw_pJ61o",
        "colab_type": "code",
        "outputId": "43c5e9d4-c05e-4286-b8eb-ab968f6b025c",
        "colab": {
          "base_uri": "https://localhost:8080/"
        }
      },
      "source": [
        "orders_df['order_hour_of_day'].unique()"
      ],
      "execution_count": 0,
      "outputs": [
        {
          "output_type": "execute_result",
          "data": {
            "text/plain": [
              "array([ 8,  7, 12, 15,  9, 14, 16, 11, 10, 19, 18, 17, 13, 20,  0, 21, 22,\n",
              "        5, 23,  4,  6,  1,  2,  3])"
            ]
          },
          "metadata": {
            "tags": []
          },
          "execution_count": 16
        }
      ]
    },
    {
      "cell_type": "code",
      "metadata": {
        "id": "1cTxJfvzKEER",
        "colab_type": "code",
        "outputId": "6570b541-bff2-446f-df9c-6385fdd5df85",
        "colab": {
          "base_uri": "https://localhost:8080/"
        }
      },
      "source": [
        "orders_df['days_since_prior_order'].unique()"
      ],
      "execution_count": 0,
      "outputs": [
        {
          "output_type": "execute_result",
          "data": {
            "text/plain": [
              "array([nan, 15., 21., 29., 28., 19., 20., 14.,  0., 30., 10.,  3.,  8.,\n",
              "       13., 27.,  6.,  9., 12.,  7., 17., 11.,  4.,  5.,  2., 23., 26.,\n",
              "       25., 16.,  1., 18., 24., 22.])"
            ]
          },
          "metadata": {
            "tags": []
          },
          "execution_count": 17
        }
      ]
    },
    {
      "cell_type": "markdown",
      "metadata": {
        "id": "KY-C9mM7JfEi",
        "colab_type": "text"
      },
      "source": [
        "1. All order_id are unique\n",
        "2. We have 206209 unique users\n",
        "3. order_dow, order_hour_of_day, days_since_prior_order correspond their description"
      ]
    },
    {
      "cell_type": "markdown",
      "metadata": {
        "id": "BWGZBqHu1BsP",
        "colab_type": "text"
      },
      "source": [
        "Fill na in days_since_prior_order as 999"
      ]
    },
    {
      "cell_type": "code",
      "metadata": {
        "id": "-5x7DP_Q1I2Y",
        "colab_type": "code",
        "colab": {}
      },
      "source": [
        "orders_df.fillna(999, inplace=True)"
      ],
      "execution_count": 0,
      "outputs": []
    },
    {
      "cell_type": "markdown",
      "metadata": {
        "id": "lyhCKXenGFlC",
        "colab_type": "text"
      },
      "source": [
        "When people make orders?"
      ]
    },
    {
      "cell_type": "code",
      "metadata": {
        "id": "kgC_1teTGKoa",
        "colab_type": "code",
        "outputId": "6e503231-e3bc-4cef-a631-c70ff6aadc35",
        "colab": {
          "base_uri": "https://localhost:8080/"
        }
      },
      "source": [
        "fig = plt.figure()\n",
        "ax = fig.add_subplot(1, 1, 1)\n",
        "sns.barplot(data=orders_df.groupby('order_hour_of_day').agg({'order_id':'count'}).reset_index(), x='order_hour_of_day', y='order_id',ax=ax)"
      ],
      "execution_count": 0,
      "outputs": [
        {
          "output_type": "execute_result",
          "data": {
            "text/plain": [
              "<matplotlib.axes._subplots.AxesSubplot at 0x7f469916fac8>"
            ]
          },
          "metadata": {
            "tags": []
          },
          "execution_count": 19
        },
        {
          "output_type": "display_data",
          "data": {
            "image/png": "[encoded data removed]",
            "text/plain": [
              "<Figure size 432x288 with 1 Axes>"
            ]
          },
          "metadata": {
            "tags": []
          }
        }
      ]
    },
    {
      "cell_type": "code",
      "metadata": {
        "id": "35tlGimsKNZO",
        "colab_type": "code",
        "outputId": "35e0af7f-bd68-4fcd-a15b-42e3faa63e4c",
        "colab": {
          "base_uri": "https://localhost:8080/"
        }
      },
      "source": [
        "fig = plt.figure()\n",
        "ax = fig.add_subplot(1, 1, 1)\n",
        "sns.barplot(data=orders_df.groupby('order_dow').agg({'order_id':'count'}).reset_index(), x='order_dow', y='order_id',ax=ax)"
      ],
      "execution_count": 0,
      "outputs": [
        {
          "output_type": "execute_result",
          "data": {
            "text/plain": [
              "<matplotlib.axes._subplots.AxesSubplot at 0x7f469916f470>"
            ]
          },
          "metadata": {
            "tags": []
          },
          "execution_count": 20
        },
        {
          "output_type": "display_data",
          "data": {
            "image/png": "[encoded data removed]",
            "text/plain": [
              "<Figure size 432x288 with 1 Axes>"
            ]
          },
          "metadata": {
            "tags": []
          }
        }
      ]
    },
    {
      "cell_type": "markdown",
      "metadata": {
        "id": "-PJqDUvlKhl8",
        "colab_type": "text"
      },
      "source": [
        "When people reorder"
      ]
    },
    {
      "cell_type": "code",
      "metadata": {
        "id": "Bm_hqopgKjff",
        "colab_type": "code",
        "outputId": "fbba0e5d-55de-4241-e665-cbcd79ac5de7",
        "colab": {
          "base_uri": "https://localhost:8080/"
        }
      },
      "source": [
        "fig = plt.figure(figsize=(15,10))\n",
        "ax = fig.add_subplot(1, 1, 1)\n",
        "sns.barplot(data=orders_df.groupby('days_since_prior_order').agg({'order_id':'count'}).reset_index(), x='days_since_prior_order', y='order_id',ax=ax)"
      ],
      "execution_count": 0,
      "outputs": [
        {
          "output_type": "execute_result",
          "data": {
            "text/plain": [
              "<matplotlib.axes._subplots.AxesSubplot at 0x7f4698bc6dd8>"
            ]
          },
          "metadata": {
            "tags": []
          },
          "execution_count": 21
        },
        {
          "output_type": "display_data",
          "data": {
            "image/png": "[encoded data removed]",
            "text/plain": [
              "<Figure size 1080x720 with 1 Axes>"
            ]
          },
          "metadata": {
            "tags": []
          }
        }
      ]
    },
    {
      "cell_type": "markdown",
      "metadata": {
        "id": "0obLrz8W8CNX",
        "colab_type": "text"
      },
      "source": [
        "Distribution of orders number within users"
      ]
    },
    {
      "cell_type": "markdown",
      "metadata": {
        "id": "Y4X8m14A8-nR",
        "colab_type": "text"
      },
      "source": [
        "Interesting outlier"
      ]
    },
    {
      "cell_type": "code",
      "metadata": {
        "id": "Ad7Sj1Lx8H8S",
        "colab_type": "code",
        "outputId": "09d88934-1a3a-465d-f038-0c601bc6b6a0",
        "colab": {
          "base_uri": "https://localhost:8080/"
        }
      },
      "source": [
        "fig = plt.figure(figsize=(15,10))\n",
        "ax = fig.add_subplot(1,1,1)\n",
        "sns.distplot(orders_df['user_id'].value_counts(),kde=False,ax=ax)\n",
        "ax.set_xlabel('orders per user')"
      ],
      "execution_count": 0,
      "outputs": [
        {
          "output_type": "execute_result",
          "data": {
            "text/plain": [
              "Text(0.5, 0, 'orders per user')"
            ]
          },
          "metadata": {
            "tags": []
          },
          "execution_count": 22
        },
        {
          "output_type": "display_data",
          "data": {
            "image/png": "[encoded data removed]",
            "text/plain": [
              "<Figure size 1080x720 with 1 Axes>"
            ]
          },
          "metadata": {
            "tags": []
          }
        }
      ]
    },
    {
      "cell_type": "markdown",
      "metadata": {
        "id": "-tcUGRddOG9I",
        "colab_type": "text"
      },
      "source": [
        "Table with prior orders"
      ]
    },
    {
      "cell_type": "code",
      "metadata": {
        "id": "cepv_np1CnLD",
        "colab_type": "code",
        "colab": {}
      },
      "source": [
        "order_products_prior_df = pd.read_csv('./data/unziped/instacart_2017_05_01/order_products__prior.csv')"
      ],
      "execution_count": 0,
      "outputs": []
    },
    {
      "cell_type": "code",
      "metadata": {
        "id": "fqMhn2wlC1Qw",
        "colab_type": "code",
        "outputId": "658edfbb-bc49-4090-d9d0-6a8e2058c38b",
        "colab": {
          "base_uri": "https://localhost:8080/"
        }
      },
      "source": [
        "order_products_prior_df.head()"
      ],
      "execution_count": 0,
      "outputs": [
        {
          "output_type": "execute_result",
          "data": {
            "text/html": [
              "<div>\n",
              "<style scoped>\n",
              "    .dataframe tbody tr th:only-of-type {\n",
              "        vertical-align: middle;\n",
              "    }\n",
              "\n",
              "    .dataframe tbody tr th {\n",
              "        vertical-align: top;\n",
              "    }\n",
              "\n",
              "    .dataframe thead th {\n",
              "        text-align: right;\n",
              "    }\n",
              "</style>\n",
              "<table border=\"1\" class=\"dataframe\">\n",
              "  <thead>\n",
              "    <tr style=\"text-align: right;\">\n",
              "      <th></th>\n",
              "      <th>order_id</th>\n",
              "      <th>product_id</th>\n",
              "      <th>add_to_cart_order</th>\n",
              "      <th>reordered</th>\n",
              "    </tr>\n",
              "  </thead>\n",
              "  <tbody>\n",
              "    <tr>\n",
              "      <th>0</th>\n",
              "      <td>2</td>\n",
              "      <td>33120</td>\n",
              "      <td>1</td>\n",
              "      <td>1</td>\n",
              "    </tr>\n",
              "    <tr>\n",
              "      <th>1</th>\n",
              "      <td>2</td>\n",
              "      <td>28985</td>\n",
              "      <td>2</td>\n",
              "      <td>1</td>\n",
              "    </tr>\n",
              "    <tr>\n",
              "      <th>2</th>\n",
              "      <td>2</td>\n",
              "      <td>9327</td>\n",
              "      <td>3</td>\n",
              "      <td>0</td>\n",
              "    </tr>\n",
              "    <tr>\n",
              "      <th>3</th>\n",
              "      <td>2</td>\n",
              "      <td>45918</td>\n",
              "      <td>4</td>\n",
              "      <td>1</td>\n",
              "    </tr>\n",
              "    <tr>\n",
              "      <th>4</th>\n",
              "      <td>2</td>\n",
              "      <td>30035</td>\n",
              "      <td>5</td>\n",
              "      <td>0</td>\n",
              "    </tr>\n",
              "  </tbody>\n",
              "</table>\n",
              "</div>"
            ],
            "text/plain": [
              "   order_id  product_id  add_to_cart_order  reordered\n",
              "0         2       33120                  1          1\n",
              "1         2       28985                  2          1\n",
              "2         2        9327                  3          0\n",
              "3         2       45918                  4          1\n",
              "4         2       30035                  5          0"
            ]
          },
          "metadata": {
            "tags": []
          },
          "execution_count": 24
        }
      ]
    },
    {
      "cell_type": "markdown",
      "metadata": {
        "id": "UCUkHptlNZar",
        "colab_type": "text"
      },
      "source": [
        "No nulls"
      ]
    },
    {
      "cell_type": "code",
      "metadata": {
        "id": "O49T7F88NIDI",
        "colab_type": "code",
        "outputId": "8c25c9d6-45d3-4441-b9a0-5bef3f359455",
        "colab": {
          "base_uri": "https://localhost:8080/"
        }
      },
      "source": [
        "order_products_prior_df.info(null_counts=True)"
      ],
      "execution_count": 0,
      "outputs": [
        {
          "output_type": "stream",
          "text": [
            "<class 'pandas.core.frame.DataFrame'>\n",
            "RangeIndex: 32434489 entries, 0 to 32434488\n",
            "Data columns (total 4 columns):\n",
            "order_id             32434489 non-null int64\n",
            "product_id           32434489 non-null int64\n",
            "add_to_cart_order    32434489 non-null int64\n",
            "reordered            32434489 non-null int64\n",
            "dtypes: int64(4)\n",
            "memory usage: 989.8 MB\n"
          ],
          "name": "stdout"
        }
      ]
    },
    {
      "cell_type": "code",
      "metadata": {
        "id": "5RS7LpPKNblw",
        "colab_type": "code",
        "outputId": "93cab6b1-78fd-4beb-c510-f85d248da78e",
        "colab": {
          "base_uri": "https://localhost:8080/"
        }
      },
      "source": [
        "order_products_prior_df.nunique()"
      ],
      "execution_count": 0,
      "outputs": [
        {
          "output_type": "execute_result",
          "data": {
            "text/plain": [
              "order_id             3214874\n",
              "product_id             49677\n",
              "add_to_cart_order        145\n",
              "reordered                  2\n",
              "dtype: int64"
            ]
          },
          "metadata": {
            "tags": []
          },
          "execution_count": 26
        }
      ]
    },
    {
      "cell_type": "markdown",
      "metadata": {
        "id": "a3-7z-JFN_9E",
        "colab_type": "text"
      },
      "source": [
        "No duplicates"
      ]
    },
    {
      "cell_type": "code",
      "metadata": {
        "id": "fewfqb4SNyK1",
        "colab_type": "code",
        "outputId": "05529ab0-5c0e-48b2-c0f5-ea43a42c52c6",
        "colab": {
          "base_uri": "https://localhost:8080/"
        }
      },
      "source": [
        "order_products_prior_df.duplicated().any()"
      ],
      "execution_count": 0,
      "outputs": [
        {
          "output_type": "execute_result",
          "data": {
            "text/plain": [
              "False"
            ]
          },
          "metadata": {
            "tags": []
          },
          "execution_count": 27
        }
      ]
    },
    {
      "cell_type": "markdown",
      "metadata": {
        "id": "SCHznhspOLBf",
        "colab_type": "text"
      },
      "source": [
        "Table with train orders"
      ]
    },
    {
      "cell_type": "code",
      "metadata": {
        "id": "3BJJcU9hOO7A",
        "colab_type": "code",
        "colab": {}
      },
      "source": [
        "order_products_train_df = pd.read_csv('./data/unziped/instacart_2017_05_01/order_products__train.csv')"
      ],
      "execution_count": 0,
      "outputs": []
    },
    {
      "cell_type": "code",
      "metadata": {
        "id": "HvSJB_2EOXJC",
        "colab_type": "code",
        "outputId": "d36a527b-48e1-45a4-96cc-7d13796eebb7",
        "colab": {
          "base_uri": "https://localhost:8080/"
        }
      },
      "source": [
        "order_products_train_df.head()"
      ],
      "execution_count": 0,
      "outputs": [
        {
          "output_type": "execute_result",
          "data": {
            "text/html": [
              "<div>\n",
              "<style scoped>\n",
              "    .dataframe tbody tr th:only-of-type {\n",
              "        vertical-align: middle;\n",
              "    }\n",
              "\n",
              "    .dataframe tbody tr th {\n",
              "        vertical-align: top;\n",
              "    }\n",
              "\n",
              "    .dataframe thead th {\n",
              "        text-align: right;\n",
              "    }\n",
              "</style>\n",
              "<table border=\"1\" class=\"dataframe\">\n",
              "  <thead>\n",
              "    <tr style=\"text-align: right;\">\n",
              "      <th></th>\n",
              "      <th>order_id</th>\n",
              "      <th>product_id</th>\n",
              "      <th>add_to_cart_order</th>\n",
              "      <th>reordered</th>\n",
              "    </tr>\n",
              "  </thead>\n",
              "  <tbody>\n",
              "    <tr>\n",
              "      <th>0</th>\n",
              "      <td>1</td>\n",
              "      <td>49302</td>\n",
              "      <td>1</td>\n",
              "      <td>1</td>\n",
              "    </tr>\n",
              "    <tr>\n",
              "      <th>1</th>\n",
              "      <td>1</td>\n",
              "      <td>11109</td>\n",
              "      <td>2</td>\n",
              "      <td>1</td>\n",
              "    </tr>\n",
              "    <tr>\n",
              "      <th>2</th>\n",
              "      <td>1</td>\n",
              "      <td>10246</td>\n",
              "      <td>3</td>\n",
              "      <td>0</td>\n",
              "    </tr>\n",
              "    <tr>\n",
              "      <th>3</th>\n",
              "      <td>1</td>\n",
              "      <td>49683</td>\n",
              "      <td>4</td>\n",
              "      <td>0</td>\n",
              "    </tr>\n",
              "    <tr>\n",
              "      <th>4</th>\n",
              "      <td>1</td>\n",
              "      <td>43633</td>\n",
              "      <td>5</td>\n",
              "      <td>1</td>\n",
              "    </tr>\n",
              "  </tbody>\n",
              "</table>\n",
              "</div>"
            ],
            "text/plain": [
              "   order_id  product_id  add_to_cart_order  reordered\n",
              "0         1       49302                  1          1\n",
              "1         1       11109                  2          1\n",
              "2         1       10246                  3          0\n",
              "3         1       49683                  4          0\n",
              "4         1       43633                  5          1"
            ]
          },
          "metadata": {
            "tags": []
          },
          "execution_count": 29
        }
      ]
    },
    {
      "cell_type": "markdown",
      "metadata": {
        "id": "TBs5MRGyOejq",
        "colab_type": "text"
      },
      "source": [
        "No nulls"
      ]
    },
    {
      "cell_type": "code",
      "metadata": {
        "id": "hJYNv4VGOac9",
        "colab_type": "code",
        "outputId": "4caa9db3-8f79-4403-bc67-577a63dfba38",
        "colab": {
          "base_uri": "https://localhost:8080/"
        }
      },
      "source": [
        "order_products_train_df.info()"
      ],
      "execution_count": 0,
      "outputs": [
        {
          "output_type": "stream",
          "text": [
            "<class 'pandas.core.frame.DataFrame'>\n",
            "RangeIndex: 1384617 entries, 0 to 1384616\n",
            "Data columns (total 4 columns):\n",
            "order_id             1384617 non-null int64\n",
            "product_id           1384617 non-null int64\n",
            "add_to_cart_order    1384617 non-null int64\n",
            "reordered            1384617 non-null int64\n",
            "dtypes: int64(4)\n",
            "memory usage: 42.3 MB\n"
          ],
          "name": "stdout"
        }
      ]
    },
    {
      "cell_type": "code",
      "metadata": {
        "id": "_NmrJ-g9Ompn",
        "colab_type": "code",
        "outputId": "c1b774e3-270e-4172-880c-57be0e262851",
        "colab": {
          "base_uri": "https://localhost:8080/"
        }
      },
      "source": [
        "order_products_train_df.nunique()"
      ],
      "execution_count": 0,
      "outputs": [
        {
          "output_type": "execute_result",
          "data": {
            "text/plain": [
              "order_id             131209\n",
              "product_id            39123\n",
              "add_to_cart_order        80\n",
              "reordered                 2\n",
              "dtype: int64"
            ]
          },
          "metadata": {
            "tags": []
          },
          "execution_count": 31
        }
      ]
    },
    {
      "cell_type": "markdown",
      "metadata": {
        "id": "EvIrO1KxO19N",
        "colab_type": "text"
      },
      "source": [
        "No duplicates"
      ]
    },
    {
      "cell_type": "code",
      "metadata": {
        "id": "dx_3NxYZO3ds",
        "colab_type": "code",
        "outputId": "b6e567e4-39f9-4dd2-c592-4e7920a2d61c",
        "colab": {
          "base_uri": "https://localhost:8080/"
        }
      },
      "source": [
        "order_products_train_df.duplicated().any()"
      ],
      "execution_count": 0,
      "outputs": [
        {
          "output_type": "execute_result",
          "data": {
            "text/plain": [
              "False"
            ]
          },
          "metadata": {
            "tags": []
          },
          "execution_count": 32
        }
      ]
    },
    {
      "cell_type": "markdown",
      "metadata": {
        "id": "uLjNKAulPCMz",
        "colab_type": "text"
      },
      "source": [
        "We have no test orders table"
      ]
    },
    {
      "cell_type": "markdown",
      "metadata": {
        "id": "dee77HkZW0q6",
        "colab_type": "text"
      },
      "source": [
        "Just load products, investigation later"
      ]
    },
    {
      "cell_type": "code",
      "metadata": {
        "id": "yxq5V0V9W4WL",
        "colab_type": "code",
        "colab": {}
      },
      "source": [
        "products_df = pd.read_csv('./data/unziped/instacart_2017_05_01/products.csv')"
      ],
      "execution_count": 0,
      "outputs": []
    },
    {
      "cell_type": "markdown",
      "metadata": {
        "id": "mVBeTHhqPIwu",
        "colab_type": "text"
      },
      "source": [
        "Check mapping order_products_train/prior, orders and products"
      ]
    },
    {
      "cell_type": "code",
      "metadata": {
        "id": "7lHWyG0oQQQJ",
        "colab_type": "code",
        "outputId": "dead1ee5-ebe7-4a72-e009-b9f1dc73a103",
        "colab": {
          "base_uri": "https://localhost:8080/"
        }
      },
      "source": [
        "set(order_products_train_df['product_id'].unique()).issubset(set(products_df['product_id'].unique()))"
      ],
      "execution_count": 0,
      "outputs": [
        {
          "output_type": "execute_result",
          "data": {
            "text/plain": [
              "True"
            ]
          },
          "metadata": {
            "tags": []
          },
          "execution_count": 34
        }
      ]
    },
    {
      "cell_type": "code",
      "metadata": {
        "id": "ZQ3X3hbYRlP8",
        "colab_type": "code",
        "outputId": "5205e414-9ba3-485f-c4fe-2d237ffb56c6",
        "colab": {
          "base_uri": "https://localhost:8080/"
        }
      },
      "source": [
        "set(order_products_prior_df['product_id'].unique()).issubset(set(products_df['product_id'].unique()))"
      ],
      "execution_count": 0,
      "outputs": [
        {
          "output_type": "execute_result",
          "data": {
            "text/plain": [
              "True"
            ]
          },
          "metadata": {
            "tags": []
          },
          "execution_count": 35
        }
      ]
    },
    {
      "cell_type": "code",
      "metadata": {
        "id": "5icIi_jFRn9x",
        "colab_type": "code",
        "outputId": "c7cdebc6-7002-4353-f7cf-c29f9ad6ad92",
        "colab": {
          "base_uri": "https://localhost:8080/"
        }
      },
      "source": [
        "set(orders_df.loc[orders_df['eval_set']=='train',:]['order_id'].unique()) == set(order_products_train_df['order_id'].unique())"
      ],
      "execution_count": 0,
      "outputs": [
        {
          "output_type": "execute_result",
          "data": {
            "text/plain": [
              "True"
            ]
          },
          "metadata": {
            "tags": []
          },
          "execution_count": 36
        }
      ]
    },
    {
      "cell_type": "code",
      "metadata": {
        "id": "yIkZpGt6Sw6I",
        "colab_type": "code",
        "outputId": "1be191eb-ec0b-4031-dc17-015d39e9a336",
        "colab": {
          "base_uri": "https://localhost:8080/"
        }
      },
      "source": [
        "set(orders_df.loc[orders_df['eval_set']=='prior',:]['order_id'].unique()) == set(order_products_prior_df['order_id'].unique())"
      ],
      "execution_count": 0,
      "outputs": [
        {
          "output_type": "execute_result",
          "data": {
            "text/plain": [
              "True"
            ]
          },
          "metadata": {
            "tags": []
          },
          "execution_count": 37
        }
      ]
    },
    {
      "cell_type": "markdown",
      "metadata": {
        "id": "MHx-u6aXTMvF",
        "colab_type": "text"
      },
      "source": [
        "So, no problem with mapping"
      ]
    },
    {
      "cell_type": "markdown",
      "metadata": {
        "id": "j9op2Z6FXJc6",
        "colab_type": "text"
      },
      "source": [
        "Concatenate order_products_train/prior "
      ]
    },
    {
      "cell_type": "code",
      "metadata": {
        "id": "bscW69zXgOA6",
        "colab_type": "code",
        "colab": {}
      },
      "source": [
        "concated_df = pd.concat([order_products_prior_df, order_products_train_df])"
      ],
      "execution_count": 0,
      "outputs": []
    },
    {
      "cell_type": "markdown",
      "metadata": {
        "id": "uMpA6LDu1cq3",
        "colab_type": "text"
      },
      "source": [
        "Distribution of items number per order in prior"
      ]
    },
    {
      "cell_type": "code",
      "metadata": {
        "id": "dkMStrdK1kqz",
        "colab_type": "code",
        "outputId": "acd9c436-5641-4960-c693-e97bc9e1bf84",
        "colab": {
          "base_uri": "https://localhost:8080/"
        }
      },
      "source": [
        "fig = plt.figure(figsize=(15,10))\n",
        "ax = fig.add_subplot(1,1,1)\n",
        "sns.distplot(concated_df['order_id'].value_counts(),kde=False,ax=ax, norm_hist=True)\n",
        "ax.set_xlabel('number of items in order')"
      ],
      "execution_count": 0,
      "outputs": [
        {
          "output_type": "execute_result",
          "data": {
            "text/plain": [
              "Text(0.5, 0, 'number of items in order')"
            ]
          },
          "metadata": {
            "tags": []
          },
          "execution_count": 39
        },
        {
          "output_type": "display_data",
          "data": {
            "image/png": "[encoded data removed]",
            "text/plain": [
              "<Figure size 1080x720 with 1 Axes>"
            ]
          },
          "metadata": {
            "tags": []
          }
        }
      ]
    },
    {
      "cell_type": "markdown",
      "metadata": {
        "id": "JP0zNzuM4Sfx",
        "colab_type": "text"
      },
      "source": [
        "Check most popular items "
      ]
    },
    {
      "cell_type": "code",
      "metadata": {
        "id": "KgCJZgcl7KgV",
        "colab_type": "code",
        "outputId": "8c1784cb-b224-47f9-b0ef-581dcbec38d3",
        "colab": {
          "base_uri": "https://localhost:8080/"
        }
      },
      "source": [
        "merged = concated_df.merge(products_df,on='product_id',how='left')['product_name'].value_counts()[:5]\n",
        "fig = plt.figure(figsize=(15,10))\n",
        "ax = fig.add_subplot(1,1,1)\n",
        "sns.barplot(x=merged.index, y=merged.values,ax=ax)"
      ],
      "execution_count": 0,
      "outputs": [
        {
          "output_type": "execute_result",
          "data": {
            "text/plain": [
              "<matplotlib.axes._subplots.AxesSubplot at 0x7f4699b36e80>"
            ]
          },
          "metadata": {
            "tags": []
          },
          "execution_count": 40
        },
        {
          "output_type": "display_data",
          "data": {
            "image/png": "[encoded data removed]",
            "text/plain": [
              "<Figure size 1080x720 with 1 Axes>"
            ]
          },
          "metadata": {
            "tags": []
          }
        }
      ]
    },
    {
      "cell_type": "markdown",
      "metadata": {
        "id": "j8DRs3pk_MDD",
        "colab_type": "text"
      },
      "source": [
        "Table with info about products"
      ]
    },
    {
      "cell_type": "code",
      "metadata": {
        "id": "PfjC7gcu_X5n",
        "colab_type": "code",
        "outputId": "3fc5865b-eff3-4bca-e317-35c9d66402ca",
        "colab": {
          "base_uri": "https://localhost:8080/"
        }
      },
      "source": [
        "products_df.head()"
      ],
      "execution_count": 0,
      "outputs": [
        {
          "output_type": "execute_result",
          "data": {
            "text/html": [
              "<div>\n",
              "<style scoped>\n",
              "    .dataframe tbody tr th:only-of-type {\n",
              "        vertical-align: middle;\n",
              "    }\n",
              "\n",
              "    .dataframe tbody tr th {\n",
              "        vertical-align: top;\n",
              "    }\n",
              "\n",
              "    .dataframe thead th {\n",
              "        text-align: right;\n",
              "    }\n",
              "</style>\n",
              "<table border=\"1\" class=\"dataframe\">\n",
              "  <thead>\n",
              "    <tr style=\"text-align: right;\">\n",
              "      <th></th>\n",
              "      <th>product_id</th>\n",
              "      <th>product_name</th>\n",
              "      <th>aisle_id</th>\n",
              "      <th>department_id</th>\n",
              "    </tr>\n",
              "  </thead>\n",
              "  <tbody>\n",
              "    <tr>\n",
              "      <th>0</th>\n",
              "      <td>1</td>\n",
              "      <td>Chocolate Sandwich Cookies</td>\n",
              "      <td>61</td>\n",
              "      <td>19</td>\n",
              "    </tr>\n",
              "    <tr>\n",
              "      <th>1</th>\n",
              "      <td>2</td>\n",
              "      <td>All-Seasons Salt</td>\n",
              "      <td>104</td>\n",
              "      <td>13</td>\n",
              "    </tr>\n",
              "    <tr>\n",
              "      <th>2</th>\n",
              "      <td>3</td>\n",
              "      <td>Robust Golden Unsweetened Oolong Tea</td>\n",
              "      <td>94</td>\n",
              "      <td>7</td>\n",
              "    </tr>\n",
              "    <tr>\n",
              "      <th>3</th>\n",
              "      <td>4</td>\n",
              "      <td>Smart Ones Classic Favorites Mini Rigatoni Wit...</td>\n",
              "      <td>38</td>\n",
              "      <td>1</td>\n",
              "    </tr>\n",
              "    <tr>\n",
              "      <th>4</th>\n",
              "      <td>5</td>\n",
              "      <td>Green Chile Anytime Sauce</td>\n",
              "      <td>5</td>\n",
              "      <td>13</td>\n",
              "    </tr>\n",
              "  </tbody>\n",
              "</table>\n",
              "</div>"
            ],
            "text/plain": [
              "   product_id  ... department_id\n",
              "0           1  ...            19\n",
              "1           2  ...            13\n",
              "2           3  ...             7\n",
              "3           4  ...             1\n",
              "4           5  ...            13\n",
              "\n",
              "[5 rows x 4 columns]"
            ]
          },
          "metadata": {
            "tags": []
          },
          "execution_count": 41
        }
      ]
    },
    {
      "cell_type": "markdown",
      "metadata": {
        "id": "qLrE0-Q1_32J",
        "colab_type": "text"
      },
      "source": [
        "No nulls"
      ]
    },
    {
      "cell_type": "code",
      "metadata": {
        "id": "DbilIs4i_bNI",
        "colab_type": "code",
        "outputId": "c716010b-4591-483b-db40-60bf2e763f88",
        "colab": {
          "base_uri": "https://localhost:8080/"
        }
      },
      "source": [
        "products_df.info()"
      ],
      "execution_count": 0,
      "outputs": [
        {
          "output_type": "stream",
          "text": [
            "<class 'pandas.core.frame.DataFrame'>\n",
            "RangeIndex: 49688 entries, 0 to 49687\n",
            "Data columns (total 4 columns):\n",
            "product_id       49688 non-null int64\n",
            "product_name     49688 non-null object\n",
            "aisle_id         49688 non-null int64\n",
            "department_id    49688 non-null int64\n",
            "dtypes: int64(3), object(1)\n",
            "memory usage: 1.5+ MB\n"
          ],
          "name": "stdout"
        }
      ]
    },
    {
      "cell_type": "markdown",
      "metadata": {
        "id": "VvJ8vjbDAhmO",
        "colab_type": "text"
      },
      "source": [
        "No duplicates into product_id and product_name"
      ]
    },
    {
      "cell_type": "code",
      "metadata": {
        "id": "6o3Xfm_d_rtU",
        "colab_type": "code",
        "outputId": "d2d8f214-b315-4110-d7c3-270c49015f38",
        "colab": {
          "base_uri": "https://localhost:8080/"
        }
      },
      "source": [
        "products_df.nunique()"
      ],
      "execution_count": 0,
      "outputs": [
        {
          "output_type": "execute_result",
          "data": {
            "text/plain": [
              "product_id       49688\n",
              "product_name     49688\n",
              "aisle_id           134\n",
              "department_id       21\n",
              "dtype: int64"
            ]
          },
          "metadata": {
            "tags": []
          },
          "execution_count": 43
        }
      ]
    },
    {
      "cell_type": "markdown",
      "metadata": {
        "id": "jZCP0GVp7yke",
        "colab_type": "text"
      },
      "source": [
        "Try to find dummy"
      ]
    },
    {
      "cell_type": "code",
      "metadata": {
        "id": "ABmjD8gd71SQ",
        "colab_type": "code",
        "outputId": "9d5a4160-2cb1-4fe4-a4f7-a70ae208c51f",
        "colab": {
          "base_uri": "https://localhost:8080/"
        }
      },
      "source": [
        "concated_df.merge(products_df,on='product_id',how='left').groupby('product_name').agg({'order_id':'count'}).sort_values(by='order_id', ascending=False)[:20]"
      ],
      "execution_count": 0,
      "outputs": [
        {
          "output_type": "execute_result",
          "data": {
            "text/html": [
              "<div>\n",
              "<style scoped>\n",
              "    .dataframe tbody tr th:only-of-type {\n",
              "        vertical-align: middle;\n",
              "    }\n",
              "\n",
              "    .dataframe tbody tr th {\n",
              "        vertical-align: top;\n",
              "    }\n",
              "\n",
              "    .dataframe thead th {\n",
              "        text-align: right;\n",
              "    }\n",
              "</style>\n",
              "<table border=\"1\" class=\"dataframe\">\n",
              "  <thead>\n",
              "    <tr style=\"text-align: right;\">\n",
              "      <th></th>\n",
              "      <th>order_id</th>\n",
              "    </tr>\n",
              "    <tr>\n",
              "      <th>product_name</th>\n",
              "      <th></th>\n",
              "    </tr>\n",
              "  </thead>\n",
              "  <tbody>\n",
              "    <tr>\n",
              "      <th>Banana</th>\n",
              "      <td>491291</td>\n",
              "    </tr>\n",
              "    <tr>\n",
              "      <th>Bag of Organic Bananas</th>\n",
              "      <td>394930</td>\n",
              "    </tr>\n",
              "    <tr>\n",
              "      <th>Organic Strawberries</th>\n",
              "      <td>275577</td>\n",
              "    </tr>\n",
              "    <tr>\n",
              "      <th>Organic Baby Spinach</th>\n",
              "      <td>251705</td>\n",
              "    </tr>\n",
              "    <tr>\n",
              "      <th>Organic Hass Avocado</th>\n",
              "      <td>220877</td>\n",
              "    </tr>\n",
              "    <tr>\n",
              "      <th>Organic Avocado</th>\n",
              "      <td>184224</td>\n",
              "    </tr>\n",
              "    <tr>\n",
              "      <th>Large Lemon</th>\n",
              "      <td>160792</td>\n",
              "    </tr>\n",
              "    <tr>\n",
              "      <th>Strawberries</th>\n",
              "      <td>149445</td>\n",
              "    </tr>\n",
              "    <tr>\n",
              "      <th>Limes</th>\n",
              "      <td>146660</td>\n",
              "    </tr>\n",
              "    <tr>\n",
              "      <th>Organic Whole Milk</th>\n",
              "      <td>142813</td>\n",
              "    </tr>\n",
              "    <tr>\n",
              "      <th>Organic Raspberries</th>\n",
              "      <td>142603</td>\n",
              "    </tr>\n",
              "    <tr>\n",
              "      <th>Organic Yellow Onion</th>\n",
              "      <td>117716</td>\n",
              "    </tr>\n",
              "    <tr>\n",
              "      <th>Organic Garlic</th>\n",
              "      <td>113936</td>\n",
              "    </tr>\n",
              "    <tr>\n",
              "      <th>Organic Zucchini</th>\n",
              "      <td>109412</td>\n",
              "    </tr>\n",
              "    <tr>\n",
              "      <th>Organic Blueberries</th>\n",
              "      <td>105026</td>\n",
              "    </tr>\n",
              "    <tr>\n",
              "      <th>Cucumber Kirby</th>\n",
              "      <td>99728</td>\n",
              "    </tr>\n",
              "    <tr>\n",
              "      <th>Organic Fuji Apple</th>\n",
              "      <td>92889</td>\n",
              "    </tr>\n",
              "    <tr>\n",
              "      <th>Organic Lemon</th>\n",
              "      <td>91251</td>\n",
              "    </tr>\n",
              "    <tr>\n",
              "      <th>Organic Grape Tomatoes</th>\n",
              "      <td>88078</td>\n",
              "    </tr>\n",
              "    <tr>\n",
              "      <th>Apple Honeycrisp Organic</th>\n",
              "      <td>87272</td>\n",
              "    </tr>\n",
              "  </tbody>\n",
              "</table>\n",
              "</div>"
            ],
            "text/plain": [
              "                          order_id\n",
              "product_name                      \n",
              "Banana                      491291\n",
              "Bag of Organic Bananas      394930\n",
              "Organic Strawberries        275577\n",
              "Organic Baby Spinach        251705\n",
              "Organic Hass Avocado        220877\n",
              "Organic Avocado             184224\n",
              "Large Lemon                 160792\n",
              "Strawberries                149445\n",
              "Limes                       146660\n",
              "Organic Whole Milk          142813\n",
              "Organic Raspberries         142603\n",
              "Organic Yellow Onion        117716\n",
              "Organic Garlic              113936\n",
              "Organic Zucchini            109412\n",
              "Organic Blueberries         105026\n",
              "Cucumber Kirby               99728\n",
              "Organic Fuji Apple           92889\n",
              "Organic Lemon                91251\n",
              "Organic Grape Tomatoes       88078\n",
              "Apple Honeycrisp Organic     87272"
            ]
          },
          "metadata": {
            "tags": []
          },
          "execution_count": 44
        }
      ]
    },
    {
      "cell_type": "code",
      "metadata": {
        "id": "YHzGkgq8Xw_v",
        "colab_type": "code",
        "outputId": "7e335f5b-976c-4d82-847d-c218bf96eb5b",
        "colab": {
          "base_uri": "https://localhost:8080/"
        }
      },
      "source": [
        "products_df['product_name'].str.contains('coupon').any()"
      ],
      "execution_count": 0,
      "outputs": [
        {
          "output_type": "execute_result",
          "data": {
            "text/plain": [
              "False"
            ]
          },
          "metadata": {
            "tags": []
          },
          "execution_count": 45
        }
      ]
    },
    {
      "cell_type": "code",
      "metadata": {
        "id": "b7eeHo2IYB6u",
        "colab_type": "code",
        "outputId": "a3abc21b-2b76-488f-81ca-2bb9d502c7ee",
        "colab": {
          "base_uri": "https://localhost:8080/"
        }
      },
      "source": [
        "products_df['product_name'].str.contains('points').any()"
      ],
      "execution_count": 0,
      "outputs": [
        {
          "output_type": "execute_result",
          "data": {
            "text/plain": [
              "False"
            ]
          },
          "metadata": {
            "tags": []
          },
          "execution_count": 46
        }
      ]
    },
    {
      "cell_type": "code",
      "metadata": {
        "id": "VMEBM8mzYE_L",
        "colab_type": "code",
        "outputId": "6ed29ae6-d79f-4d09-8607-731fbeac9bd1",
        "colab": {
          "base_uri": "https://localhost:8080/"
        }
      },
      "source": [
        "products_df['product_name'].str.contains('dummy').any()"
      ],
      "execution_count": 0,
      "outputs": [
        {
          "output_type": "execute_result",
          "data": {
            "text/plain": [
              "False"
            ]
          },
          "metadata": {
            "tags": []
          },
          "execution_count": 47
        }
      ]
    },
    {
      "cell_type": "markdown",
      "metadata": {
        "id": "0X4-k8HTYHdD",
        "colab_type": "text"
      },
      "source": [
        "It seems that there are no dummy"
      ]
    },
    {
      "cell_type": "markdown",
      "metadata": {
        "id": "8pEAR94H_9v-",
        "colab_type": "text"
      },
      "source": [
        "Table with info about aisles"
      ]
    },
    {
      "cell_type": "code",
      "metadata": {
        "id": "AynNkuXlABHo",
        "colab_type": "code",
        "colab": {}
      },
      "source": [
        "aisles_df = pd.read_csv('./data/unziped/instacart_2017_05_01/aisles.csv')"
      ],
      "execution_count": 0,
      "outputs": []
    },
    {
      "cell_type": "code",
      "metadata": {
        "id": "bJVnVtttAGdt",
        "colab_type": "code",
        "outputId": "5a05f626-5ef4-45f5-b099-12a9b497d168",
        "colab": {
          "base_uri": "https://localhost:8080/"
        }
      },
      "source": [
        "aisles_df.head()"
      ],
      "execution_count": 0,
      "outputs": [
        {
          "output_type": "execute_result",
          "data": {
            "text/html": [
              "<div>\n",
              "<style scoped>\n",
              "    .dataframe tbody tr th:only-of-type {\n",
              "        vertical-align: middle;\n",
              "    }\n",
              "\n",
              "    .dataframe tbody tr th {\n",
              "        vertical-align: top;\n",
              "    }\n",
              "\n",
              "    .dataframe thead th {\n",
              "        text-align: right;\n",
              "    }\n",
              "</style>\n",
              "<table border=\"1\" class=\"dataframe\">\n",
              "  <thead>\n",
              "    <tr style=\"text-align: right;\">\n",
              "      <th></th>\n",
              "      <th>aisle_id</th>\n",
              "      <th>aisle</th>\n",
              "    </tr>\n",
              "  </thead>\n",
              "  <tbody>\n",
              "    <tr>\n",
              "      <th>0</th>\n",
              "      <td>1</td>\n",
              "      <td>prepared soups salads</td>\n",
              "    </tr>\n",
              "    <tr>\n",
              "      <th>1</th>\n",
              "      <td>2</td>\n",
              "      <td>specialty cheeses</td>\n",
              "    </tr>\n",
              "    <tr>\n",
              "      <th>2</th>\n",
              "      <td>3</td>\n",
              "      <td>energy granola bars</td>\n",
              "    </tr>\n",
              "    <tr>\n",
              "      <th>3</th>\n",
              "      <td>4</td>\n",
              "      <td>instant foods</td>\n",
              "    </tr>\n",
              "    <tr>\n",
              "      <th>4</th>\n",
              "      <td>5</td>\n",
              "      <td>marinades meat preparation</td>\n",
              "    </tr>\n",
              "  </tbody>\n",
              "</table>\n",
              "</div>"
            ],
            "text/plain": [
              "   aisle_id                       aisle\n",
              "0         1       prepared soups salads\n",
              "1         2           specialty cheeses\n",
              "2         3         energy granola bars\n",
              "3         4               instant foods\n",
              "4         5  marinades meat preparation"
            ]
          },
          "metadata": {
            "tags": []
          },
          "execution_count": 49
        }
      ]
    },
    {
      "cell_type": "markdown",
      "metadata": {
        "id": "1NikLMOdAUJr",
        "colab_type": "text"
      },
      "source": [
        "No nulls"
      ]
    },
    {
      "cell_type": "code",
      "metadata": {
        "id": "uIJYo8deAQSM",
        "colab_type": "code",
        "outputId": "058c0bb8-ec62-4e6a-b688-180e99a8ddf7",
        "colab": {
          "base_uri": "https://localhost:8080/"
        }
      },
      "source": [
        "aisles_df.info()"
      ],
      "execution_count": 0,
      "outputs": [
        {
          "output_type": "stream",
          "text": [
            "<class 'pandas.core.frame.DataFrame'>\n",
            "RangeIndex: 134 entries, 0 to 133\n",
            "Data columns (total 2 columns):\n",
            "aisle_id    134 non-null int64\n",
            "aisle       134 non-null object\n",
            "dtypes: int64(1), object(1)\n",
            "memory usage: 2.2+ KB\n"
          ],
          "name": "stdout"
        }
      ]
    },
    {
      "cell_type": "markdown",
      "metadata": {
        "id": "f1o9I2pOAcoD",
        "colab_type": "text"
      },
      "source": [
        "No duplicates"
      ]
    },
    {
      "cell_type": "code",
      "metadata": {
        "id": "9CxFmBY-AX0b",
        "colab_type": "code",
        "outputId": "2e10c1e1-ca2c-4560-da7d-9371c97e8f90",
        "colab": {
          "base_uri": "https://localhost:8080/"
        }
      },
      "source": [
        "aisles_df.nunique()"
      ],
      "execution_count": 0,
      "outputs": [
        {
          "output_type": "execute_result",
          "data": {
            "text/plain": [
              "aisle_id    134\n",
              "aisle       134\n",
              "dtype: int64"
            ]
          },
          "metadata": {
            "tags": []
          },
          "execution_count": 51
        }
      ]
    },
    {
      "cell_type": "markdown",
      "metadata": {
        "id": "2fGp-V07Ap2j",
        "colab_type": "text"
      },
      "source": [
        "Table with info about departments"
      ]
    },
    {
      "cell_type": "code",
      "metadata": {
        "id": "AjF12ogZAtG1",
        "colab_type": "code",
        "colab": {}
      },
      "source": [
        "departments_df = pd.read_csv('./data/unziped/instacart_2017_05_01/departments.csv')"
      ],
      "execution_count": 0,
      "outputs": []
    },
    {
      "cell_type": "code",
      "metadata": {
        "id": "f7LlIjQPAzfr",
        "colab_type": "code",
        "outputId": "15a25b84-172c-4592-8bf4-da34f6325f74",
        "colab": {
          "base_uri": "https://localhost:8080/"
        }
      },
      "source": [
        "departments_df.head()"
      ],
      "execution_count": 0,
      "outputs": [
        {
          "output_type": "execute_result",
          "data": {
            "text/html": [
              "<div>\n",
              "<style scoped>\n",
              "    .dataframe tbody tr th:only-of-type {\n",
              "        vertical-align: middle;\n",
              "    }\n",
              "\n",
              "    .dataframe tbody tr th {\n",
              "        vertical-align: top;\n",
              "    }\n",
              "\n",
              "    .dataframe thead th {\n",
              "        text-align: right;\n",
              "    }\n",
              "</style>\n",
              "<table border=\"1\" class=\"dataframe\">\n",
              "  <thead>\n",
              "    <tr style=\"text-align: right;\">\n",
              "      <th></th>\n",
              "      <th>department_id</th>\n",
              "      <th>department</th>\n",
              "    </tr>\n",
              "  </thead>\n",
              "  <tbody>\n",
              "    <tr>\n",
              "      <th>0</th>\n",
              "      <td>1</td>\n",
              "      <td>frozen</td>\n",
              "    </tr>\n",
              "    <tr>\n",
              "      <th>1</th>\n",
              "      <td>2</td>\n",
              "      <td>other</td>\n",
              "    </tr>\n",
              "    <tr>\n",
              "      <th>2</th>\n",
              "      <td>3</td>\n",
              "      <td>bakery</td>\n",
              "    </tr>\n",
              "    <tr>\n",
              "      <th>3</th>\n",
              "      <td>4</td>\n",
              "      <td>produce</td>\n",
              "    </tr>\n",
              "    <tr>\n",
              "      <th>4</th>\n",
              "      <td>5</td>\n",
              "      <td>alcohol</td>\n",
              "    </tr>\n",
              "  </tbody>\n",
              "</table>\n",
              "</div>"
            ],
            "text/plain": [
              "   department_id department\n",
              "0              1     frozen\n",
              "1              2      other\n",
              "2              3     bakery\n",
              "3              4    produce\n",
              "4              5    alcohol"
            ]
          },
          "metadata": {
            "tags": []
          },
          "execution_count": 53
        }
      ]
    },
    {
      "cell_type": "markdown",
      "metadata": {
        "id": "wzHxkfJpA2be",
        "colab_type": "text"
      },
      "source": [
        "No nulls"
      ]
    },
    {
      "cell_type": "code",
      "metadata": {
        "id": "UYXOD3w_A2q1",
        "colab_type": "code",
        "outputId": "3a7a3d3e-e27d-48a5-b422-ee7b0d8776a5",
        "colab": {
          "base_uri": "https://localhost:8080/"
        }
      },
      "source": [
        "departments_df.info()"
      ],
      "execution_count": 0,
      "outputs": [
        {
          "output_type": "stream",
          "text": [
            "<class 'pandas.core.frame.DataFrame'>\n",
            "RangeIndex: 21 entries, 0 to 20\n",
            "Data columns (total 2 columns):\n",
            "department_id    21 non-null int64\n",
            "department       21 non-null object\n",
            "dtypes: int64(1), object(1)\n",
            "memory usage: 464.0+ bytes\n"
          ],
          "name": "stdout"
        }
      ]
    },
    {
      "cell_type": "markdown",
      "metadata": {
        "id": "MYFb5HIEA9eF",
        "colab_type": "text"
      },
      "source": [
        "No duplicates"
      ]
    },
    {
      "cell_type": "code",
      "metadata": {
        "id": "nS2kaXuiA_Wt",
        "colab_type": "code",
        "outputId": "19eaccb2-cb36-4124-f03d-d6bd3fc8471b",
        "colab": {
          "base_uri": "https://localhost:8080/"
        }
      },
      "source": [
        "departments_df.nunique()"
      ],
      "execution_count": 0,
      "outputs": [
        {
          "output_type": "execute_result",
          "data": {
            "text/plain": [
              "department_id    21\n",
              "department       21\n",
              "dtype: int64"
            ]
          },
          "metadata": {
            "tags": []
          },
          "execution_count": 55
        }
      ]
    },
    {
      "cell_type": "markdown",
      "metadata": {
        "id": "imy16dp8BTo8",
        "colab_type": "text"
      },
      "source": [
        "Check mapping between aisles, products and departments"
      ]
    },
    {
      "cell_type": "code",
      "metadata": {
        "id": "xmQZnT8oBmz6",
        "colab_type": "code",
        "outputId": "6eeb6fc4-a24b-4266-e832-ba572ae7cf50",
        "colab": {
          "base_uri": "https://localhost:8080/"
        }
      },
      "source": [
        "set(aisles_df['aisle_id'].unique()) == set(products_df['aisle_id'].unique())"
      ],
      "execution_count": 0,
      "outputs": [
        {
          "output_type": "execute_result",
          "data": {
            "text/plain": [
              "True"
            ]
          },
          "metadata": {
            "tags": []
          },
          "execution_count": 56
        }
      ]
    },
    {
      "cell_type": "code",
      "metadata": {
        "id": "thadV70cB9lq",
        "colab_type": "code",
        "outputId": "46a027a1-9f78-4b87-80d6-24576edcae86",
        "colab": {
          "base_uri": "https://localhost:8080/"
        }
      },
      "source": [
        "set(departments_df['department_id'].unique()) == set(products_df['department_id'].unique())"
      ],
      "execution_count": 0,
      "outputs": [
        {
          "output_type": "execute_result",
          "data": {
            "text/plain": [
              "True"
            ]
          },
          "metadata": {
            "tags": []
          },
          "execution_count": 57
        }
      ]
    },
    {
      "cell_type": "markdown",
      "metadata": {
        "id": "irsjptIZ--dP",
        "colab_type": "text"
      },
      "source": [
        "How often people reorder items?"
      ]
    },
    {
      "cell_type": "code",
      "metadata": {
        "id": "tyZaL1Sz_ES-",
        "colab_type": "code",
        "outputId": "166c52d6-8610-4468-d684-9e5b6a380799",
        "colab": {
          "base_uri": "https://localhost:8080/"
        }
      },
      "source": [
        "merged = concated_df['reordered'].value_counts(normalize=True)\n",
        "fig = plt.figure(figsize=(15,10))\n",
        "ax = fig.add_subplot(1,1,1)\n",
        "sns.barplot(x=merged.index, y=merged.values,ax=ax)\n",
        "ax.set_xlabel('reordered')"
      ],
      "execution_count": 0,
      "outputs": [
        {
          "output_type": "execute_result",
          "data": {
            "text/plain": [
              "Text(0.5, 0, 'reordered')"
            ]
          },
          "metadata": {
            "tags": []
          },
          "execution_count": 58
        },
        {
          "output_type": "display_data",
          "data": {
            "image/png": "[encoded data removed]",
            "text/plain": [
              "<Figure size 1080x720 with 1 Axes>"
            ]
          },
          "metadata": {
            "tags": []
          }
        }
      ]
    },
    {
      "cell_type": "markdown",
      "metadata": {
        "id": "3blmrnBejDUA",
        "colab_type": "text"
      },
      "source": [
        "Which products are first in order?"
      ]
    },
    {
      "cell_type": "code",
      "metadata": {
        "id": "8xnsmBzljVCO",
        "colab_type": "code",
        "outputId": "458ac386-0e0d-4b1d-dfea-6a76c0f0875f",
        "colab": {
          "base_uri": "https://localhost:8080/"
        }
      },
      "source": [
        "merged = concated_df.query('add_to_cart_order == 1').merge(products_df,on='product_id',how='left')['product_name'].value_counts()[:5]\n",
        "fig = plt.figure(figsize=(15,10))\n",
        "ax = fig.add_subplot(1,1,1)\n",
        "sns.barplot(x=merged.index, y=merged.values,ax=ax)"
      ],
      "execution_count": 0,
      "outputs": [
        {
          "output_type": "execute_result",
          "data": {
            "text/plain": [
              "<matplotlib.axes._subplots.AxesSubplot at 0x7f46988f2860>"
            ]
          },
          "metadata": {
            "tags": []
          },
          "execution_count": 59
        },
        {
          "output_type": "display_data",
          "data": {
            "image/png": "[encoded data removed]",
            "text/plain": [
              "<Figure size 1080x720 with 1 Axes>"
            ]
          },
          "metadata": {
            "tags": []
          }
        }
      ]
    },
    {
      "cell_type": "markdown",
      "metadata": {
        "id": "lGZ93ZbmjiDU",
        "colab_type": "text"
      },
      "source": [
        "We can see that most popular products are first in order"
      ]
    },
    {
      "cell_type": "markdown",
      "metadata": {
        "id": "1cynBaRmZ-nr",
        "colab_type": "text"
      },
      "source": [
        "Distribution of products by aisles"
      ]
    },
    {
      "cell_type": "code",
      "metadata": {
        "id": "WC6EWH40ZqoD",
        "colab_type": "code",
        "outputId": "90677938-706e-49c5-d688-74f17c70b73f",
        "colab": {
          "base_uri": "https://localhost:8080/"
        }
      },
      "source": [
        "aisles_df['aisle'].nunique()"
      ],
      "execution_count": 0,
      "outputs": [
        {
          "output_type": "execute_result",
          "data": {
            "text/plain": [
              "134"
            ]
          },
          "metadata": {
            "tags": []
          },
          "execution_count": 60
        }
      ]
    },
    {
      "cell_type": "code",
      "metadata": {
        "id": "vu4mX3rHaOtj",
        "colab_type": "code",
        "colab": {}
      },
      "source": [
        "merged_df = pd.merge(concated_df, products_df, on='product_id')"
      ],
      "execution_count": 0,
      "outputs": []
    },
    {
      "cell_type": "code",
      "metadata": {
        "id": "ea9WCmLYftTx",
        "colab_type": "code",
        "colab": {}
      },
      "source": [
        "calc_prod_num_by_aisle = merged_df.groupby('aisle_id').agg({'product_id':'count'}).reset_index().rename(columns={'product_id':'num_of_products'}).merge(aisles_df, on='aisle_id')"
      ],
      "execution_count": 0,
      "outputs": []
    },
    {
      "cell_type": "code",
      "metadata": {
        "id": "dqI4-1qIf3gz",
        "colab_type": "code",
        "outputId": "da0d70a0-182b-4367-cd50-310bd9ca34e2",
        "colab": {
          "base_uri": "https://localhost:8080/"
        }
      },
      "source": [
        "sns.barplot(data=calc_prod_num_by_aisle.sort_values(by='num_of_products', ascending=False).iloc[:10],x='num_of_products', y='aisle')"
      ],
      "execution_count": 0,
      "outputs": [
        {
          "output_type": "execute_result",
          "data": {
            "text/plain": [
              "<matplotlib.axes._subplots.AxesSubplot at 0x7f46988e0c50>"
            ]
          },
          "metadata": {
            "tags": []
          },
          "execution_count": 63
        },
        {
          "output_type": "display_data",
          "data": {
            "image/png": "[encoded data removed]",
            "text/plain": [
              "<Figure size 432x288 with 1 Axes>"
            ]
          },
          "metadata": {
            "tags": []
          }
        }
      ]
    },
    {
      "cell_type": "markdown",
      "metadata": {
        "id": "I3LcvQLFgeJl",
        "colab_type": "text"
      },
      "source": [
        "Most frequent are fruits and vegetables"
      ]
    },
    {
      "cell_type": "markdown",
      "metadata": {
        "id": "RgMImhD-KyCu",
        "colab_type": "text"
      },
      "source": [
        "Check whether all products are unique in one order"
      ]
    },
    {
      "cell_type": "code",
      "metadata": {
        "id": "mK3zipa2K2Q5",
        "colab_type": "code",
        "outputId": "77681f36-1119-4a10-962f-8c5b8f224824",
        "colab": {
          "base_uri": "https://localhost:8080/"
        }
      },
      "source": [
        "tmp_df = concated_df.groupby('order_id').agg(\n",
        "    product_num=pd.NamedAgg(column='product_id', aggfunc='count'),\n",
        "    product_nunique = pd.NamedAgg(column='product_id', aggfunc='nunique'))\n",
        "sum(tmp_df['product_num'] != tmp_df['product_nunique'])"
      ],
      "execution_count": 0,
      "outputs": [
        {
          "output_type": "execute_result",
          "data": {
            "text/plain": [
              "0"
            ]
          },
          "metadata": {
            "tags": []
          },
          "execution_count": 64
        }
      ]
    },
    {
      "cell_type": "markdown",
      "metadata": {
        "id": "aTD1eOdvMQHr",
        "colab_type": "text"
      },
      "source": [
        "So all products in one order are unique"
      ]
    },
    {
      "cell_type": "markdown",
      "metadata": {
        "id": "Qoi3zDtnM9Mt",
        "colab_type": "text"
      },
      "source": [
        "We have 1 order per user in train"
      ]
    },
    {
      "cell_type": "code",
      "metadata": {
        "id": "kho3MHMsMoAk",
        "colab_type": "code",
        "outputId": "1e81e969-fb50-4256-f700-227c93a0e2f5",
        "colab": {
          "base_uri": "https://localhost:8080/"
        }
      },
      "source": [
        "orders_df[orders_df['eval_set'] == 'train'].groupby('user_id').agg({'order_id' : 'nunique'}).max()"
      ],
      "execution_count": 0,
      "outputs": [
        {
          "output_type": "execute_result",
          "data": {
            "text/plain": [
              "order_id    1\n",
              "dtype: int64"
            ]
          },
          "metadata": {
            "tags": []
          },
          "execution_count": 65
        }
      ]
    },
    {
      "cell_type": "markdown",
      "metadata": {
        "id": "QBGlifT3NLeh",
        "colab_type": "text"
      },
      "source": [
        "Distribution of orders per user in prior"
      ]
    },
    {
      "cell_type": "code",
      "metadata": {
        "id": "TuRH-ayBNC48",
        "colab_type": "code",
        "outputId": "7f8d766b-c08b-4a0e-e198-6eaf99abd9b9",
        "colab": {
          "base_uri": "https://localhost:8080/"
        }
      },
      "source": [
        "orders_df[orders_df['eval_set'] == 'prior'].groupby('user_id').agg({'order_id' : 'nunique'}).hist()"
      ],
      "execution_count": 0,
      "outputs": [
        {
          "output_type": "execute_result",
          "data": {
            "text/plain": [
              "array([[<matplotlib.axes._subplots.AxesSubplot object at 0x7f4697d27eb8>]],\n",
              "      dtype=object)"
            ]
          },
          "metadata": {
            "tags": []
          },
          "execution_count": 66
        },
        {
          "output_type": "display_data",
          "data": {
            "image/png": "[encoded data removed]",
            "text/plain": [
              "<Figure size 432x288 with 1 Axes>"
            ]
          },
          "metadata": {
            "tags": []
          }
        }
      ]
    },
    {
      "cell_type": "markdown",
      "metadata": {
        "id": "uFhc9sWrNcHD",
        "colab_type": "text"
      },
      "source": [
        "3 orders per user in prior minimum"
      ]
    },
    {
      "cell_type": "code",
      "metadata": {
        "id": "31vFxM6xNZbU",
        "colab_type": "code",
        "outputId": "faccab53-781c-4974-c38c-f5b77c7e7c8c",
        "colab": {
          "base_uri": "https://localhost:8080/"
        }
      },
      "source": [
        "orders_df[orders_df['eval_set'] == 'prior'].groupby('user_id').agg({'order_id' : 'nunique'}).min()"
      ],
      "execution_count": 0,
      "outputs": [
        {
          "output_type": "execute_result",
          "data": {
            "text/plain": [
              "order_id    3\n",
              "dtype: int64"
            ]
          },
          "metadata": {
            "tags": []
          },
          "execution_count": 67
        }
      ]
    },
    {
      "cell_type": "markdown",
      "metadata": {
        "id": "T3sBYG7kk1oJ",
        "colab_type": "text"
      },
      "source": [
        "# Metrics"
      ]
    },
    {
      "cell_type": "code",
      "metadata": {
        "id": "3kJrOfSsk3Z7",
        "colab_type": "code",
        "colab": {}
      },
      "source": [
        "def precision_at_k(predicted, actual, k):\n",
        "  assert len(predicted) >= k\n",
        "  intersection = set(predicted[:k]) & set(actual)\n",
        "  return len(intersection) / k"
      ],
      "execution_count": 0,
      "outputs": []
    },
    {
      "cell_type": "code",
      "metadata": {
        "id": "GveDVl-7k_Fz",
        "colab_type": "code",
        "colab": {}
      },
      "source": [
        "def average_precision_at_k(predicted, actual, k):\n",
        "  tmp = 0\n",
        "  actual_length = min(k,len(actual))\n",
        "  if len(predicted) < actual_length:\n",
        "    warnings.warn(\"Length of predict is less than k\")\n",
        "  for i in range(actual_length):\n",
        "    if predicted[i] in actual:\n",
        "      tmp += precision_at_k(predicted[:i+1], actual, i+1)\n",
        "  return tmp / actual_length"
      ],
      "execution_count": 0,
      "outputs": []
    },
    {
      "cell_type": "code",
      "metadata": {
        "id": "t8mWHHaelAzb",
        "colab_type": "code",
        "colab": {}
      },
      "source": [
        "def mean_average_precision_at_k(predicted_list, actual_list, k):\n",
        "  tmp = 0\n",
        "  cnt = 0\n",
        "  for predicted, actual in zip(predicted_list, actual_list):\n",
        "    if len(actual) != 0:\n",
        "      tmp += average_precision_at_k(predicted, actual, k)\n",
        "      cnt += 1\n",
        "  assert cnt != 0\n",
        "  return tmp / cnt"
      ],
      "execution_count": 0,
      "outputs": []
    },
    {
      "cell_type": "markdown",
      "metadata": {
        "id": "b3L9OBlFrpii",
        "colab_type": "text"
      },
      "source": [
        "# Basic Recommenders"
      ]
    },
    {
      "cell_type": "code",
      "metadata": {
        "id": "dRRAVG5vIZDo",
        "colab_type": "code",
        "colab": {}
      },
      "source": [
        "train_orders_merged_df = pd.merge(orders_df[orders_df['eval_set'] == 'train'], order_products_train_df, on='order_id')\n",
        "prior_orders_merged_df = pd.merge(orders_df[orders_df['eval_set'] == 'prior'], order_products_prior_df, on='order_id')"
      ],
      "execution_count": 0,
      "outputs": []
    },
    {
      "cell_type": "code",
      "metadata": {
        "id": "58nRqbTorsPH",
        "colab_type": "code",
        "colab": {}
      },
      "source": [
        "class MostPopularRecommender():\n",
        "  def __init__(self):\n",
        "    pass\n",
        "  \n",
        "  def fit(self, X_train):\n",
        "    assert type(X_train) == pd.DataFrame\n",
        "    self.most_popular = list(X_train['product_id'].value_counts().index[:])\n",
        "  \n",
        "  def predict(self, X_test, top_n):\n",
        "    predicted = pd.DataFrame()\n",
        "    predicted['user_id'] = list(X_test['user_id'].unique())\n",
        "    predicted['product_id'] = [self.most_popular[:top_n] for i in range(X_test['user_id'].nunique())]\n",
        "    return predicted"
      ],
      "execution_count": 0,
      "outputs": []
    },
    {
      "cell_type": "markdown",
      "metadata": {
        "id": "OzOQII8nyWt1",
        "colab_type": "text"
      },
      "source": [
        "Solve problem with svd later"
      ]
    },
    {
      "cell_type": "code",
      "metadata": {
        "id": "ICnadu8W6Ow7",
        "colab_type": "code",
        "colab": {}
      },
      "source": [
        "#svd_input = prior_orders_merged_df.groupby(['user_id','product_id']).agg(buy_num=pd.NamedAgg(column='order_id', aggfunc='count')).reset_index()"
      ],
      "execution_count": 0,
      "outputs": []
    },
    {
      "cell_type": "code",
      "metadata": {
        "id": "_qt-UWicG-Bf",
        "colab_type": "code",
        "colab": {}
      },
      "source": [
        "#svds = SVDRecommender(10)\n",
        "#svds.fit(svd_input)\n"
      ],
      "execution_count": 0,
      "outputs": []
    },
    {
      "cell_type": "code",
      "metadata": {
        "id": "cIU55gzl4J3q",
        "colab_type": "code",
        "colab": {}
      },
      "source": [
        "class SVDRecommender():\n",
        "  def __init__(self, k):\n",
        "    self.k = k\n",
        "\n",
        "  \n",
        "  def fit(self, X_train):\n",
        "    self.X_train = X_train\n",
        "    R_df = X_train.pivot(index = 'user_id', columns ='product_id', values = 'buy_num')\n",
        "\n",
        "    for index, row in R_df.iterrows():\n",
        "      row.fillna(row.mean(),inplace=True)\n",
        "      \n",
        "    R = R_df.as_matrix()\n",
        "    user_ratings_mean = np.mean(R, axis = 1)\n",
        "    R_demeaned = R - user_ratings_mean.reshape(-1, 1)\n",
        "    \n",
        "    \n",
        "    U, sigma, Vt = svds(R_demeaned, self.k)\n",
        "    sigma = np.diag(sigma)\n",
        "    all_user_predicted_ratings = np.dot(np.dot(U, sigma), Vt) + user_ratings_mean.reshape(-1, 1)\n",
        "    self.preds_df = pd.DataFrame(all_user_predicted_ratings, columns = R_df.columns)\n",
        "    self.preds_df.index = R_df.index\n",
        "    \n",
        "  def predict(self, X_test, top_n):\n",
        "    predicted_all_users_list = []\n",
        "    for user in X_test['user_id'].unique():\n",
        "      if user in self.X_train['user_id'].unique():\n",
        "        predicted_all_users_list.append(list(self.preds_df.loc[user].sort_values(ascending=False).index[:top_n]))\n",
        "    return predicted_all_users_list "
      ],
      "execution_count": 0,
      "outputs": []
    },
    {
      "cell_type": "markdown",
      "metadata": {
        "id": "4DTTPe5rlCu7",
        "colab_type": "text"
      },
      "source": [
        "# FPGrow Recommender"
      ]
    },
    {
      "cell_type": "code",
      "metadata": {
        "id": "gLIc0M-x14DI",
        "colab_type": "code",
        "colab": {}
      },
      "source": [
        "train_orders_merged_df = pd.merge(orders_df[orders_df['eval_set'] == 'train'], order_products_train_df, on='order_id')\n",
        "prior_orders_merged_df = pd.merge(orders_df[orders_df['eval_set'] == 'prior'], order_products_prior_df, on='order_id')"
      ],
      "execution_count": 0,
      "outputs": []
    },
    {
      "cell_type": "code",
      "metadata": {
        "id": "XbiQnd7Hebfs",
        "colab_type": "code",
        "colab": {}
      },
      "source": [
        "def collect_products(x):\n",
        "  return list(x.values)"
      ],
      "execution_count": 0,
      "outputs": []
    },
    {
      "cell_type": "code",
      "metadata": {
        "id": "vg-ACFfYde6B",
        "colab_type": "code",
        "colab": {}
      },
      "source": [
        "transactions_df = prior_orders_merged_df.groupby('order_id').agg({'product_id' : collect_products}).reset_index()\\\n",
        ".rename(columns={'product_id':'transaction'})"
      ],
      "execution_count": 0,
      "outputs": []
    },
    {
      "cell_type": "code",
      "metadata": {
        "id": "t9CUfv6Jg_iG",
        "colab_type": "code",
        "colab": {}
      },
      "source": [
        "transactions_list = list(transactions_df['transaction'].values)"
      ],
      "execution_count": 0,
      "outputs": []
    },
    {
      "cell_type": "code",
      "metadata": {
        "id": "2tqXU4ATjwYW",
        "colab_type": "code",
        "outputId": "e6e27686-cd35-4379-df4f-a3137d6f46ea",
        "colab": {
          "base_uri": "https://localhost:8080/",
          "height": 35
        }
      },
      "source": [
        "len(transactions_list)"
      ],
      "execution_count": 0,
      "outputs": [
        {
          "output_type": "execute_result",
          "data": {
            "text/plain": [
              "3214874"
            ]
          },
          "metadata": {
            "tags": []
          },
          "execution_count": 25
        }
      ]
    },
    {
      "cell_type": "markdown",
      "metadata": {
        "id": "CUOQCQNCmEZk",
        "colab_type": "text"
      },
      "source": [
        "## pyfpgrowth"
      ]
    },
    {
      "cell_type": "code",
      "metadata": {
        "id": "_xAGyHpkjmn6",
        "colab_type": "code",
        "outputId": "8fb61182-6134-4e61-8c9b-a5b689ecbe8b",
        "colab": {
          "base_uri": "https://localhost:8080/",
          "height": 54
        }
      },
      "source": [
        "%%time\n",
        "patterns = pyfpgrowth.find_frequent_patterns(transactions_list, int(0.03*len(transactions_list)))"
      ],
      "execution_count": 0,
      "outputs": [
        {
          "output_type": "stream",
          "text": [
            "CPU times: user 27.8 s, sys: 53.9 ms, total: 27.9 s\n",
            "Wall time: 27.9 s\n"
          ],
          "name": "stdout"
        }
      ]
    },
    {
      "cell_type": "code",
      "metadata": {
        "id": "uX6NbCS5j0t6",
        "colab_type": "code",
        "outputId": "9c241d73-f429-4dbb-8bc8-232a646e97a9",
        "colab": {
          "base_uri": "https://localhost:8080/",
          "height": 308
        }
      },
      "source": [
        "patterns"
      ],
      "execution_count": 0,
      "outputs": [
        {
          "output_type": "execute_result",
          "data": {
            "text/plain": [
              "{(13176,): 379450,\n",
              " (16797,): 142951,\n",
              " (21137,): 264683,\n",
              " (21903,): 241921,\n",
              " (22935,): 113426,\n",
              " (24852,): 472565,\n",
              " (24964,): 109778,\n",
              " (26209,): 140627,\n",
              " (27845,): 137905,\n",
              " (27966,): 137057,\n",
              " (39275,): 100060,\n",
              " (45007,): 104823,\n",
              " (47209,): 213584,\n",
              " (47626,): 152657,\n",
              " (47766,): 176815,\n",
              " (49683,): 97315}"
            ]
          },
          "metadata": {
            "tags": []
          },
          "execution_count": 27
        }
      ]
    },
    {
      "cell_type": "markdown",
      "metadata": {
        "id": "yJLWmP8BmQE4",
        "colab_type": "text"
      },
      "source": [
        "Absolutely impossible to use pyfpgrowth. Here support is 321487 and it more than hour, but we need support approximately 1000. Time grows exponentially."
      ]
    },
    {
      "cell_type": "markdown",
      "metadata": {
        "id": "dzDAv1gvE21w",
        "colab_type": "text"
      },
      "source": [
        "## pyfim"
      ]
    },
    {
      "cell_type": "code",
      "metadata": {
        "id": "mjcuCv4IE4ui",
        "colab_type": "code",
        "colab": {}
      },
      "source": [
        "freq_itemsets = list(fpgrowth(transactions_list, supp=-3000, zmin=3))"
      ],
      "execution_count": 0,
      "outputs": []
    },
    {
      "cell_type": "code",
      "metadata": {
        "id": "MM_k_64SH--z",
        "colab_type": "code",
        "outputId": "f7d3d82a-d29d-4cb7-a928-eb4d86a1f595",
        "colab": {
          "base_uri": "https://localhost:8080/",
          "height": 35
        }
      },
      "source": [
        "len(freq_itemsets)"
      ],
      "execution_count": 0,
      "outputs": [
        {
          "output_type": "execute_result",
          "data": {
            "text/plain": [
              "278"
            ]
          },
          "metadata": {
            "tags": []
          },
          "execution_count": 29
        }
      ]
    },
    {
      "cell_type": "code",
      "metadata": {
        "id": "cNC9VPbbKpkn",
        "colab_type": "code",
        "outputId": "0d571ba6-c597-446f-8171-8f50ad8eaac2",
        "colab": {
          "base_uri": "https://localhost:8080/",
          "height": 35
        }
      },
      "source": [
        "freq_itemsets[0]"
      ],
      "execution_count": 0,
      "outputs": [
        {
          "output_type": "execute_result",
          "data": {
            "text/plain": [
              "((21903, 21137, 24852), 9452)"
            ]
          },
          "metadata": {
            "tags": []
          },
          "execution_count": 30
        }
      ]
    },
    {
      "cell_type": "code",
      "metadata": {
        "id": "mFET-TyI6kra",
        "colab_type": "code",
        "colab": {}
      },
      "source": [
        "freq_itemsets = sorted(freq_itemsets, key=lambda x: x[1],reverse=True)"
      ],
      "execution_count": 0,
      "outputs": []
    },
    {
      "cell_type": "code",
      "metadata": {
        "id": "Hh5yYm3F0aNk",
        "colab_type": "code",
        "outputId": "c10c1b28-9657-4e43-e1f2-f327624444db",
        "colab": {
          "base_uri": "https://localhost:8080/",
          "height": 407
        }
      },
      "source": [
        "prior_orders_merged_df"
      ],
      "execution_count": 0,
      "outputs": [
        {
          "output_type": "execute_result",
          "data": {
            "text/html": [
              "<div>\n",
              "<style scoped>\n",
              "    .dataframe tbody tr th:only-of-type {\n",
              "        vertical-align: middle;\n",
              "    }\n",
              "\n",
              "    .dataframe tbody tr th {\n",
              "        vertical-align: top;\n",
              "    }\n",
              "\n",
              "    .dataframe thead th {\n",
              "        text-align: right;\n",
              "    }\n",
              "</style>\n",
              "<table border=\"1\" class=\"dataframe\">\n",
              "  <thead>\n",
              "    <tr style=\"text-align: right;\">\n",
              "      <th></th>\n",
              "      <th>order_id</th>\n",
              "      <th>user_id</th>\n",
              "      <th>eval_set</th>\n",
              "      <th>order_number</th>\n",
              "      <th>order_dow</th>\n",
              "      <th>order_hour_of_day</th>\n",
              "      <th>days_since_prior_order</th>\n",
              "      <th>product_id</th>\n",
              "      <th>add_to_cart_order</th>\n",
              "      <th>reordered</th>\n",
              "    </tr>\n",
              "  </thead>\n",
              "  <tbody>\n",
              "    <tr>\n",
              "      <th>0</th>\n",
              "      <td>2539329</td>\n",
              "      <td>1</td>\n",
              "      <td>prior</td>\n",
              "      <td>1</td>\n",
              "      <td>2</td>\n",
              "      <td>8</td>\n",
              "      <td>999.0</td>\n",
              "      <td>196</td>\n",
              "      <td>1</td>\n",
              "      <td>0</td>\n",
              "    </tr>\n",
              "    <tr>\n",
              "      <th>1</th>\n",
              "      <td>2539329</td>\n",
              "      <td>1</td>\n",
              "      <td>prior</td>\n",
              "      <td>1</td>\n",
              "      <td>2</td>\n",
              "      <td>8</td>\n",
              "      <td>999.0</td>\n",
              "      <td>14084</td>\n",
              "      <td>2</td>\n",
              "      <td>0</td>\n",
              "    </tr>\n",
              "    <tr>\n",
              "      <th>2</th>\n",
              "      <td>2539329</td>\n",
              "      <td>1</td>\n",
              "      <td>prior</td>\n",
              "      <td>1</td>\n",
              "      <td>2</td>\n",
              "      <td>8</td>\n",
              "      <td>999.0</td>\n",
              "      <td>12427</td>\n",
              "      <td>3</td>\n",
              "      <td>0</td>\n",
              "    </tr>\n",
              "    <tr>\n",
              "      <th>3</th>\n",
              "      <td>2539329</td>\n",
              "      <td>1</td>\n",
              "      <td>prior</td>\n",
              "      <td>1</td>\n",
              "      <td>2</td>\n",
              "      <td>8</td>\n",
              "      <td>999.0</td>\n",
              "      <td>26088</td>\n",
              "      <td>4</td>\n",
              "      <td>0</td>\n",
              "    </tr>\n",
              "    <tr>\n",
              "      <th>4</th>\n",
              "      <td>2539329</td>\n",
              "      <td>1</td>\n",
              "      <td>prior</td>\n",
              "      <td>1</td>\n",
              "      <td>2</td>\n",
              "      <td>8</td>\n",
              "      <td>999.0</td>\n",
              "      <td>26405</td>\n",
              "      <td>5</td>\n",
              "      <td>0</td>\n",
              "    </tr>\n",
              "    <tr>\n",
              "      <th>...</th>\n",
              "      <td>...</td>\n",
              "      <td>...</td>\n",
              "      <td>...</td>\n",
              "      <td>...</td>\n",
              "      <td>...</td>\n",
              "      <td>...</td>\n",
              "      <td>...</td>\n",
              "      <td>...</td>\n",
              "      <td>...</td>\n",
              "      <td>...</td>\n",
              "    </tr>\n",
              "    <tr>\n",
              "      <th>32434484</th>\n",
              "      <td>2977660</td>\n",
              "      <td>206209</td>\n",
              "      <td>prior</td>\n",
              "      <td>13</td>\n",
              "      <td>1</td>\n",
              "      <td>12</td>\n",
              "      <td>7.0</td>\n",
              "      <td>14197</td>\n",
              "      <td>5</td>\n",
              "      <td>1</td>\n",
              "    </tr>\n",
              "    <tr>\n",
              "      <th>32434485</th>\n",
              "      <td>2977660</td>\n",
              "      <td>206209</td>\n",
              "      <td>prior</td>\n",
              "      <td>13</td>\n",
              "      <td>1</td>\n",
              "      <td>12</td>\n",
              "      <td>7.0</td>\n",
              "      <td>38730</td>\n",
              "      <td>6</td>\n",
              "      <td>0</td>\n",
              "    </tr>\n",
              "    <tr>\n",
              "      <th>32434486</th>\n",
              "      <td>2977660</td>\n",
              "      <td>206209</td>\n",
              "      <td>prior</td>\n",
              "      <td>13</td>\n",
              "      <td>1</td>\n",
              "      <td>12</td>\n",
              "      <td>7.0</td>\n",
              "      <td>31477</td>\n",
              "      <td>7</td>\n",
              "      <td>0</td>\n",
              "    </tr>\n",
              "    <tr>\n",
              "      <th>32434487</th>\n",
              "      <td>2977660</td>\n",
              "      <td>206209</td>\n",
              "      <td>prior</td>\n",
              "      <td>13</td>\n",
              "      <td>1</td>\n",
              "      <td>12</td>\n",
              "      <td>7.0</td>\n",
              "      <td>6567</td>\n",
              "      <td>8</td>\n",
              "      <td>0</td>\n",
              "    </tr>\n",
              "    <tr>\n",
              "      <th>32434488</th>\n",
              "      <td>2977660</td>\n",
              "      <td>206209</td>\n",
              "      <td>prior</td>\n",
              "      <td>13</td>\n",
              "      <td>1</td>\n",
              "      <td>12</td>\n",
              "      <td>7.0</td>\n",
              "      <td>22920</td>\n",
              "      <td>9</td>\n",
              "      <td>0</td>\n",
              "    </tr>\n",
              "  </tbody>\n",
              "</table>\n",
              "<p>32434489 rows × 10 columns</p>\n",
              "</div>"
            ],
            "text/plain": [
              "          order_id  user_id eval_set  ...  product_id  add_to_cart_order  reordered\n",
              "0          2539329        1    prior  ...         196                  1          0\n",
              "1          2539329        1    prior  ...       14084                  2          0\n",
              "2          2539329        1    prior  ...       12427                  3          0\n",
              "3          2539329        1    prior  ...       26088                  4          0\n",
              "4          2539329        1    prior  ...       26405                  5          0\n",
              "...            ...      ...      ...  ...         ...                ...        ...\n",
              "32434484   2977660   206209    prior  ...       14197                  5          1\n",
              "32434485   2977660   206209    prior  ...       38730                  6          0\n",
              "32434486   2977660   206209    prior  ...       31477                  7          0\n",
              "32434487   2977660   206209    prior  ...        6567                  8          0\n",
              "32434488   2977660   206209    prior  ...       22920                  9          0\n",
              "\n",
              "[32434489 rows x 10 columns]"
            ]
          },
          "metadata": {
            "tags": []
          },
          "execution_count": 343
        }
      ]
    },
    {
      "cell_type": "markdown",
      "metadata": {
        "id": "Oo-ABIrMyxnR",
        "colab_type": "text"
      },
      "source": [
        "Train most popular - it will help us if association rules recommendations not enough"
      ]
    },
    {
      "cell_type": "code",
      "metadata": {
        "id": "HYuVcp9LsXor",
        "colab_type": "code",
        "colab": {}
      },
      "source": [
        "mp = MostPopularRecommender()\n",
        "mp.fit(prior_orders_merged_df)"
      ],
      "execution_count": 0,
      "outputs": []
    },
    {
      "cell_type": "markdown",
      "metadata": {
        "id": "mMTMUmvey-L_",
        "colab_type": "text"
      },
      "source": [
        "Build recommendation for 1 user: iterate through all products in cart and all frequent itemsets. If not enough recommendations -> add from most popular, if too much recommendations -> remove things that customer has never bought before."
      ]
    },
    {
      "cell_type": "code",
      "metadata": {
        "id": "LzmWYzh64tsD",
        "colab_type": "code",
        "colab": {}
      },
      "source": [
        "def build_rec_for_user(products, itemsets, prior_user_products, top_n=5):\n",
        "  recommendation = set()\n",
        "  for product in products:\n",
        "    for itemset in itemsets:\n",
        "      if product in itemset[0]:\n",
        "        recommendation.update(itemset[0])\n",
        "  # remove products which are in this order already\n",
        "  recommendation = list(recommendation.difference(set(products)))\n",
        "  # truncate recommendation\n",
        "  trunc_recommendation = []\n",
        "  if len(recommendation) > top_n:\n",
        "    for rec in recommendation:\n",
        "      if rec in prior_user_products:\n",
        "        trunc_recommendation.append(rec)\n",
        "        if len(trunc_recommendation) == top_n:\n",
        "          break\n",
        "  recommendation = trunc_recommendation\n",
        "  if len(recommendation) < top_n:\n",
        "    recommendation.extend(mp.most_popular[:top_n-len(recommendation)])\n",
        "  \n",
        "\n",
        "  return recommendation"
      ],
      "execution_count": 0,
      "outputs": []
    },
    {
      "cell_type": "code",
      "metadata": {
        "id": "wZFdCuQVCtIM",
        "colab_type": "code",
        "colab": {}
      },
      "source": [
        "def eval_results(actual, predicted,k):\n",
        "\n",
        "  def collect(x):\n",
        "    return list(x)\n",
        "  \n",
        "  ground_truth = actual.groupby('user_id').agg({'product_id':collect}).reset_index()\n",
        "  return mean_average_precision_at_k(list(predicted['product_id']), list(ground_truth['product_id']), k)"
      ],
      "execution_count": 0,
      "outputs": []
    },
    {
      "cell_type": "markdown",
      "metadata": {
        "id": "Jx-lu7dxveOP",
        "colab_type": "text"
      },
      "source": [
        "Calc number of products in order"
      ]
    },
    {
      "cell_type": "code",
      "metadata": {
        "id": "SrDaSLcrbz_J",
        "colab_type": "code",
        "colab": {}
      },
      "source": [
        "def calc_prod_in_cart(df):\n",
        "  return df.groupby('order_id').agg(num_of_prods_in_cart=pd.NamedAgg(column='add_to_cart_order', aggfunc='max')).reset_index()['num_of_prods_in_cart']"
      ],
      "execution_count": 0,
      "outputs": []
    },
    {
      "cell_type": "code",
      "metadata": {
        "id": "kYqznK5JZ1Vz",
        "colab_type": "code",
        "colab": {}
      },
      "source": [
        "number_of_products_in_cart = train_orders_merged_df.groupby('order_id').agg(num_of_prods_in_cart=pd.NamedAgg(column='add_to_cart_order', aggfunc='max')).reset_index()"
      ],
      "execution_count": 0,
      "outputs": []
    },
    {
      "cell_type": "markdown",
      "metadata": {
        "id": "b41nJEnavibZ",
        "colab_type": "text"
      },
      "source": [
        "We make prediction only on orders with number of products > 10"
      ]
    },
    {
      "cell_type": "code",
      "metadata": {
        "id": "Nu68S7wzdJ8J",
        "colab_type": "code",
        "colab": {}
      },
      "source": [
        "full_df = pd.merge(train_orders_merged_df, number_of_products_in_cart.query('num_of_prods_in_cart > 10'), on='order_id')"
      ],
      "execution_count": 0,
      "outputs": []
    },
    {
      "cell_type": "markdown",
      "metadata": {
        "id": "w1QMXvkZvqH5",
        "colab_type": "text"
      },
      "source": [
        "First 5 products in train, all that remains to test"
      ]
    },
    {
      "cell_type": "code",
      "metadata": {
        "id": "vEKE461weHrB",
        "colab_type": "code",
        "colab": {}
      },
      "source": [
        "train_df, test_df = full_df.query('add_to_cart_order <= 5'), full_df.query('add_to_cart_order > 5')"
      ],
      "execution_count": 0,
      "outputs": []
    },
    {
      "cell_type": "code",
      "metadata": {
        "id": "i2NATca3eW8Q",
        "colab_type": "code",
        "outputId": "73a0053e-cfe2-4696-9776-a90f6d8d8ddf",
        "colab": {
          "base_uri": "https://localhost:8080/",
          "height": 35
        }
      },
      "source": [
        "train_df.shape, test_df.shape"
      ],
      "execution_count": 0,
      "outputs": [
        {
          "output_type": "execute_result",
          "data": {
            "text/plain": [
              "((264240, 11), (690968, 11))"
            ]
          },
          "metadata": {
            "tags": []
          },
          "execution_count": 351
        }
      ]
    },
    {
      "cell_type": "code",
      "metadata": {
        "id": "WxM4088rehsY",
        "colab_type": "code",
        "colab": {}
      },
      "source": [
        "grouped_by_user_test = test_df.groupby('user_id').agg({'product_id':lambda x: list(x)})\n",
        "grouped_by_user_train = train_df.groupby('user_id').agg({'product_id':lambda x: list(x)})\n",
        "grouped_by_user_prior = prior_orders_merged_df.groupby('user_id').agg({'product_id':lambda x: list(x)})"
      ],
      "execution_count": 0,
      "outputs": []
    },
    {
      "cell_type": "code",
      "metadata": {
        "id": "1e9bViwdeqeA",
        "colab_type": "code",
        "outputId": "cb225ae3-22c9-42d2-b982-c374322ce73a",
        "colab": {
          "base_uri": "https://localhost:8080/",
          "height": 437
        }
      },
      "source": [
        "grouped_by_user_test"
      ],
      "execution_count": 0,
      "outputs": [
        {
          "output_type": "execute_result",
          "data": {
            "text/html": [
              "<div>\n",
              "<style scoped>\n",
              "    .dataframe tbody tr th:only-of-type {\n",
              "        vertical-align: middle;\n",
              "    }\n",
              "\n",
              "    .dataframe tbody tr th {\n",
              "        vertical-align: top;\n",
              "    }\n",
              "\n",
              "    .dataframe thead th {\n",
              "        text-align: right;\n",
              "    }\n",
              "</style>\n",
              "<table border=\"1\" class=\"dataframe\">\n",
              "  <thead>\n",
              "    <tr style=\"text-align: right;\">\n",
              "      <th></th>\n",
              "      <th>product_id</th>\n",
              "    </tr>\n",
              "    <tr>\n",
              "      <th>user_id</th>\n",
              "      <th></th>\n",
              "    </tr>\n",
              "  </thead>\n",
              "  <tbody>\n",
              "    <tr>\n",
              "      <th>1</th>\n",
              "      <td>[10258, 13032, 26088, 27845, 49235, 46149]</td>\n",
              "    </tr>\n",
              "    <tr>\n",
              "      <th>2</th>\n",
              "      <td>[22825, 13640, 24852, 45066, 9387, 5450, 24838...</td>\n",
              "    </tr>\n",
              "    <tr>\n",
              "      <th>8</th>\n",
              "      <td>[4853, 27104, 7058, 41259, 37803, 48230, 47766...</td>\n",
              "    </tr>\n",
              "    <tr>\n",
              "      <th>9</th>\n",
              "      <td>[12075, 8467, 38988, 30252, 18926, 24954, 4057...</td>\n",
              "    </tr>\n",
              "    <tr>\n",
              "      <th>14</th>\n",
              "      <td>[37434, 3808, 15172, 8744, 29509, 42284]</td>\n",
              "    </tr>\n",
              "    <tr>\n",
              "      <th>...</th>\n",
              "      <td>...</td>\n",
              "    </tr>\n",
              "    <tr>\n",
              "      <th>206198</th>\n",
              "      <td>[39021, 21709, 47107, 10411, 44142, 14897, 159...</td>\n",
              "    </tr>\n",
              "    <tr>\n",
              "      <th>206199</th>\n",
              "      <td>[38341, 43821, 38930, 12127, 49198, 22242, 770...</td>\n",
              "    </tr>\n",
              "    <tr>\n",
              "      <th>206200</th>\n",
              "      <td>[27451, 15592, 47209, 22312, 23484, 8955, 4697...</td>\n",
              "    </tr>\n",
              "    <tr>\n",
              "      <th>206203</th>\n",
              "      <td>[14050, 26384, 3765, 36929, 23153, 3957, 31915...</td>\n",
              "    </tr>\n",
              "    <tr>\n",
              "      <th>206205</th>\n",
              "      <td>[46886, 31404, 17600, 25138, 27966, 42265, 266...</td>\n",
              "    </tr>\n",
              "  </tbody>\n",
              "</table>\n",
              "<p>52848 rows × 1 columns</p>\n",
              "</div>"
            ],
            "text/plain": [
              "                                                product_id\n",
              "user_id                                                   \n",
              "1               [10258, 13032, 26088, 27845, 49235, 46149]\n",
              "2        [22825, 13640, 24852, 45066, 9387, 5450, 24838...\n",
              "8        [4853, 27104, 7058, 41259, 37803, 48230, 47766...\n",
              "9        [12075, 8467, 38988, 30252, 18926, 24954, 4057...\n",
              "14                [37434, 3808, 15172, 8744, 29509, 42284]\n",
              "...                                                    ...\n",
              "206198   [39021, 21709, 47107, 10411, 44142, 14897, 159...\n",
              "206199   [38341, 43821, 38930, 12127, 49198, 22242, 770...\n",
              "206200   [27451, 15592, 47209, 22312, 23484, 8955, 4697...\n",
              "206203   [14050, 26384, 3765, 36929, 23153, 3957, 31915...\n",
              "206205   [46886, 31404, 17600, 25138, 27966, 42265, 266...\n",
              "\n",
              "[52848 rows x 1 columns]"
            ]
          },
          "metadata": {
            "tags": []
          },
          "execution_count": 353
        }
      ]
    },
    {
      "cell_type": "code",
      "metadata": {
        "id": "fbPAgodnewBg",
        "colab_type": "code",
        "colab": {}
      },
      "source": [
        "predicted = pd.DataFrame(columns=('user_id', 'product_id'))\n",
        "predicted['user_id'] = list(test_df['user_id'].unique())\n",
        "predicted['product_id'] = [build_rec_for_user(grouped_by_user_train.loc[user,'product_id'], freq_itemsets, grouped_by_user_prior.loc[user, 'product_id'],3)\\\n",
        " for user in predicted['user_id'].unique()]"
      ],
      "execution_count": 0,
      "outputs": []
    },
    {
      "cell_type": "code",
      "metadata": {
        "id": "Q07CVZFQgN9f",
        "colab_type": "code",
        "outputId": "0550e07a-228a-4f92-ef7a-edf034665486",
        "colab": {
          "base_uri": "https://localhost:8080/",
          "height": 407
        }
      },
      "source": [
        "predicted"
      ],
      "execution_count": 0,
      "outputs": [
        {
          "output_type": "execute_result",
          "data": {
            "text/html": [
              "<div>\n",
              "<style scoped>\n",
              "    .dataframe tbody tr th:only-of-type {\n",
              "        vertical-align: middle;\n",
              "    }\n",
              "\n",
              "    .dataframe tbody tr th {\n",
              "        vertical-align: top;\n",
              "    }\n",
              "\n",
              "    .dataframe thead th {\n",
              "        text-align: right;\n",
              "    }\n",
              "</style>\n",
              "<table border=\"1\" class=\"dataframe\">\n",
              "  <thead>\n",
              "    <tr style=\"text-align: right;\">\n",
              "      <th></th>\n",
              "      <th>user_id</th>\n",
              "      <th>product_id</th>\n",
              "    </tr>\n",
              "  </thead>\n",
              "  <tbody>\n",
              "    <tr>\n",
              "      <th>0</th>\n",
              "      <td>1</td>\n",
              "      <td>[24852, 13176, 21137]</td>\n",
              "    </tr>\n",
              "    <tr>\n",
              "      <th>1</th>\n",
              "      <td>2</td>\n",
              "      <td>[24852, 13176, 21137]</td>\n",
              "    </tr>\n",
              "    <tr>\n",
              "      <th>2</th>\n",
              "      <td>8</td>\n",
              "      <td>[24852, 13176, 21137]</td>\n",
              "    </tr>\n",
              "    <tr>\n",
              "      <th>3</th>\n",
              "      <td>9</td>\n",
              "      <td>[24852, 13176, 21137]</td>\n",
              "    </tr>\n",
              "    <tr>\n",
              "      <th>4</th>\n",
              "      <td>14</td>\n",
              "      <td>[24852, 13176, 21137]</td>\n",
              "    </tr>\n",
              "    <tr>\n",
              "      <th>...</th>\n",
              "      <td>...</td>\n",
              "      <td>...</td>\n",
              "    </tr>\n",
              "    <tr>\n",
              "      <th>52843</th>\n",
              "      <td>206198</td>\n",
              "      <td>[24852, 13176, 21137]</td>\n",
              "    </tr>\n",
              "    <tr>\n",
              "      <th>52844</th>\n",
              "      <td>206199</td>\n",
              "      <td>[24852, 13176, 21137]</td>\n",
              "    </tr>\n",
              "    <tr>\n",
              "      <th>52845</th>\n",
              "      <td>206200</td>\n",
              "      <td>[47626, 37646, 21903]</td>\n",
              "    </tr>\n",
              "    <tr>\n",
              "      <th>52846</th>\n",
              "      <td>206203</td>\n",
              "      <td>[24852, 13176, 21137]</td>\n",
              "    </tr>\n",
              "    <tr>\n",
              "      <th>52847</th>\n",
              "      <td>206205</td>\n",
              "      <td>[24852, 13176, 21137]</td>\n",
              "    </tr>\n",
              "  </tbody>\n",
              "</table>\n",
              "<p>52848 rows × 2 columns</p>\n",
              "</div>"
            ],
            "text/plain": [
              "       user_id             product_id\n",
              "0            1  [24852, 13176, 21137]\n",
              "1            2  [24852, 13176, 21137]\n",
              "2            8  [24852, 13176, 21137]\n",
              "3            9  [24852, 13176, 21137]\n",
              "4           14  [24852, 13176, 21137]\n",
              "...        ...                    ...\n",
              "52843   206198  [24852, 13176, 21137]\n",
              "52844   206199  [24852, 13176, 21137]\n",
              "52845   206200  [47626, 37646, 21903]\n",
              "52846   206203  [24852, 13176, 21137]\n",
              "52847   206205  [24852, 13176, 21137]\n",
              "\n",
              "[52848 rows x 2 columns]"
            ]
          },
          "metadata": {
            "tags": []
          },
          "execution_count": 43
        }
      ]
    },
    {
      "cell_type": "code",
      "metadata": {
        "id": "kHxc8JVVfXNx",
        "colab_type": "code",
        "outputId": "d24fb44b-c159-4d58-f2e3-34335bdd3780",
        "colab": {
          "base_uri": "https://localhost:8080/",
          "height": 35
        }
      },
      "source": [
        "eval_results(test_df, predicted, 3)"
      ],
      "execution_count": 0,
      "outputs": [
        {
          "output_type": "execute_result",
          "data": {
            "text/plain": [
              "0.09579464796313851"
            ]
          },
          "metadata": {
            "tags": []
          },
          "execution_count": 44
        }
      ]
    },
    {
      "cell_type": "markdown",
      "metadata": {
        "id": "8aa3HRcI1OpJ",
        "colab_type": "text"
      },
      "source": [
        "# Switcher"
      ]
    },
    {
      "cell_type": "markdown",
      "metadata": {
        "id": "X81gRESo1YQW",
        "colab_type": "text"
      },
      "source": [
        "## Mining features for users"
      ]
    },
    {
      "cell_type": "code",
      "metadata": {
        "id": "fe1PZPqymoQD",
        "colab_type": "code",
        "colab": {}
      },
      "source": [
        "train_orders_merged_df = pd.merge(orders_df[orders_df['eval_set'] == 'train'], order_products_train_df, on='order_id')"
      ],
      "execution_count": 0,
      "outputs": []
    },
    {
      "cell_type": "markdown",
      "metadata": {
        "id": "q3LAWE3nmpvE",
        "colab_type": "text"
      },
      "source": [
        "Mining only in prior"
      ]
    },
    {
      "cell_type": "code",
      "metadata": {
        "id": "v_wJdJNV1Q_B",
        "colab_type": "code",
        "colab": {}
      },
      "source": [
        "prior_orders_merged_df = pd.merge(orders_df[orders_df['eval_set'] == 'prior'], order_products_prior_df, on='order_id')"
      ],
      "execution_count": 0,
      "outputs": []
    },
    {
      "cell_type": "code",
      "metadata": {
        "id": "9_LUzpnjKi94",
        "colab_type": "code",
        "outputId": "41f28145-a08a-4d05-b994-742d6fc99626",
        "colab": {
          "base_uri": "https://localhost:8080/",
          "height": 407
        }
      },
      "source": [
        "prior_orders_merged_df"
      ],
      "execution_count": 0,
      "outputs": [
        {
          "output_type": "execute_result",
          "data": {
            "text/html": [
              "<div>\n",
              "<style scoped>\n",
              "    .dataframe tbody tr th:only-of-type {\n",
              "        vertical-align: middle;\n",
              "    }\n",
              "\n",
              "    .dataframe tbody tr th {\n",
              "        vertical-align: top;\n",
              "    }\n",
              "\n",
              "    .dataframe thead th {\n",
              "        text-align: right;\n",
              "    }\n",
              "</style>\n",
              "<table border=\"1\" class=\"dataframe\">\n",
              "  <thead>\n",
              "    <tr style=\"text-align: right;\">\n",
              "      <th></th>\n",
              "      <th>order_id</th>\n",
              "      <th>user_id</th>\n",
              "      <th>eval_set</th>\n",
              "      <th>order_number</th>\n",
              "      <th>order_dow</th>\n",
              "      <th>order_hour_of_day</th>\n",
              "      <th>days_since_prior_order</th>\n",
              "      <th>product_id</th>\n",
              "      <th>add_to_cart_order</th>\n",
              "      <th>reordered</th>\n",
              "    </tr>\n",
              "  </thead>\n",
              "  <tbody>\n",
              "    <tr>\n",
              "      <th>0</th>\n",
              "      <td>2539329</td>\n",
              "      <td>1</td>\n",
              "      <td>prior</td>\n",
              "      <td>1</td>\n",
              "      <td>2</td>\n",
              "      <td>8</td>\n",
              "      <td>999.0</td>\n",
              "      <td>196</td>\n",
              "      <td>1</td>\n",
              "      <td>0</td>\n",
              "    </tr>\n",
              "    <tr>\n",
              "      <th>1</th>\n",
              "      <td>2539329</td>\n",
              "      <td>1</td>\n",
              "      <td>prior</td>\n",
              "      <td>1</td>\n",
              "      <td>2</td>\n",
              "      <td>8</td>\n",
              "      <td>999.0</td>\n",
              "      <td>14084</td>\n",
              "      <td>2</td>\n",
              "      <td>0</td>\n",
              "    </tr>\n",
              "    <tr>\n",
              "      <th>2</th>\n",
              "      <td>2539329</td>\n",
              "      <td>1</td>\n",
              "      <td>prior</td>\n",
              "      <td>1</td>\n",
              "      <td>2</td>\n",
              "      <td>8</td>\n",
              "      <td>999.0</td>\n",
              "      <td>12427</td>\n",
              "      <td>3</td>\n",
              "      <td>0</td>\n",
              "    </tr>\n",
              "    <tr>\n",
              "      <th>3</th>\n",
              "      <td>2539329</td>\n",
              "      <td>1</td>\n",
              "      <td>prior</td>\n",
              "      <td>1</td>\n",
              "      <td>2</td>\n",
              "      <td>8</td>\n",
              "      <td>999.0</td>\n",
              "      <td>26088</td>\n",
              "      <td>4</td>\n",
              "      <td>0</td>\n",
              "    </tr>\n",
              "    <tr>\n",
              "      <th>4</th>\n",
              "      <td>2539329</td>\n",
              "      <td>1</td>\n",
              "      <td>prior</td>\n",
              "      <td>1</td>\n",
              "      <td>2</td>\n",
              "      <td>8</td>\n",
              "      <td>999.0</td>\n",
              "      <td>26405</td>\n",
              "      <td>5</td>\n",
              "      <td>0</td>\n",
              "    </tr>\n",
              "    <tr>\n",
              "      <th>...</th>\n",
              "      <td>...</td>\n",
              "      <td>...</td>\n",
              "      <td>...</td>\n",
              "      <td>...</td>\n",
              "      <td>...</td>\n",
              "      <td>...</td>\n",
              "      <td>...</td>\n",
              "      <td>...</td>\n",
              "      <td>...</td>\n",
              "      <td>...</td>\n",
              "    </tr>\n",
              "    <tr>\n",
              "      <th>32434484</th>\n",
              "      <td>2977660</td>\n",
              "      <td>206209</td>\n",
              "      <td>prior</td>\n",
              "      <td>13</td>\n",
              "      <td>1</td>\n",
              "      <td>12</td>\n",
              "      <td>7.0</td>\n",
              "      <td>14197</td>\n",
              "      <td>5</td>\n",
              "      <td>1</td>\n",
              "    </tr>\n",
              "    <tr>\n",
              "      <th>32434485</th>\n",
              "      <td>2977660</td>\n",
              "      <td>206209</td>\n",
              "      <td>prior</td>\n",
              "      <td>13</td>\n",
              "      <td>1</td>\n",
              "      <td>12</td>\n",
              "      <td>7.0</td>\n",
              "      <td>38730</td>\n",
              "      <td>6</td>\n",
              "      <td>0</td>\n",
              "    </tr>\n",
              "    <tr>\n",
              "      <th>32434486</th>\n",
              "      <td>2977660</td>\n",
              "      <td>206209</td>\n",
              "      <td>prior</td>\n",
              "      <td>13</td>\n",
              "      <td>1</td>\n",
              "      <td>12</td>\n",
              "      <td>7.0</td>\n",
              "      <td>31477</td>\n",
              "      <td>7</td>\n",
              "      <td>0</td>\n",
              "    </tr>\n",
              "    <tr>\n",
              "      <th>32434487</th>\n",
              "      <td>2977660</td>\n",
              "      <td>206209</td>\n",
              "      <td>prior</td>\n",
              "      <td>13</td>\n",
              "      <td>1</td>\n",
              "      <td>12</td>\n",
              "      <td>7.0</td>\n",
              "      <td>6567</td>\n",
              "      <td>8</td>\n",
              "      <td>0</td>\n",
              "    </tr>\n",
              "    <tr>\n",
              "      <th>32434488</th>\n",
              "      <td>2977660</td>\n",
              "      <td>206209</td>\n",
              "      <td>prior</td>\n",
              "      <td>13</td>\n",
              "      <td>1</td>\n",
              "      <td>12</td>\n",
              "      <td>7.0</td>\n",
              "      <td>22920</td>\n",
              "      <td>9</td>\n",
              "      <td>0</td>\n",
              "    </tr>\n",
              "  </tbody>\n",
              "</table>\n",
              "<p>32434489 rows × 10 columns</p>\n",
              "</div>"
            ],
            "text/plain": [
              "          order_id  user_id eval_set  ...  product_id  add_to_cart_order  reordered\n",
              "0          2539329        1    prior  ...         196                  1          0\n",
              "1          2539329        1    prior  ...       14084                  2          0\n",
              "2          2539329        1    prior  ...       12427                  3          0\n",
              "3          2539329        1    prior  ...       26088                  4          0\n",
              "4          2539329        1    prior  ...       26405                  5          0\n",
              "...            ...      ...      ...  ...         ...                ...        ...\n",
              "32434484   2977660   206209    prior  ...       14197                  5          1\n",
              "32434485   2977660   206209    prior  ...       38730                  6          0\n",
              "32434486   2977660   206209    prior  ...       31477                  7          0\n",
              "32434487   2977660   206209    prior  ...        6567                  8          0\n",
              "32434488   2977660   206209    prior  ...       22920                  9          0\n",
              "\n",
              "[32434489 rows x 10 columns]"
            ]
          },
          "metadata": {
            "tags": []
          },
          "execution_count": 74
        }
      ]
    },
    {
      "cell_type": "code",
      "metadata": {
        "id": "-GkeWMLNRfQF",
        "colab_type": "code",
        "outputId": "79ebba5e-a869-4242-9f3e-f8248806653b",
        "colab": {
          "base_uri": "https://localhost:8080/",
          "height": 407
        }
      },
      "source": [
        "orders_df"
      ],
      "execution_count": 0,
      "outputs": [
        {
          "output_type": "execute_result",
          "data": {
            "text/html": [
              "<div>\n",
              "<style scoped>\n",
              "    .dataframe tbody tr th:only-of-type {\n",
              "        vertical-align: middle;\n",
              "    }\n",
              "\n",
              "    .dataframe tbody tr th {\n",
              "        vertical-align: top;\n",
              "    }\n",
              "\n",
              "    .dataframe thead th {\n",
              "        text-align: right;\n",
              "    }\n",
              "</style>\n",
              "<table border=\"1\" class=\"dataframe\">\n",
              "  <thead>\n",
              "    <tr style=\"text-align: right;\">\n",
              "      <th></th>\n",
              "      <th>order_id</th>\n",
              "      <th>user_id</th>\n",
              "      <th>eval_set</th>\n",
              "      <th>order_number</th>\n",
              "      <th>order_dow</th>\n",
              "      <th>order_hour_of_day</th>\n",
              "      <th>days_since_prior_order</th>\n",
              "    </tr>\n",
              "  </thead>\n",
              "  <tbody>\n",
              "    <tr>\n",
              "      <th>0</th>\n",
              "      <td>2539329</td>\n",
              "      <td>1</td>\n",
              "      <td>prior</td>\n",
              "      <td>1</td>\n",
              "      <td>2</td>\n",
              "      <td>8</td>\n",
              "      <td>999.0</td>\n",
              "    </tr>\n",
              "    <tr>\n",
              "      <th>1</th>\n",
              "      <td>2398795</td>\n",
              "      <td>1</td>\n",
              "      <td>prior</td>\n",
              "      <td>2</td>\n",
              "      <td>3</td>\n",
              "      <td>7</td>\n",
              "      <td>15.0</td>\n",
              "    </tr>\n",
              "    <tr>\n",
              "      <th>2</th>\n",
              "      <td>473747</td>\n",
              "      <td>1</td>\n",
              "      <td>prior</td>\n",
              "      <td>3</td>\n",
              "      <td>3</td>\n",
              "      <td>12</td>\n",
              "      <td>21.0</td>\n",
              "    </tr>\n",
              "    <tr>\n",
              "      <th>3</th>\n",
              "      <td>2254736</td>\n",
              "      <td>1</td>\n",
              "      <td>prior</td>\n",
              "      <td>4</td>\n",
              "      <td>4</td>\n",
              "      <td>7</td>\n",
              "      <td>29.0</td>\n",
              "    </tr>\n",
              "    <tr>\n",
              "      <th>4</th>\n",
              "      <td>431534</td>\n",
              "      <td>1</td>\n",
              "      <td>prior</td>\n",
              "      <td>5</td>\n",
              "      <td>4</td>\n",
              "      <td>15</td>\n",
              "      <td>28.0</td>\n",
              "    </tr>\n",
              "    <tr>\n",
              "      <th>...</th>\n",
              "      <td>...</td>\n",
              "      <td>...</td>\n",
              "      <td>...</td>\n",
              "      <td>...</td>\n",
              "      <td>...</td>\n",
              "      <td>...</td>\n",
              "      <td>...</td>\n",
              "    </tr>\n",
              "    <tr>\n",
              "      <th>3421078</th>\n",
              "      <td>2266710</td>\n",
              "      <td>206209</td>\n",
              "      <td>prior</td>\n",
              "      <td>10</td>\n",
              "      <td>5</td>\n",
              "      <td>18</td>\n",
              "      <td>29.0</td>\n",
              "    </tr>\n",
              "    <tr>\n",
              "      <th>3421079</th>\n",
              "      <td>1854736</td>\n",
              "      <td>206209</td>\n",
              "      <td>prior</td>\n",
              "      <td>11</td>\n",
              "      <td>4</td>\n",
              "      <td>10</td>\n",
              "      <td>30.0</td>\n",
              "    </tr>\n",
              "    <tr>\n",
              "      <th>3421080</th>\n",
              "      <td>626363</td>\n",
              "      <td>206209</td>\n",
              "      <td>prior</td>\n",
              "      <td>12</td>\n",
              "      <td>1</td>\n",
              "      <td>12</td>\n",
              "      <td>18.0</td>\n",
              "    </tr>\n",
              "    <tr>\n",
              "      <th>3421081</th>\n",
              "      <td>2977660</td>\n",
              "      <td>206209</td>\n",
              "      <td>prior</td>\n",
              "      <td>13</td>\n",
              "      <td>1</td>\n",
              "      <td>12</td>\n",
              "      <td>7.0</td>\n",
              "    </tr>\n",
              "    <tr>\n",
              "      <th>3421082</th>\n",
              "      <td>272231</td>\n",
              "      <td>206209</td>\n",
              "      <td>train</td>\n",
              "      <td>14</td>\n",
              "      <td>6</td>\n",
              "      <td>14</td>\n",
              "      <td>30.0</td>\n",
              "    </tr>\n",
              "  </tbody>\n",
              "</table>\n",
              "<p>3346083 rows × 7 columns</p>\n",
              "</div>"
            ],
            "text/plain": [
              "         order_id  user_id  ... order_hour_of_day  days_since_prior_order\n",
              "0         2539329        1  ...                 8                   999.0\n",
              "1         2398795        1  ...                 7                    15.0\n",
              "2          473747        1  ...                12                    21.0\n",
              "3         2254736        1  ...                 7                    29.0\n",
              "4          431534        1  ...                15                    28.0\n",
              "...           ...      ...  ...               ...                     ...\n",
              "3421078   2266710   206209  ...                18                    29.0\n",
              "3421079   1854736   206209  ...                10                    30.0\n",
              "3421080    626363   206209  ...                12                    18.0\n",
              "3421081   2977660   206209  ...                12                     7.0\n",
              "3421082    272231   206209  ...                14                    30.0\n",
              "\n",
              "[3346083 rows x 7 columns]"
            ]
          },
          "metadata": {
            "tags": []
          },
          "execution_count": 75
        }
      ]
    },
    {
      "cell_type": "code",
      "metadata": {
        "id": "fPUlKav9SDhw",
        "colab_type": "code",
        "colab": {}
      },
      "source": [
        "def mode(x):\n",
        "  return x.value_counts().index[0]"
      ],
      "execution_count": 0,
      "outputs": []
    },
    {
      "cell_type": "code",
      "metadata": {
        "id": "9QweHdybQ5OO",
        "colab_type": "code",
        "colab": {}
      },
      "source": [
        "user_features1_df = orders_df[orders_df['eval_set'] == 'prior'].groupby('user_id').agg({'days_since_prior_order':'median', 'order_dow':mode,\\\n",
        "                                                                                       'order_hour_of_day':'median', 'order_number':'max'})"
      ],
      "execution_count": 0,
      "outputs": []
    },
    {
      "cell_type": "code",
      "metadata": {
        "id": "NYpwAz9MjvYH",
        "colab_type": "code",
        "colab": {}
      },
      "source": [
        "user_features1_df.rename(columns={'days_since_prior_order':'median_day_since_prior_order', \n",
        "                                  'order_dow':'mode_day',\n",
        "                                  'order_hour_of_day':'median_hour_of_day',\n",
        "                                  'order_number' : 'number_of_orders'}, inplace=True)"
      ],
      "execution_count": 0,
      "outputs": []
    },
    {
      "cell_type": "code",
      "metadata": {
        "id": "Olq7LlazUL0P",
        "colab_type": "code",
        "outputId": "ee241269-639d-4b8d-f560-7f8b79cd13dc",
        "colab": {
          "base_uri": "https://localhost:8080/",
          "height": 437
        }
      },
      "source": [
        "user_features1_df"
      ],
      "execution_count": 0,
      "outputs": [
        {
          "output_type": "execute_result",
          "data": {
            "text/html": [
              "<div>\n",
              "<style scoped>\n",
              "    .dataframe tbody tr th:only-of-type {\n",
              "        vertical-align: middle;\n",
              "    }\n",
              "\n",
              "    .dataframe tbody tr th {\n",
              "        vertical-align: top;\n",
              "    }\n",
              "\n",
              "    .dataframe thead th {\n",
              "        text-align: right;\n",
              "    }\n",
              "</style>\n",
              "<table border=\"1\" class=\"dataframe\">\n",
              "  <thead>\n",
              "    <tr style=\"text-align: right;\">\n",
              "      <th></th>\n",
              "      <th>median_day_since_prior_order</th>\n",
              "      <th>mode_day</th>\n",
              "      <th>median_hour_of_day</th>\n",
              "      <th>number_of_orders</th>\n",
              "    </tr>\n",
              "    <tr>\n",
              "      <th>user_id</th>\n",
              "      <th></th>\n",
              "      <th></th>\n",
              "      <th></th>\n",
              "      <th></th>\n",
              "    </tr>\n",
              "  </thead>\n",
              "  <tbody>\n",
              "    <tr>\n",
              "      <th>1</th>\n",
              "      <td>20.5</td>\n",
              "      <td>4</td>\n",
              "      <td>8.5</td>\n",
              "      <td>10</td>\n",
              "    </tr>\n",
              "    <tr>\n",
              "      <th>2</th>\n",
              "      <td>13.0</td>\n",
              "      <td>2</td>\n",
              "      <td>10.0</td>\n",
              "      <td>14</td>\n",
              "    </tr>\n",
              "    <tr>\n",
              "      <th>3</th>\n",
              "      <td>11.5</td>\n",
              "      <td>0</td>\n",
              "      <td>16.0</td>\n",
              "      <td>12</td>\n",
              "    </tr>\n",
              "    <tr>\n",
              "      <th>4</th>\n",
              "      <td>19.0</td>\n",
              "      <td>5</td>\n",
              "      <td>13.0</td>\n",
              "      <td>5</td>\n",
              "    </tr>\n",
              "    <tr>\n",
              "      <th>5</th>\n",
              "      <td>15.0</td>\n",
              "      <td>3</td>\n",
              "      <td>17.0</td>\n",
              "      <td>4</td>\n",
              "    </tr>\n",
              "    <tr>\n",
              "      <th>...</th>\n",
              "      <td>...</td>\n",
              "      <td>...</td>\n",
              "      <td>...</td>\n",
              "      <td>...</td>\n",
              "    </tr>\n",
              "    <tr>\n",
              "      <th>206205</th>\n",
              "      <td>30.0</td>\n",
              "      <td>2</td>\n",
              "      <td>15.0</td>\n",
              "      <td>3</td>\n",
              "    </tr>\n",
              "    <tr>\n",
              "      <th>206206</th>\n",
              "      <td>3.0</td>\n",
              "      <td>0</td>\n",
              "      <td>17.0</td>\n",
              "      <td>67</td>\n",
              "    </tr>\n",
              "    <tr>\n",
              "      <th>206207</th>\n",
              "      <td>12.0</td>\n",
              "      <td>2</td>\n",
              "      <td>12.0</td>\n",
              "      <td>16</td>\n",
              "    </tr>\n",
              "    <tr>\n",
              "      <th>206208</th>\n",
              "      <td>7.0</td>\n",
              "      <td>2</td>\n",
              "      <td>15.0</td>\n",
              "      <td>49</td>\n",
              "    </tr>\n",
              "    <tr>\n",
              "      <th>206209</th>\n",
              "      <td>22.0</td>\n",
              "      <td>4</td>\n",
              "      <td>13.0</td>\n",
              "      <td>13</td>\n",
              "    </tr>\n",
              "  </tbody>\n",
              "</table>\n",
              "<p>206209 rows × 4 columns</p>\n",
              "</div>"
            ],
            "text/plain": [
              "         median_day_since_prior_order  ...  number_of_orders\n",
              "user_id                                ...                  \n",
              "1                                20.5  ...                10\n",
              "2                                13.0  ...                14\n",
              "3                                11.5  ...                12\n",
              "4                                19.0  ...                 5\n",
              "5                                15.0  ...                 4\n",
              "...                               ...  ...               ...\n",
              "206205                           30.0  ...                 3\n",
              "206206                            3.0  ...                67\n",
              "206207                           12.0  ...                16\n",
              "206208                            7.0  ...                49\n",
              "206209                           22.0  ...                13\n",
              "\n",
              "[206209 rows x 4 columns]"
            ]
          },
          "metadata": {
            "tags": []
          },
          "execution_count": 79
        }
      ]
    },
    {
      "cell_type": "code",
      "metadata": {
        "id": "EXJOCqataG6s",
        "colab_type": "code",
        "colab": {}
      },
      "source": [
        "def is_reordered(x):\n",
        "  if 1 in list(x.values):\n",
        "    return 1\n",
        "  else:\n",
        "    return 0"
      ],
      "execution_count": 0,
      "outputs": []
    },
    {
      "cell_type": "code",
      "metadata": {
        "id": "1CPhr1LAEb7m",
        "colab_type": "code",
        "outputId": "74d73726-692c-47e2-d661-b88b5e55286b",
        "colab": {
          "base_uri": "https://localhost:8080/",
          "height": 407
        }
      },
      "source": [
        "order_products_prior_df"
      ],
      "execution_count": 0,
      "outputs": [
        {
          "output_type": "execute_result",
          "data": {
            "text/html": [
              "<div>\n",
              "<style scoped>\n",
              "    .dataframe tbody tr th:only-of-type {\n",
              "        vertical-align: middle;\n",
              "    }\n",
              "\n",
              "    .dataframe tbody tr th {\n",
              "        vertical-align: top;\n",
              "    }\n",
              "\n",
              "    .dataframe thead th {\n",
              "        text-align: right;\n",
              "    }\n",
              "</style>\n",
              "<table border=\"1\" class=\"dataframe\">\n",
              "  <thead>\n",
              "    <tr style=\"text-align: right;\">\n",
              "      <th></th>\n",
              "      <th>order_id</th>\n",
              "      <th>product_id</th>\n",
              "      <th>add_to_cart_order</th>\n",
              "      <th>reordered</th>\n",
              "    </tr>\n",
              "  </thead>\n",
              "  <tbody>\n",
              "    <tr>\n",
              "      <th>0</th>\n",
              "      <td>2</td>\n",
              "      <td>33120</td>\n",
              "      <td>1</td>\n",
              "      <td>1</td>\n",
              "    </tr>\n",
              "    <tr>\n",
              "      <th>1</th>\n",
              "      <td>2</td>\n",
              "      <td>28985</td>\n",
              "      <td>2</td>\n",
              "      <td>1</td>\n",
              "    </tr>\n",
              "    <tr>\n",
              "      <th>2</th>\n",
              "      <td>2</td>\n",
              "      <td>9327</td>\n",
              "      <td>3</td>\n",
              "      <td>0</td>\n",
              "    </tr>\n",
              "    <tr>\n",
              "      <th>3</th>\n",
              "      <td>2</td>\n",
              "      <td>45918</td>\n",
              "      <td>4</td>\n",
              "      <td>1</td>\n",
              "    </tr>\n",
              "    <tr>\n",
              "      <th>4</th>\n",
              "      <td>2</td>\n",
              "      <td>30035</td>\n",
              "      <td>5</td>\n",
              "      <td>0</td>\n",
              "    </tr>\n",
              "    <tr>\n",
              "      <th>...</th>\n",
              "      <td>...</td>\n",
              "      <td>...</td>\n",
              "      <td>...</td>\n",
              "      <td>...</td>\n",
              "    </tr>\n",
              "    <tr>\n",
              "      <th>32434484</th>\n",
              "      <td>3421083</td>\n",
              "      <td>39678</td>\n",
              "      <td>6</td>\n",
              "      <td>1</td>\n",
              "    </tr>\n",
              "    <tr>\n",
              "      <th>32434485</th>\n",
              "      <td>3421083</td>\n",
              "      <td>11352</td>\n",
              "      <td>7</td>\n",
              "      <td>0</td>\n",
              "    </tr>\n",
              "    <tr>\n",
              "      <th>32434486</th>\n",
              "      <td>3421083</td>\n",
              "      <td>4600</td>\n",
              "      <td>8</td>\n",
              "      <td>0</td>\n",
              "    </tr>\n",
              "    <tr>\n",
              "      <th>32434487</th>\n",
              "      <td>3421083</td>\n",
              "      <td>24852</td>\n",
              "      <td>9</td>\n",
              "      <td>1</td>\n",
              "    </tr>\n",
              "    <tr>\n",
              "      <th>32434488</th>\n",
              "      <td>3421083</td>\n",
              "      <td>5020</td>\n",
              "      <td>10</td>\n",
              "      <td>1</td>\n",
              "    </tr>\n",
              "  </tbody>\n",
              "</table>\n",
              "<p>32434489 rows × 4 columns</p>\n",
              "</div>"
            ],
            "text/plain": [
              "          order_id  product_id  add_to_cart_order  reordered\n",
              "0                2       33120                  1          1\n",
              "1                2       28985                  2          1\n",
              "2                2        9327                  3          0\n",
              "3                2       45918                  4          1\n",
              "4                2       30035                  5          0\n",
              "...            ...         ...                ...        ...\n",
              "32434484   3421083       39678                  6          1\n",
              "32434485   3421083       11352                  7          0\n",
              "32434486   3421083        4600                  8          0\n",
              "32434487   3421083       24852                  9          1\n",
              "32434488   3421083        5020                 10          1\n",
              "\n",
              "[32434489 rows x 4 columns]"
            ]
          },
          "metadata": {
            "tags": []
          },
          "execution_count": 81
        }
      ]
    },
    {
      "cell_type": "code",
      "metadata": {
        "id": "YYyL4Zs0VWXn",
        "colab_type": "code",
        "colab": {}
      },
      "source": [
        "aggregated_by_orders = pd.merge(order_products_prior_df.groupby('order_id').agg({'product_id':'count', 'reordered':is_reordered}).reset_index().rename(columns={'product_id':'products_num'})\\\n",
        "         , orders_df[orders_df['eval_set'] == 'prior'], on='order_id')"
      ],
      "execution_count": 0,
      "outputs": []
    },
    {
      "cell_type": "code",
      "metadata": {
        "id": "CsK4Nco7XX5B",
        "colab_type": "code",
        "colab": {}
      },
      "source": [
        "user_features2_df = aggregated_by_orders.groupby('user_id').agg({'products_num' : 'median', 'reordered':is_reordered})"
      ],
      "execution_count": 0,
      "outputs": []
    },
    {
      "cell_type": "code",
      "metadata": {
        "id": "KkzBwYPVkq8J",
        "colab_type": "code",
        "colab": {}
      },
      "source": [
        "user_features2_df.rename(columns={'products_num':'median_number_of_products_in_order'}, inplace=True)"
      ],
      "execution_count": 0,
      "outputs": []
    },
    {
      "cell_type": "code",
      "metadata": {
        "id": "4Ai_tKwHbgzh",
        "colab_type": "code",
        "outputId": "e71c2a1e-bf6b-4d4f-d011-a6a728fd48c5",
        "colab": {
          "base_uri": "https://localhost:8080/",
          "height": 437
        }
      },
      "source": [
        "user_features2_df"
      ],
      "execution_count": 0,
      "outputs": [
        {
          "output_type": "execute_result",
          "data": {
            "text/html": [
              "<div>\n",
              "<style scoped>\n",
              "    .dataframe tbody tr th:only-of-type {\n",
              "        vertical-align: middle;\n",
              "    }\n",
              "\n",
              "    .dataframe tbody tr th {\n",
              "        vertical-align: top;\n",
              "    }\n",
              "\n",
              "    .dataframe thead th {\n",
              "        text-align: right;\n",
              "    }\n",
              "</style>\n",
              "<table border=\"1\" class=\"dataframe\">\n",
              "  <thead>\n",
              "    <tr style=\"text-align: right;\">\n",
              "      <th></th>\n",
              "      <th>median_number_of_products_in_order</th>\n",
              "      <th>reordered</th>\n",
              "    </tr>\n",
              "    <tr>\n",
              "      <th>user_id</th>\n",
              "      <th></th>\n",
              "      <th></th>\n",
              "    </tr>\n",
              "  </thead>\n",
              "  <tbody>\n",
              "    <tr>\n",
              "      <th>1</th>\n",
              "      <td>5.5</td>\n",
              "      <td>1</td>\n",
              "    </tr>\n",
              "    <tr>\n",
              "      <th>2</th>\n",
              "      <td>13.5</td>\n",
              "      <td>1</td>\n",
              "    </tr>\n",
              "    <tr>\n",
              "      <th>3</th>\n",
              "      <td>7.0</td>\n",
              "      <td>1</td>\n",
              "    </tr>\n",
              "    <tr>\n",
              "      <th>4</th>\n",
              "      <td>3.0</td>\n",
              "      <td>1</td>\n",
              "    </tr>\n",
              "    <tr>\n",
              "      <th>5</th>\n",
              "      <td>10.0</td>\n",
              "      <td>1</td>\n",
              "    </tr>\n",
              "    <tr>\n",
              "      <th>...</th>\n",
              "      <td>...</td>\n",
              "      <td>...</td>\n",
              "    </tr>\n",
              "    <tr>\n",
              "      <th>206205</th>\n",
              "      <td>8.0</td>\n",
              "      <td>1</td>\n",
              "    </tr>\n",
              "    <tr>\n",
              "      <th>206206</th>\n",
              "      <td>4.0</td>\n",
              "      <td>1</td>\n",
              "    </tr>\n",
              "    <tr>\n",
              "      <th>206207</th>\n",
              "      <td>13.0</td>\n",
              "      <td>1</td>\n",
              "    </tr>\n",
              "    <tr>\n",
              "      <th>206208</th>\n",
              "      <td>13.0</td>\n",
              "      <td>1</td>\n",
              "    </tr>\n",
              "    <tr>\n",
              "      <th>206209</th>\n",
              "      <td>9.0</td>\n",
              "      <td>1</td>\n",
              "    </tr>\n",
              "  </tbody>\n",
              "</table>\n",
              "<p>206209 rows × 2 columns</p>\n",
              "</div>"
            ],
            "text/plain": [
              "         median_number_of_products_in_order  reordered\n",
              "user_id                                               \n",
              "1                                       5.5          1\n",
              "2                                      13.5          1\n",
              "3                                       7.0          1\n",
              "4                                       3.0          1\n",
              "5                                      10.0          1\n",
              "...                                     ...        ...\n",
              "206205                                  8.0          1\n",
              "206206                                  4.0          1\n",
              "206207                                 13.0          1\n",
              "206208                                 13.0          1\n",
              "206209                                  9.0          1\n",
              "\n",
              "[206209 rows x 2 columns]"
            ]
          },
          "metadata": {
            "tags": []
          },
          "execution_count": 85
        }
      ]
    },
    {
      "cell_type": "code",
      "metadata": {
        "id": "MXShXidZNamT",
        "colab_type": "code",
        "colab": {}
      },
      "source": [
        "user_features3_df = prior_orders_merged_df.groupby('user_id').agg(unique_prod_total=pd.NamedAgg(column = 'product_id', aggfunc='nunique'))"
      ],
      "execution_count": 0,
      "outputs": []
    },
    {
      "cell_type": "code",
      "metadata": {
        "id": "A-QJ4-MhlJsJ",
        "colab_type": "code",
        "outputId": "8203261d-1639-4968-faef-00b84890f30b",
        "colab": {
          "base_uri": "https://localhost:8080/",
          "height": 437
        }
      },
      "source": [
        "user_features3_df"
      ],
      "execution_count": 0,
      "outputs": [
        {
          "output_type": "execute_result",
          "data": {
            "text/html": [
              "<div>\n",
              "<style scoped>\n",
              "    .dataframe tbody tr th:only-of-type {\n",
              "        vertical-align: middle;\n",
              "    }\n",
              "\n",
              "    .dataframe tbody tr th {\n",
              "        vertical-align: top;\n",
              "    }\n",
              "\n",
              "    .dataframe thead th {\n",
              "        text-align: right;\n",
              "    }\n",
              "</style>\n",
              "<table border=\"1\" class=\"dataframe\">\n",
              "  <thead>\n",
              "    <tr style=\"text-align: right;\">\n",
              "      <th></th>\n",
              "      <th>unique_prod_total</th>\n",
              "    </tr>\n",
              "    <tr>\n",
              "      <th>user_id</th>\n",
              "      <th></th>\n",
              "    </tr>\n",
              "  </thead>\n",
              "  <tbody>\n",
              "    <tr>\n",
              "      <th>1</th>\n",
              "      <td>18</td>\n",
              "    </tr>\n",
              "    <tr>\n",
              "      <th>2</th>\n",
              "      <td>102</td>\n",
              "    </tr>\n",
              "    <tr>\n",
              "      <th>3</th>\n",
              "      <td>33</td>\n",
              "    </tr>\n",
              "    <tr>\n",
              "      <th>4</th>\n",
              "      <td>17</td>\n",
              "    </tr>\n",
              "    <tr>\n",
              "      <th>5</th>\n",
              "      <td>23</td>\n",
              "    </tr>\n",
              "    <tr>\n",
              "      <th>...</th>\n",
              "      <td>...</td>\n",
              "    </tr>\n",
              "    <tr>\n",
              "      <th>206205</th>\n",
              "      <td>24</td>\n",
              "    </tr>\n",
              "    <tr>\n",
              "      <th>206206</th>\n",
              "      <td>150</td>\n",
              "    </tr>\n",
              "    <tr>\n",
              "      <th>206207</th>\n",
              "      <td>92</td>\n",
              "    </tr>\n",
              "    <tr>\n",
              "      <th>206208</th>\n",
              "      <td>198</td>\n",
              "    </tr>\n",
              "    <tr>\n",
              "      <th>206209</th>\n",
              "      <td>68</td>\n",
              "    </tr>\n",
              "  </tbody>\n",
              "</table>\n",
              "<p>206209 rows × 1 columns</p>\n",
              "</div>"
            ],
            "text/plain": [
              "         unique_prod_total\n",
              "user_id                   \n",
              "1                       18\n",
              "2                      102\n",
              "3                       33\n",
              "4                       17\n",
              "5                       23\n",
              "...                    ...\n",
              "206205                  24\n",
              "206206                 150\n",
              "206207                  92\n",
              "206208                 198\n",
              "206209                  68\n",
              "\n",
              "[206209 rows x 1 columns]"
            ]
          },
          "metadata": {
            "tags": []
          },
          "execution_count": 87
        }
      ]
    },
    {
      "cell_type": "code",
      "metadata": {
        "id": "r_GZ1LIDb4ir",
        "colab_type": "code",
        "colab": {}
      },
      "source": [
        "all_user_features_df = pd.concat([user_features1_df, user_features2_df, user_features3_df], axis=1)"
      ],
      "execution_count": 0,
      "outputs": []
    },
    {
      "cell_type": "code",
      "metadata": {
        "id": "8le772gMc2YR",
        "colab_type": "code",
        "outputId": "0c42318f-60b3-4208-9084-61a99a718bc7",
        "colab": {
          "base_uri": "https://localhost:8080/",
          "height": 437
        }
      },
      "source": [
        "all_user_features_df"
      ],
      "execution_count": 0,
      "outputs": [
        {
          "output_type": "execute_result",
          "data": {
            "text/html": [
              "<div>\n",
              "<style scoped>\n",
              "    .dataframe tbody tr th:only-of-type {\n",
              "        vertical-align: middle;\n",
              "    }\n",
              "\n",
              "    .dataframe tbody tr th {\n",
              "        vertical-align: top;\n",
              "    }\n",
              "\n",
              "    .dataframe thead th {\n",
              "        text-align: right;\n",
              "    }\n",
              "</style>\n",
              "<table border=\"1\" class=\"dataframe\">\n",
              "  <thead>\n",
              "    <tr style=\"text-align: right;\">\n",
              "      <th></th>\n",
              "      <th>median_day_since_prior_order</th>\n",
              "      <th>mode_day</th>\n",
              "      <th>median_hour_of_day</th>\n",
              "      <th>number_of_orders</th>\n",
              "      <th>median_number_of_products_in_order</th>\n",
              "      <th>reordered</th>\n",
              "      <th>unique_prod_total</th>\n",
              "    </tr>\n",
              "    <tr>\n",
              "      <th>user_id</th>\n",
              "      <th></th>\n",
              "      <th></th>\n",
              "      <th></th>\n",
              "      <th></th>\n",
              "      <th></th>\n",
              "      <th></th>\n",
              "      <th></th>\n",
              "    </tr>\n",
              "  </thead>\n",
              "  <tbody>\n",
              "    <tr>\n",
              "      <th>1</th>\n",
              "      <td>20.5</td>\n",
              "      <td>4</td>\n",
              "      <td>8.5</td>\n",
              "      <td>10</td>\n",
              "      <td>5.5</td>\n",
              "      <td>1</td>\n",
              "      <td>18</td>\n",
              "    </tr>\n",
              "    <tr>\n",
              "      <th>2</th>\n",
              "      <td>13.0</td>\n",
              "      <td>2</td>\n",
              "      <td>10.0</td>\n",
              "      <td>14</td>\n",
              "      <td>13.5</td>\n",
              "      <td>1</td>\n",
              "      <td>102</td>\n",
              "    </tr>\n",
              "    <tr>\n",
              "      <th>3</th>\n",
              "      <td>11.5</td>\n",
              "      <td>0</td>\n",
              "      <td>16.0</td>\n",
              "      <td>12</td>\n",
              "      <td>7.0</td>\n",
              "      <td>1</td>\n",
              "      <td>33</td>\n",
              "    </tr>\n",
              "    <tr>\n",
              "      <th>4</th>\n",
              "      <td>19.0</td>\n",
              "      <td>5</td>\n",
              "      <td>13.0</td>\n",
              "      <td>5</td>\n",
              "      <td>3.0</td>\n",
              "      <td>1</td>\n",
              "      <td>17</td>\n",
              "    </tr>\n",
              "    <tr>\n",
              "      <th>5</th>\n",
              "      <td>15.0</td>\n",
              "      <td>3</td>\n",
              "      <td>17.0</td>\n",
              "      <td>4</td>\n",
              "      <td>10.0</td>\n",
              "      <td>1</td>\n",
              "      <td>23</td>\n",
              "    </tr>\n",
              "    <tr>\n",
              "      <th>...</th>\n",
              "      <td>...</td>\n",
              "      <td>...</td>\n",
              "      <td>...</td>\n",
              "      <td>...</td>\n",
              "      <td>...</td>\n",
              "      <td>...</td>\n",
              "      <td>...</td>\n",
              "    </tr>\n",
              "    <tr>\n",
              "      <th>206205</th>\n",
              "      <td>30.0</td>\n",
              "      <td>2</td>\n",
              "      <td>15.0</td>\n",
              "      <td>3</td>\n",
              "      <td>8.0</td>\n",
              "      <td>1</td>\n",
              "      <td>24</td>\n",
              "    </tr>\n",
              "    <tr>\n",
              "      <th>206206</th>\n",
              "      <td>3.0</td>\n",
              "      <td>0</td>\n",
              "      <td>17.0</td>\n",
              "      <td>67</td>\n",
              "      <td>4.0</td>\n",
              "      <td>1</td>\n",
              "      <td>150</td>\n",
              "    </tr>\n",
              "    <tr>\n",
              "      <th>206207</th>\n",
              "      <td>12.0</td>\n",
              "      <td>2</td>\n",
              "      <td>12.0</td>\n",
              "      <td>16</td>\n",
              "      <td>13.0</td>\n",
              "      <td>1</td>\n",
              "      <td>92</td>\n",
              "    </tr>\n",
              "    <tr>\n",
              "      <th>206208</th>\n",
              "      <td>7.0</td>\n",
              "      <td>2</td>\n",
              "      <td>15.0</td>\n",
              "      <td>49</td>\n",
              "      <td>13.0</td>\n",
              "      <td>1</td>\n",
              "      <td>198</td>\n",
              "    </tr>\n",
              "    <tr>\n",
              "      <th>206209</th>\n",
              "      <td>22.0</td>\n",
              "      <td>4</td>\n",
              "      <td>13.0</td>\n",
              "      <td>13</td>\n",
              "      <td>9.0</td>\n",
              "      <td>1</td>\n",
              "      <td>68</td>\n",
              "    </tr>\n",
              "  </tbody>\n",
              "</table>\n",
              "<p>206209 rows × 7 columns</p>\n",
              "</div>"
            ],
            "text/plain": [
              "         median_day_since_prior_order  mode_day  ...  reordered  unique_prod_total\n",
              "user_id                                          ...                              \n",
              "1                                20.5         4  ...          1                 18\n",
              "2                                13.0         2  ...          1                102\n",
              "3                                11.5         0  ...          1                 33\n",
              "4                                19.0         5  ...          1                 17\n",
              "5                                15.0         3  ...          1                 23\n",
              "...                               ...       ...  ...        ...                ...\n",
              "206205                           30.0         2  ...          1                 24\n",
              "206206                            3.0         0  ...          1                150\n",
              "206207                           12.0         2  ...          1                 92\n",
              "206208                            7.0         2  ...          1                198\n",
              "206209                           22.0         4  ...          1                 68\n",
              "\n",
              "[206209 rows x 7 columns]"
            ]
          },
          "metadata": {
            "tags": []
          },
          "execution_count": 89
        }
      ]
    },
    {
      "cell_type": "markdown",
      "metadata": {
        "colab_type": "text",
        "id": "H0laP_miv3vq"
      },
      "source": [
        "## Clustering users"
      ]
    },
    {
      "cell_type": "code",
      "metadata": {
        "colab_type": "code",
        "outputId": "ac23ad28-0954-4045-8ae8-a23215fd76c7",
        "id": "GTupL1uIv3vo",
        "colab": {
          "base_uri": "https://localhost:8080/"
        }
      },
      "source": [
        "inertias = []\n",
        "for n_clusters in range(2,13):\n",
        "  kmeans = KMeans(n_clusters=n_clusters, random_state=30).fit(all_user_features_df)\n",
        "  print(n_clusters)\n",
        "  inertias.append(kmeans.inertia_)"
      ],
      "execution_count": 0,
      "outputs": [
        {
          "output_type": "stream",
          "text": [
            "2\n",
            "3\n",
            "4\n",
            "5\n",
            "6\n",
            "7\n",
            "8\n",
            "9\n",
            "10\n",
            "11\n",
            "12\n"
          ],
          "name": "stdout"
        }
      ]
    },
    {
      "cell_type": "code",
      "metadata": {
        "colab_type": "code",
        "outputId": "512772c5-d551-4b4a-b44f-6be5543cf76b",
        "id": "LTo3SY8Wv3vm",
        "colab": {
          "base_uri": "https://localhost:8080/"
        }
      },
      "source": [
        "n_clusters = list(range(2,13))\n",
        "fig = plt.figure(figsize=(15,10))\n",
        "ax = fig.add_subplot(1,1,1)\n",
        "plt.plot(n_clusters, inertias, '.')\n",
        "ax.set_xlabel('n_clusters')\n",
        "ax.set_ylabel('Sum of squared distances')\n"
      ],
      "execution_count": 0,
      "outputs": [
        {
          "output_type": "execute_result",
          "data": {
            "text/plain": [
              "Text(0, 0.5, 'Sum of squared distances')"
            ]
          },
          "metadata": {
            "tags": []
          },
          "execution_count": 92
        },
        {
          "output_type": "display_data",
          "data": {
            "image/png": "[encoded data removed]",
            "text/plain": [
              "<Figure size 1080x720 with 1 Axes>"
            ]
          },
          "metadata": {
            "tags": []
          }
        }
      ]
    },
    {
      "cell_type": "markdown",
      "metadata": {
        "colab_type": "text",
        "id": "JoCbSVehv3vl"
      },
      "source": [
        "So let's take n_clusters = 4"
      ]
    },
    {
      "cell_type": "code",
      "metadata": {
        "colab_type": "code",
        "id": "ZJySlCK6v3vj",
        "colab": {}
      },
      "source": [
        "kmeans = KMeans(n_clusters=4, random_state=30).fit(all_user_features_df)\n",
        "user_class_df = pd.DataFrame({'user_class':kmeans.labels_})\n",
        "user_class_df = user_class_df.reset_index().rename(columns={'index':'user_id'})\n"
      ],
      "execution_count": 0,
      "outputs": []
    },
    {
      "cell_type": "markdown",
      "metadata": {
        "colab_type": "text",
        "id": "ghthVT6Xv3vi"
      },
      "source": [
        "Merge to add cluster labels to users"
      ]
    },
    {
      "cell_type": "code",
      "metadata": {
        "colab_type": "code",
        "id": "1wP2kXmRv3ve",
        "colab": {}
      },
      "source": [
        "prior_clustered_df = pd.merge(prior_orders_merged_df.loc[:,['user_id', 'product_id']], user_class_df, on='user_id')\n",
        "train_clustered_df = pd.merge(train_orders_merged_df.loc[:,['user_id', 'product_id']], user_class_df, on='user_id')"
      ],
      "execution_count": 0,
      "outputs": []
    },
    {
      "cell_type": "code",
      "metadata": {
        "colab_type": "code",
        "outputId": "4d0c2d5d-dae4-4d0b-a17b-3f4639e5b054",
        "id": "_kdb-Zrzv3vZ",
        "colab": {
          "base_uri": "https://localhost:8080/"
        }
      },
      "source": [
        "prior_clustered_df.head(6)"
      ],
      "execution_count": 0,
      "outputs": [
        {
          "output_type": "execute_result",
          "data": {
            "text/html": [
              "<div>\n",
              "<style scoped>\n",
              "    .dataframe tbody tr th:only-of-type {\n",
              "        vertical-align: middle;\n",
              "    }\n",
              "\n",
              "    .dataframe tbody tr th {\n",
              "        vertical-align: top;\n",
              "    }\n",
              "\n",
              "    .dataframe thead th {\n",
              "        text-align: right;\n",
              "    }\n",
              "</style>\n",
              "<table border=\"1\" class=\"dataframe\">\n",
              "  <thead>\n",
              "    <tr style=\"text-align: right;\">\n",
              "      <th></th>\n",
              "      <th>user_id</th>\n",
              "      <th>product_id</th>\n",
              "      <th>user_class</th>\n",
              "    </tr>\n",
              "  </thead>\n",
              "  <tbody>\n",
              "    <tr>\n",
              "      <th>0</th>\n",
              "      <td>1</td>\n",
              "      <td>196</td>\n",
              "      <td>2</td>\n",
              "    </tr>\n",
              "    <tr>\n",
              "      <th>1</th>\n",
              "      <td>1</td>\n",
              "      <td>14084</td>\n",
              "      <td>2</td>\n",
              "    </tr>\n",
              "    <tr>\n",
              "      <th>2</th>\n",
              "      <td>1</td>\n",
              "      <td>12427</td>\n",
              "      <td>2</td>\n",
              "    </tr>\n",
              "    <tr>\n",
              "      <th>3</th>\n",
              "      <td>1</td>\n",
              "      <td>26088</td>\n",
              "      <td>2</td>\n",
              "    </tr>\n",
              "    <tr>\n",
              "      <th>4</th>\n",
              "      <td>1</td>\n",
              "      <td>26405</td>\n",
              "      <td>2</td>\n",
              "    </tr>\n",
              "    <tr>\n",
              "      <th>5</th>\n",
              "      <td>1</td>\n",
              "      <td>196</td>\n",
              "      <td>2</td>\n",
              "    </tr>\n",
              "  </tbody>\n",
              "</table>\n",
              "</div>"
            ],
            "text/plain": [
              "   user_id  product_id  user_class\n",
              "0        1         196           2\n",
              "1        1       14084           2\n",
              "2        1       12427           2\n",
              "3        1       26088           2\n",
              "4        1       26405           2\n",
              "5        1         196           2"
            ]
          },
          "metadata": {
            "tags": []
          },
          "execution_count": 95
        }
      ]
    },
    {
      "cell_type": "markdown",
      "metadata": {
        "id": "iDn0sQ7DwCha",
        "colab_type": "text"
      },
      "source": [
        "## Visualizing"
      ]
    },
    {
      "cell_type": "code",
      "metadata": {
        "id": "5yIcIM3OwQ1k",
        "colab_type": "code",
        "colab": {}
      },
      "source": [
        "def postprocess_2d(new_x,y):\n",
        "  data_df = pd.DataFrame.from_records(data=new_x[:,:2], columns=['x', 'y'])\n",
        "  data_df[\"target\"] = y\n",
        "  sns.set(style=\"ticks\")\n",
        "  sns.lmplot(x='x', y='y',data=data_df,hue = 'target', fit_reg=False)"
      ],
      "execution_count": 0,
      "outputs": []
    },
    {
      "cell_type": "code",
      "metadata": {
        "id": "68fq41GXwanT",
        "colab_type": "code",
        "colab": {}
      },
      "source": [
        "merged_umap_df = pd.merge(all_user_features_df, user_class_df, on='user_id')"
      ],
      "execution_count": 0,
      "outputs": []
    },
    {
      "cell_type": "code",
      "metadata": {
        "id": "JrAsullvpEcT",
        "colab_type": "code",
        "colab": {}
      },
      "source": [
        "idx = list(set(np.random.randint(0,merged_umap_df.shape[0],1000)))"
      ],
      "execution_count": 0,
      "outputs": []
    },
    {
      "cell_type": "code",
      "metadata": {
        "id": "IpSNDwQKwjs5",
        "colab_type": "code",
        "outputId": "ec89a6e3-5543-4141-9bc2-61e62d6dfc1c",
        "colab": {
          "base_uri": "https://localhost:8080/"
        }
      },
      "source": [
        "merged_umap_df.iloc[idx,[1,2,3,4,5,6,7]]"
      ],
      "execution_count": 0,
      "outputs": [
        {
          "output_type": "execute_result",
          "data": {
            "text/html": [
              "<div>\n",
              "<style scoped>\n",
              "    .dataframe tbody tr th:only-of-type {\n",
              "        vertical-align: middle;\n",
              "    }\n",
              "\n",
              "    .dataframe tbody tr th {\n",
              "        vertical-align: top;\n",
              "    }\n",
              "\n",
              "    .dataframe thead th {\n",
              "        text-align: right;\n",
              "    }\n",
              "</style>\n",
              "<table border=\"1\" class=\"dataframe\">\n",
              "  <thead>\n",
              "    <tr style=\"text-align: right;\">\n",
              "      <th></th>\n",
              "      <th>median_day_since_prior_order</th>\n",
              "      <th>mode_day</th>\n",
              "      <th>median_hour_of_day</th>\n",
              "      <th>number_of_orders</th>\n",
              "      <th>median_number_of_products_in_order</th>\n",
              "      <th>reordered</th>\n",
              "      <th>unique_prod_total</th>\n",
              "    </tr>\n",
              "  </thead>\n",
              "  <tbody>\n",
              "    <tr>\n",
              "      <th>77824</th>\n",
              "      <td>9.0</td>\n",
              "      <td>3</td>\n",
              "      <td>12.0</td>\n",
              "      <td>29</td>\n",
              "      <td>14.0</td>\n",
              "      <td>1</td>\n",
              "      <td>151</td>\n",
              "    </tr>\n",
              "    <tr>\n",
              "      <th>141312</th>\n",
              "      <td>7.0</td>\n",
              "      <td>5</td>\n",
              "      <td>10.0</td>\n",
              "      <td>45</td>\n",
              "      <td>13.0</td>\n",
              "      <td>1</td>\n",
              "      <td>108</td>\n",
              "    </tr>\n",
              "    <tr>\n",
              "      <th>98305</th>\n",
              "      <td>13.5</td>\n",
              "      <td>0</td>\n",
              "      <td>10.0</td>\n",
              "      <td>16</td>\n",
              "      <td>13.5</td>\n",
              "      <td>1</td>\n",
              "      <td>98</td>\n",
              "    </tr>\n",
              "    <tr>\n",
              "      <th>34820</th>\n",
              "      <td>6.0</td>\n",
              "      <td>6</td>\n",
              "      <td>10.0</td>\n",
              "      <td>5</td>\n",
              "      <td>12.0</td>\n",
              "      <td>1</td>\n",
              "      <td>28</td>\n",
              "    </tr>\n",
              "    <tr>\n",
              "      <th>102405</th>\n",
              "      <td>30.0</td>\n",
              "      <td>2</td>\n",
              "      <td>13.0</td>\n",
              "      <td>5</td>\n",
              "      <td>20.0</td>\n",
              "      <td>1</td>\n",
              "      <td>57</td>\n",
              "    </tr>\n",
              "    <tr>\n",
              "      <th>...</th>\n",
              "      <td>...</td>\n",
              "      <td>...</td>\n",
              "      <td>...</td>\n",
              "      <td>...</td>\n",
              "      <td>...</td>\n",
              "      <td>...</td>\n",
              "      <td>...</td>\n",
              "    </tr>\n",
              "    <tr>\n",
              "      <th>112619</th>\n",
              "      <td>12.0</td>\n",
              "      <td>2</td>\n",
              "      <td>14.5</td>\n",
              "      <td>4</td>\n",
              "      <td>13.5</td>\n",
              "      <td>1</td>\n",
              "      <td>44</td>\n",
              "    </tr>\n",
              "    <tr>\n",
              "      <th>8175</th>\n",
              "      <td>24.0</td>\n",
              "      <td>5</td>\n",
              "      <td>21.0</td>\n",
              "      <td>9</td>\n",
              "      <td>20.0</td>\n",
              "      <td>1</td>\n",
              "      <td>95</td>\n",
              "    </tr>\n",
              "    <tr>\n",
              "      <th>90096</th>\n",
              "      <td>30.0</td>\n",
              "      <td>0</td>\n",
              "      <td>15.0</td>\n",
              "      <td>3</td>\n",
              "      <td>7.0</td>\n",
              "      <td>1</td>\n",
              "      <td>26</td>\n",
              "    </tr>\n",
              "    <tr>\n",
              "      <th>178168</th>\n",
              "      <td>16.0</td>\n",
              "      <td>5</td>\n",
              "      <td>12.0</td>\n",
              "      <td>5</td>\n",
              "      <td>5.0</td>\n",
              "      <td>1</td>\n",
              "      <td>20</td>\n",
              "    </tr>\n",
              "    <tr>\n",
              "      <th>190462</th>\n",
              "      <td>13.0</td>\n",
              "      <td>1</td>\n",
              "      <td>12.0</td>\n",
              "      <td>26</td>\n",
              "      <td>22.0</td>\n",
              "      <td>1</td>\n",
              "      <td>167</td>\n",
              "    </tr>\n",
              "  </tbody>\n",
              "</table>\n",
              "<p>996 rows × 7 columns</p>\n",
              "</div>"
            ],
            "text/plain": [
              "        median_day_since_prior_order  mode_day  ...  reordered  unique_prod_total\n",
              "77824                            9.0         3  ...          1                151\n",
              "141312                           7.0         5  ...          1                108\n",
              "98305                           13.5         0  ...          1                 98\n",
              "34820                            6.0         6  ...          1                 28\n",
              "102405                          30.0         2  ...          1                 57\n",
              "...                              ...       ...  ...        ...                ...\n",
              "112619                          12.0         2  ...          1                 44\n",
              "8175                            24.0         5  ...          1                 95\n",
              "90096                           30.0         0  ...          1                 26\n",
              "178168                          16.0         5  ...          1                 20\n",
              "190462                          13.0         1  ...          1                167\n",
              "\n",
              "[996 rows x 7 columns]"
            ]
          },
          "metadata": {
            "tags": []
          },
          "execution_count": 129
        }
      ]
    },
    {
      "cell_type": "code",
      "metadata": {
        "id": "EWJ4oRC3wVMJ",
        "colab_type": "code",
        "outputId": "6e4996a1-a014-4d50-da59-9b5436758f08",
        "colab": {
          "base_uri": "https://localhost:8080/"
        }
      },
      "source": [
        "umap = UMAP(n_neighbors=5, min_dist=0.3, metric='correlation')\n",
        "new_x = umap.fit_transform(merged_umap_df.iloc[idx,[1,2,3,4,5,6,7]])\n",
        "postprocess_2d(new_x,merged_umap_df.iloc[idx,[8]].values)"
      ],
      "execution_count": 0,
      "outputs": [
        {
          "output_type": "display_data",
          "data": {
            "image/png": "[encoded data removed]",
            "text/plain": [
              "<Figure size 406.6x360 with 1 Axes>"
            ]
          },
          "metadata": {
            "tags": []
          }
        }
      ]
    },
    {
      "cell_type": "code",
      "metadata": {
        "id": "MVSAmcQXsFB4",
        "colab_type": "code",
        "outputId": "5739e323-10f3-42e0-fd09-f2d782a2a2cf",
        "colab": {
          "base_uri": "https://localhost:8080/"
        }
      },
      "source": [
        "tsne = TSNE(perplexity=30, early_exaggeration=12, learning_rate=200)\n",
        "new_x = tsne.fit_transform(merged_umap_df.iloc[idx,[1,2,3,4,5,6,7]])\n",
        "postprocess_2d(new_x,merged_umap_df.iloc[idx,[8]].values)"
      ],
      "execution_count": 0,
      "outputs": [
        {
          "output_type": "display_data",
          "data": {
            "image/png": "[encoded data removed]",
            "text/plain": [
              "<Figure size 406.6x360 with 1 Axes>"
            ]
          },
          "metadata": {
            "tags": []
          }
        }
      ]
    },
    {
      "cell_type": "markdown",
      "metadata": {
        "id": "_EkNq0wEnCuL",
        "colab_type": "text"
      },
      "source": [
        "## Switcher recommender implementation"
      ]
    },
    {
      "cell_type": "code",
      "metadata": {
        "id": "GfbSnEB6UrWd",
        "colab_type": "code",
        "colab": {}
      },
      "source": [
        "class MostPopularRecommender():\n",
        "  def __init__(self):\n",
        "    pass\n",
        "  \n",
        "  def fit(self, X_train):\n",
        "    assert type(X_train) == pd.DataFrame\n",
        "    self.most_popular = list(X_train['product_id'].value_counts().index[:])\n",
        "  \n",
        "  def predict(self, X_test, top_n):\n",
        "    #predicted = pd.DataFrame([mp.most_popular[:top_n] for i in range(X_test['user_id'].nunique())])\n",
        "    predicted = pd.DataFrame()\n",
        "    predicted['user_id'] = list(X_test['user_id'].unique())\n",
        "    predicted['product_id'] = [self.most_popular[:top_n] for i in range(X_test['user_id'].nunique())]\n",
        "    return predicted"
      ],
      "execution_count": 0,
      "outputs": []
    },
    {
      "cell_type": "code",
      "metadata": {
        "id": "35zdeovFooK2",
        "colab_type": "code",
        "colab": {}
      },
      "source": [
        "class SwitcherRecommender():\n",
        "  def __init__(self):\n",
        "    pass\n",
        "  def fit(self, X_train):\n",
        "    self.rec_dict = {}\n",
        "    prior_clustered_grouped_df = X_train.groupby('user_class')\n",
        "    for cluster_label in X_train['user_class'].unique():\n",
        "      X_train_cluster = prior_clustered_grouped_df.get_group(cluster_label)\n",
        "      mp = MostPopularRecommender()\n",
        "      mp.fit(X_train_cluster)\n",
        "      self.rec_dict[cluster_label] = mp\n",
        "\n",
        "  def predict(self, X_test, top_n):\n",
        "      train_clustered_grouped_df = X_test.groupby('user_class')\n",
        "      predicted = pd.DataFrame()\n",
        "\n",
        "      for cluster_label in X_test['user_class'].unique():\n",
        "        X_test_cluster = train_clustered_grouped_df.get_group(cluster_label)\n",
        "        mp = self.rec_dict[cluster_label]\n",
        "        cluster_predict = mp.predict(X_test_cluster, top_n)\n",
        "        predicted = pd.concat([predicted, cluster_predict])\n",
        "      \n",
        "      return predicted\n"
      ],
      "execution_count": 0,
      "outputs": []
    },
    {
      "cell_type": "code",
      "metadata": {
        "id": "-d4amd67sIcJ",
        "colab_type": "code",
        "colab": {}
      },
      "source": [
        "switcher_rec = SwitcherRecommender()\n",
        "switcher_rec.fit(prior_clustered_df)"
      ],
      "execution_count": 0,
      "outputs": []
    },
    {
      "cell_type": "code",
      "metadata": {
        "id": "EM7qeg_zsedI",
        "colab_type": "code",
        "colab": {}
      },
      "source": [
        "predicted = switcher_rec.predict(train_clustered_df, top_n=25)"
      ],
      "execution_count": 0,
      "outputs": []
    },
    {
      "cell_type": "code",
      "metadata": {
        "id": "vnfxMNiNs5gM",
        "colab_type": "code",
        "colab": {}
      },
      "source": [
        "def eval_results(actual, predicted,k):\n",
        "\n",
        "  def collect(x):\n",
        "    return list(x)\n",
        "  \n",
        "  ground_truth = actual.groupby('user_id').agg({'product_id':collect}).reset_index()\n",
        "  return mean_average_precision_at_k(list(predicted['product_id']), list(ground_truth['product_id']), k)"
      ],
      "execution_count": 0,
      "outputs": []
    },
    {
      "cell_type": "code",
      "metadata": {
        "id": "j3Rio7jItadV",
        "colab_type": "code",
        "outputId": "84dc8a79-4d7c-41b4-e57b-05888a4b58e0",
        "colab": {
          "base_uri": "https://localhost:8080/",
          "height": 35
        }
      },
      "source": [
        "eval_results(train_clustered_df, predicted, 25)"
      ],
      "execution_count": 0,
      "outputs": [
        {
          "output_type": "execute_result",
          "data": {
            "text/plain": [
              "0.03326284522310381"
            ]
          },
          "metadata": {
            "tags": []
          },
          "execution_count": 101
        }
      ]
    },
    {
      "cell_type": "markdown",
      "metadata": {
        "id": "dSHdXp936XGR",
        "colab_type": "text"
      },
      "source": [
        "Simple most popular"
      ]
    },
    {
      "cell_type": "code",
      "metadata": {
        "id": "ds0ICRIVuDT3",
        "colab_type": "code",
        "colab": {}
      },
      "source": [
        "mp = MostPopularRecommender()\n",
        "mp.fit(prior_orders_merged_df)\n",
        "predicted = mp.predict(train_orders_merged_df, top_n=25)"
      ],
      "execution_count": 0,
      "outputs": []
    },
    {
      "cell_type": "code",
      "metadata": {
        "id": "LO9x5jQzuDhf",
        "colab_type": "code",
        "outputId": "e104a257-c57d-4f87-c5ef-c9088773e083",
        "colab": {
          "base_uri": "https://localhost:8080/",
          "height": 35
        }
      },
      "source": [
        "eval_results(train_orders_merged_df, predicted, 25)"
      ],
      "execution_count": 0,
      "outputs": [
        {
          "output_type": "execute_result",
          "data": {
            "text/plain": [
              "0.03325867087536548"
            ]
          },
          "metadata": {
            "tags": []
          },
          "execution_count": 103
        }
      ]
    },
    {
      "cell_type": "code",
      "metadata": {
        "id": "fXJ9k4ZXV_L3",
        "colab_type": "code",
        "outputId": "98574699-a41f-4df9-8d14-f4d3e5c2d7ae",
        "colab": {
          "base_uri": "https://localhost:8080/",
          "height": 90
        }
      },
      "source": [
        "for val in switcher_rec.rec_dict.values():\n",
        "  print(len(set(val.most_popular[:50])&set(mp.most_popular[:50])))"
      ],
      "execution_count": 0,
      "outputs": [
        {
          "output_type": "stream",
          "text": [
            "50\n",
            "48\n",
            "48\n",
            "49\n"
          ],
          "name": "stdout"
        }
      ]
    },
    {
      "cell_type": "markdown",
      "metadata": {
        "id": "PACzhOj0uhYj",
        "colab_type": "text"
      },
      "source": [
        "## Some code for debug"
      ]
    },
    {
      "cell_type": "code",
      "metadata": {
        "id": "kCCvD6lPUvLv",
        "colab_type": "code",
        "colab": {}
      },
      "source": [
        "prior_clustered_grouped_df = prior_clustered_df.groupby('user_class')\n",
        "train_clustered_grouped_df = train_clustered_df.groupby('user_class')"
      ],
      "execution_count": 0,
      "outputs": []
    },
    {
      "cell_type": "code",
      "metadata": {
        "id": "Fkir3YAgWszU",
        "colab_type": "code",
        "colab": {}
      },
      "source": [
        "mp = MostPopularRecommender()\n",
        "mp.fit(X_train)\n",
        "predicted = mp.predict(X_test, top_n=5)"
      ],
      "execution_count": 0,
      "outputs": []
    },
    {
      "cell_type": "code",
      "metadata": {
        "id": "l5ZWdSrPcN86",
        "colab_type": "code",
        "colab": {}
      },
      "source": [
        "predicted.head()"
      ],
      "execution_count": 0,
      "outputs": []
    },
    {
      "cell_type": "code",
      "metadata": {
        "id": "57xE8Aj4d4cS",
        "colab_type": "code",
        "colab": {}
      },
      "source": [
        "ground_truth = X_test.groupby('user_id').agg({'product_id':collect}).reset_index()"
      ],
      "execution_count": 0,
      "outputs": []
    },
    {
      "cell_type": "code",
      "metadata": {
        "id": "GOgOUdLvfcD3",
        "colab_type": "code",
        "colab": {}
      },
      "source": [
        "ground_truth.head()"
      ],
      "execution_count": 0,
      "outputs": []
    },
    {
      "cell_type": "code",
      "metadata": {
        "id": "EMyixVvdfqTe",
        "colab_type": "code",
        "colab": {}
      },
      "source": [
        "mean_average_precision_at_k(list(predicted['product_id']), list(ground_truth['product_id']), k=5)"
      ],
      "execution_count": 0,
      "outputs": []
    }
  ]
}