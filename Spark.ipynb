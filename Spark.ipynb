{
  "nbformat": 4,
  "nbformat_minor": 0,
  "metadata": {
    "colab": {
      "name": "Spark.ipynb",
      "provenance": [],
      "collapsed_sections": [
        "VeaqXMt5C_lL"
      ],
      "machine_shape": "hm"
    },
    "kernelspec": {
      "name": "python3",
      "display_name": "Python 3"
    }
  },
  "cells": [
    {
      "cell_type": "markdown",
      "metadata": {
        "id": "o4ZfWXvD7flm",
        "colab_type": "text"
      },
      "source": [
        "# All imports and Spark loading"
      ]
    },
    {
      "cell_type": "code",
      "metadata": {
        "id": "ukwppVYXOzus",
        "colab_type": "code",
        "outputId": "3910cdad-3092-449b-eb3f-abc6f02e98cd",
        "colab": {
          "base_uri": "https://localhost:8080/",
          "height": 204
        }
      },
      "source": [
        "!apt-get install openjdk-8-jdk-headless -qq > /dev/null\n",
        "!wget http://mirror.linux-ia64.org/apache/spark/spark-3.0.0-preview/spark-3.0.0-preview-bin-hadoop2.7.tgz\n"
      ],
      "execution_count": 1,
      "outputs": [
        {
          "output_type": "stream",
          "text": [
            "--2019-12-03 08:29:28--  http://mirror.linux-ia64.org/apache/spark/spark-3.0.0-preview/spark-3.0.0-preview-bin-hadoop2.7.tgz\n",
            "Resolving mirror.linux-ia64.org (mirror.linux-ia64.org)... 37.193.156.169\n",
            "Connecting to mirror.linux-ia64.org (mirror.linux-ia64.org)|37.193.156.169|:80... connected.\n",
            "HTTP request sent, awaiting response... 200 OK\n",
            "Length: 233622806 (223M) [application/x-gzip]\n",
            "Saving to: ‘spark-3.0.0-preview-bin-hadoop2.7.tgz’\n",
            "\n",
            "spark-3.0.0-preview 100%[===================>] 222.80M  1.21MB/s    in 4m 14s  \n",
            "\n",
            "2019-12-03 08:33:43 (897 KB/s) - ‘spark-3.0.0-preview-bin-hadoop2.7.tgz’ saved [233622806/233622806]\n",
            "\n"
          ],
          "name": "stdout"
        }
      ]
    },
    {
      "cell_type": "code",
      "metadata": {
        "id": "EQ6rz8u7PHar",
        "colab_type": "code",
        "colab": {}
      },
      "source": [
        "!tar xf spark-3.0.0-preview-bin-hadoop2.7.tgz\n",
        "!pip install -q findspark"
      ],
      "execution_count": 0,
      "outputs": []
    },
    {
      "cell_type": "code",
      "metadata": {
        "id": "KC_2SWB-O6nv",
        "colab_type": "code",
        "colab": {}
      },
      "source": [
        "import os\n",
        "os.environ[\"JAVA_HOME\"] = \"/usr/lib/jvm/java-8-openjdk-amd64\"\n",
        "os.environ[\"SPARK_HOME\"] = \"/content/spark-3.0.0-preview-bin-hadoop2.7\""
      ],
      "execution_count": 0,
      "outputs": []
    },
    {
      "cell_type": "code",
      "metadata": {
        "id": "a06kFXLZQQ8r",
        "colab_type": "code",
        "colab": {}
      },
      "source": [
        "import findspark\n",
        "findspark.init()\n",
        "from pyspark.sql import SparkSession\n",
        "spark = SparkSession.builder.master(\"local[*]\").getOrCreate()"
      ],
      "execution_count": 0,
      "outputs": []
    },
    {
      "cell_type": "code",
      "metadata": {
        "id": "IGo9sLiX7mre",
        "colab_type": "code",
        "colab": {}
      },
      "source": [
        "import os\n",
        "from google_drive_downloader import GoogleDriveDownloader as gdd\n",
        "import pandas as pd\n",
        "import numpy as np"
      ],
      "execution_count": 0,
      "outputs": []
    },
    {
      "cell_type": "code",
      "metadata": {
        "id": "v5FzvI5i9BGZ",
        "colab_type": "code",
        "colab": {}
      },
      "source": [
        "from pyspark.ml.fpm import FPGrowth"
      ],
      "execution_count": 0,
      "outputs": []
    },
    {
      "cell_type": "markdown",
      "metadata": {
        "id": "4WWApTvy7zo1",
        "colab_type": "text"
      },
      "source": [
        "# Load data"
      ]
    },
    {
      "cell_type": "code",
      "metadata": {
        "id": "k-QdweCu7vVm",
        "colab_type": "code",
        "outputId": "1342c30e-6377-4c50-83b0-13de0495af79",
        "colab": {
          "base_uri": "https://localhost:8080/",
          "height": 34
        }
      },
      "source": [
        "if not os.path.exists('./data'):\n",
        "  os.mkdir('./data')\n",
        "\n",
        "gdd.download_file_from_google_drive(file_id='1EMS377_Ew2h0esEMdEj54X894J_xU7Fl', dest_path='./data/instacart_online_grocery_shopping_2017_05_01.tar.gz')\n",
        "gdd.download_file_from_google_drive(file_id='1LdRp0AHS0bkZkdLCOpFs-4SXrFJaERmg', dest_path='./data/basic_recommenders.py')"
      ],
      "execution_count": 33,
      "outputs": [
        {
          "output_type": "stream",
          "text": [
            "Downloading 1LdRp0AHS0bkZkdLCOpFs-4SXrFJaERmg into ./data/basic_recommenders.py... Done.\n"
          ],
          "name": "stdout"
        }
      ]
    },
    {
      "cell_type": "code",
      "metadata": {
        "id": "yVpR38IQ7yNQ",
        "colab_type": "code",
        "colab": {
          "base_uri": "https://localhost:8080/",
          "height": 34
        },
        "outputId": "24effea1-bde8-4b6c-b90b-04189e676830"
      },
      "source": [
        "! mkdir ./data/unziped"
      ],
      "execution_count": 10,
      "outputs": [
        {
          "output_type": "stream",
          "text": [
            "mkdir: cannot create directory ‘./data/unziped’: File exists\n"
          ],
          "name": "stdout"
        }
      ]
    },
    {
      "cell_type": "code",
      "metadata": {
        "id": "Z4uss9fU7zAV",
        "colab_type": "code",
        "colab": {}
      },
      "source": [
        "! tar -xzf ./data/instacart_online_grocery_shopping_2017_05_01.tar.gz -C ./data/unziped"
      ],
      "execution_count": 0,
      "outputs": []
    },
    {
      "cell_type": "code",
      "metadata": {
        "id": "yoSUeTFi8orZ",
        "colab_type": "code",
        "colab": {}
      },
      "source": [
        "import data.basic_recommenders as br"
      ],
      "execution_count": 0,
      "outputs": []
    },
    {
      "cell_type": "markdown",
      "metadata": {
        "id": "VeaqXMt5C_lL",
        "colab_type": "text"
      },
      "source": [
        "#Metrics"
      ]
    },
    {
      "cell_type": "code",
      "metadata": {
        "id": "2_aU5uqaDA_6",
        "colab_type": "code",
        "colab": {}
      },
      "source": [
        "def precision_at_k(predicted, actual, k):\n",
        "  assert len(predicted) >= k\n",
        "  intersection = set(predicted[:k]) & set(actual)\n",
        "  return len(intersection) / k"
      ],
      "execution_count": 0,
      "outputs": []
    },
    {
      "cell_type": "code",
      "metadata": {
        "id": "yz7Hzm_FDBv_",
        "colab_type": "code",
        "colab": {}
      },
      "source": [
        "def average_precision_at_k(predicted, actual, k):\n",
        "  tmp = 0\n",
        "  actual_length = min(k,len(actual))\n",
        "  if len(predicted) < actual_length:\n",
        "    warnings.warn(\"Length of predict is less than k\")\n",
        "  for i in range(actual_length):\n",
        "    if predicted[i] in actual:\n",
        "      tmp += precision_at_k(predicted[:i+1], actual, i+1)\n",
        "  return tmp / actual_length"
      ],
      "execution_count": 0,
      "outputs": []
    },
    {
      "cell_type": "code",
      "metadata": {
        "id": "-nMl6l88DDDK",
        "colab_type": "code",
        "colab": {}
      },
      "source": [
        "def mean_average_precision_at_k(predicted_list, actual_list, k):\n",
        "  tmp = 0\n",
        "  cnt = 0\n",
        "  for predicted, actual in zip(predicted_list, actual_list):\n",
        "    if len(actual) != 0:\n",
        "      tmp += average_precision_at_k(predicted, actual, k)\n",
        "      cnt += 1\n",
        "  assert cnt != 0\n",
        "  return tmp / cnt"
      ],
      "execution_count": 0,
      "outputs": []
    },
    {
      "cell_type": "markdown",
      "metadata": {
        "id": "Z8sgXuOr6m8v",
        "colab_type": "text"
      },
      "source": [
        "# FPGrow"
      ]
    },
    {
      "cell_type": "code",
      "metadata": {
        "id": "PqWtN0IS78ae",
        "colab_type": "code",
        "colab": {}
      },
      "source": [
        "orders_df = pd.read_csv('./data/unziped/instacart_2017_05_01/orders.csv')\n",
        "orders_df = orders_df.drop(orders_df[orders_df['eval_set'] == 'test'].index)\n",
        "order_products_prior_df = pd.read_csv('./data/unziped/instacart_2017_05_01/order_products__prior.csv')\n",
        "order_products_train_df = pd.read_csv('./data/unziped/instacart_2017_05_01/order_products__train.csv')"
      ],
      "execution_count": 0,
      "outputs": []
    },
    {
      "cell_type": "code",
      "metadata": {
        "id": "nv7v69sN8MMf",
        "colab_type": "code",
        "colab": {}
      },
      "source": [
        "prior_orders_merged_df = pd.merge(orders_df[orders_df['eval_set'] == 'prior'], order_products_prior_df, on='order_id')\n",
        "train_orders_merged_df = pd.merge(orders_df[orders_df['eval_set'] == 'train'], order_products_train_df, on='order_id')"
      ],
      "execution_count": 0,
      "outputs": []
    },
    {
      "cell_type": "code",
      "metadata": {
        "id": "KqSZ0B0h8YyF",
        "colab_type": "code",
        "outputId": "f8fa70d4-9cb6-46c9-9918-5b2fba6b4f92",
        "colab": {
          "base_uri": "https://localhost:8080/",
          "height": 204
        }
      },
      "source": [
        "prior_orders_merged_df.head()"
      ],
      "execution_count": 14,
      "outputs": [
        {
          "output_type": "execute_result",
          "data": {
            "text/html": [
              "<div>\n",
              "<style scoped>\n",
              "    .dataframe tbody tr th:only-of-type {\n",
              "        vertical-align: middle;\n",
              "    }\n",
              "\n",
              "    .dataframe tbody tr th {\n",
              "        vertical-align: top;\n",
              "    }\n",
              "\n",
              "    .dataframe thead th {\n",
              "        text-align: right;\n",
              "    }\n",
              "</style>\n",
              "<table border=\"1\" class=\"dataframe\">\n",
              "  <thead>\n",
              "    <tr style=\"text-align: right;\">\n",
              "      <th></th>\n",
              "      <th>order_id</th>\n",
              "      <th>user_id</th>\n",
              "      <th>eval_set</th>\n",
              "      <th>order_number</th>\n",
              "      <th>order_dow</th>\n",
              "      <th>order_hour_of_day</th>\n",
              "      <th>days_since_prior_order</th>\n",
              "      <th>product_id</th>\n",
              "      <th>add_to_cart_order</th>\n",
              "      <th>reordered</th>\n",
              "    </tr>\n",
              "  </thead>\n",
              "  <tbody>\n",
              "    <tr>\n",
              "      <th>0</th>\n",
              "      <td>2539329</td>\n",
              "      <td>1</td>\n",
              "      <td>prior</td>\n",
              "      <td>1</td>\n",
              "      <td>2</td>\n",
              "      <td>8</td>\n",
              "      <td>NaN</td>\n",
              "      <td>196</td>\n",
              "      <td>1</td>\n",
              "      <td>0</td>\n",
              "    </tr>\n",
              "    <tr>\n",
              "      <th>1</th>\n",
              "      <td>2539329</td>\n",
              "      <td>1</td>\n",
              "      <td>prior</td>\n",
              "      <td>1</td>\n",
              "      <td>2</td>\n",
              "      <td>8</td>\n",
              "      <td>NaN</td>\n",
              "      <td>14084</td>\n",
              "      <td>2</td>\n",
              "      <td>0</td>\n",
              "    </tr>\n",
              "    <tr>\n",
              "      <th>2</th>\n",
              "      <td>2539329</td>\n",
              "      <td>1</td>\n",
              "      <td>prior</td>\n",
              "      <td>1</td>\n",
              "      <td>2</td>\n",
              "      <td>8</td>\n",
              "      <td>NaN</td>\n",
              "      <td>12427</td>\n",
              "      <td>3</td>\n",
              "      <td>0</td>\n",
              "    </tr>\n",
              "    <tr>\n",
              "      <th>3</th>\n",
              "      <td>2539329</td>\n",
              "      <td>1</td>\n",
              "      <td>prior</td>\n",
              "      <td>1</td>\n",
              "      <td>2</td>\n",
              "      <td>8</td>\n",
              "      <td>NaN</td>\n",
              "      <td>26088</td>\n",
              "      <td>4</td>\n",
              "      <td>0</td>\n",
              "    </tr>\n",
              "    <tr>\n",
              "      <th>4</th>\n",
              "      <td>2539329</td>\n",
              "      <td>1</td>\n",
              "      <td>prior</td>\n",
              "      <td>1</td>\n",
              "      <td>2</td>\n",
              "      <td>8</td>\n",
              "      <td>NaN</td>\n",
              "      <td>26405</td>\n",
              "      <td>5</td>\n",
              "      <td>0</td>\n",
              "    </tr>\n",
              "  </tbody>\n",
              "</table>\n",
              "</div>"
            ],
            "text/plain": [
              "   order_id  user_id eval_set  ...  product_id  add_to_cart_order  reordered\n",
              "0   2539329        1    prior  ...         196                  1          0\n",
              "1   2539329        1    prior  ...       14084                  2          0\n",
              "2   2539329        1    prior  ...       12427                  3          0\n",
              "3   2539329        1    prior  ...       26088                  4          0\n",
              "4   2539329        1    prior  ...       26405                  5          0\n",
              "\n",
              "[5 rows x 10 columns]"
            ]
          },
          "metadata": {
            "tags": []
          },
          "execution_count": 14
        }
      ]
    },
    {
      "cell_type": "code",
      "metadata": {
        "id": "A4OuLGIq8osz",
        "colab_type": "code",
        "colab": {}
      },
      "source": [
        "grouped_by_user_df = prior_orders_merged_df.groupby('user_id').agg(items=pd.NamedAgg(column='product_id', aggfunc=lambda x: list(set(x))))\n",
        "grouped_by_user_df.reset_index(inplace=True)\n",
        "grouped_by_user_df.rename(columns={'user_id':'id'},inplace=True)"
      ],
      "execution_count": 0,
      "outputs": []
    },
    {
      "cell_type": "code",
      "metadata": {
        "id": "2BGdHSRS90ny",
        "colab_type": "code",
        "colab": {}
      },
      "source": [
        "df = spark.createDataFrame(grouped_by_user_df)"
      ],
      "execution_count": 0,
      "outputs": []
    },
    {
      "cell_type": "code",
      "metadata": {
        "id": "tee_1T0O-Xhh",
        "colab_type": "code",
        "outputId": "496a6121-4b7f-419c-b2ca-def74d6ffdd4",
        "colab": {
          "base_uri": "https://localhost:8080/",
          "height": 459
        }
      },
      "source": [
        "df.show()"
      ],
      "execution_count": 17,
      "outputs": [
        {
          "output_type": "stream",
          "text": [
            "+---+--------------------+\n",
            "| id|               items|\n",
            "+---+--------------------+\n",
            "|  1|[17122, 196, 2640...|\n",
            "|  2|[45066, 2573, 189...|\n",
            "|  3|[17668, 44683, 48...|\n",
            "|  4|[21573, 17769, 35...|\n",
            "|  5|[28289, 11777, 40...|\n",
            "|  6|[40992, 27521, 20...|\n",
            "|  7|[11520, 35333, 51...|\n",
            "|  8|[11136, 8193, 177...|\n",
            "|  9|[8834, 38277, 337...|\n",
            "| 10|[36865, 20995, 13...|\n",
            "| 11|[17794, 8197, 308...|\n",
            "| 12|[45056, 11520, 17...|\n",
            "| 13|[41351, 41480, 37...|\n",
            "| 14|[8193, 17923, 184...|\n",
            "| 15|[11266, 37059, 19...|\n",
            "| 16|[15872, 28289, 17...|\n",
            "| 17|[36736, 45190, 18...|\n",
            "| 18|[2826, 25997, 220...|\n",
            "| 19|[27138, 21001, 34...|\n",
            "| 20|[13575, 6184, 938...|\n",
            "+---+--------------------+\n",
            "only showing top 20 rows\n",
            "\n"
          ],
          "name": "stdout"
        }
      ]
    },
    {
      "cell_type": "code",
      "metadata": {
        "id": "V-pUUDIE6oh5",
        "colab_type": "code",
        "outputId": "d57c8f1a-5537-448e-ed0c-6698c5919e9e",
        "colab": {
          "base_uri": "https://localhost:8080/",
          "height": 493
        }
      },
      "source": [
        "%%time\n",
        "fpGrowth = FPGrowth(itemsCol=\"items\", minSupport=0.1, minConfidence=0.6)\n",
        "model = fpGrowth.fit(df)\n",
        "\n",
        "# Display frequent itemsets.\n",
        "model.freqItemsets.show()"
      ],
      "execution_count": 19,
      "outputs": [
        {
          "output_type": "stream",
          "text": [
            "+--------------+-----+\n",
            "|         items| freq|\n",
            "+--------------+-----+\n",
            "|       [21616]|23031|\n",
            "|       [47766]|42771|\n",
            "|[47766, 21903]|20992|\n",
            "|[47766, 24852]|23514|\n",
            "|       [31717]|26421|\n",
            "|       [47626]|46402|\n",
            "|[47626, 24852]|25509|\n",
            "|       [40706]|29025|\n",
            "|       [30391]|24341|\n",
            "|       [45066]|21951|\n",
            "|       [45007]|32658|\n",
            "|       [46979]|25698|\n",
            "|       [24852]|73956|\n",
            "|        [4920]|27512|\n",
            "|       [34126]|23480|\n",
            "|       [26209]|44859|\n",
            "|[26209, 21137]|20661|\n",
            "|[26209, 47626]|22000|\n",
            "|[26209, 21903]|20695|\n",
            "|[26209, 24852]|23209|\n",
            "+--------------+-----+\n",
            "only showing top 20 rows\n",
            "\n",
            "CPU times: user 15.1 ms, sys: 2.68 ms, total: 17.8 ms\n",
            "Wall time: 45.9 s\n"
          ],
          "name": "stdout"
        }
      ]
    },
    {
      "cell_type": "code",
      "metadata": {
        "id": "ovKg8WTs58sp",
        "colab_type": "code",
        "colab": {}
      },
      "source": [
        "freq_itemsets = model.freqItemsets"
      ],
      "execution_count": 0,
      "outputs": []
    },
    {
      "cell_type": "code",
      "metadata": {
        "id": "0sDrUyqd6oUg",
        "colab_type": "code",
        "colab": {
          "base_uri": "https://localhost:8080/",
          "height": 459
        },
        "outputId": "c29f2dfb-aed6-4965-ac79-32dad9305973"
      },
      "source": [
        "freq_itemsets.show()"
      ],
      "execution_count": 26,
      "outputs": [
        {
          "output_type": "stream",
          "text": [
            "+--------------+-----+\n",
            "|         items| freq|\n",
            "+--------------+-----+\n",
            "|       [21616]|23031|\n",
            "|       [47766]|42771|\n",
            "|[47766, 21903]|20992|\n",
            "|[47766, 24852]|23514|\n",
            "|       [31717]|26421|\n",
            "|       [47626]|46402|\n",
            "|[47626, 24852]|25509|\n",
            "|       [40706]|29025|\n",
            "|       [30391]|24341|\n",
            "|       [45066]|21951|\n",
            "|       [45007]|32658|\n",
            "|       [46979]|25698|\n",
            "|       [24852]|73956|\n",
            "|        [4920]|27512|\n",
            "|       [34126]|23480|\n",
            "|       [26209]|44859|\n",
            "|[26209, 21137]|20661|\n",
            "|[26209, 47626]|22000|\n",
            "|[26209, 21903]|20695|\n",
            "|[26209, 24852]|23209|\n",
            "+--------------+-----+\n",
            "only showing top 20 rows\n",
            "\n"
          ],
          "name": "stdout"
        }
      ]
    },
    {
      "cell_type": "code",
      "metadata": {
        "id": "arZQRzOV7MFG",
        "colab_type": "code",
        "colab": {}
      },
      "source": [
        "freq_itemsets_df = freq_itemsets.select(\"*\").toPandas()"
      ],
      "execution_count": 0,
      "outputs": []
    },
    {
      "cell_type": "markdown",
      "metadata": {
        "id": "6HbHI82N97cA",
        "colab_type": "text"
      },
      "source": [
        "We need only itemset at least with 2 elements"
      ]
    },
    {
      "cell_type": "code",
      "metadata": {
        "id": "O1_ZL6n97XGj",
        "colab_type": "code",
        "colab": {}
      },
      "source": [
        "freq_itemsets_df.drop(freq_itemsets_df[freq_itemsets_df['items'].apply(lambda x: len(x)) == 1].index, inplace=True)"
      ],
      "execution_count": 0,
      "outputs": []
    },
    {
      "cell_type": "code",
      "metadata": {
        "id": "lz5h70Bm-NU4",
        "colab_type": "code",
        "colab": {
          "base_uri": "https://localhost:8080/",
          "height": 576
        },
        "outputId": "13a4f9d6-50d4-4d32-d66a-7ca4535b200e"
      },
      "source": [
        "freq_itemsets_df"
      ],
      "execution_count": 41,
      "outputs": [
        {
          "output_type": "execute_result",
          "data": {
            "text/html": [
              "<div>\n",
              "<style scoped>\n",
              "    .dataframe tbody tr th:only-of-type {\n",
              "        vertical-align: middle;\n",
              "    }\n",
              "\n",
              "    .dataframe tbody tr th {\n",
              "        vertical-align: top;\n",
              "    }\n",
              "\n",
              "    .dataframe thead th {\n",
              "        text-align: right;\n",
              "    }\n",
              "</style>\n",
              "<table border=\"1\" class=\"dataframe\">\n",
              "  <thead>\n",
              "    <tr style=\"text-align: right;\">\n",
              "      <th></th>\n",
              "      <th>items</th>\n",
              "      <th>freq</th>\n",
              "    </tr>\n",
              "  </thead>\n",
              "  <tbody>\n",
              "    <tr>\n",
              "      <th>2</th>\n",
              "      <td>[47766, 21903]</td>\n",
              "      <td>20992</td>\n",
              "    </tr>\n",
              "    <tr>\n",
              "      <th>3</th>\n",
              "      <td>[47766, 24852]</td>\n",
              "      <td>23514</td>\n",
              "    </tr>\n",
              "    <tr>\n",
              "      <th>6</th>\n",
              "      <td>[47626, 24852]</td>\n",
              "      <td>25509</td>\n",
              "    </tr>\n",
              "    <tr>\n",
              "      <th>16</th>\n",
              "      <td>[26209, 21137]</td>\n",
              "      <td>20661</td>\n",
              "    </tr>\n",
              "    <tr>\n",
              "      <th>17</th>\n",
              "      <td>[26209, 47626]</td>\n",
              "      <td>22000</td>\n",
              "    </tr>\n",
              "    <tr>\n",
              "      <th>18</th>\n",
              "      <td>[26209, 21903]</td>\n",
              "      <td>20695</td>\n",
              "    </tr>\n",
              "    <tr>\n",
              "      <th>19</th>\n",
              "      <td>[26209, 24852]</td>\n",
              "      <td>23209</td>\n",
              "    </tr>\n",
              "    <tr>\n",
              "      <th>25</th>\n",
              "      <td>[39275, 21137]</td>\n",
              "      <td>21395</td>\n",
              "    </tr>\n",
              "    <tr>\n",
              "      <th>31</th>\n",
              "      <td>[21137, 13176]</td>\n",
              "      <td>29812</td>\n",
              "    </tr>\n",
              "    <tr>\n",
              "      <th>32</th>\n",
              "      <td>[21137, 24852]</td>\n",
              "      <td>27065</td>\n",
              "    </tr>\n",
              "    <tr>\n",
              "      <th>40</th>\n",
              "      <td>[47209, 21137]</td>\n",
              "      <td>23345</td>\n",
              "    </tr>\n",
              "    <tr>\n",
              "      <th>41</th>\n",
              "      <td>[47209, 13176]</td>\n",
              "      <td>24113</td>\n",
              "    </tr>\n",
              "    <tr>\n",
              "      <th>42</th>\n",
              "      <td>[47209, 21903]</td>\n",
              "      <td>21821</td>\n",
              "    </tr>\n",
              "    <tr>\n",
              "      <th>48</th>\n",
              "      <td>[16797, 24852]</td>\n",
              "      <td>23362</td>\n",
              "    </tr>\n",
              "    <tr>\n",
              "      <th>52</th>\n",
              "      <td>[21903, 21137]</td>\n",
              "      <td>27410</td>\n",
              "    </tr>\n",
              "    <tr>\n",
              "      <th>53</th>\n",
              "      <td>[21903, 13176]</td>\n",
              "      <td>26318</td>\n",
              "    </tr>\n",
              "    <tr>\n",
              "      <th>54</th>\n",
              "      <td>[21903, 24852]</td>\n",
              "      <td>24671</td>\n",
              "    </tr>\n",
              "  </tbody>\n",
              "</table>\n",
              "</div>"
            ],
            "text/plain": [
              "             items   freq\n",
              "2   [47766, 21903]  20992\n",
              "3   [47766, 24852]  23514\n",
              "6   [47626, 24852]  25509\n",
              "16  [26209, 21137]  20661\n",
              "17  [26209, 47626]  22000\n",
              "18  [26209, 21903]  20695\n",
              "19  [26209, 24852]  23209\n",
              "25  [39275, 21137]  21395\n",
              "31  [21137, 13176]  29812\n",
              "32  [21137, 24852]  27065\n",
              "40  [47209, 21137]  23345\n",
              "41  [47209, 13176]  24113\n",
              "42  [47209, 21903]  21821\n",
              "48  [16797, 24852]  23362\n",
              "52  [21903, 21137]  27410\n",
              "53  [21903, 13176]  26318\n",
              "54  [21903, 24852]  24671"
            ]
          },
          "metadata": {
            "tags": []
          },
          "execution_count": 41
        }
      ]
    },
    {
      "cell_type": "code",
      "metadata": {
        "id": "yUnVhCPB-VE4",
        "colab_type": "code",
        "colab": {}
      },
      "source": [
        "freq_itemsets_df.sort_values(by='freq', ascending=False, inplace=True)"
      ],
      "execution_count": 0,
      "outputs": []
    },
    {
      "cell_type": "markdown",
      "metadata": {
        "id": "JJO94voWBgmb",
        "colab_type": "text"
      },
      "source": [
        "Convert to list"
      ]
    },
    {
      "cell_type": "code",
      "metadata": {
        "id": "TArTZ-miBigN",
        "colab_type": "code",
        "colab": {}
      },
      "source": [
        "freq_itemsets_list = []"
      ],
      "execution_count": 0,
      "outputs": []
    },
    {
      "cell_type": "code",
      "metadata": {
        "id": "Worg31_PBgA2",
        "colab_type": "code",
        "colab": {}
      },
      "source": [
        "for index, row in freq_itemsets_df.iterrows():\n",
        "    freq_itemsets_list.append((tuple(row['items']),row['freq']))"
      ],
      "execution_count": 0,
      "outputs": []
    },
    {
      "cell_type": "code",
      "metadata": {
        "id": "V3vtFWt2CD8l",
        "colab_type": "code",
        "colab": {
          "base_uri": "https://localhost:8080/",
          "height": 34
        },
        "outputId": "91f0a800-455f-4e24-eda1-ca9e9eaa06a1"
      },
      "source": [
        "freq_itemsets_list[0]"
      ],
      "execution_count": 53,
      "outputs": [
        {
          "output_type": "execute_result",
          "data": {
            "text/plain": [
              "((21137, 13176), 29812)"
            ]
          },
          "metadata": {
            "tags": []
          },
          "execution_count": 53
        }
      ]
    },
    {
      "cell_type": "markdown",
      "metadata": {
        "id": "ZEklec77BGPu",
        "colab_type": "text"
      },
      "source": [
        "Train most popular - it will help us if association rules recommendations not enough"
      ]
    },
    {
      "cell_type": "code",
      "metadata": {
        "id": "MGvP4NbvBGn1",
        "colab_type": "code",
        "colab": {}
      },
      "source": [
        "mp = br.MostPopularRecommender()\n",
        "mp.fit(prior_orders_merged_df)"
      ],
      "execution_count": 0,
      "outputs": []
    },
    {
      "cell_type": "markdown",
      "metadata": {
        "id": "xH4TzCm_BU1O",
        "colab_type": "text"
      },
      "source": [
        "Build recommendation for 1 user: iterate through all products in cart and all frequent itemsets. If not enough recommendations -> add from most popular, if too much recommendations -> remove things that customer has never bought before."
      ]
    },
    {
      "cell_type": "code",
      "metadata": {
        "id": "lmLDuiQzBSg1",
        "colab_type": "code",
        "colab": {}
      },
      "source": [
        "def build_rec_for_user(products, itemsets, prior_user_products, top_n=5):\n",
        "  recommendation = set()\n",
        "  for product in products:\n",
        "    for itemset in itemsets:\n",
        "      if product in itemset[0]:\n",
        "        recommendation.update(itemset[0])\n",
        "  # remove products which are in this order already\n",
        "  recommendation = list(recommendation.difference(set(products)))\n",
        "  # truncate recommendation\n",
        "  trunc_recommendation = []\n",
        "  if len(recommendation) > top_n:\n",
        "    for rec in recommendation:\n",
        "      if rec in prior_user_products:\n",
        "        trunc_recommendation.append(rec)\n",
        "        if len(trunc_recommendation) == top_n:\n",
        "          break\n",
        "  recommendation = trunc_recommendation\n",
        "  if len(recommendation) < top_n:\n",
        "    recommendation.extend(mp.most_popular[:top_n-len(recommendation)])\n",
        "  \n",
        "\n",
        "  return recommendation"
      ],
      "execution_count": 0,
      "outputs": []
    },
    {
      "cell_type": "code",
      "metadata": {
        "id": "E35A3mz_BYIN",
        "colab_type": "code",
        "colab": {}
      },
      "source": [
        "def eval_results(actual, predicted,k):\n",
        "\n",
        "  def collect(x):\n",
        "    return list(x)\n",
        "  \n",
        "  ground_truth = actual.groupby('user_id').agg({'product_id':collect}).reset_index()\n",
        "  return mean_average_precision_at_k(list(predicted['product_id']), list(ground_truth['product_id']), k)"
      ],
      "execution_count": 0,
      "outputs": []
    },
    {
      "cell_type": "markdown",
      "metadata": {
        "id": "LT6E-lNVCKuW",
        "colab_type": "text"
      },
      "source": [
        "Calc number of products in order"
      ]
    },
    {
      "cell_type": "code",
      "metadata": {
        "id": "PwfQN1OQCIw0",
        "colab_type": "code",
        "colab": {}
      },
      "source": [
        "def calc_prod_in_cart(df):\n",
        "  return df.groupby('order_id').agg(num_of_prods_in_cart=pd.NamedAgg(column='add_to_cart_order', aggfunc='max')).reset_index()['num_of_prods_in_cart']"
      ],
      "execution_count": 0,
      "outputs": []
    },
    {
      "cell_type": "code",
      "metadata": {
        "id": "SKqCVWA2CMm_",
        "colab_type": "code",
        "colab": {}
      },
      "source": [
        "number_of_products_in_cart = train_orders_merged_df.groupby('order_id').agg(num_of_prods_in_cart=pd.NamedAgg(column='add_to_cart_order', aggfunc='max')).reset_index()"
      ],
      "execution_count": 0,
      "outputs": []
    },
    {
      "cell_type": "markdown",
      "metadata": {
        "id": "TB_V-P3fCP1s",
        "colab_type": "text"
      },
      "source": [
        "We make prediction only on orders with number of products > 10"
      ]
    },
    {
      "cell_type": "code",
      "metadata": {
        "id": "C5X9jAWBCOAK",
        "colab_type": "code",
        "colab": {}
      },
      "source": [
        "full_df = pd.merge(train_orders_merged_df, number_of_products_in_cart.query('num_of_prods_in_cart > 10'), on='order_id')"
      ],
      "execution_count": 0,
      "outputs": []
    },
    {
      "cell_type": "markdown",
      "metadata": {
        "id": "MMuvhxEVCTqr",
        "colab_type": "text"
      },
      "source": [
        "First 5 products in train, all that remains to test"
      ]
    },
    {
      "cell_type": "code",
      "metadata": {
        "id": "JtH2UpKvCR68",
        "colab_type": "code",
        "colab": {}
      },
      "source": [
        "train_df, test_df = full_df.query('add_to_cart_order <= 5'), full_df.query('add_to_cart_order > 5')"
      ],
      "execution_count": 0,
      "outputs": []
    },
    {
      "cell_type": "code",
      "metadata": {
        "id": "QduQd18bCXZr",
        "colab_type": "code",
        "colab": {
          "base_uri": "https://localhost:8080/",
          "height": 34
        },
        "outputId": "e47ed9ae-7b23-4f5d-a4d2-a70782bfc12c"
      },
      "source": [
        "train_df.shape, test_df.shape"
      ],
      "execution_count": 59,
      "outputs": [
        {
          "output_type": "execute_result",
          "data": {
            "text/plain": [
              "((264240, 11), (690968, 11))"
            ]
          },
          "metadata": {
            "tags": []
          },
          "execution_count": 59
        }
      ]
    },
    {
      "cell_type": "code",
      "metadata": {
        "id": "VP5jfCA1Ca4s",
        "colab_type": "code",
        "colab": {}
      },
      "source": [
        "grouped_by_user_test = test_df.groupby('user_id').agg({'product_id':lambda x: list(x)})\n",
        "grouped_by_user_train = train_df.groupby('user_id').agg({'product_id':lambda x: list(x)})\n",
        "grouped_by_user_prior = prior_orders_merged_df.groupby('user_id').agg({'product_id':lambda x: list(x)})"
      ],
      "execution_count": 0,
      "outputs": []
    },
    {
      "cell_type": "code",
      "metadata": {
        "id": "I4CBM7z-CfHM",
        "colab_type": "code",
        "colab": {
          "base_uri": "https://localhost:8080/",
          "height": 450
        },
        "outputId": "0dd1742f-ea6a-4014-a518-2f50da555b91"
      },
      "source": [
        "grouped_by_user_test"
      ],
      "execution_count": 61,
      "outputs": [
        {
          "output_type": "execute_result",
          "data": {
            "text/html": [
              "<div>\n",
              "<style scoped>\n",
              "    .dataframe tbody tr th:only-of-type {\n",
              "        vertical-align: middle;\n",
              "    }\n",
              "\n",
              "    .dataframe tbody tr th {\n",
              "        vertical-align: top;\n",
              "    }\n",
              "\n",
              "    .dataframe thead th {\n",
              "        text-align: right;\n",
              "    }\n",
              "</style>\n",
              "<table border=\"1\" class=\"dataframe\">\n",
              "  <thead>\n",
              "    <tr style=\"text-align: right;\">\n",
              "      <th></th>\n",
              "      <th>product_id</th>\n",
              "    </tr>\n",
              "    <tr>\n",
              "      <th>user_id</th>\n",
              "      <th></th>\n",
              "    </tr>\n",
              "  </thead>\n",
              "  <tbody>\n",
              "    <tr>\n",
              "      <th>1</th>\n",
              "      <td>[10258, 13032, 26088, 27845, 49235, 46149]</td>\n",
              "    </tr>\n",
              "    <tr>\n",
              "      <th>2</th>\n",
              "      <td>[22825, 13640, 24852, 45066, 9387, 5450, 24838...</td>\n",
              "    </tr>\n",
              "    <tr>\n",
              "      <th>8</th>\n",
              "      <td>[4853, 27104, 7058, 41259, 37803, 48230, 47766...</td>\n",
              "    </tr>\n",
              "    <tr>\n",
              "      <th>9</th>\n",
              "      <td>[12075, 8467, 38988, 30252, 18926, 24954, 4057...</td>\n",
              "    </tr>\n",
              "    <tr>\n",
              "      <th>14</th>\n",
              "      <td>[37434, 3808, 15172, 8744, 29509, 42284]</td>\n",
              "    </tr>\n",
              "    <tr>\n",
              "      <th>...</th>\n",
              "      <td>...</td>\n",
              "    </tr>\n",
              "    <tr>\n",
              "      <th>206198</th>\n",
              "      <td>[39021, 21709, 47107, 10411, 44142, 14897, 159...</td>\n",
              "    </tr>\n",
              "    <tr>\n",
              "      <th>206199</th>\n",
              "      <td>[38341, 43821, 38930, 12127, 49198, 22242, 770...</td>\n",
              "    </tr>\n",
              "    <tr>\n",
              "      <th>206200</th>\n",
              "      <td>[27451, 15592, 47209, 22312, 23484, 8955, 4697...</td>\n",
              "    </tr>\n",
              "    <tr>\n",
              "      <th>206203</th>\n",
              "      <td>[14050, 26384, 3765, 36929, 23153, 3957, 31915...</td>\n",
              "    </tr>\n",
              "    <tr>\n",
              "      <th>206205</th>\n",
              "      <td>[46886, 31404, 17600, 25138, 27966, 42265, 266...</td>\n",
              "    </tr>\n",
              "  </tbody>\n",
              "</table>\n",
              "<p>52848 rows × 1 columns</p>\n",
              "</div>"
            ],
            "text/plain": [
              "                                                product_id\n",
              "user_id                                                   \n",
              "1               [10258, 13032, 26088, 27845, 49235, 46149]\n",
              "2        [22825, 13640, 24852, 45066, 9387, 5450, 24838...\n",
              "8        [4853, 27104, 7058, 41259, 37803, 48230, 47766...\n",
              "9        [12075, 8467, 38988, 30252, 18926, 24954, 4057...\n",
              "14                [37434, 3808, 15172, 8744, 29509, 42284]\n",
              "...                                                    ...\n",
              "206198   [39021, 21709, 47107, 10411, 44142, 14897, 159...\n",
              "206199   [38341, 43821, 38930, 12127, 49198, 22242, 770...\n",
              "206200   [27451, 15592, 47209, 22312, 23484, 8955, 4697...\n",
              "206203   [14050, 26384, 3765, 36929, 23153, 3957, 31915...\n",
              "206205   [46886, 31404, 17600, 25138, 27966, 42265, 266...\n",
              "\n",
              "[52848 rows x 1 columns]"
            ]
          },
          "metadata": {
            "tags": []
          },
          "execution_count": 61
        }
      ]
    },
    {
      "cell_type": "code",
      "metadata": {
        "id": "lM_-iUTKCg87",
        "colab_type": "code",
        "colab": {}
      },
      "source": [
        "predicted = pd.DataFrame(columns=('user_id', 'product_id'))\n",
        "predicted['user_id'] = list(test_df['user_id'].unique())\n",
        "predicted['product_id'] = [build_rec_for_user(grouped_by_user_train.loc[user,'product_id'], freq_itemsets_list, grouped_by_user_prior.loc[user, 'product_id'],3)\\\n",
        " for user in predicted['user_id'].unique()]"
      ],
      "execution_count": 0,
      "outputs": []
    },
    {
      "cell_type": "code",
      "metadata": {
        "id": "EIsJBHW4Cihy",
        "colab_type": "code",
        "colab": {
          "base_uri": "https://localhost:8080/",
          "height": 419
        },
        "outputId": "9ab26de6-983f-47e1-fd14-3d2f803b73e4"
      },
      "source": [
        "predicted"
      ],
      "execution_count": 64,
      "outputs": [
        {
          "output_type": "execute_result",
          "data": {
            "text/html": [
              "<div>\n",
              "<style scoped>\n",
              "    .dataframe tbody tr th:only-of-type {\n",
              "        vertical-align: middle;\n",
              "    }\n",
              "\n",
              "    .dataframe tbody tr th {\n",
              "        vertical-align: top;\n",
              "    }\n",
              "\n",
              "    .dataframe thead th {\n",
              "        text-align: right;\n",
              "    }\n",
              "</style>\n",
              "<table border=\"1\" class=\"dataframe\">\n",
              "  <thead>\n",
              "    <tr style=\"text-align: right;\">\n",
              "      <th></th>\n",
              "      <th>user_id</th>\n",
              "      <th>product_id</th>\n",
              "    </tr>\n",
              "  </thead>\n",
              "  <tbody>\n",
              "    <tr>\n",
              "      <th>0</th>\n",
              "      <td>1</td>\n",
              "      <td>[24852, 13176, 21137]</td>\n",
              "    </tr>\n",
              "    <tr>\n",
              "      <th>1</th>\n",
              "      <td>2</td>\n",
              "      <td>[24852, 13176, 21137]</td>\n",
              "    </tr>\n",
              "    <tr>\n",
              "      <th>2</th>\n",
              "      <td>8</td>\n",
              "      <td>[24852, 13176, 21137]</td>\n",
              "    </tr>\n",
              "    <tr>\n",
              "      <th>3</th>\n",
              "      <td>9</td>\n",
              "      <td>[24852, 13176, 21137]</td>\n",
              "    </tr>\n",
              "    <tr>\n",
              "      <th>4</th>\n",
              "      <td>14</td>\n",
              "      <td>[24852, 13176, 21137]</td>\n",
              "    </tr>\n",
              "    <tr>\n",
              "      <th>...</th>\n",
              "      <td>...</td>\n",
              "      <td>...</td>\n",
              "    </tr>\n",
              "    <tr>\n",
              "      <th>52843</th>\n",
              "      <td>206198</td>\n",
              "      <td>[24852, 13176, 21137]</td>\n",
              "    </tr>\n",
              "    <tr>\n",
              "      <th>52844</th>\n",
              "      <td>206199</td>\n",
              "      <td>[24852, 13176, 21137]</td>\n",
              "    </tr>\n",
              "    <tr>\n",
              "      <th>52845</th>\n",
              "      <td>206200</td>\n",
              "      <td>[24852, 13176, 21137]</td>\n",
              "    </tr>\n",
              "    <tr>\n",
              "      <th>52846</th>\n",
              "      <td>206203</td>\n",
              "      <td>[24852, 13176, 21137]</td>\n",
              "    </tr>\n",
              "    <tr>\n",
              "      <th>52847</th>\n",
              "      <td>206205</td>\n",
              "      <td>[24852, 13176, 21137]</td>\n",
              "    </tr>\n",
              "  </tbody>\n",
              "</table>\n",
              "<p>52848 rows × 2 columns</p>\n",
              "</div>"
            ],
            "text/plain": [
              "       user_id             product_id\n",
              "0            1  [24852, 13176, 21137]\n",
              "1            2  [24852, 13176, 21137]\n",
              "2            8  [24852, 13176, 21137]\n",
              "3            9  [24852, 13176, 21137]\n",
              "4           14  [24852, 13176, 21137]\n",
              "...        ...                    ...\n",
              "52843   206198  [24852, 13176, 21137]\n",
              "52844   206199  [24852, 13176, 21137]\n",
              "52845   206200  [24852, 13176, 21137]\n",
              "52846   206203  [24852, 13176, 21137]\n",
              "52847   206205  [24852, 13176, 21137]\n",
              "\n",
              "[52848 rows x 2 columns]"
            ]
          },
          "metadata": {
            "tags": []
          },
          "execution_count": 64
        }
      ]
    },
    {
      "cell_type": "code",
      "metadata": {
        "id": "nV_CAKTlCkMb",
        "colab_type": "code",
        "colab": {
          "base_uri": "https://localhost:8080/",
          "height": 34
        },
        "outputId": "aa3e842a-faab-4ef4-d173-d108a938eead"
      },
      "source": [
        "eval_results(test_df, predicted, 3)"
      ],
      "execution_count": 69,
      "outputs": [
        {
          "output_type": "execute_result",
          "data": {
            "text/plain": [
              "0.07071433377065266"
            ]
          },
          "metadata": {
            "tags": []
          },
          "execution_count": 69
        }
      ]
    }
  ]
}