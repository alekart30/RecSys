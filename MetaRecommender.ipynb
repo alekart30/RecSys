{
  "nbformat": 4,
  "nbformat_minor": 0,
  "metadata": {
    "colab": {
      "name": "MetaRecommender.ipynb",
      "provenance": [],
      "collapsed_sections": [],
      "toc_visible": true,
      "machine_shape": "hm"
    },
    "kernelspec": {
      "name": "python3",
      "display_name": "Python 3"
    }
  },
  "cells": [
    {
      "cell_type": "code",
      "metadata": {
        "id": "6I-MiYusQpVE",
        "colab_type": "code",
        "colab": {}
      },
      "source": [
        "import os\n",
        "from google_drive_downloader import GoogleDriveDownloader as gdd\n",
        "\n",
        "import pandas as pd\n",
        "import seaborn as sns\n",
        "import numpy as np\n",
        "import  matplotlib.pyplot as plt\n",
        "\n",
        "from sklearn.cluster import KMeans\n",
        "from scipy.sparse import csr_matrix\n",
        "from sklearn.decomposition import TruncatedSVD\n",
        "\n",
        "from umap import UMAP\n",
        "from sklearn.manifold import TSNE\n",
        "import gc\n",
        "from tqdm import tqdm"
      ],
      "execution_count": 0,
      "outputs": []
    },
    {
      "cell_type": "markdown",
      "metadata": {
        "id": "KCytSR37Q9vm",
        "colab_type": "text"
      },
      "source": [
        "# Load data"
      ]
    },
    {
      "cell_type": "code",
      "metadata": {
        "id": "IChmD6KpQzm0",
        "colab_type": "code",
        "outputId": "a73bb5f0-e2c0-452e-aac7-29f687dc46a9",
        "colab": {
          "base_uri": "https://localhost:8080/",
          "height": 34
        }
      },
      "source": [
        "if not os.path.exists('./data'):\n",
        "  os.mkdir('./data')\n",
        "\n",
        "gdd.download_file_from_google_drive(file_id='1EMS377_Ew2h0esEMdEj54X894J_xU7Fl', dest_path='./data/instacart_online_grocery_shopping_2017_05_01.tar.gz')"
      ],
      "execution_count": 2,
      "outputs": [
        {
          "output_type": "stream",
          "text": [
            "Downloading 1EMS377_Ew2h0esEMdEj54X894J_xU7Fl into ./data/instacart_online_grocery_shopping_2017_05_01.tar.gz... Done.\n"
          ],
          "name": "stdout"
        }
      ]
    },
    {
      "cell_type": "code",
      "metadata": {
        "id": "TafAs_07Q55H",
        "colab_type": "code",
        "colab": {}
      },
      "source": [
        "! mkdir ./data/unziped"
      ],
      "execution_count": 0,
      "outputs": []
    },
    {
      "cell_type": "code",
      "metadata": {
        "id": "HOb77_jeQ7jP",
        "colab_type": "code",
        "colab": {}
      },
      "source": [
        "! tar -xzf ./data/instacart_online_grocery_shopping_2017_05_01.tar.gz -C ./data/unziped"
      ],
      "execution_count": 0,
      "outputs": []
    },
    {
      "cell_type": "code",
      "metadata": {
        "id": "V3uEgT5-RA0_",
        "colab_type": "code",
        "colab": {}
      },
      "source": [
        "orders_df = pd.read_csv('./data/unziped/instacart_2017_05_01/orders.csv')"
      ],
      "execution_count": 0,
      "outputs": []
    },
    {
      "cell_type": "code",
      "metadata": {
        "id": "3_CzLejJRBRP",
        "colab_type": "code",
        "colab": {}
      },
      "source": [
        "orders_df = orders_df.drop(orders_df[orders_df['eval_set'] == 'test'].index)"
      ],
      "execution_count": 0,
      "outputs": []
    },
    {
      "cell_type": "code",
      "metadata": {
        "id": "4AMId8ONRDm-",
        "colab_type": "code",
        "colab": {}
      },
      "source": [
        "orders_df.fillna(999, inplace=True)"
      ],
      "execution_count": 0,
      "outputs": []
    },
    {
      "cell_type": "code",
      "metadata": {
        "id": "uo66doUkRGYG",
        "colab_type": "code",
        "colab": {}
      },
      "source": [
        "order_products_prior_df = pd.read_csv('./data/unziped/instacart_2017_05_01/order_products__prior.csv')\n",
        "order_products_train_df = pd.read_csv('./data/unziped/instacart_2017_05_01/order_products__train.csv')\n",
        "products_df = pd.read_csv('./data/unziped/instacart_2017_05_01/products.csv')"
      ],
      "execution_count": 0,
      "outputs": []
    },
    {
      "cell_type": "markdown",
      "metadata": {
        "id": "P0WalmDNRP1f",
        "colab_type": "text"
      },
      "source": [
        "# Metrics"
      ]
    },
    {
      "cell_type": "code",
      "metadata": {
        "id": "dprUqWccRQ6b",
        "colab_type": "code",
        "colab": {}
      },
      "source": [
        "def precision_at_k(predicted, actual, k):\n",
        "  assert len(predicted) >= k\n",
        "  intersection = set(predicted[:k]) & set(actual)\n",
        "  return len(intersection) / k"
      ],
      "execution_count": 0,
      "outputs": []
    },
    {
      "cell_type": "code",
      "metadata": {
        "id": "jcxuVzDeRRX-",
        "colab_type": "code",
        "colab": {}
      },
      "source": [
        "def average_precision_at_k(predicted, actual, k):\n",
        "  tmp = 0\n",
        "  actual_length = min(k,len(actual))\n",
        "  if len(predicted) < actual_length:\n",
        "    warnings.warn(\"Length of predict is less than k\")\n",
        "  for i in range(actual_length):\n",
        "    if predicted[i] in actual:\n",
        "      tmp += precision_at_k(predicted[:i+1], actual, i+1)\n",
        "  return tmp / actual_length"
      ],
      "execution_count": 0,
      "outputs": []
    },
    {
      "cell_type": "code",
      "metadata": {
        "id": "z--j8e4KRS2P",
        "colab_type": "code",
        "colab": {}
      },
      "source": [
        "def mean_average_precision_at_k(predicted_list, actual_list, k):\n",
        "  tmp = 0\n",
        "  cnt = 0\n",
        "  for predicted, actual in zip(predicted_list, actual_list):\n",
        "    if len(actual) != 0:\n",
        "      tmp += average_precision_at_k(predicted, actual, k)\n",
        "      cnt += 1\n",
        "  assert cnt != 0\n",
        "  return tmp / cnt"
      ],
      "execution_count": 0,
      "outputs": []
    },
    {
      "cell_type": "markdown",
      "metadata": {
        "id": "bjtRZuCwRVAd",
        "colab_type": "text"
      },
      "source": [
        "# Basic Recommenders"
      ]
    },
    {
      "cell_type": "code",
      "metadata": {
        "id": "f5pXfLaDRW6V",
        "colab_type": "code",
        "colab": {}
      },
      "source": [
        "class MostPopularRecommender():\n",
        "  def __init__(self):\n",
        "    pass\n",
        "  \n",
        "  def fit(self, X_train):\n",
        "    assert type(X_train) == pd.DataFrame\n",
        "    self.most_popular = list(X_train['product_id'].value_counts().index[:])\n",
        "  \n",
        "  def predict(self, X_test, top_n):\n",
        "    predicted = pd.DataFrame()\n",
        "    predicted['user_id'] = list(X_test['user_id'].unique())\n",
        "    predicted['product_id'] = [self.most_popular[:top_n] for i in range(X_test['user_id'].nunique())]\n",
        "    return predicted"
      ],
      "execution_count": 0,
      "outputs": []
    },
    {
      "cell_type": "code",
      "metadata": {
        "id": "v5wL7bnjRboa",
        "colab_type": "code",
        "colab": {}
      },
      "source": [
        "class SVDRecommender():\n",
        "  def __init__(self, k, batch_size):\n",
        "    self.k = k\n",
        "    self.batch_size = batch_size\n",
        "\n",
        "  def fit(self, X_train):\n",
        "    # count total number of bought products\n",
        "    svd_input = X_train.groupby(['user_id','product_id']).agg(buy_num=pd.NamedAgg(column='order_id', aggfunc='count')).reset_index()\n",
        "    # collect unique ids for user and products from dataset\n",
        "    self.item_id = svd_input['product_id'].unique()\n",
        "    self.user_id = svd_input['user_id'].unique()\n",
        "    # encode ids using indices\n",
        "    self.user_dict = {user:i for i,user in enumerate(self.user_id)}\n",
        "    self.item_dict = {item:i for i,item in enumerate(self.item_id)}\n",
        "    self.inv_item_dict = {v:k for k,v in self.item_dict.items()}\n",
        "\n",
        "    svd_input[\"x_rows\"] = svd_input['user_id'].apply(lambda s : self.user_dict[s])\n",
        "    svd_input[\"x_cols\"] = svd_input['product_id'].apply(lambda s : self.item_dict[s])\n",
        "    \n",
        "    # form sparse matrix\n",
        "    X_user_item = csr_matrix((svd_input[\"buy_num\"],\\\n",
        "                        (svd_input[\"x_rows\"], svd_input[\"x_cols\"])),\\\n",
        "                        shape = (len(self.user_id), len(self.item_id)))\n",
        "    \n",
        "    clf_svd = TruncatedSVD(n_components=self.k)\n",
        "    # obtain dense representations\n",
        "    self.user_proj = clf_svd.fit_transform(X_user_item)\n",
        "    self.item_proj = clf_svd.components_\n",
        "\n",
        "  def predict(self, X_test, top_n):\n",
        "    # df to store predictions for each user\n",
        "    predicted = pd.DataFrame()\n",
        "    user_id_test = list(set(X_test['user_id'].unique()) & set(self.user_id))\n",
        "    # evaluate number of batches\n",
        "    batch_number = len(user_id_test) // self.batch_size\n",
        "    #print(len(user_id_test))\n",
        "    def decode_prod(x):\n",
        "        return [self.inv_item_dict[prod_id] for prod_id in x]\n",
        "\n",
        "    for i in range(batch_number):\n",
        "      if i % 5 == 0:\n",
        "        print(i)\n",
        "      batch_predict = pd.DataFrame()\n",
        "      batch_predict['user_id'] = self.user_id[self.batch_size*i:self.batch_size*(i+1)]\n",
        "      user_indices = [self.user_dict[id] for id in self.user_id[self.batch_size*i:self.batch_size*(i+1)]]\n",
        "      predicted_ratings = np.matmul(self.user_proj[user_indices,:],self.item_proj)\n",
        "      item_indices = np.argsort(predicted_ratings, axis=1)[:,-1:-(top_n+1):-1]\n",
        "      batch_predict['product_id'] = [list(prod) for prod in item_indices]\n",
        "\n",
        "      batch_predict = batch_predict['product_id'].apply(decode_prod)\n",
        "      predicted = pd.concat([predicted, batch_predict])\n",
        "\n",
        "    # make prediction for all remains users\n",
        "    batch_predict = pd.DataFrame()\n",
        "    batch_predict['user_id'] = user_id_test[self.batch_size*batch_number:]\n",
        "    user_indices = [self.user_dict[id] for id in user_id_test[self.batch_size*batch_number:]]\n",
        "    predicted_ratings = np.matmul(self.user_proj[user_indices,:],self.item_proj)\n",
        "    item_indices = np.argsort(predicted_ratings, axis=1)[:,-1:-(top_n+1):-1]\n",
        "    batch_predict['product_id'] = [list(prod) for prod in item_indices]\n",
        "\n",
        "    batch_predict = batch_predict['product_id'].apply(decode_prod)\n",
        "    predicted = pd.concat([predicted, batch_predict])\n",
        "    predicted.rename(columns={0 : 'product_id'},inplace=True)\n",
        "    predicted['user_id'] = user_id_test\n",
        "    predicted.set_index('user_id',inplace=True)\n",
        "    return predicted"
      ],
      "execution_count": 0,
      "outputs": []
    },
    {
      "cell_type": "code",
      "metadata": {
        "id": "bzJ2B48yXvyV",
        "colab_type": "code",
        "colab": {}
      },
      "source": [
        "def eval_results(actual, predicted,k):\n",
        "\n",
        "  def collect(x):\n",
        "    return list(x)\n",
        "  \n",
        "  ground_truth = actual.groupby('user_id').agg({'product_id':collect})\n",
        "  return mean_average_precision_at_k(list(predicted['product_id']), list(ground_truth['product_id']), k)"
      ],
      "execution_count": 0,
      "outputs": []
    },
    {
      "cell_type": "markdown",
      "metadata": {
        "id": "aP3Igax5Rhyc",
        "colab_type": "text"
      },
      "source": [
        "# Evaluate basic models"
      ]
    },
    {
      "cell_type": "code",
      "metadata": {
        "id": "ZgOJKPAORY3F",
        "colab_type": "code",
        "colab": {}
      },
      "source": [
        "train_orders_merged_df = pd.merge(orders_df[orders_df['eval_set'] == 'train'], order_products_train_df, on='order_id')\n",
        "prior_orders_merged_df = pd.merge(orders_df[orders_df['eval_set'] == 'prior'], order_products_prior_df, on='order_id')"
      ],
      "execution_count": 0,
      "outputs": []
    },
    {
      "cell_type": "markdown",
      "metadata": {
        "id": "VjXv5U6jJdFP",
        "colab_type": "text"
      },
      "source": [
        "Add order_num column to separate prior into train_df and val_df"
      ]
    },
    {
      "cell_type": "code",
      "metadata": {
        "id": "TvdRilUJUrzZ",
        "colab_type": "code",
        "colab": {}
      },
      "source": [
        "prior_orders_merged_df = pd.merge(prior_orders_merged_df.groupby('user_id').agg(last_order_number=pd.NamedAgg(column='order_number', aggfunc='max')).reset_index(), prior_orders_merged_df, on='user_id')"
      ],
      "execution_count": 0,
      "outputs": []
    },
    {
      "cell_type": "code",
      "metadata": {
        "id": "k3Xyc9JxVkxj",
        "colab_type": "code",
        "outputId": "3bc82dfe-3d01-49c7-ef8a-ffb847545d68",
        "colab": {
          "base_uri": "https://localhost:8080/",
          "height": 419
        }
      },
      "source": [
        "prior_orders_merged_df"
      ],
      "execution_count": 17,
      "outputs": [
        {
          "output_type": "execute_result",
          "data": {
            "text/html": [
              "<div>\n",
              "<style scoped>\n",
              "    .dataframe tbody tr th:only-of-type {\n",
              "        vertical-align: middle;\n",
              "    }\n",
              "\n",
              "    .dataframe tbody tr th {\n",
              "        vertical-align: top;\n",
              "    }\n",
              "\n",
              "    .dataframe thead th {\n",
              "        text-align: right;\n",
              "    }\n",
              "</style>\n",
              "<table border=\"1\" class=\"dataframe\">\n",
              "  <thead>\n",
              "    <tr style=\"text-align: right;\">\n",
              "      <th></th>\n",
              "      <th>user_id</th>\n",
              "      <th>last_order_number</th>\n",
              "      <th>order_id</th>\n",
              "      <th>eval_set</th>\n",
              "      <th>order_number</th>\n",
              "      <th>order_dow</th>\n",
              "      <th>order_hour_of_day</th>\n",
              "      <th>days_since_prior_order</th>\n",
              "      <th>product_id</th>\n",
              "      <th>add_to_cart_order</th>\n",
              "      <th>reordered</th>\n",
              "    </tr>\n",
              "  </thead>\n",
              "  <tbody>\n",
              "    <tr>\n",
              "      <th>0</th>\n",
              "      <td>1</td>\n",
              "      <td>10</td>\n",
              "      <td>2539329</td>\n",
              "      <td>prior</td>\n",
              "      <td>1</td>\n",
              "      <td>2</td>\n",
              "      <td>8</td>\n",
              "      <td>999.0</td>\n",
              "      <td>196</td>\n",
              "      <td>1</td>\n",
              "      <td>0</td>\n",
              "    </tr>\n",
              "    <tr>\n",
              "      <th>1</th>\n",
              "      <td>1</td>\n",
              "      <td>10</td>\n",
              "      <td>2539329</td>\n",
              "      <td>prior</td>\n",
              "      <td>1</td>\n",
              "      <td>2</td>\n",
              "      <td>8</td>\n",
              "      <td>999.0</td>\n",
              "      <td>14084</td>\n",
              "      <td>2</td>\n",
              "      <td>0</td>\n",
              "    </tr>\n",
              "    <tr>\n",
              "      <th>2</th>\n",
              "      <td>1</td>\n",
              "      <td>10</td>\n",
              "      <td>2539329</td>\n",
              "      <td>prior</td>\n",
              "      <td>1</td>\n",
              "      <td>2</td>\n",
              "      <td>8</td>\n",
              "      <td>999.0</td>\n",
              "      <td>12427</td>\n",
              "      <td>3</td>\n",
              "      <td>0</td>\n",
              "    </tr>\n",
              "    <tr>\n",
              "      <th>3</th>\n",
              "      <td>1</td>\n",
              "      <td>10</td>\n",
              "      <td>2539329</td>\n",
              "      <td>prior</td>\n",
              "      <td>1</td>\n",
              "      <td>2</td>\n",
              "      <td>8</td>\n",
              "      <td>999.0</td>\n",
              "      <td>26088</td>\n",
              "      <td>4</td>\n",
              "      <td>0</td>\n",
              "    </tr>\n",
              "    <tr>\n",
              "      <th>4</th>\n",
              "      <td>1</td>\n",
              "      <td>10</td>\n",
              "      <td>2539329</td>\n",
              "      <td>prior</td>\n",
              "      <td>1</td>\n",
              "      <td>2</td>\n",
              "      <td>8</td>\n",
              "      <td>999.0</td>\n",
              "      <td>26405</td>\n",
              "      <td>5</td>\n",
              "      <td>0</td>\n",
              "    </tr>\n",
              "    <tr>\n",
              "      <th>...</th>\n",
              "      <td>...</td>\n",
              "      <td>...</td>\n",
              "      <td>...</td>\n",
              "      <td>...</td>\n",
              "      <td>...</td>\n",
              "      <td>...</td>\n",
              "      <td>...</td>\n",
              "      <td>...</td>\n",
              "      <td>...</td>\n",
              "      <td>...</td>\n",
              "      <td>...</td>\n",
              "    </tr>\n",
              "    <tr>\n",
              "      <th>32434484</th>\n",
              "      <td>206209</td>\n",
              "      <td>13</td>\n",
              "      <td>2977660</td>\n",
              "      <td>prior</td>\n",
              "      <td>13</td>\n",
              "      <td>1</td>\n",
              "      <td>12</td>\n",
              "      <td>7.0</td>\n",
              "      <td>14197</td>\n",
              "      <td>5</td>\n",
              "      <td>1</td>\n",
              "    </tr>\n",
              "    <tr>\n",
              "      <th>32434485</th>\n",
              "      <td>206209</td>\n",
              "      <td>13</td>\n",
              "      <td>2977660</td>\n",
              "      <td>prior</td>\n",
              "      <td>13</td>\n",
              "      <td>1</td>\n",
              "      <td>12</td>\n",
              "      <td>7.0</td>\n",
              "      <td>38730</td>\n",
              "      <td>6</td>\n",
              "      <td>0</td>\n",
              "    </tr>\n",
              "    <tr>\n",
              "      <th>32434486</th>\n",
              "      <td>206209</td>\n",
              "      <td>13</td>\n",
              "      <td>2977660</td>\n",
              "      <td>prior</td>\n",
              "      <td>13</td>\n",
              "      <td>1</td>\n",
              "      <td>12</td>\n",
              "      <td>7.0</td>\n",
              "      <td>31477</td>\n",
              "      <td>7</td>\n",
              "      <td>0</td>\n",
              "    </tr>\n",
              "    <tr>\n",
              "      <th>32434487</th>\n",
              "      <td>206209</td>\n",
              "      <td>13</td>\n",
              "      <td>2977660</td>\n",
              "      <td>prior</td>\n",
              "      <td>13</td>\n",
              "      <td>1</td>\n",
              "      <td>12</td>\n",
              "      <td>7.0</td>\n",
              "      <td>6567</td>\n",
              "      <td>8</td>\n",
              "      <td>0</td>\n",
              "    </tr>\n",
              "    <tr>\n",
              "      <th>32434488</th>\n",
              "      <td>206209</td>\n",
              "      <td>13</td>\n",
              "      <td>2977660</td>\n",
              "      <td>prior</td>\n",
              "      <td>13</td>\n",
              "      <td>1</td>\n",
              "      <td>12</td>\n",
              "      <td>7.0</td>\n",
              "      <td>22920</td>\n",
              "      <td>9</td>\n",
              "      <td>0</td>\n",
              "    </tr>\n",
              "  </tbody>\n",
              "</table>\n",
              "<p>32434489 rows × 11 columns</p>\n",
              "</div>"
            ],
            "text/plain": [
              "          user_id  last_order_number  ...  add_to_cart_order reordered\n",
              "0               1                 10  ...                  1         0\n",
              "1               1                 10  ...                  2         0\n",
              "2               1                 10  ...                  3         0\n",
              "3               1                 10  ...                  4         0\n",
              "4               1                 10  ...                  5         0\n",
              "...           ...                ...  ...                ...       ...\n",
              "32434484   206209                 13  ...                  5         1\n",
              "32434485   206209                 13  ...                  6         0\n",
              "32434486   206209                 13  ...                  7         0\n",
              "32434487   206209                 13  ...                  8         0\n",
              "32434488   206209                 13  ...                  9         0\n",
              "\n",
              "[32434489 rows x 11 columns]"
            ]
          },
          "metadata": {
            "tags": []
          },
          "execution_count": 17
        }
      ]
    },
    {
      "cell_type": "markdown",
      "metadata": {
        "id": "HEBjyPHlJseS",
        "colab_type": "text"
      },
      "source": [
        "Split into train_df and val_df: last order comes into val, all others into train"
      ]
    },
    {
      "cell_type": "code",
      "metadata": {
        "id": "7OM7HT2eWDbS",
        "colab_type": "code",
        "colab": {}
      },
      "source": [
        "train_df, val_df = prior_orders_merged_df[prior_orders_merged_df['order_number'] < prior_orders_merged_df['last_order_number']], prior_orders_merged_df[prior_orders_merged_df['order_number'] == prior_orders_merged_df['last_order_number']]"
      ],
      "execution_count": 0,
      "outputs": []
    },
    {
      "cell_type": "code",
      "metadata": {
        "id": "PRmzsm8qWkSR",
        "colab_type": "code",
        "outputId": "03ed8a16-52de-48fd-8722-fd02e4621613",
        "colab": {
          "base_uri": "https://localhost:8080/",
          "height": 34
        }
      },
      "source": [
        "train_df.shape"
      ],
      "execution_count": 19,
      "outputs": [
        {
          "output_type": "execute_result",
          "data": {
            "text/plain": [
              "(30294701, 11)"
            ]
          },
          "metadata": {
            "tags": []
          },
          "execution_count": 19
        }
      ]
    },
    {
      "cell_type": "code",
      "metadata": {
        "id": "gnUW4lfXWmi2",
        "colab_type": "code",
        "outputId": "47f3c209-9d80-45b7-fe4f-6752d417c131",
        "colab": {
          "base_uri": "https://localhost:8080/",
          "height": 34
        }
      },
      "source": [
        "val_df.shape"
      ],
      "execution_count": 20,
      "outputs": [
        {
          "output_type": "execute_result",
          "data": {
            "text/plain": [
              "(2139788, 11)"
            ]
          },
          "metadata": {
            "tags": []
          },
          "execution_count": 20
        }
      ]
    },
    {
      "cell_type": "markdown",
      "metadata": {
        "id": "O84ZKYS7J4Gy",
        "colab_type": "text"
      },
      "source": [
        "Train most popular on train_df and predict on val"
      ]
    },
    {
      "cell_type": "code",
      "metadata": {
        "id": "ckwKjEiXW3mh",
        "colab_type": "code",
        "colab": {}
      },
      "source": [
        "mp = MostPopularRecommender()\n",
        "mp.fit(train_df)\n",
        "predicted_mp = mp.predict(val_df,top_n=5)"
      ],
      "execution_count": 0,
      "outputs": []
    },
    {
      "cell_type": "code",
      "metadata": {
        "id": "FCcf5mSYX594",
        "colab_type": "code",
        "outputId": "8eaf4fba-d067-46ab-98fe-a9bc353c8319",
        "colab": {
          "base_uri": "https://localhost:8080/",
          "height": 419
        }
      },
      "source": [
        "predicted_mp"
      ],
      "execution_count": 22,
      "outputs": [
        {
          "output_type": "execute_result",
          "data": {
            "text/html": [
              "<div>\n",
              "<style scoped>\n",
              "    .dataframe tbody tr th:only-of-type {\n",
              "        vertical-align: middle;\n",
              "    }\n",
              "\n",
              "    .dataframe tbody tr th {\n",
              "        vertical-align: top;\n",
              "    }\n",
              "\n",
              "    .dataframe thead th {\n",
              "        text-align: right;\n",
              "    }\n",
              "</style>\n",
              "<table border=\"1\" class=\"dataframe\">\n",
              "  <thead>\n",
              "    <tr style=\"text-align: right;\">\n",
              "      <th></th>\n",
              "      <th>user_id</th>\n",
              "      <th>product_id</th>\n",
              "    </tr>\n",
              "  </thead>\n",
              "  <tbody>\n",
              "    <tr>\n",
              "      <th>0</th>\n",
              "      <td>1</td>\n",
              "      <td>[24852, 13176, 21137, 21903, 47209]</td>\n",
              "    </tr>\n",
              "    <tr>\n",
              "      <th>1</th>\n",
              "      <td>2</td>\n",
              "      <td>[24852, 13176, 21137, 21903, 47209]</td>\n",
              "    </tr>\n",
              "    <tr>\n",
              "      <th>2</th>\n",
              "      <td>3</td>\n",
              "      <td>[24852, 13176, 21137, 21903, 47209]</td>\n",
              "    </tr>\n",
              "    <tr>\n",
              "      <th>3</th>\n",
              "      <td>4</td>\n",
              "      <td>[24852, 13176, 21137, 21903, 47209]</td>\n",
              "    </tr>\n",
              "    <tr>\n",
              "      <th>4</th>\n",
              "      <td>5</td>\n",
              "      <td>[24852, 13176, 21137, 21903, 47209]</td>\n",
              "    </tr>\n",
              "    <tr>\n",
              "      <th>...</th>\n",
              "      <td>...</td>\n",
              "      <td>...</td>\n",
              "    </tr>\n",
              "    <tr>\n",
              "      <th>206204</th>\n",
              "      <td>206205</td>\n",
              "      <td>[24852, 13176, 21137, 21903, 47209]</td>\n",
              "    </tr>\n",
              "    <tr>\n",
              "      <th>206205</th>\n",
              "      <td>206206</td>\n",
              "      <td>[24852, 13176, 21137, 21903, 47209]</td>\n",
              "    </tr>\n",
              "    <tr>\n",
              "      <th>206206</th>\n",
              "      <td>206207</td>\n",
              "      <td>[24852, 13176, 21137, 21903, 47209]</td>\n",
              "    </tr>\n",
              "    <tr>\n",
              "      <th>206207</th>\n",
              "      <td>206208</td>\n",
              "      <td>[24852, 13176, 21137, 21903, 47209]</td>\n",
              "    </tr>\n",
              "    <tr>\n",
              "      <th>206208</th>\n",
              "      <td>206209</td>\n",
              "      <td>[24852, 13176, 21137, 21903, 47209]</td>\n",
              "    </tr>\n",
              "  </tbody>\n",
              "</table>\n",
              "<p>206209 rows × 2 columns</p>\n",
              "</div>"
            ],
            "text/plain": [
              "        user_id                           product_id\n",
              "0             1  [24852, 13176, 21137, 21903, 47209]\n",
              "1             2  [24852, 13176, 21137, 21903, 47209]\n",
              "2             3  [24852, 13176, 21137, 21903, 47209]\n",
              "3             4  [24852, 13176, 21137, 21903, 47209]\n",
              "4             5  [24852, 13176, 21137, 21903, 47209]\n",
              "...         ...                                  ...\n",
              "206204   206205  [24852, 13176, 21137, 21903, 47209]\n",
              "206205   206206  [24852, 13176, 21137, 21903, 47209]\n",
              "206206   206207  [24852, 13176, 21137, 21903, 47209]\n",
              "206207   206208  [24852, 13176, 21137, 21903, 47209]\n",
              "206208   206209  [24852, 13176, 21137, 21903, 47209]\n",
              "\n",
              "[206209 rows x 2 columns]"
            ]
          },
          "metadata": {
            "tags": []
          },
          "execution_count": 22
        }
      ]
    },
    {
      "cell_type": "markdown",
      "metadata": {
        "id": "wp5OV35bJ-F7",
        "colab_type": "text"
      },
      "source": [
        "Train most popular on train_df and predict on val"
      ]
    },
    {
      "cell_type": "code",
      "metadata": {
        "id": "_A2Y5VxQYE7Q",
        "colab_type": "code",
        "outputId": "d2ab941d-a73b-4e51-9e2a-0e2749ff358a",
        "colab": {
          "base_uri": "https://localhost:8080/",
          "height": 204
        }
      },
      "source": [
        "svd_rec = SVDRecommender(20, 4000)\n",
        "svd_rec.fit(train_df)\n",
        "predicted_svd = svd_rec.predict(val_df,top_n=5)"
      ],
      "execution_count": 23,
      "outputs": [
        {
          "output_type": "stream",
          "text": [
            "0\n",
            "5\n",
            "10\n",
            "15\n",
            "20\n",
            "25\n",
            "30\n",
            "35\n",
            "40\n",
            "45\n",
            "50\n"
          ],
          "name": "stdout"
        }
      ]
    },
    {
      "cell_type": "markdown",
      "metadata": {
        "id": "A5YUR_W3KNIT",
        "colab_type": "text"
      },
      "source": [
        "Form ground truth"
      ]
    },
    {
      "cell_type": "code",
      "metadata": {
        "id": "4eZiLHfTamkX",
        "colab_type": "code",
        "colab": {}
      },
      "source": [
        "ground_truth = val_df.groupby('user_id').agg({'product_id':lambda x: list(x)}).reset_index()"
      ],
      "execution_count": 0,
      "outputs": []
    },
    {
      "cell_type": "code",
      "metadata": {
        "id": "MNSh2uDpkC8-",
        "colab_type": "code",
        "outputId": "4beea972-aef3-427d-da1f-db47c058e967",
        "colab": {
          "base_uri": "https://localhost:8080/",
          "height": 419
        }
      },
      "source": [
        "ground_truth"
      ],
      "execution_count": 25,
      "outputs": [
        {
          "output_type": "execute_result",
          "data": {
            "text/html": [
              "<div>\n",
              "<style scoped>\n",
              "    .dataframe tbody tr th:only-of-type {\n",
              "        vertical-align: middle;\n",
              "    }\n",
              "\n",
              "    .dataframe tbody tr th {\n",
              "        vertical-align: top;\n",
              "    }\n",
              "\n",
              "    .dataframe thead th {\n",
              "        text-align: right;\n",
              "    }\n",
              "</style>\n",
              "<table border=\"1\" class=\"dataframe\">\n",
              "  <thead>\n",
              "    <tr style=\"text-align: right;\">\n",
              "      <th></th>\n",
              "      <th>user_id</th>\n",
              "      <th>product_id</th>\n",
              "    </tr>\n",
              "  </thead>\n",
              "  <tbody>\n",
              "    <tr>\n",
              "      <th>0</th>\n",
              "      <td>1</td>\n",
              "      <td>[196, 46149, 39657, 38928, 25133, 10258, 35951...</td>\n",
              "    </tr>\n",
              "    <tr>\n",
              "      <th>1</th>\n",
              "      <td>2</td>\n",
              "      <td>[24852, 16589, 1559, 19156, 18523, 22825, 2741...</td>\n",
              "    </tr>\n",
              "    <tr>\n",
              "      <th>2</th>\n",
              "      <td>3</td>\n",
              "      <td>[39190, 18599, 23650, 21903, 47766, 24810]</td>\n",
              "    </tr>\n",
              "    <tr>\n",
              "      <th>3</th>\n",
              "      <td>4</td>\n",
              "      <td>[26576, 25623, 21573]</td>\n",
              "    </tr>\n",
              "    <tr>\n",
              "      <th>4</th>\n",
              "      <td>5</td>\n",
              "      <td>[27344, 24535, 43693, 40706, 16168, 21413, 139...</td>\n",
              "    </tr>\n",
              "    <tr>\n",
              "      <th>...</th>\n",
              "      <td>...</td>\n",
              "      <td>...</td>\n",
              "    </tr>\n",
              "    <tr>\n",
              "      <th>206204</th>\n",
              "      <td>206205</td>\n",
              "      <td>[27845, 21137, 43352, 3896, 19173, 22035, 38739]</td>\n",
              "    </tr>\n",
              "    <tr>\n",
              "      <th>206205</th>\n",
              "      <td>206206</td>\n",
              "      <td>[11520, 23029, 42623]</td>\n",
              "    </tr>\n",
              "    <tr>\n",
              "      <th>206206</th>\n",
              "      <td>206207</td>\n",
              "      <td>[27845, 36011, 39180, 13176, 33787, 44632, 337...</td>\n",
              "    </tr>\n",
              "    <tr>\n",
              "      <th>206207</th>\n",
              "      <td>206208</td>\n",
              "      <td>[13176, 34213, 23579, 33000, 31404, 35688, 236...</td>\n",
              "    </tr>\n",
              "    <tr>\n",
              "      <th>206208</th>\n",
              "      <td>206209</td>\n",
              "      <td>[24852, 9405, 16168, 39216, 14197, 38730, 3147...</td>\n",
              "    </tr>\n",
              "  </tbody>\n",
              "</table>\n",
              "<p>206209 rows × 2 columns</p>\n",
              "</div>"
            ],
            "text/plain": [
              "        user_id                                         product_id\n",
              "0             1  [196, 46149, 39657, 38928, 25133, 10258, 35951...\n",
              "1             2  [24852, 16589, 1559, 19156, 18523, 22825, 2741...\n",
              "2             3         [39190, 18599, 23650, 21903, 47766, 24810]\n",
              "3             4                              [26576, 25623, 21573]\n",
              "4             5  [27344, 24535, 43693, 40706, 16168, 21413, 139...\n",
              "...         ...                                                ...\n",
              "206204   206205   [27845, 21137, 43352, 3896, 19173, 22035, 38739]\n",
              "206205   206206                              [11520, 23029, 42623]\n",
              "206206   206207  [27845, 36011, 39180, 13176, 33787, 44632, 337...\n",
              "206207   206208  [13176, 34213, 23579, 33000, 31404, 35688, 236...\n",
              "206208   206209  [24852, 9405, 16168, 39216, 14197, 38730, 3147...\n",
              "\n",
              "[206209 rows x 2 columns]"
            ]
          },
          "metadata": {
            "tags": []
          },
          "execution_count": 25
        }
      ]
    },
    {
      "cell_type": "markdown",
      "metadata": {
        "id": "uxZM891nKUBK",
        "colab_type": "text"
      },
      "source": [
        "Merge all together"
      ]
    },
    {
      "cell_type": "code",
      "metadata": {
        "id": "lp74DaNsYPv4",
        "colab_type": "code",
        "colab": {}
      },
      "source": [
        "all_predict = pd.merge(predicted_svd, predicted_mp, on='user_id')\n",
        "all_predict = pd.merge(all_predict, ground_truth, on='user_id')"
      ],
      "execution_count": 0,
      "outputs": []
    },
    {
      "cell_type": "code",
      "metadata": {
        "id": "3O048dIOZZFR",
        "colab_type": "code",
        "colab": {}
      },
      "source": [
        "#all_predict.to_csv('all_predict_val.csv')"
      ],
      "execution_count": 0,
      "outputs": []
    },
    {
      "cell_type": "code",
      "metadata": {
        "id": "81AcGGlolvQb",
        "colab_type": "code",
        "outputId": "d5bfe1cb-eded-4326-fee1-c8739262139b",
        "colab": {
          "base_uri": "https://localhost:8080/",
          "height": 419
        }
      },
      "source": [
        "all_predict"
      ],
      "execution_count": 27,
      "outputs": [
        {
          "output_type": "execute_result",
          "data": {
            "text/html": [
              "<div>\n",
              "<style scoped>\n",
              "    .dataframe tbody tr th:only-of-type {\n",
              "        vertical-align: middle;\n",
              "    }\n",
              "\n",
              "    .dataframe tbody tr th {\n",
              "        vertical-align: top;\n",
              "    }\n",
              "\n",
              "    .dataframe thead th {\n",
              "        text-align: right;\n",
              "    }\n",
              "</style>\n",
              "<table border=\"1\" class=\"dataframe\">\n",
              "  <thead>\n",
              "    <tr style=\"text-align: right;\">\n",
              "      <th></th>\n",
              "      <th>user_id</th>\n",
              "      <th>product_id_x</th>\n",
              "      <th>product_id_y</th>\n",
              "      <th>product_id</th>\n",
              "    </tr>\n",
              "  </thead>\n",
              "  <tbody>\n",
              "    <tr>\n",
              "      <th>0</th>\n",
              "      <td>1</td>\n",
              "      <td>[49235, 196, 6184, 13176, 12341]</td>\n",
              "      <td>[24852, 13176, 21137, 21903, 47209]</td>\n",
              "      <td>[196, 46149, 39657, 38928, 25133, 10258, 35951...</td>\n",
              "    </tr>\n",
              "    <tr>\n",
              "      <th>1</th>\n",
              "      <td>2</td>\n",
              "      <td>[47209, 24852, 47766, 33754, 4957]</td>\n",
              "      <td>[24852, 13176, 21137, 21903, 47209]</td>\n",
              "      <td>[24852, 16589, 1559, 19156, 18523, 22825, 2741...</td>\n",
              "    </tr>\n",
              "    <tr>\n",
              "      <th>2</th>\n",
              "      <td>3</td>\n",
              "      <td>[47766, 21903, 16797, 43352, 21137]</td>\n",
              "      <td>[24852, 13176, 21137, 21903, 47209]</td>\n",
              "      <td>[39190, 18599, 23650, 21903, 47766, 24810]</td>\n",
              "    </tr>\n",
              "    <tr>\n",
              "      <th>3</th>\n",
              "      <td>4</td>\n",
              "      <td>[19057, 28204, 30391, 45007, 39877]</td>\n",
              "      <td>[24852, 13176, 21137, 21903, 47209]</td>\n",
              "      <td>[26576, 25623, 21573]</td>\n",
              "    </tr>\n",
              "    <tr>\n",
              "      <th>4</th>\n",
              "      <td>5</td>\n",
              "      <td>[27966, 16797, 26209, 47626, 26604]</td>\n",
              "      <td>[24852, 13176, 21137, 21903, 47209]</td>\n",
              "      <td>[27344, 24535, 43693, 40706, 16168, 21413, 139...</td>\n",
              "    </tr>\n",
              "    <tr>\n",
              "      <th>...</th>\n",
              "      <td>...</td>\n",
              "      <td>...</td>\n",
              "      <td>...</td>\n",
              "      <td>...</td>\n",
              "    </tr>\n",
              "    <tr>\n",
              "      <th>206204</th>\n",
              "      <td>206205</td>\n",
              "      <td>[27845, 21137, 49235, 22035, 5077]</td>\n",
              "      <td>[24852, 13176, 21137, 21903, 47209]</td>\n",
              "      <td>[27845, 21137, 43352, 3896, 19173, 22035, 38739]</td>\n",
              "    </tr>\n",
              "    <tr>\n",
              "      <th>206205</th>\n",
              "      <td>206206</td>\n",
              "      <td>[27086, 5785, 47626, 8277, 49235]</td>\n",
              "      <td>[24852, 13176, 21137, 21903, 47209]</td>\n",
              "      <td>[11520, 23029, 42623]</td>\n",
              "    </tr>\n",
              "    <tr>\n",
              "      <th>206206</th>\n",
              "      <td>206207</td>\n",
              "      <td>[13176, 44632, 27966, 35221, 21709]</td>\n",
              "      <td>[24852, 13176, 21137, 21903, 47209]</td>\n",
              "      <td>[27845, 36011, 39180, 13176, 33787, 44632, 337...</td>\n",
              "    </tr>\n",
              "    <tr>\n",
              "      <th>206207</th>\n",
              "      <td>206208</td>\n",
              "      <td>[13176, 27845, 21137, 27966, 26209]</td>\n",
              "      <td>[24852, 13176, 21137, 21903, 47209]</td>\n",
              "      <td>[13176, 34213, 23579, 33000, 31404, 35688, 236...</td>\n",
              "    </tr>\n",
              "    <tr>\n",
              "      <th>206208</th>\n",
              "      <td>206209</td>\n",
              "      <td>[13176, 24852, 26209, 5077, 23909]</td>\n",
              "      <td>[24852, 13176, 21137, 21903, 47209]</td>\n",
              "      <td>[24852, 9405, 16168, 39216, 14197, 38730, 3147...</td>\n",
              "    </tr>\n",
              "  </tbody>\n",
              "</table>\n",
              "<p>206209 rows × 4 columns</p>\n",
              "</div>"
            ],
            "text/plain": [
              "        user_id  ...                                         product_id\n",
              "0             1  ...  [196, 46149, 39657, 38928, 25133, 10258, 35951...\n",
              "1             2  ...  [24852, 16589, 1559, 19156, 18523, 22825, 2741...\n",
              "2             3  ...         [39190, 18599, 23650, 21903, 47766, 24810]\n",
              "3             4  ...                              [26576, 25623, 21573]\n",
              "4             5  ...  [27344, 24535, 43693, 40706, 16168, 21413, 139...\n",
              "...         ...  ...                                                ...\n",
              "206204   206205  ...   [27845, 21137, 43352, 3896, 19173, 22035, 38739]\n",
              "206205   206206  ...                              [11520, 23029, 42623]\n",
              "206206   206207  ...  [27845, 36011, 39180, 13176, 33787, 44632, 337...\n",
              "206207   206208  ...  [13176, 34213, 23579, 33000, 31404, 35688, 236...\n",
              "206208   206209  ...  [24852, 9405, 16168, 39216, 14197, 38730, 3147...\n",
              "\n",
              "[206209 rows x 4 columns]"
            ]
          },
          "metadata": {
            "tags": []
          },
          "execution_count": 27
        }
      ]
    },
    {
      "cell_type": "code",
      "metadata": {
        "id": "crGZ9PvPl8E-",
        "colab_type": "code",
        "colab": {}
      },
      "source": [
        "def eval_precision(predicted, actual,k=5):\n",
        "  return average_precision_at_k(predicted, actual,k)"
      ],
      "execution_count": 0,
      "outputs": []
    },
    {
      "cell_type": "code",
      "metadata": {
        "id": "P8x4EXi1l3D_",
        "colab_type": "code",
        "colab": {}
      },
      "source": [
        "all_predict['svd_score'] = all_predict.apply(lambda x: eval_precision(x['product_id_x'], x['product_id']), axis=1)\n",
        "all_predict['mp_score'] = all_predict.apply(lambda x: eval_precision(x['product_id_y'], x['product_id']), axis=1)"
      ],
      "execution_count": 0,
      "outputs": []
    },
    {
      "cell_type": "markdown",
      "metadata": {
        "id": "SZibkWbWKjPb",
        "colab_type": "text"
      },
      "source": [
        "Choose best recommender"
      ]
    },
    {
      "cell_type": "markdown",
      "metadata": {
        "id": "R9ath3wmOeG4",
        "colab_type": "text"
      },
      "source": [
        "1 for svd, 0 for most pop"
      ]
    },
    {
      "cell_type": "code",
      "metadata": {
        "id": "Hc6urtwInF8F",
        "colab_type": "code",
        "colab": {}
      },
      "source": [
        "all_predict['best_recommender'] = all_predict.apply(lambda x: 0 if x['mp_score'] >= x['svd_score'] else 1, axis=1)"
      ],
      "execution_count": 0,
      "outputs": []
    },
    {
      "cell_type": "code",
      "metadata": {
        "id": "o05-lmbqpFsB",
        "colab_type": "code",
        "outputId": "f13789f6-6fd6-4820-e68e-e824eb54adb8",
        "colab": {
          "base_uri": "https://localhost:8080/",
          "height": 419
        }
      },
      "source": [
        "all_predict"
      ],
      "execution_count": 34,
      "outputs": [
        {
          "output_type": "execute_result",
          "data": {
            "text/html": [
              "<div>\n",
              "<style scoped>\n",
              "    .dataframe tbody tr th:only-of-type {\n",
              "        vertical-align: middle;\n",
              "    }\n",
              "\n",
              "    .dataframe tbody tr th {\n",
              "        vertical-align: top;\n",
              "    }\n",
              "\n",
              "    .dataframe thead th {\n",
              "        text-align: right;\n",
              "    }\n",
              "</style>\n",
              "<table border=\"1\" class=\"dataframe\">\n",
              "  <thead>\n",
              "    <tr style=\"text-align: right;\">\n",
              "      <th></th>\n",
              "      <th>user_id</th>\n",
              "      <th>product_id_x</th>\n",
              "      <th>product_id_y</th>\n",
              "      <th>product_id</th>\n",
              "      <th>svd_score</th>\n",
              "      <th>mp_score</th>\n",
              "      <th>best_recommender</th>\n",
              "    </tr>\n",
              "  </thead>\n",
              "  <tbody>\n",
              "    <tr>\n",
              "      <th>0</th>\n",
              "      <td>1</td>\n",
              "      <td>[49235, 196, 6184, 13176, 12341]</td>\n",
              "      <td>[24852, 13176, 21137, 21903, 47209]</td>\n",
              "      <td>[196, 46149, 39657, 38928, 25133, 10258, 35951...</td>\n",
              "      <td>0.10</td>\n",
              "      <td>0.000000</td>\n",
              "      <td>1</td>\n",
              "    </tr>\n",
              "    <tr>\n",
              "      <th>1</th>\n",
              "      <td>2</td>\n",
              "      <td>[47209, 24852, 47766, 33754, 4957]</td>\n",
              "      <td>[24852, 13176, 21137, 21903, 47209]</td>\n",
              "      <td>[24852, 16589, 1559, 19156, 18523, 22825, 2741...</td>\n",
              "      <td>0.55</td>\n",
              "      <td>0.280000</td>\n",
              "      <td>1</td>\n",
              "    </tr>\n",
              "    <tr>\n",
              "      <th>2</th>\n",
              "      <td>3</td>\n",
              "      <td>[47766, 21903, 16797, 43352, 21137]</td>\n",
              "      <td>[24852, 13176, 21137, 21903, 47209]</td>\n",
              "      <td>[39190, 18599, 23650, 21903, 47766, 24810]</td>\n",
              "      <td>0.40</td>\n",
              "      <td>0.050000</td>\n",
              "      <td>1</td>\n",
              "    </tr>\n",
              "    <tr>\n",
              "      <th>3</th>\n",
              "      <td>4</td>\n",
              "      <td>[19057, 28204, 30391, 45007, 39877]</td>\n",
              "      <td>[24852, 13176, 21137, 21903, 47209]</td>\n",
              "      <td>[26576, 25623, 21573]</td>\n",
              "      <td>0.00</td>\n",
              "      <td>0.000000</td>\n",
              "      <td>0</td>\n",
              "    </tr>\n",
              "    <tr>\n",
              "      <th>4</th>\n",
              "      <td>5</td>\n",
              "      <td>[27966, 16797, 26209, 47626, 26604]</td>\n",
              "      <td>[24852, 13176, 21137, 21903, 47209]</td>\n",
              "      <td>[27344, 24535, 43693, 40706, 16168, 21413, 139...</td>\n",
              "      <td>0.04</td>\n",
              "      <td>0.000000</td>\n",
              "      <td>1</td>\n",
              "    </tr>\n",
              "    <tr>\n",
              "      <th>...</th>\n",
              "      <td>...</td>\n",
              "      <td>...</td>\n",
              "      <td>...</td>\n",
              "      <td>...</td>\n",
              "      <td>...</td>\n",
              "      <td>...</td>\n",
              "      <td>...</td>\n",
              "    </tr>\n",
              "    <tr>\n",
              "      <th>206204</th>\n",
              "      <td>206205</td>\n",
              "      <td>[27845, 21137, 49235, 22035, 5077]</td>\n",
              "      <td>[24852, 13176, 21137, 21903, 47209]</td>\n",
              "      <td>[27845, 21137, 43352, 3896, 19173, 22035, 38739]</td>\n",
              "      <td>0.55</td>\n",
              "      <td>0.066667</td>\n",
              "      <td>1</td>\n",
              "    </tr>\n",
              "    <tr>\n",
              "      <th>206205</th>\n",
              "      <td>206206</td>\n",
              "      <td>[27086, 5785, 47626, 8277, 49235]</td>\n",
              "      <td>[24852, 13176, 21137, 21903, 47209]</td>\n",
              "      <td>[11520, 23029, 42623]</td>\n",
              "      <td>0.00</td>\n",
              "      <td>0.000000</td>\n",
              "      <td>0</td>\n",
              "    </tr>\n",
              "    <tr>\n",
              "      <th>206206</th>\n",
              "      <td>206207</td>\n",
              "      <td>[13176, 44632, 27966, 35221, 21709]</td>\n",
              "      <td>[24852, 13176, 21137, 21903, 47209]</td>\n",
              "      <td>[27845, 36011, 39180, 13176, 33787, 44632, 337...</td>\n",
              "      <td>0.60</td>\n",
              "      <td>0.100000</td>\n",
              "      <td>1</td>\n",
              "    </tr>\n",
              "    <tr>\n",
              "      <th>206207</th>\n",
              "      <td>206208</td>\n",
              "      <td>[13176, 27845, 21137, 27966, 26209]</td>\n",
              "      <td>[24852, 13176, 21137, 21903, 47209]</td>\n",
              "      <td>[13176, 34213, 23579, 33000, 31404, 35688, 236...</td>\n",
              "      <td>0.20</td>\n",
              "      <td>0.100000</td>\n",
              "      <td>1</td>\n",
              "    </tr>\n",
              "    <tr>\n",
              "      <th>206208</th>\n",
              "      <td>206209</td>\n",
              "      <td>[13176, 24852, 26209, 5077, 23909]</td>\n",
              "      <td>[24852, 13176, 21137, 21903, 47209]</td>\n",
              "      <td>[24852, 9405, 16168, 39216, 14197, 38730, 3147...</td>\n",
              "      <td>0.10</td>\n",
              "      <td>0.200000</td>\n",
              "      <td>0</td>\n",
              "    </tr>\n",
              "  </tbody>\n",
              "</table>\n",
              "<p>206209 rows × 7 columns</p>\n",
              "</div>"
            ],
            "text/plain": [
              "        user_id  ... best_recommender\n",
              "0             1  ...                1\n",
              "1             2  ...                1\n",
              "2             3  ...                1\n",
              "3             4  ...                0\n",
              "4             5  ...                1\n",
              "...         ...  ...              ...\n",
              "206204   206205  ...                1\n",
              "206205   206206  ...                0\n",
              "206206   206207  ...                1\n",
              "206207   206208  ...                1\n",
              "206208   206209  ...                0\n",
              "\n",
              "[206209 rows x 7 columns]"
            ]
          },
          "metadata": {
            "tags": []
          },
          "execution_count": 34
        }
      ]
    },
    {
      "cell_type": "markdown",
      "metadata": {
        "id": "RGCx5jxKTCGv",
        "colab_type": "text"
      },
      "source": [
        "# generate features"
      ]
    },
    {
      "cell_type": "code",
      "metadata": {
        "id": "Q8Ew7pTo1fjX",
        "colab_type": "code",
        "colab": {}
      },
      "source": [
        "def generate_features(data_df):\n",
        "  def mode(x):\n",
        "    return x.value_counts().index[0]\n",
        "\n",
        "  user_features1_df = data_df.drop_duplicates(subset=['order_id']).groupby('user_id').agg({'days_since_prior_order':'median', 'order_dow':mode,\\\n",
        "                                                                                       'order_hour_of_day':'median', 'order_number':'nunique'})\n",
        "  user_features1_df.rename(columns={'days_since_prior_order':'median_day_since_prior_order', \n",
        "                                  'order_dow':'mode_day',\n",
        "                                  'order_hour_of_day':'median_hour_of_day',\n",
        "                                  'order_number' : 'number_of_orders'}, inplace=True)\n",
        "  \n",
        "  def is_reordered(x):\n",
        "    if 1 in list(x.values):\n",
        "      return 1\n",
        "    else:\n",
        "      return 0\n",
        "\n",
        "\n",
        "  aggregated_by_orders = pd.merge(data_df.groupby('order_id').agg({'product_id':'count', 'reordered':is_reordered}).reset_index().rename(columns={'product_id':'products_num'})\\\n",
        "         , data_df.drop_duplicates(subset=['order_id']).loc[:,['order_id', 'user_id']], on='order_id')\n",
        "\n",
        "  user_features2_df = aggregated_by_orders.groupby('user_id').agg({'products_num' : 'median', 'reordered':is_reordered})\n",
        "\n",
        "  user_features2_df.rename(columns={'products_num':'median_number_of_products_in_order'}, inplace=True)\n",
        "  \n",
        "  user_features3_df = data_df.groupby('user_id').agg(unique_prod_total=pd.NamedAgg(column = 'product_id', aggfunc='nunique'))\n",
        "\n",
        "  all_user_features_df = pd.concat([user_features1_df, user_features2_df, user_features3_df], axis=1)\n",
        "\n",
        "  return all_user_features_df\n"
      ],
      "execution_count": 0,
      "outputs": []
    },
    {
      "cell_type": "code",
      "metadata": {
        "id": "Ablu3uhe3P8m",
        "colab_type": "code",
        "colab": {}
      },
      "source": [
        "train_only_features_df = generate_features(train_df)\n",
        "train_val_features_df = generate_features(prior_orders_merged_df)"
      ],
      "execution_count": 0,
      "outputs": []
    },
    {
      "cell_type": "code",
      "metadata": {
        "id": "XhjdMOXUrhju",
        "colab_type": "code",
        "outputId": "68affa3a-0738-4360-c031-f2be4ee790bd",
        "colab": {
          "base_uri": "https://localhost:8080/",
          "height": 450
        }
      },
      "source": [
        "train_only_features_df"
      ],
      "execution_count": 35,
      "outputs": [
        {
          "output_type": "execute_result",
          "data": {
            "text/html": [
              "<div>\n",
              "<style scoped>\n",
              "    .dataframe tbody tr th:only-of-type {\n",
              "        vertical-align: middle;\n",
              "    }\n",
              "\n",
              "    .dataframe tbody tr th {\n",
              "        vertical-align: top;\n",
              "    }\n",
              "\n",
              "    .dataframe thead th {\n",
              "        text-align: right;\n",
              "    }\n",
              "</style>\n",
              "<table border=\"1\" class=\"dataframe\">\n",
              "  <thead>\n",
              "    <tr style=\"text-align: right;\">\n",
              "      <th></th>\n",
              "      <th>median_day_since_prior_order</th>\n",
              "      <th>mode_day</th>\n",
              "      <th>median_hour_of_day</th>\n",
              "      <th>number_of_orders</th>\n",
              "      <th>median_number_of_products_in_order</th>\n",
              "      <th>reordered</th>\n",
              "      <th>unique_prod_total</th>\n",
              "    </tr>\n",
              "    <tr>\n",
              "      <th>user_id</th>\n",
              "      <th></th>\n",
              "      <th></th>\n",
              "      <th></th>\n",
              "      <th></th>\n",
              "      <th></th>\n",
              "      <th></th>\n",
              "      <th></th>\n",
              "    </tr>\n",
              "  </thead>\n",
              "  <tbody>\n",
              "    <tr>\n",
              "      <th>1</th>\n",
              "      <td>20.0</td>\n",
              "      <td>1</td>\n",
              "      <td>9.0</td>\n",
              "      <td>9</td>\n",
              "      <td>5.0</td>\n",
              "      <td>1</td>\n",
              "      <td>15</td>\n",
              "    </tr>\n",
              "    <tr>\n",
              "      <th>2</th>\n",
              "      <td>13.0</td>\n",
              "      <td>2</td>\n",
              "      <td>10.0</td>\n",
              "      <td>13</td>\n",
              "      <td>13.0</td>\n",
              "      <td>1</td>\n",
              "      <td>96</td>\n",
              "    </tr>\n",
              "    <tr>\n",
              "      <th>3</th>\n",
              "      <td>11.0</td>\n",
              "      <td>0</td>\n",
              "      <td>16.0</td>\n",
              "      <td>11</td>\n",
              "      <td>8.0</td>\n",
              "      <td>1</td>\n",
              "      <td>33</td>\n",
              "    </tr>\n",
              "    <tr>\n",
              "      <th>4</th>\n",
              "      <td>20.0</td>\n",
              "      <td>4</td>\n",
              "      <td>12.0</td>\n",
              "      <td>4</td>\n",
              "      <td>3.0</td>\n",
              "      <td>1</td>\n",
              "      <td>14</td>\n",
              "    </tr>\n",
              "    <tr>\n",
              "      <th>5</th>\n",
              "      <td>11.0</td>\n",
              "      <td>3</td>\n",
              "      <td>16.0</td>\n",
              "      <td>3</td>\n",
              "      <td>9.0</td>\n",
              "      <td>1</td>\n",
              "      <td>19</td>\n",
              "    </tr>\n",
              "    <tr>\n",
              "      <th>...</th>\n",
              "      <td>...</td>\n",
              "      <td>...</td>\n",
              "      <td>...</td>\n",
              "      <td>...</td>\n",
              "      <td>...</td>\n",
              "      <td>...</td>\n",
              "      <td>...</td>\n",
              "    </tr>\n",
              "    <tr>\n",
              "      <th>206205</th>\n",
              "      <td>514.5</td>\n",
              "      <td>2</td>\n",
              "      <td>13.5</td>\n",
              "      <td>2</td>\n",
              "      <td>12.5</td>\n",
              "      <td>1</td>\n",
              "      <td>23</td>\n",
              "    </tr>\n",
              "    <tr>\n",
              "      <th>206206</th>\n",
              "      <td>3.0</td>\n",
              "      <td>0</td>\n",
              "      <td>17.0</td>\n",
              "      <td>66</td>\n",
              "      <td>4.0</td>\n",
              "      <td>1</td>\n",
              "      <td>150</td>\n",
              "    </tr>\n",
              "    <tr>\n",
              "      <th>206207</th>\n",
              "      <td>8.0</td>\n",
              "      <td>1</td>\n",
              "      <td>12.0</td>\n",
              "      <td>15</td>\n",
              "      <td>13.0</td>\n",
              "      <td>1</td>\n",
              "      <td>92</td>\n",
              "    </tr>\n",
              "    <tr>\n",
              "      <th>206208</th>\n",
              "      <td>7.0</td>\n",
              "      <td>2</td>\n",
              "      <td>14.5</td>\n",
              "      <td>48</td>\n",
              "      <td>12.5</td>\n",
              "      <td>1</td>\n",
              "      <td>195</td>\n",
              "    </tr>\n",
              "    <tr>\n",
              "      <th>206209</th>\n",
              "      <td>22.0</td>\n",
              "      <td>4</td>\n",
              "      <td>14.0</td>\n",
              "      <td>12</td>\n",
              "      <td>9.5</td>\n",
              "      <td>1</td>\n",
              "      <td>63</td>\n",
              "    </tr>\n",
              "  </tbody>\n",
              "</table>\n",
              "<p>206209 rows × 7 columns</p>\n",
              "</div>"
            ],
            "text/plain": [
              "         median_day_since_prior_order  mode_day  ...  reordered  unique_prod_total\n",
              "user_id                                          ...                              \n",
              "1                                20.0         1  ...          1                 15\n",
              "2                                13.0         2  ...          1                 96\n",
              "3                                11.0         0  ...          1                 33\n",
              "4                                20.0         4  ...          1                 14\n",
              "5                                11.0         3  ...          1                 19\n",
              "...                               ...       ...  ...        ...                ...\n",
              "206205                          514.5         2  ...          1                 23\n",
              "206206                            3.0         0  ...          1                150\n",
              "206207                            8.0         1  ...          1                 92\n",
              "206208                            7.0         2  ...          1                195\n",
              "206209                           22.0         4  ...          1                 63\n",
              "\n",
              "[206209 rows x 7 columns]"
            ]
          },
          "metadata": {
            "tags": []
          },
          "execution_count": 35
        }
      ]
    },
    {
      "cell_type": "code",
      "metadata": {
        "id": "ML_adpnWri19",
        "colab_type": "code",
        "outputId": "2ea12da3-073c-4de3-8219-bd2d8a9ea0e7",
        "colab": {
          "base_uri": "https://localhost:8080/",
          "height": 450
        }
      },
      "source": [
        "train_val_features_df"
      ],
      "execution_count": 36,
      "outputs": [
        {
          "output_type": "execute_result",
          "data": {
            "text/html": [
              "<div>\n",
              "<style scoped>\n",
              "    .dataframe tbody tr th:only-of-type {\n",
              "        vertical-align: middle;\n",
              "    }\n",
              "\n",
              "    .dataframe tbody tr th {\n",
              "        vertical-align: top;\n",
              "    }\n",
              "\n",
              "    .dataframe thead th {\n",
              "        text-align: right;\n",
              "    }\n",
              "</style>\n",
              "<table border=\"1\" class=\"dataframe\">\n",
              "  <thead>\n",
              "    <tr style=\"text-align: right;\">\n",
              "      <th></th>\n",
              "      <th>median_day_since_prior_order</th>\n",
              "      <th>mode_day</th>\n",
              "      <th>median_hour_of_day</th>\n",
              "      <th>number_of_orders</th>\n",
              "      <th>median_number_of_products_in_order</th>\n",
              "      <th>reordered</th>\n",
              "      <th>unique_prod_total</th>\n",
              "    </tr>\n",
              "    <tr>\n",
              "      <th>user_id</th>\n",
              "      <th></th>\n",
              "      <th></th>\n",
              "      <th></th>\n",
              "      <th></th>\n",
              "      <th></th>\n",
              "      <th></th>\n",
              "      <th></th>\n",
              "    </tr>\n",
              "  </thead>\n",
              "  <tbody>\n",
              "    <tr>\n",
              "      <th>1</th>\n",
              "      <td>20.5</td>\n",
              "      <td>4</td>\n",
              "      <td>8.5</td>\n",
              "      <td>10</td>\n",
              "      <td>5.5</td>\n",
              "      <td>1</td>\n",
              "      <td>18</td>\n",
              "    </tr>\n",
              "    <tr>\n",
              "      <th>2</th>\n",
              "      <td>13.0</td>\n",
              "      <td>2</td>\n",
              "      <td>10.0</td>\n",
              "      <td>14</td>\n",
              "      <td>13.5</td>\n",
              "      <td>1</td>\n",
              "      <td>102</td>\n",
              "    </tr>\n",
              "    <tr>\n",
              "      <th>3</th>\n",
              "      <td>11.5</td>\n",
              "      <td>0</td>\n",
              "      <td>16.0</td>\n",
              "      <td>12</td>\n",
              "      <td>7.0</td>\n",
              "      <td>1</td>\n",
              "      <td>33</td>\n",
              "    </tr>\n",
              "    <tr>\n",
              "      <th>4</th>\n",
              "      <td>19.0</td>\n",
              "      <td>5</td>\n",
              "      <td>13.0</td>\n",
              "      <td>5</td>\n",
              "      <td>3.0</td>\n",
              "      <td>1</td>\n",
              "      <td>17</td>\n",
              "    </tr>\n",
              "    <tr>\n",
              "      <th>5</th>\n",
              "      <td>15.0</td>\n",
              "      <td>3</td>\n",
              "      <td>17.0</td>\n",
              "      <td>4</td>\n",
              "      <td>10.0</td>\n",
              "      <td>1</td>\n",
              "      <td>23</td>\n",
              "    </tr>\n",
              "    <tr>\n",
              "      <th>...</th>\n",
              "      <td>...</td>\n",
              "      <td>...</td>\n",
              "      <td>...</td>\n",
              "      <td>...</td>\n",
              "      <td>...</td>\n",
              "      <td>...</td>\n",
              "      <td>...</td>\n",
              "    </tr>\n",
              "    <tr>\n",
              "      <th>206205</th>\n",
              "      <td>30.0</td>\n",
              "      <td>2</td>\n",
              "      <td>15.0</td>\n",
              "      <td>3</td>\n",
              "      <td>8.0</td>\n",
              "      <td>1</td>\n",
              "      <td>24</td>\n",
              "    </tr>\n",
              "    <tr>\n",
              "      <th>206206</th>\n",
              "      <td>3.0</td>\n",
              "      <td>0</td>\n",
              "      <td>17.0</td>\n",
              "      <td>67</td>\n",
              "      <td>4.0</td>\n",
              "      <td>1</td>\n",
              "      <td>150</td>\n",
              "    </tr>\n",
              "    <tr>\n",
              "      <th>206207</th>\n",
              "      <td>12.0</td>\n",
              "      <td>2</td>\n",
              "      <td>12.0</td>\n",
              "      <td>16</td>\n",
              "      <td>13.0</td>\n",
              "      <td>1</td>\n",
              "      <td>92</td>\n",
              "    </tr>\n",
              "    <tr>\n",
              "      <th>206208</th>\n",
              "      <td>7.0</td>\n",
              "      <td>2</td>\n",
              "      <td>15.0</td>\n",
              "      <td>49</td>\n",
              "      <td>13.0</td>\n",
              "      <td>1</td>\n",
              "      <td>198</td>\n",
              "    </tr>\n",
              "    <tr>\n",
              "      <th>206209</th>\n",
              "      <td>22.0</td>\n",
              "      <td>4</td>\n",
              "      <td>13.0</td>\n",
              "      <td>13</td>\n",
              "      <td>9.0</td>\n",
              "      <td>1</td>\n",
              "      <td>68</td>\n",
              "    </tr>\n",
              "  </tbody>\n",
              "</table>\n",
              "<p>206209 rows × 7 columns</p>\n",
              "</div>"
            ],
            "text/plain": [
              "         median_day_since_prior_order  mode_day  ...  reordered  unique_prod_total\n",
              "user_id                                          ...                              \n",
              "1                                20.5         4  ...          1                 18\n",
              "2                                13.0         2  ...          1                102\n",
              "3                                11.5         0  ...          1                 33\n",
              "4                                19.0         5  ...          1                 17\n",
              "5                                15.0         3  ...          1                 23\n",
              "...                               ...       ...  ...        ...                ...\n",
              "206205                           30.0         2  ...          1                 24\n",
              "206206                            3.0         0  ...          1                150\n",
              "206207                           12.0         2  ...          1                 92\n",
              "206208                            7.0         2  ...          1                198\n",
              "206209                           22.0         4  ...          1                 68\n",
              "\n",
              "[206209 rows x 7 columns]"
            ]
          },
          "metadata": {
            "tags": []
          },
          "execution_count": 36
        }
      ]
    },
    {
      "cell_type": "code",
      "metadata": {
        "id": "_H-6hIvdc-v_",
        "colab_type": "code",
        "colab": {}
      },
      "source": [
        "full_train_df = pd.merge(train_only_features_df, all_predict.loc[:,['user_id','best_recommender']], on='user_id')"
      ],
      "execution_count": 0,
      "outputs": []
    },
    {
      "cell_type": "code",
      "metadata": {
        "id": "vaLg8BzYesOR",
        "colab_type": "code",
        "colab": {}
      },
      "source": [
        "full_test_df = train_val_features_df.loc[:,['median_day_since_prior_order','mode_day',\t'median_hour_of_day','number_of_orders','median_number_of_products_in_order','reordered','unique_prod_total']]"
      ],
      "execution_count": 0,
      "outputs": []
    },
    {
      "cell_type": "code",
      "metadata": {
        "id": "UYCBvQlAelsf",
        "colab_type": "code",
        "outputId": "294f2b34-2aa5-44c9-8e29-b2d0a93971ff",
        "colab": {
          "base_uri": "https://localhost:8080/",
          "height": 450
        }
      },
      "source": [
        "full_test_df"
      ],
      "execution_count": 40,
      "outputs": [
        {
          "output_type": "execute_result",
          "data": {
            "text/html": [
              "<div>\n",
              "<style scoped>\n",
              "    .dataframe tbody tr th:only-of-type {\n",
              "        vertical-align: middle;\n",
              "    }\n",
              "\n",
              "    .dataframe tbody tr th {\n",
              "        vertical-align: top;\n",
              "    }\n",
              "\n",
              "    .dataframe thead th {\n",
              "        text-align: right;\n",
              "    }\n",
              "</style>\n",
              "<table border=\"1\" class=\"dataframe\">\n",
              "  <thead>\n",
              "    <tr style=\"text-align: right;\">\n",
              "      <th></th>\n",
              "      <th>median_day_since_prior_order</th>\n",
              "      <th>mode_day</th>\n",
              "      <th>median_hour_of_day</th>\n",
              "      <th>number_of_orders</th>\n",
              "      <th>median_number_of_products_in_order</th>\n",
              "      <th>reordered</th>\n",
              "      <th>unique_prod_total</th>\n",
              "    </tr>\n",
              "    <tr>\n",
              "      <th>user_id</th>\n",
              "      <th></th>\n",
              "      <th></th>\n",
              "      <th></th>\n",
              "      <th></th>\n",
              "      <th></th>\n",
              "      <th></th>\n",
              "      <th></th>\n",
              "    </tr>\n",
              "  </thead>\n",
              "  <tbody>\n",
              "    <tr>\n",
              "      <th>1</th>\n",
              "      <td>20.5</td>\n",
              "      <td>4</td>\n",
              "      <td>8.5</td>\n",
              "      <td>10</td>\n",
              "      <td>5.5</td>\n",
              "      <td>1</td>\n",
              "      <td>18</td>\n",
              "    </tr>\n",
              "    <tr>\n",
              "      <th>2</th>\n",
              "      <td>13.0</td>\n",
              "      <td>2</td>\n",
              "      <td>10.0</td>\n",
              "      <td>14</td>\n",
              "      <td>13.5</td>\n",
              "      <td>1</td>\n",
              "      <td>102</td>\n",
              "    </tr>\n",
              "    <tr>\n",
              "      <th>3</th>\n",
              "      <td>11.5</td>\n",
              "      <td>0</td>\n",
              "      <td>16.0</td>\n",
              "      <td>12</td>\n",
              "      <td>7.0</td>\n",
              "      <td>1</td>\n",
              "      <td>33</td>\n",
              "    </tr>\n",
              "    <tr>\n",
              "      <th>4</th>\n",
              "      <td>19.0</td>\n",
              "      <td>5</td>\n",
              "      <td>13.0</td>\n",
              "      <td>5</td>\n",
              "      <td>3.0</td>\n",
              "      <td>1</td>\n",
              "      <td>17</td>\n",
              "    </tr>\n",
              "    <tr>\n",
              "      <th>5</th>\n",
              "      <td>15.0</td>\n",
              "      <td>3</td>\n",
              "      <td>17.0</td>\n",
              "      <td>4</td>\n",
              "      <td>10.0</td>\n",
              "      <td>1</td>\n",
              "      <td>23</td>\n",
              "    </tr>\n",
              "    <tr>\n",
              "      <th>...</th>\n",
              "      <td>...</td>\n",
              "      <td>...</td>\n",
              "      <td>...</td>\n",
              "      <td>...</td>\n",
              "      <td>...</td>\n",
              "      <td>...</td>\n",
              "      <td>...</td>\n",
              "    </tr>\n",
              "    <tr>\n",
              "      <th>206205</th>\n",
              "      <td>30.0</td>\n",
              "      <td>2</td>\n",
              "      <td>15.0</td>\n",
              "      <td>3</td>\n",
              "      <td>8.0</td>\n",
              "      <td>1</td>\n",
              "      <td>24</td>\n",
              "    </tr>\n",
              "    <tr>\n",
              "      <th>206206</th>\n",
              "      <td>3.0</td>\n",
              "      <td>0</td>\n",
              "      <td>17.0</td>\n",
              "      <td>67</td>\n",
              "      <td>4.0</td>\n",
              "      <td>1</td>\n",
              "      <td>150</td>\n",
              "    </tr>\n",
              "    <tr>\n",
              "      <th>206207</th>\n",
              "      <td>12.0</td>\n",
              "      <td>2</td>\n",
              "      <td>12.0</td>\n",
              "      <td>16</td>\n",
              "      <td>13.0</td>\n",
              "      <td>1</td>\n",
              "      <td>92</td>\n",
              "    </tr>\n",
              "    <tr>\n",
              "      <th>206208</th>\n",
              "      <td>7.0</td>\n",
              "      <td>2</td>\n",
              "      <td>15.0</td>\n",
              "      <td>49</td>\n",
              "      <td>13.0</td>\n",
              "      <td>1</td>\n",
              "      <td>198</td>\n",
              "    </tr>\n",
              "    <tr>\n",
              "      <th>206209</th>\n",
              "      <td>22.0</td>\n",
              "      <td>4</td>\n",
              "      <td>13.0</td>\n",
              "      <td>13</td>\n",
              "      <td>9.0</td>\n",
              "      <td>1</td>\n",
              "      <td>68</td>\n",
              "    </tr>\n",
              "  </tbody>\n",
              "</table>\n",
              "<p>206209 rows × 7 columns</p>\n",
              "</div>"
            ],
            "text/plain": [
              "         median_day_since_prior_order  mode_day  ...  reordered  unique_prod_total\n",
              "user_id                                          ...                              \n",
              "1                                20.5         4  ...          1                 18\n",
              "2                                13.0         2  ...          1                102\n",
              "3                                11.5         0  ...          1                 33\n",
              "4                                19.0         5  ...          1                 17\n",
              "5                                15.0         3  ...          1                 23\n",
              "...                               ...       ...  ...        ...                ...\n",
              "206205                           30.0         2  ...          1                 24\n",
              "206206                            3.0         0  ...          1                150\n",
              "206207                           12.0         2  ...          1                 92\n",
              "206208                            7.0         2  ...          1                198\n",
              "206209                           22.0         4  ...          1                 68\n",
              "\n",
              "[206209 rows x 7 columns]"
            ]
          },
          "metadata": {
            "tags": []
          },
          "execution_count": 40
        }
      ]
    },
    {
      "cell_type": "code",
      "metadata": {
        "id": "rKKtgYG6damU",
        "colab_type": "code",
        "outputId": "2775e5b3-911f-4663-b8eb-750eb8e95e2e",
        "colab": {
          "base_uri": "https://localhost:8080/",
          "height": 419
        }
      },
      "source": [
        "full_train_df"
      ],
      "execution_count": 41,
      "outputs": [
        {
          "output_type": "execute_result",
          "data": {
            "text/html": [
              "<div>\n",
              "<style scoped>\n",
              "    .dataframe tbody tr th:only-of-type {\n",
              "        vertical-align: middle;\n",
              "    }\n",
              "\n",
              "    .dataframe tbody tr th {\n",
              "        vertical-align: top;\n",
              "    }\n",
              "\n",
              "    .dataframe thead th {\n",
              "        text-align: right;\n",
              "    }\n",
              "</style>\n",
              "<table border=\"1\" class=\"dataframe\">\n",
              "  <thead>\n",
              "    <tr style=\"text-align: right;\">\n",
              "      <th></th>\n",
              "      <th>user_id</th>\n",
              "      <th>median_day_since_prior_order</th>\n",
              "      <th>mode_day</th>\n",
              "      <th>median_hour_of_day</th>\n",
              "      <th>number_of_orders</th>\n",
              "      <th>median_number_of_products_in_order</th>\n",
              "      <th>reordered</th>\n",
              "      <th>unique_prod_total</th>\n",
              "      <th>best_recommender</th>\n",
              "    </tr>\n",
              "  </thead>\n",
              "  <tbody>\n",
              "    <tr>\n",
              "      <th>0</th>\n",
              "      <td>1</td>\n",
              "      <td>20.0</td>\n",
              "      <td>1</td>\n",
              "      <td>9.0</td>\n",
              "      <td>9</td>\n",
              "      <td>5.0</td>\n",
              "      <td>1</td>\n",
              "      <td>15</td>\n",
              "      <td>1</td>\n",
              "    </tr>\n",
              "    <tr>\n",
              "      <th>1</th>\n",
              "      <td>2</td>\n",
              "      <td>13.0</td>\n",
              "      <td>2</td>\n",
              "      <td>10.0</td>\n",
              "      <td>13</td>\n",
              "      <td>13.0</td>\n",
              "      <td>1</td>\n",
              "      <td>96</td>\n",
              "      <td>1</td>\n",
              "    </tr>\n",
              "    <tr>\n",
              "      <th>2</th>\n",
              "      <td>3</td>\n",
              "      <td>11.0</td>\n",
              "      <td>0</td>\n",
              "      <td>16.0</td>\n",
              "      <td>11</td>\n",
              "      <td>8.0</td>\n",
              "      <td>1</td>\n",
              "      <td>33</td>\n",
              "      <td>1</td>\n",
              "    </tr>\n",
              "    <tr>\n",
              "      <th>3</th>\n",
              "      <td>4</td>\n",
              "      <td>20.0</td>\n",
              "      <td>4</td>\n",
              "      <td>12.0</td>\n",
              "      <td>4</td>\n",
              "      <td>3.0</td>\n",
              "      <td>1</td>\n",
              "      <td>14</td>\n",
              "      <td>0</td>\n",
              "    </tr>\n",
              "    <tr>\n",
              "      <th>4</th>\n",
              "      <td>5</td>\n",
              "      <td>11.0</td>\n",
              "      <td>3</td>\n",
              "      <td>16.0</td>\n",
              "      <td>3</td>\n",
              "      <td>9.0</td>\n",
              "      <td>1</td>\n",
              "      <td>19</td>\n",
              "      <td>1</td>\n",
              "    </tr>\n",
              "    <tr>\n",
              "      <th>...</th>\n",
              "      <td>...</td>\n",
              "      <td>...</td>\n",
              "      <td>...</td>\n",
              "      <td>...</td>\n",
              "      <td>...</td>\n",
              "      <td>...</td>\n",
              "      <td>...</td>\n",
              "      <td>...</td>\n",
              "      <td>...</td>\n",
              "    </tr>\n",
              "    <tr>\n",
              "      <th>206204</th>\n",
              "      <td>206205</td>\n",
              "      <td>514.5</td>\n",
              "      <td>2</td>\n",
              "      <td>13.5</td>\n",
              "      <td>2</td>\n",
              "      <td>12.5</td>\n",
              "      <td>1</td>\n",
              "      <td>23</td>\n",
              "      <td>1</td>\n",
              "    </tr>\n",
              "    <tr>\n",
              "      <th>206205</th>\n",
              "      <td>206206</td>\n",
              "      <td>3.0</td>\n",
              "      <td>0</td>\n",
              "      <td>17.0</td>\n",
              "      <td>66</td>\n",
              "      <td>4.0</td>\n",
              "      <td>1</td>\n",
              "      <td>150</td>\n",
              "      <td>0</td>\n",
              "    </tr>\n",
              "    <tr>\n",
              "      <th>206206</th>\n",
              "      <td>206207</td>\n",
              "      <td>8.0</td>\n",
              "      <td>1</td>\n",
              "      <td>12.0</td>\n",
              "      <td>15</td>\n",
              "      <td>13.0</td>\n",
              "      <td>1</td>\n",
              "      <td>92</td>\n",
              "      <td>1</td>\n",
              "    </tr>\n",
              "    <tr>\n",
              "      <th>206207</th>\n",
              "      <td>206208</td>\n",
              "      <td>7.0</td>\n",
              "      <td>2</td>\n",
              "      <td>14.5</td>\n",
              "      <td>48</td>\n",
              "      <td>12.5</td>\n",
              "      <td>1</td>\n",
              "      <td>195</td>\n",
              "      <td>1</td>\n",
              "    </tr>\n",
              "    <tr>\n",
              "      <th>206208</th>\n",
              "      <td>206209</td>\n",
              "      <td>22.0</td>\n",
              "      <td>4</td>\n",
              "      <td>14.0</td>\n",
              "      <td>12</td>\n",
              "      <td>9.5</td>\n",
              "      <td>1</td>\n",
              "      <td>63</td>\n",
              "      <td>0</td>\n",
              "    </tr>\n",
              "  </tbody>\n",
              "</table>\n",
              "<p>206209 rows × 9 columns</p>\n",
              "</div>"
            ],
            "text/plain": [
              "        user_id  ...  best_recommender\n",
              "0             1  ...                 1\n",
              "1             2  ...                 1\n",
              "2             3  ...                 1\n",
              "3             4  ...                 0\n",
              "4             5  ...                 1\n",
              "...         ...  ...               ...\n",
              "206204   206205  ...                 1\n",
              "206205   206206  ...                 0\n",
              "206206   206207  ...                 1\n",
              "206207   206208  ...                 1\n",
              "206208   206209  ...                 0\n",
              "\n",
              "[206209 rows x 9 columns]"
            ]
          },
          "metadata": {
            "tags": []
          },
          "execution_count": 41
        }
      ]
    },
    {
      "cell_type": "markdown",
      "metadata": {
        "id": "7M5lD183TGtQ",
        "colab_type": "text"
      },
      "source": [
        "# metaclassifier"
      ]
    },
    {
      "cell_type": "code",
      "metadata": {
        "id": "GFUC2SUiddnE",
        "colab_type": "code",
        "colab": {}
      },
      "source": [
        "from sklearn.linear_model import LogisticRegression"
      ],
      "execution_count": 0,
      "outputs": []
    },
    {
      "cell_type": "code",
      "metadata": {
        "id": "i0RmwhHmdi07",
        "colab_type": "code",
        "colab": {}
      },
      "source": [
        "clf = LogisticRegression()"
      ],
      "execution_count": 0,
      "outputs": []
    },
    {
      "cell_type": "code",
      "metadata": {
        "id": "nRgW3_-DeRjh",
        "colab_type": "code",
        "outputId": "137f52f6-fb27-489e-a735-d1bb820fbb1a",
        "colab": {
          "base_uri": "https://localhost:8080/",
          "height": 419
        }
      },
      "source": [
        "full_train_df.loc[:,['median_day_since_prior_order','mode_day',\t'median_hour_of_day','number_of_orders','median_number_of_products_in_order','reordered','unique_prod_total']]"
      ],
      "execution_count": 44,
      "outputs": [
        {
          "output_type": "execute_result",
          "data": {
            "text/html": [
              "<div>\n",
              "<style scoped>\n",
              "    .dataframe tbody tr th:only-of-type {\n",
              "        vertical-align: middle;\n",
              "    }\n",
              "\n",
              "    .dataframe tbody tr th {\n",
              "        vertical-align: top;\n",
              "    }\n",
              "\n",
              "    .dataframe thead th {\n",
              "        text-align: right;\n",
              "    }\n",
              "</style>\n",
              "<table border=\"1\" class=\"dataframe\">\n",
              "  <thead>\n",
              "    <tr style=\"text-align: right;\">\n",
              "      <th></th>\n",
              "      <th>median_day_since_prior_order</th>\n",
              "      <th>mode_day</th>\n",
              "      <th>median_hour_of_day</th>\n",
              "      <th>number_of_orders</th>\n",
              "      <th>median_number_of_products_in_order</th>\n",
              "      <th>reordered</th>\n",
              "      <th>unique_prod_total</th>\n",
              "    </tr>\n",
              "  </thead>\n",
              "  <tbody>\n",
              "    <tr>\n",
              "      <th>0</th>\n",
              "      <td>20.0</td>\n",
              "      <td>1</td>\n",
              "      <td>9.0</td>\n",
              "      <td>9</td>\n",
              "      <td>5.0</td>\n",
              "      <td>1</td>\n",
              "      <td>15</td>\n",
              "    </tr>\n",
              "    <tr>\n",
              "      <th>1</th>\n",
              "      <td>13.0</td>\n",
              "      <td>2</td>\n",
              "      <td>10.0</td>\n",
              "      <td>13</td>\n",
              "      <td>13.0</td>\n",
              "      <td>1</td>\n",
              "      <td>96</td>\n",
              "    </tr>\n",
              "    <tr>\n",
              "      <th>2</th>\n",
              "      <td>11.0</td>\n",
              "      <td>0</td>\n",
              "      <td>16.0</td>\n",
              "      <td>11</td>\n",
              "      <td>8.0</td>\n",
              "      <td>1</td>\n",
              "      <td>33</td>\n",
              "    </tr>\n",
              "    <tr>\n",
              "      <th>3</th>\n",
              "      <td>20.0</td>\n",
              "      <td>4</td>\n",
              "      <td>12.0</td>\n",
              "      <td>4</td>\n",
              "      <td>3.0</td>\n",
              "      <td>1</td>\n",
              "      <td>14</td>\n",
              "    </tr>\n",
              "    <tr>\n",
              "      <th>4</th>\n",
              "      <td>11.0</td>\n",
              "      <td>3</td>\n",
              "      <td>16.0</td>\n",
              "      <td>3</td>\n",
              "      <td>9.0</td>\n",
              "      <td>1</td>\n",
              "      <td>19</td>\n",
              "    </tr>\n",
              "    <tr>\n",
              "      <th>...</th>\n",
              "      <td>...</td>\n",
              "      <td>...</td>\n",
              "      <td>...</td>\n",
              "      <td>...</td>\n",
              "      <td>...</td>\n",
              "      <td>...</td>\n",
              "      <td>...</td>\n",
              "    </tr>\n",
              "    <tr>\n",
              "      <th>206204</th>\n",
              "      <td>514.5</td>\n",
              "      <td>2</td>\n",
              "      <td>13.5</td>\n",
              "      <td>2</td>\n",
              "      <td>12.5</td>\n",
              "      <td>1</td>\n",
              "      <td>23</td>\n",
              "    </tr>\n",
              "    <tr>\n",
              "      <th>206205</th>\n",
              "      <td>3.0</td>\n",
              "      <td>0</td>\n",
              "      <td>17.0</td>\n",
              "      <td>66</td>\n",
              "      <td>4.0</td>\n",
              "      <td>1</td>\n",
              "      <td>150</td>\n",
              "    </tr>\n",
              "    <tr>\n",
              "      <th>206206</th>\n",
              "      <td>8.0</td>\n",
              "      <td>1</td>\n",
              "      <td>12.0</td>\n",
              "      <td>15</td>\n",
              "      <td>13.0</td>\n",
              "      <td>1</td>\n",
              "      <td>92</td>\n",
              "    </tr>\n",
              "    <tr>\n",
              "      <th>206207</th>\n",
              "      <td>7.0</td>\n",
              "      <td>2</td>\n",
              "      <td>14.5</td>\n",
              "      <td>48</td>\n",
              "      <td>12.5</td>\n",
              "      <td>1</td>\n",
              "      <td>195</td>\n",
              "    </tr>\n",
              "    <tr>\n",
              "      <th>206208</th>\n",
              "      <td>22.0</td>\n",
              "      <td>4</td>\n",
              "      <td>14.0</td>\n",
              "      <td>12</td>\n",
              "      <td>9.5</td>\n",
              "      <td>1</td>\n",
              "      <td>63</td>\n",
              "    </tr>\n",
              "  </tbody>\n",
              "</table>\n",
              "<p>206209 rows × 7 columns</p>\n",
              "</div>"
            ],
            "text/plain": [
              "        median_day_since_prior_order  mode_day  ...  reordered  unique_prod_total\n",
              "0                               20.0         1  ...          1                 15\n",
              "1                               13.0         2  ...          1                 96\n",
              "2                               11.0         0  ...          1                 33\n",
              "3                               20.0         4  ...          1                 14\n",
              "4                               11.0         3  ...          1                 19\n",
              "...                              ...       ...  ...        ...                ...\n",
              "206204                         514.5         2  ...          1                 23\n",
              "206205                           3.0         0  ...          1                150\n",
              "206206                           8.0         1  ...          1                 92\n",
              "206207                           7.0         2  ...          1                195\n",
              "206208                          22.0         4  ...          1                 63\n",
              "\n",
              "[206209 rows x 7 columns]"
            ]
          },
          "metadata": {
            "tags": []
          },
          "execution_count": 44
        }
      ]
    },
    {
      "cell_type": "code",
      "metadata": {
        "id": "Qso1iqBadon5",
        "colab_type": "code",
        "outputId": "d8ba4636-7524-4585-eef6-217321252083",
        "colab": {
          "base_uri": "https://localhost:8080/",
          "height": 136
        }
      },
      "source": [
        "clf.fit(full_train_df.loc[:,['median_day_since_prior_order','mode_day',\t'median_hour_of_day','number_of_orders','median_number_of_products_in_order','reordered','unique_prod_total']],\n",
        "        full_train_df['best_recommender'])"
      ],
      "execution_count": 45,
      "outputs": [
        {
          "output_type": "stream",
          "text": [
            "/usr/local/lib/python3.6/dist-packages/sklearn/linear_model/logistic.py:432: FutureWarning: Default solver will be changed to 'lbfgs' in 0.22. Specify a solver to silence this warning.\n",
            "  FutureWarning)\n"
          ],
          "name": "stderr"
        },
        {
          "output_type": "execute_result",
          "data": {
            "text/plain": [
              "LogisticRegression(C=1.0, class_weight=None, dual=False, fit_intercept=True,\n",
              "                   intercept_scaling=1, l1_ratio=None, max_iter=100,\n",
              "                   multi_class='warn', n_jobs=None, penalty='l2',\n",
              "                   random_state=None, solver='warn', tol=0.0001, verbose=0,\n",
              "                   warm_start=False)"
            ]
          },
          "metadata": {
            "tags": []
          },
          "execution_count": 45
        }
      ]
    },
    {
      "cell_type": "markdown",
      "metadata": {
        "id": "LaSfFvKMSUHo",
        "colab_type": "text"
      },
      "source": [
        "User for which we need prediction"
      ]
    },
    {
      "cell_type": "code",
      "metadata": {
        "id": "gVEVUfiofjyH",
        "colab_type": "code",
        "colab": {}
      },
      "source": [
        "users = list(set(train_orders_merged_df['user_id'].unique()) & set(prior_orders_merged_df['user_id'].unique()))"
      ],
      "execution_count": 0,
      "outputs": []
    },
    {
      "cell_type": "code",
      "metadata": {
        "id": "163jEib8eceq",
        "colab_type": "code",
        "colab": {}
      },
      "source": [
        "pred = clf.predict(train_val_features_df.loc[users,:])"
      ],
      "execution_count": 0,
      "outputs": []
    },
    {
      "cell_type": "code",
      "metadata": {
        "id": "YXjXfAbfe3GR",
        "colab_type": "code",
        "outputId": "e056f556-4780-4a81-88f2-ad90722032cd",
        "colab": {
          "base_uri": "https://localhost:8080/",
          "height": 34
        }
      },
      "source": [
        "pred.shape"
      ],
      "execution_count": 48,
      "outputs": [
        {
          "output_type": "execute_result",
          "data": {
            "text/plain": [
              "(131209,)"
            ]
          },
          "metadata": {
            "tags": []
          },
          "execution_count": 48
        }
      ]
    },
    {
      "cell_type": "code",
      "metadata": {
        "id": "l3Eaj4IbgD12",
        "colab_type": "code",
        "colab": {}
      },
      "source": [
        "X_test = pd.DataFrame({'user_id' : train_val_features_df.loc[users,:].index, 'best_recommender':pred})"
      ],
      "execution_count": 0,
      "outputs": []
    },
    {
      "cell_type": "code",
      "metadata": {
        "id": "fN6U8zx8h4ny",
        "colab_type": "code",
        "colab": {}
      },
      "source": [
        "X_test_mp = X_test.query('best_recommender == 0')\n",
        "X_test_svd = X_test.query('best_recommender == 1')"
      ],
      "execution_count": 0,
      "outputs": []
    },
    {
      "cell_type": "markdown",
      "metadata": {
        "id": "pAZZukhlSnPE",
        "colab_type": "text"
      },
      "source": [
        "Predict using corresponding recommender. We retrain both recommenders on train + val = prior\n",
        "\n"
      ]
    },
    {
      "cell_type": "code",
      "metadata": {
        "id": "0kXvcmtqiYtP",
        "colab_type": "code",
        "colab": {}
      },
      "source": [
        "mp = MostPopularRecommender()\n",
        "mp.fit(prior_orders_merged_df)\n",
        "predicted_mp = mp.predict(X_test_mp,top_n=5)"
      ],
      "execution_count": 0,
      "outputs": []
    },
    {
      "cell_type": "code",
      "metadata": {
        "id": "e_GwAZpxitOH",
        "colab_type": "code",
        "outputId": "7f88e5b3-9c8c-459d-98b3-070639e1c5cf",
        "colab": {
          "base_uri": "https://localhost:8080/",
          "height": 51
        }
      },
      "source": [
        "svd_rec = SVDRecommender(20, 4000)\n",
        "svd_rec.fit(prior_orders_merged_df)\n",
        "predicted_svd = svd_rec.predict(X_test_svd,top_n=5)"
      ],
      "execution_count": 53,
      "outputs": [
        {
          "output_type": "stream",
          "text": [
            "0\n",
            "5\n"
          ],
          "name": "stdout"
        }
      ]
    },
    {
      "cell_type": "markdown",
      "metadata": {
        "id": "XvtV4N5xS4tM",
        "colab_type": "text"
      },
      "source": [
        "Concat predictions"
      ]
    },
    {
      "cell_type": "code",
      "metadata": {
        "id": "8p8513m8jAtO",
        "colab_type": "code",
        "colab": {}
      },
      "source": [
        "full_predict = pd.concat([predicted_mp, predicted_svd.reset_index()])\n",
        "full_predict.sort_values(by='user_id', inplace=True)"
      ],
      "execution_count": 0,
      "outputs": []
    },
    {
      "cell_type": "markdown",
      "metadata": {
        "id": "oIJhNDS0S7LP",
        "colab_type": "text"
      },
      "source": [
        "Finally, eval performance"
      ]
    },
    {
      "cell_type": "code",
      "metadata": {
        "id": "5ZkNPbnukGiq",
        "colab_type": "code",
        "outputId": "d503819b-ee96-4fa4-fa87-df47fb7bbff8",
        "colab": {
          "base_uri": "https://localhost:8080/",
          "height": 34
        }
      },
      "source": [
        "eval_results(train_orders_merged_df, full_predict,k=2)"
      ],
      "execution_count": 55,
      "outputs": [
        {
          "output_type": "execute_result",
          "data": {
            "text/plain": [
              "0.09008528378388678"
            ]
          },
          "metadata": {
            "tags": []
          },
          "execution_count": 55
        }
      ]
    }
  ]
}